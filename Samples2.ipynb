{
 "cells": [
  {
   "cell_type": "code",
   "execution_count": 1,
   "metadata": {},
   "outputs": [],
   "source": [
    "import pandas as pd\n",
    "import numpy as np"
   ]
  },
  {
   "cell_type": "code",
   "execution_count": 2,
   "metadata": {},
   "outputs": [],
   "source": [
    "from plotly import __version__"
   ]
  },
  {
   "cell_type": "code",
   "execution_count": 3,
   "metadata": {},
   "outputs": [
    {
     "name": "stdout",
     "output_type": "stream",
     "text": [
      "5.3.1\n"
     ]
    }
   ],
   "source": [
    "print(__version__)"
   ]
  },
  {
   "cell_type": "code",
   "execution_count": 4,
   "metadata": {},
   "outputs": [],
   "source": [
    "import cufflinks as cf"
   ]
  },
  {
   "cell_type": "code",
   "execution_count": 5,
   "metadata": {},
   "outputs": [],
   "source": [
    "from plotly.offline import download_plotlyjs,init_notebook_mode,plot,iplot"
   ]
  },
  {
   "cell_type": "code",
   "execution_count": 6,
   "metadata": {},
   "outputs": [
    {
     "data": {
      "text/html": [
       "        <script type=\"text/javascript\">\n",
       "        window.PlotlyConfig = {MathJaxConfig: 'local'};\n",
       "        if (window.MathJax) {MathJax.Hub.Config({SVG: {font: \"STIX-Web\"}});}\n",
       "        if (typeof require !== 'undefined') {\n",
       "        require.undef(\"plotly\");\n",
       "        requirejs.config({\n",
       "            paths: {\n",
       "                'plotly': ['https://cdn.plot.ly/plotly-2.4.2.min']\n",
       "            }\n",
       "        });\n",
       "        require(['plotly'], function(Plotly) {\n",
       "            window._Plotly = Plotly;\n",
       "        });\n",
       "        }\n",
       "        </script>\n",
       "        "
      ]
     },
     "metadata": {},
     "output_type": "display_data"
    }
   ],
   "source": [
    "init_notebook_mode(connected=True)"
   ]
  },
  {
   "cell_type": "code",
   "execution_count": 7,
   "metadata": {},
   "outputs": [
    {
     "data": {
      "text/html": [
       "        <script type=\"text/javascript\">\n",
       "        window.PlotlyConfig = {MathJaxConfig: 'local'};\n",
       "        if (window.MathJax) {MathJax.Hub.Config({SVG: {font: \"STIX-Web\"}});}\n",
       "        if (typeof require !== 'undefined') {\n",
       "        require.undef(\"plotly\");\n",
       "        requirejs.config({\n",
       "            paths: {\n",
       "                'plotly': ['https://cdn.plot.ly/plotly-2.4.2.min']\n",
       "            }\n",
       "        });\n",
       "        require(['plotly'], function(Plotly) {\n",
       "            window._Plotly = Plotly;\n",
       "        });\n",
       "        }\n",
       "        </script>\n",
       "        "
      ]
     },
     "metadata": {},
     "output_type": "display_data"
    }
   ],
   "source": [
    "cf.go_offline()"
   ]
  },
  {
   "cell_type": "code",
   "execution_count": 8,
   "metadata": {},
   "outputs": [],
   "source": [
    "import chart_studio.plotly as py"
   ]
  },
  {
   "cell_type": "markdown",
   "metadata": {},
   "source": [
    "Let us now get some data!"
   ]
  },
  {
   "cell_type": "code",
   "execution_count": 9,
   "metadata": {},
   "outputs": [
    {
     "data": {
      "text/html": [
       "<div>\n",
       "<style scoped>\n",
       "    .dataframe tbody tr th:only-of-type {\n",
       "        vertical-align: middle;\n",
       "    }\n",
       "\n",
       "    .dataframe tbody tr th {\n",
       "        vertical-align: top;\n",
       "    }\n",
       "\n",
       "    .dataframe thead th {\n",
       "        text-align: right;\n",
       "    }\n",
       "</style>\n",
       "<table border=\"1\" class=\"dataframe\">\n",
       "  <thead>\n",
       "    <tr style=\"text-align: right;\">\n",
       "      <th></th>\n",
       "      <th>A</th>\n",
       "      <th>B</th>\n",
       "      <th>C</th>\n",
       "      <th>D</th>\n",
       "    </tr>\n",
       "  </thead>\n",
       "  <tbody>\n",
       "    <tr>\n",
       "      <th>0</th>\n",
       "      <td>-0.247602</td>\n",
       "      <td>-0.060537</td>\n",
       "      <td>-1.413881</td>\n",
       "      <td>1.138881</td>\n",
       "    </tr>\n",
       "    <tr>\n",
       "      <th>1</th>\n",
       "      <td>0.118744</td>\n",
       "      <td>0.044517</td>\n",
       "      <td>0.954994</td>\n",
       "      <td>-0.829659</td>\n",
       "    </tr>\n",
       "    <tr>\n",
       "      <th>2</th>\n",
       "      <td>-1.598647</td>\n",
       "      <td>0.589354</td>\n",
       "      <td>-2.017603</td>\n",
       "      <td>0.494092</td>\n",
       "    </tr>\n",
       "    <tr>\n",
       "      <th>3</th>\n",
       "      <td>1.452380</td>\n",
       "      <td>1.013668</td>\n",
       "      <td>-0.355946</td>\n",
       "      <td>1.471567</td>\n",
       "    </tr>\n",
       "    <tr>\n",
       "      <th>4</th>\n",
       "      <td>1.609100</td>\n",
       "      <td>0.684795</td>\n",
       "      <td>1.415395</td>\n",
       "      <td>-1.141909</td>\n",
       "    </tr>\n",
       "  </tbody>\n",
       "</table>\n",
       "</div>"
      ],
      "text/plain": [
       "          A         B         C         D\n",
       "0 -0.247602 -0.060537 -1.413881  1.138881\n",
       "1  0.118744  0.044517  0.954994 -0.829659\n",
       "2 -1.598647  0.589354 -2.017603  0.494092\n",
       "3  1.452380  1.013668 -0.355946  1.471567\n",
       "4  1.609100  0.684795  1.415395 -1.141909"
      ]
     },
     "execution_count": 9,
     "metadata": {},
     "output_type": "execute_result"
    }
   ],
   "source": [
    "df1 = pd.DataFrame(np.random.randn(100,4),columns='A B C D'.split())\n",
    "df1.head()"
   ]
  },
  {
   "cell_type": "code",
   "execution_count": 10,
   "metadata": {},
   "outputs": [
    {
     "data": {
      "text/html": [
       "<div>\n",
       "<style scoped>\n",
       "    .dataframe tbody tr th:only-of-type {\n",
       "        vertical-align: middle;\n",
       "    }\n",
       "\n",
       "    .dataframe tbody tr th {\n",
       "        vertical-align: top;\n",
       "    }\n",
       "\n",
       "    .dataframe thead th {\n",
       "        text-align: right;\n",
       "    }\n",
       "</style>\n",
       "<table border=\"1\" class=\"dataframe\">\n",
       "  <thead>\n",
       "    <tr style=\"text-align: right;\">\n",
       "      <th></th>\n",
       "      <th>Category</th>\n",
       "      <th>Values</th>\n",
       "    </tr>\n",
       "  </thead>\n",
       "  <tbody>\n",
       "    <tr>\n",
       "      <th>0</th>\n",
       "      <td>A</td>\n",
       "      <td>32</td>\n",
       "    </tr>\n",
       "    <tr>\n",
       "      <th>1</th>\n",
       "      <td>B</td>\n",
       "      <td>43</td>\n",
       "    </tr>\n",
       "    <tr>\n",
       "      <th>2</th>\n",
       "      <td>C</td>\n",
       "      <td>50</td>\n",
       "    </tr>\n",
       "  </tbody>\n",
       "</table>\n",
       "</div>"
      ],
      "text/plain": [
       "  Category  Values\n",
       "0        A      32\n",
       "1        B      43\n",
       "2        C      50"
      ]
     },
     "execution_count": 10,
     "metadata": {},
     "output_type": "execute_result"
    }
   ],
   "source": [
    "df2 = pd.DataFrame({'Category':['A','B','C'],'Values':[32,43,50]}) # For use as a bar plot\n",
    "df2"
   ]
  },
  {
   "cell_type": "code",
   "execution_count": 11,
   "metadata": {},
   "outputs": [],
   "source": [
    "import matplotlib.pyplot as plt\n",
    "%matplotlib inline"
   ]
  },
  {
   "cell_type": "code",
   "execution_count": 12,
   "metadata": {},
   "outputs": [
    {
     "data": {
      "text/plain": [
       "<matplotlib.axes._subplots.AxesSubplot at 0x252aa45b390>"
      ]
     },
     "execution_count": 12,
     "metadata": {},
     "output_type": "execute_result"
    },
    {
     "data": {
      "image/png": "[encoded data removed]",
      "text/plain": [
       "<Figure size 432x288 with 1 Axes>"
      ]
     },
     "metadata": {
      "needs_background": "light"
     },
     "output_type": "display_data"
    }
   ],
   "source": [
    "df1.plot()"
   ]
  },
  {
   "cell_type": "code",
   "execution_count": 13,
   "metadata": {},
   "outputs": [
    {
     "data": {
      "application/vnd.plotly.v1+json": {
       "config": {
        "linkText": "Export to plot.ly",
        "plotlyServerURL": "https://plot.ly",
        "showLink": true
       },
       "data": [
        {
         "line": {
          "color": "rgba(255, 153, 51, 1.0)",
          "dash": "solid",
          "shape": "linear",
          "width": 1.3
         },
         "mode": "lines",
         "name": "A",
         "text": "",
         "type": "scatter",
         "x": [
          0,
          1,
          2,
          3,
          4,
          5,
          6,
          7,
          8,
          9,
          10,
          11,
          12,
          13,
          14,
          15,
          16,
          17,
          18,
          19,
          20,
          21,
          22,
          23,
          24,
          25,
          26,
          27,
          28,
          29,
          30,
          31,
          32,
          33,
          34,
          35,
          36,
          37,
          38,
          39,
          40,
          41,
          42,
          43,
          44,
          45,
          46,
          47,
          48,
          49,
          50,
          51,
          52,
          53,
          54,
          55,
          56,
          57,
          58,
          59,
          60,
          61,
          62,
          63,
          64,
          65,
          66,
          67,
          68,
          69,
          70,
          71,
          72,
          73,
          74,
          75,
          76,
          77,
          78,
          79,
          80,
          81,
          82,
          83,
          84,
          85,
          86,
          87,
          88,
          89,
          90,
          91,
          92,
          93,
          94,
          95,
          96,
          97,
          98,
          99
         ],
         "y": [
          -0.2476021517537956,
          0.11874398704528717,
          -1.5986470436970923,
          1.4523802703570448,
          1.6090995991476928,
          0.36229045933429543,
          0.08354651513332022,
          -0.3527933783544127,
          0.5176107966859301,
          -0.833819690766652,
          0.20565072543497975,
          1.9944702000830496,
          -0.35151191314525854,
          -0.826196054882016,
          0.9599029122425612,
          0.8735380178138376,
          -1.644708644572304,
          -1.7738813013900911,
          1.7275862931329586,
          1.2410803233237333,
          -0.47371612259000284,
          1.414213513123541,
          1.458493689936051,
          0.3272856232608136,
          0.3165687182176862,
          0.8414601116357942,
          -0.32475580337050364,
          1.0868940465653318,
          0.4745634553998436,
          -0.2734907459319492,
          1.7936403614043865,
          0.2702198507442268,
          0.23166334935090627,
          0.2149514489904918,
          -0.15239433999431595,
          -0.46485670290661824,
          0.1769888823174567,
          0.9251355276226852,
          -2.923639876842984,
          -1.0036342420862625,
          -1.5972731861258282,
          -0.5863668064009814,
          0.24330756172163637,
          1.0711554663396936,
          0.7912213795894234,
          0.8222629425793855,
          -0.07065589111053654,
          -0.6059385075201855,
          -1.2444487075452308,
          -0.2986809340328696,
          2.1470548990107736,
          -0.9581686455331494,
          -0.14557432693872532,
          -0.4416089409116146,
          0.9352295488236574,
          -1.0506573059035353,
          1.3879041094191515,
          -0.6297383736287204,
          1.2161526628947408,
          0.9380321876702106,
          -0.3186924706946208,
          -1.0451195297871672,
          0.8789782921221527,
          -1.0706299167541156,
          -0.6134943608834571,
          2.114366282469496,
          0.4804360014579106,
          -0.10967689810515825,
          1.1730100543660051,
          0.6680577732576941,
          -1.1540774070386632,
          -0.4851203250530739,
          -0.06824582550241688,
          -0.4860733169583027,
          -1.3724089125985697,
          0.12312942342868287,
          0.16293029773806567,
          1.2974841267330905,
          3.354031799722983,
          -1.5810817578094538,
          0.8052116693646469,
          1.7562243908207342,
          0.5228297709229516,
          -0.8617659959734791,
          0.0620426273685626,
          0.16012867729300984,
          0.09689851489854824,
          -0.1137666435097898,
          1.803702528945463,
          0.2660268294434981,
          0.21102177430662458,
          -0.12523484176846558,
          -1.3224865786008155,
          -0.23270849471023752,
          -1.3608262494607177,
          1.6803295754838412,
          -0.26619167545737504,
          -1.2418906810336272,
          0.6446602759776894,
          -0.9887246241264553
         ]
        },
        {
         "line": {
          "color": "rgba(55, 128, 191, 1.0)",
          "dash": "solid",
          "shape": "linear",
          "width": 1.3
         },
         "mode": "lines",
         "name": "B",
         "text": "",
         "type": "scatter",
         "x": [
          0,
          1,
          2,
          3,
          4,
          5,
          6,
          7,
          8,
          9,
          10,
          11,
          12,
          13,
          14,
          15,
          16,
          17,
          18,
          19,
          20,
          21,
          22,
          23,
          24,
          25,
          26,
          27,
          28,
          29,
          30,
          31,
          32,
          33,
          34,
          35,
          36,
          37,
          38,
          39,
          40,
          41,
          42,
          43,
          44,
          45,
          46,
          47,
          48,
          49,
          50,
          51,
          52,
          53,
          54,
          55,
          56,
          57,
          58,
          59,
          60,
          61,
          62,
          63,
          64,
          65,
          66,
          67,
          68,
          69,
          70,
          71,
          72,
          73,
          74,
          75,
          76,
          77,
          78,
          79,
          80,
          81,
          82,
          83,
          84,
          85,
          86,
          87,
          88,
          89,
          90,
          91,
          92,
          93,
          94,
          95,
          96,
          97,
          98,
          99
         ],
         "y": [
          -0.06053671648461432,
          0.04451657973152728,
          0.5893539754284983,
          1.013668452200273,
          0.6847946382566875,
          0.20861092698642347,
          -0.3309414257884284,
          -0.5453515972945141,
          0.23076522077023776,
          -0.6403566961541314,
          -1.4889655573956504,
          0.9352129666595805,
          -0.8553217826158602,
          -0.5358471525131479,
          -0.7285079896694445,
          -0.19435999410793742,
          -0.021183660575883688,
          -1.27486421427924,
          -1.377441170107258,
          0.1920596120363645,
          -1.1360047658662333,
          -0.25162260549257154,
          -0.38292153172884064,
          1.5087553081937204,
          0.14799880515885433,
          0.605878255040937,
          1.6218346664911871,
          -0.6412077490099374,
          0.3542488866697352,
          -0.4607106765297617,
          1.2204733158298071,
          1.5290677262515437,
          -0.5325381867220287,
          0.6886302420714265,
          -1.4040226516881387,
          -2.163779233019157,
          -1.635161679442351,
          0.11429126376701604,
          1.5913115916653733,
          -0.7516875353912756,
          -1.1490181657991692,
          0.05209633163880171,
          -1.2505146014805508,
          0.945770812894874,
          0.44120913669486617,
          -1.4272575263523835,
          -0.058534388435669125,
          -0.33290524940555216,
          0.25397740217116543,
          1.2107495453696848,
          -1.3048536413809813,
          -0.07290573215858111,
          -0.935009414667022,
          0.31698859178976346,
          0.3035657889195938,
          -0.09726791999649201,
          -0.13309365569973972,
          -1.3660791616250785,
          -1.0000957432387825,
          -0.44418957211110716,
          -0.7186337755517709,
          1.102995878230977,
          0.020947744800001725,
          -0.5379484903254714,
          1.434265530651456,
          -0.005595426280574108,
          -2.0024045908564716,
          1.2079291512768016,
          0.15101539633938965,
          -0.9415917180574958,
          0.8902241018403784,
          -0.6581560875764221,
          -1.2673251228201592,
          1.2592403371088414,
          -0.2831780015730596,
          0.047762380357669894,
          0.8603279518544563,
          -0.7821657611800706,
          -0.08202755823879464,
          0.06094696276155334,
          -0.8603811991901833,
          -0.05999313775337979,
          -0.4134487343659485,
          -0.4420361210196551,
          1.964645409112964,
          0.7896408572825018,
          -0.3773497911703148,
          1.6692535284277301,
          -0.27550204963687014,
          0.41138019434472406,
          -1.0549370402879954,
          1.6736473264323468,
          -0.8808278394958889,
          0.4728475230153127,
          0.19446889154197278,
          0.2995578928563227,
          -0.3887601705363107,
          -1.031190785706398,
          -1.4446194412722257,
          0.5759700536209127
         ]
        },
        {
         "line": {
          "color": "rgba(50, 171, 96, 1.0)",
          "dash": "solid",
          "shape": "linear",
          "width": 1.3
         },
         "mode": "lines",
         "name": "C",
         "text": "",
         "type": "scatter",
         "x": [
          0,
          1,
          2,
          3,
          4,
          5,
          6,
          7,
          8,
          9,
          10,
          11,
          12,
          13,
          14,
          15,
          16,
          17,
          18,
          19,
          20,
          21,
          22,
          23,
          24,
          25,
          26,
          27,
          28,
          29,
          30,
          31,
          32,
          33,
          34,
          35,
          36,
          37,
          38,
          39,
          40,
          41,
          42,
          43,
          44,
          45,
          46,
          47,
          48,
          49,
          50,
          51,
          52,
          53,
          54,
          55,
          56,
          57,
          58,
          59,
          60,
          61,
          62,
          63,
          64,
          65,
          66,
          67,
          68,
          69,
          70,
          71,
          72,
          73,
          74,
          75,
          76,
          77,
          78,
          79,
          80,
          81,
          82,
          83,
          84,
          85,
          86,
          87,
          88,
          89,
          90,
          91,
          92,
          93,
          94,
          95,
          96,
          97,
          98,
          99
         ],
         "y": [
          -1.4138806139966658,
          0.9549943461350169,
          -2.0176025054120172,
          -0.3559458222091603,
          1.4153947552191721,
          0.12427455626105968,
          -1.3459787187103391,
          -0.19872516540106108,
          1.4088318088135734,
          0.9012366661206014,
          0.12167928602972863,
          0.6484887494471738,
          -0.24071830245211362,
          -0.3251708457434995,
          -0.07848163117310035,
          -0.5619681536095221,
          -0.4107090434792362,
          1.6335771937963104,
          -0.23108562854747383,
          -0.6253479656743208,
          -1.7470326746678497,
          0.1948171412052426,
          0.10667552470993999,
          1.168151845889162,
          0.9074924955855451,
          -0.05022155827796482,
          0.24599602330939935,
          -0.8162581224912675,
          -1.2964098715543981,
          0.46286889607730936,
          -0.10213511155337399,
          0.6309051597165397,
          -0.2362382902818193,
          0.4014181504403865,
          0.44327312805371816,
          -0.1506127376542421,
          -0.8237912696611064,
          0.9619847178419777,
          1.5613855884484278,
          0.7847649284788947,
          -0.715194383820001,
          -0.42188560666769154,
          0.7719771944709354,
          -0.42788322573565674,
          0.6295608422707876,
          -1.2316437164112453,
          -1.791586382047408,
          -1.4970537956291428,
          -1.3481044941034268,
          0.2915472094532004,
          -1.1924673961153276,
          1.5294697279384182,
          0.7329753983882141,
          -0.7346420338455535,
          1.5630204417323799,
          0.6027784429615578,
          -2.9091425536815265,
          -0.5221000792876885,
          0.22713425110466265,
          -0.7319197059378021,
          0.5163256584002801,
          1.053520675059922,
          0.27007681292676344,
          0.9686753400624246,
          1.5307581393786964,
          0.36737242145043647,
          0.025097599770220778,
          -0.8651713313226559,
          -0.341732622257134,
          -0.8520223476297429,
          1.850705214694412,
          -0.40433123147094446,
          -0.20770681737488159,
          1.4652245596672555,
          0.7022687371970578,
          0.9116339980456936,
          -0.4857214196763068,
          -0.6520074477878468,
          -0.5999681780513599,
          -0.15885427293055898,
          0.8499484258368485,
          -0.33877488292040364,
          0.24668022175070148,
          0.658460807810325,
          0.4801517632540298,
          0.5133810366740759,
          1.9219510343734911,
          -1.1183566698572092,
          -0.023438823060090475,
          -0.14588709366250815,
          -0.32697804678743025,
          -0.511923466545293,
          -0.45486558796788906,
          0.27615700635488605,
          -0.38189887714450116,
          1.7063174625892141,
          -0.11117157591083326,
          0.34677612795932183,
          1.0337762757857105,
          -1.8316147311422069
         ]
        },
        {
         "line": {
          "color": "rgba(128, 0, 128, 1.0)",
          "dash": "solid",
          "shape": "linear",
          "width": 1.3
         },
         "mode": "lines",
         "name": "D",
         "text": "",
         "type": "scatter",
         "x": [
          0,
          1,
          2,
          3,
          4,
          5,
          6,
          7,
          8,
          9,
          10,
          11,
          12,
          13,
          14,
          15,
          16,
          17,
          18,
          19,
          20,
          21,
          22,
          23,
          24,
          25,
          26,
          27,
          28,
          29,
          30,
          31,
          32,
          33,
          34,
          35,
          36,
          37,
          38,
          39,
          40,
          41,
          42,
          43,
          44,
          45,
          46,
          47,
          48,
          49,
          50,
          51,
          52,
          53,
          54,
          55,
          56,
          57,
          58,
          59,
          60,
          61,
          62,
          63,
          64,
          65,
          66,
          67,
          68,
          69,
          70,
          71,
          72,
          73,
          74,
          75,
          76,
          77,
          78,
          79,
          80,
          81,
          82,
          83,
          84,
          85,
          86,
          87,
          88,
          89,
          90,
          91,
          92,
          93,
          94,
          95,
          96,
          97,
          98,
          99
         ],
         "y": [
          1.138881092138941,
          -0.8296593820905608,
          0.4940921451158362,
          1.4715672397977364,
          -1.1419091404761212,
          1.1670925420126028,
          -0.05952213756143999,
          -1.158319754654261,
          0.9340886362131698,
          0.08241160566677205,
          0.09050486923742268,
          -1.2080822552658015,
          -0.8059511189425327,
          0.23788239068331304,
          1.8508318786619247,
          -0.9275488532782582,
          -0.32988735181079404,
          -1.5255692872092812,
          0.01878277333096518,
          -1.7713787539245063,
          -1.169235762418271,
          -0.815999795639666,
          0.5003979518170936,
          0.21348561130162266,
          -1.8583553991873798,
          0.9584079218881999,
          -0.5923347203499466,
          -0.045701301432784204,
          1.1098349309061941,
          0.8108821831693277,
          1.2154286931093448,
          0.03534702668436145,
          0.982009445768607,
          0.6759622934673243,
          0.22793134842256393,
          0.5831497418958888,
          0.06440530013979788,
          -1.1015572556487958,
          -0.16365703680670007,
          1.2443518938853981,
          -0.30962832264924545,
          0.7337650029403703,
          0.37294149848351654,
          0.7960603041860554,
          0.49111515978717424,
          1.4093434653694459,
          0.24287036417708793,
          -1.5780263611682788,
          0.9252914445025481,
          1.962942289472823,
          -1.2424538815207948,
          0.6723340741862069,
          0.06742064638790596,
          -0.4686920066301773,
          -0.607956503575207,
          -0.9653818756804581,
          0.46450454370099953,
          0.05881620360562117,
          0.6772238445570063,
          -0.9033915215986897,
          1.0881282290657555,
          0.4359323184477213,
          0.7684410076854367,
          0.5005996452296388,
          0.7829515481772608,
          -0.026796813723469173,
          2.599386526232613,
          -0.14386967015853985,
          -1.5217198040434086,
          0.3114719797777141,
          -0.03544583751025676,
          -2.4348449244449637,
          0.9652715215395948,
          -0.7673168292664782,
          -1.8925580816941423,
          -0.7214493207694863,
          -0.4584329458861844,
          -0.29876105590390634,
          -0.4010748723773588,
          -0.9483449778577722,
          0.8200748964441905,
          0.3649981882074061,
          0.9303510634711705,
          -0.9063628584109353,
          0.32270295677364835,
          -1.3960046389806826,
          -1.6645024132499688,
          1.681129748878899,
          -0.35702788945906266,
          -0.9513402967568699,
          -1.4173177890827713,
          -1.363812590380575,
          0.8018862131924073,
          -1.0659923334724297,
          -1.7347035079139594,
          1.7247117586400194,
          -0.5534645932630475,
          -0.05269082880831947,
          0.013439662055486223,
          1.1457671048038869
         ]
        }
       ],
       "layout": {
        "legend": {
         "bgcolor": "#F5F6F9",
         "font": {
          "color": "#4D5663"
         }
        },
        "paper_bgcolor": "#F5F6F9",
        "plot_bgcolor": "#F5F6F9",
        "template": {
         "data": {
          "bar": [
           {
            "error_x": {
             "color": "#2a3f5f"
            },
            "error_y": {
             "color": "#2a3f5f"
            },
            "marker": {
             "line": {
              "color": "#E5ECF6",
              "width": 0.5
             },
             "pattern": {
              "fillmode": "overlay",
              "size": 10,
              "solidity": 0.2
             }
            },
            "type": "bar"
           }
          ],
          "barpolar": [
           {
            "marker": {
             "line": {
              "color": "#E5ECF6",
              "width": 0.5
             },
             "pattern": {
              "fillmode": "overlay",
              "size": 10,
              "solidity": 0.2
             }
            },
            "type": "barpolar"
           }
          ],
          "carpet": [
           {
            "aaxis": {
             "endlinecolor": "#2a3f5f",
             "gridcolor": "white",
             "linecolor": "white",
             "minorgridcolor": "white",
             "startlinecolor": "#2a3f5f"
            },
            "baxis": {
             "endlinecolor": "#2a3f5f",
             "gridcolor": "white",
             "linecolor": "white",
             "minorgridcolor": "white",
             "startlinecolor": "#2a3f5f"
            },
            "type": "carpet"
           }
          ],
          "choropleth": [
           {
            "colorbar": {
             "outlinewidth": 0,
             "ticks": ""
            },
            "type": "choropleth"
           }
          ],
          "contour": [
           {
            "colorbar": {
             "outlinewidth": 0,
             "ticks": ""
            },
            "colorscale": [
             [
              0,
              "#0d0887"
             ],
             [
              0.1111111111111111,
              "#46039f"
             ],
             [
              0.2222222222222222,
              "#7201a8"
             ],
             [
              0.3333333333333333,
              "#9c179e"
             ],
             [
              0.4444444444444444,
              "#bd3786"
             ],
             [
              0.5555555555555556,
              "#d8576b"
             ],
             [
              0.6666666666666666,
              "#ed7953"
             ],
             [
              0.7777777777777778,
              "#fb9f3a"
             ],
             [
              0.8888888888888888,
              "#fdca26"
             ],
             [
              1,
              "#f0f921"
             ]
            ],
            "type": "contour"
           }
          ],
          "contourcarpet": [
           {
            "colorbar": {
             "outlinewidth": 0,
             "ticks": ""
            },
            "type": "contourcarpet"
           }
          ],
          "heatmap": [
           {
            "colorbar": {
             "outlinewidth": 0,
             "ticks": ""
            },
            "colorscale": [
             [
              0,
              "#0d0887"
             ],
             [
              0.1111111111111111,
              "#46039f"
             ],
             [
              0.2222222222222222,
              "#7201a8"
             ],
             [
              0.3333333333333333,
              "#9c179e"
             ],
             [
              0.4444444444444444,
              "#bd3786"
             ],
             [
              0.5555555555555556,
              "#d8576b"
             ],
             [
              0.6666666666666666,
              "#ed7953"
             ],
             [
              0.7777777777777778,
              "#fb9f3a"
             ],
             [
              0.8888888888888888,
              "#fdca26"
             ],
             [
              1,
              "#f0f921"
             ]
            ],
            "type": "heatmap"
           }
          ],
          "heatmapgl": [
           {
            "colorbar": {
             "outlinewidth": 0,
             "ticks": ""
            },
            "colorscale": [
             [
              0,
              "#0d0887"
             ],
             [
              0.1111111111111111,
              "#46039f"
             ],
             [
              0.2222222222222222,
              "#7201a8"
             ],
             [
              0.3333333333333333,
              "#9c179e"
             ],
             [
              0.4444444444444444,
              "#bd3786"
             ],
             [
              0.5555555555555556,
              "#d8576b"
             ],
             [
              0.6666666666666666,
              "#ed7953"
             ],
             [
              0.7777777777777778,
              "#fb9f3a"
             ],
             [
              0.8888888888888888,
              "#fdca26"
             ],
             [
              1,
              "#f0f921"
             ]
            ],
            "type": "heatmapgl"
           }
          ],
          "histogram": [
           {
            "marker": {
             "pattern": {
              "fillmode": "overlay",
              "size": 10,
              "solidity": 0.2
             }
            },
            "type": "histogram"
           }
          ],
          "histogram2d": [
           {
            "colorbar": {
             "outlinewidth": 0,
             "ticks": ""
            },
            "colorscale": [
             [
              0,
              "#0d0887"
             ],
             [
              0.1111111111111111,
              "#46039f"
             ],
             [
              0.2222222222222222,
              "#7201a8"
             ],
             [
              0.3333333333333333,
              "#9c179e"
             ],
             [
              0.4444444444444444,
              "#bd3786"
             ],
             [
              0.5555555555555556,
              "#d8576b"
             ],
             [
              0.6666666666666666,
              "#ed7953"
             ],
             [
              0.7777777777777778,
              "#fb9f3a"
             ],
             [
              0.8888888888888888,
              "#fdca26"
             ],
             [
              1,
              "#f0f921"
             ]
            ],
            "type": "histogram2d"
           }
          ],
          "histogram2dcontour": [
           {
            "colorbar": {
             "outlinewidth": 0,
             "ticks": ""
            },
            "colorscale": [
             [
              0,
              "#0d0887"
             ],
             [
              0.1111111111111111,
              "#46039f"
             ],
             [
              0.2222222222222222,
              "#7201a8"
             ],
             [
              0.3333333333333333,
              "#9c179e"
             ],
             [
              0.4444444444444444,
              "#bd3786"
             ],
             [
              0.5555555555555556,
              "#d8576b"
             ],
             [
              0.6666666666666666,
              "#ed7953"
             ],
             [
              0.7777777777777778,
              "#fb9f3a"
             ],
             [
              0.8888888888888888,
              "#fdca26"
             ],
             [
              1,
              "#f0f921"
             ]
            ],
            "type": "histogram2dcontour"
           }
          ],
          "mesh3d": [
           {
            "colorbar": {
             "outlinewidth": 0,
             "ticks": ""
            },
            "type": "mesh3d"
           }
          ],
          "parcoords": [
           {
            "line": {
             "colorbar": {
              "outlinewidth": 0,
              "ticks": ""
             }
            },
            "type": "parcoords"
           }
          ],
          "pie": [
           {
            "automargin": true,
            "type": "pie"
           }
          ],
          "scatter": [
           {
            "marker": {
             "colorbar": {
              "outlinewidth": 0,
              "ticks": ""
             }
            },
            "type": "scatter"
           }
          ],
          "scatter3d": [
           {
            "line": {
             "colorbar": {
              "outlinewidth": 0,
              "ticks": ""
             }
            },
            "marker": {
             "colorbar": {
              "outlinewidth": 0,
              "ticks": ""
             }
            },
            "type": "scatter3d"
           }
          ],
          "scattercarpet": [
           {
            "marker": {
             "colorbar": {
              "outlinewidth": 0,
              "ticks": ""
             }
            },
            "type": "scattercarpet"
           }
          ],
          "scattergeo": [
           {
            "marker": {
             "colorbar": {
              "outlinewidth": 0,
              "ticks": ""
             }
            },
            "type": "scattergeo"
           }
          ],
          "scattergl": [
           {
            "marker": {
             "colorbar": {
              "outlinewidth": 0,
              "ticks": ""
             }
            },
            "type": "scattergl"
           }
          ],
          "scattermapbox": [
           {
            "marker": {
             "colorbar": {
              "outlinewidth": 0,
              "ticks": ""
             }
            },
            "type": "scattermapbox"
           }
          ],
          "scatterpolar": [
           {
            "marker": {
             "colorbar": {
              "outlinewidth": 0,
              "ticks": ""
             }
            },
            "type": "scatterpolar"
           }
          ],
          "scatterpolargl": [
           {
            "marker": {
             "colorbar": {
              "outlinewidth": 0,
              "ticks": ""
             }
            },
            "type": "scatterpolargl"
           }
          ],
          "scatterternary": [
           {
            "marker": {
             "colorbar": {
              "outlinewidth": 0,
              "ticks": ""
             }
            },
            "type": "scatterternary"
           }
          ],
          "surface": [
           {
            "colorbar": {
             "outlinewidth": 0,
             "ticks": ""
            },
            "colorscale": [
             [
              0,
              "#0d0887"
             ],
             [
              0.1111111111111111,
              "#46039f"
             ],
             [
              0.2222222222222222,
              "#7201a8"
             ],
             [
              0.3333333333333333,
              "#9c179e"
             ],
             [
              0.4444444444444444,
              "#bd3786"
             ],
             [
              0.5555555555555556,
              "#d8576b"
             ],
             [
              0.6666666666666666,
              "#ed7953"
             ],
             [
              0.7777777777777778,
              "#fb9f3a"
             ],
             [
              0.8888888888888888,
              "#fdca26"
             ],
             [
              1,
              "#f0f921"
             ]
            ],
            "type": "surface"
           }
          ],
          "table": [
           {
            "cells": {
             "fill": {
              "color": "#EBF0F8"
             },
             "line": {
              "color": "white"
             }
            },
            "header": {
             "fill": {
              "color": "#C8D4E3"
             },
             "line": {
              "color": "white"
             }
            },
            "type": "table"
           }
          ]
         },
         "layout": {
          "annotationdefaults": {
           "arrowcolor": "#2a3f5f",
           "arrowhead": 0,
           "arrowwidth": 1
          },
          "autotypenumbers": "strict",
          "coloraxis": {
           "colorbar": {
            "outlinewidth": 0,
            "ticks": ""
           }
          },
          "colorscale": {
           "diverging": [
            [
             0,
             "#8e0152"
            ],
            [
             0.1,
             "#c51b7d"
            ],
            [
             0.2,
             "#de77ae"
            ],
            [
             0.3,
             "#f1b6da"
            ],
            [
             0.4,
             "#fde0ef"
            ],
            [
             0.5,
             "#f7f7f7"
            ],
            [
             0.6,
             "#e6f5d0"
            ],
            [
             0.7,
             "#b8e186"
            ],
            [
             0.8,
             "#7fbc41"
            ],
            [
             0.9,
             "#4d9221"
            ],
            [
             1,
             "#276419"
            ]
           ],
           "sequential": [
            [
             0,
             "#0d0887"
            ],
            [
             0.1111111111111111,
             "#46039f"
            ],
            [
             0.2222222222222222,
             "#7201a8"
            ],
            [
             0.3333333333333333,
             "#9c179e"
            ],
            [
             0.4444444444444444,
             "#bd3786"
            ],
            [
             0.5555555555555556,
             "#d8576b"
            ],
            [
             0.6666666666666666,
             "#ed7953"
            ],
            [
             0.7777777777777778,
             "#fb9f3a"
            ],
            [
             0.8888888888888888,
             "#fdca26"
            ],
            [
             1,
             "#f0f921"
            ]
           ],
           "sequentialminus": [
            [
             0,
             "#0d0887"
            ],
            [
             0.1111111111111111,
             "#46039f"
            ],
            [
             0.2222222222222222,
             "#7201a8"
            ],
            [
             0.3333333333333333,
             "#9c179e"
            ],
            [
             0.4444444444444444,
             "#bd3786"
            ],
            [
             0.5555555555555556,
             "#d8576b"
            ],
            [
             0.6666666666666666,
             "#ed7953"
            ],
            [
             0.7777777777777778,
             "#fb9f3a"
            ],
            [
             0.8888888888888888,
             "#fdca26"
            ],
            [
             1,
             "#f0f921"
            ]
           ]
          },
          "colorway": [
           "#636efa",
           "#EF553B",
           "#00cc96",
           "#ab63fa",
           "#FFA15A",
           "#19d3f3",
           "#FF6692",
           "#B6E880",
           "#FF97FF",
           "#FECB52"
          ],
          "font": {
           "color": "#2a3f5f"
          },
          "geo": {
           "bgcolor": "white",
           "lakecolor": "white",
           "landcolor": "#E5ECF6",
           "showlakes": true,
           "showland": true,
           "subunitcolor": "white"
          },
          "hoverlabel": {
           "align": "left"
          },
          "hovermode": "closest",
          "mapbox": {
           "style": "light"
          },
          "paper_bgcolor": "white",
          "plot_bgcolor": "#E5ECF6",
          "polar": {
           "angularaxis": {
            "gridcolor": "white",
            "linecolor": "white",
            "ticks": ""
           },
           "bgcolor": "#E5ECF6",
           "radialaxis": {
            "gridcolor": "white",
            "linecolor": "white",
            "ticks": ""
           }
          },
          "scene": {
           "xaxis": {
            "backgroundcolor": "#E5ECF6",
            "gridcolor": "white",
            "gridwidth": 2,
            "linecolor": "white",
            "showbackground": true,
            "ticks": "",
            "zerolinecolor": "white"
           },
           "yaxis": {
            "backgroundcolor": "#E5ECF6",
            "gridcolor": "white",
            "gridwidth": 2,
            "linecolor": "white",
            "showbackground": true,
            "ticks": "",
            "zerolinecolor": "white"
           },
           "zaxis": {
            "backgroundcolor": "#E5ECF6",
            "gridcolor": "white",
            "gridwidth": 2,
            "linecolor": "white",
            "showbackground": true,
            "ticks": "",
            "zerolinecolor": "white"
           }
          },
          "shapedefaults": {
           "line": {
            "color": "#2a3f5f"
           }
          },
          "ternary": {
           "aaxis": {
            "gridcolor": "white",
            "linecolor": "white",
            "ticks": ""
           },
           "baxis": {
            "gridcolor": "white",
            "linecolor": "white",
            "ticks": ""
           },
           "bgcolor": "#E5ECF6",
           "caxis": {
            "gridcolor": "white",
            "linecolor": "white",
            "ticks": ""
           }
          },
          "title": {
           "x": 0.05
          },
          "xaxis": {
           "automargin": true,
           "gridcolor": "white",
           "linecolor": "white",
           "ticks": "",
           "title": {
            "standoff": 15
           },
           "zerolinecolor": "white",
           "zerolinewidth": 2
          },
          "yaxis": {
           "automargin": true,
           "gridcolor": "white",
           "linecolor": "white",
           "ticks": "",
           "title": {
            "standoff": 15
           },
           "zerolinecolor": "white",
           "zerolinewidth": 2
          }
         }
        },
        "title": {
         "font": {
          "color": "#4D5663"
         }
        },
        "xaxis": {
         "gridcolor": "#E1E5ED",
         "showgrid": true,
         "tickfont": {
          "color": "#4D5663"
         },
         "title": {
          "font": {
           "color": "#4D5663"
          },
          "text": ""
         },
         "zerolinecolor": "#E1E5ED"
        },
        "yaxis": {
         "gridcolor": "#E1E5ED",
         "showgrid": true,
         "tickfont": {
          "color": "#4D5663"
         },
         "title": {
          "font": {
           "color": "#4D5663"
          },
          "text": ""
         },
         "zerolinecolor": "#E1E5ED"
        }
       }
      },
      "text/html": [
       "<div>                            <div id=\"4f86c20a-0eb2-448e-901b-bfd37249b94f\" class=\"plotly-graph-div\" style=\"height:525px; width:100%;\"></div>            <script type=\"text/javascript\">                require([\"plotly\"], function(Plotly) {                    window.PLOTLYENV=window.PLOTLYENV || {};\n",
       "                    window.PLOTLYENV.BASE_URL='https://plot.ly';                                    if (document.getElementById(\"4f86c20a-0eb2-448e-901b-bfd37249b94f\")) {                    Plotly.newPlot(                        \"4f86c20a-0eb2-448e-901b-bfd37249b94f\",                        [{\"line\":{\"color\":\"rgba(255, 153, 51, 1.0)\",\"dash\":\"solid\",\"shape\":\"linear\",\"width\":1.3},\"mode\":\"lines\",\"name\":\"A\",\"text\":\"\",\"type\":\"scatter\",\"x\":[0,1,2,3,4,5,6,7,8,9,10,11,12,13,14,15,16,17,18,19,20,21,22,23,24,25,26,27,28,29,30,31,32,33,34,35,36,37,38,39,40,41,42,43,44,45,46,47,48,49,50,51,52,53,54,55,56,57,58,59,60,61,62,63,64,65,66,67,68,69,70,71,72,73,74,75,76,77,78,79,80,81,82,83,84,85,86,87,88,89,90,91,92,93,94,95,96,97,98,99],\"y\":[-0.2476021517537956,0.11874398704528717,-1.5986470436970923,1.4523802703570448,1.6090995991476928,0.36229045933429543,0.08354651513332022,-0.3527933783544127,0.5176107966859301,-0.833819690766652,0.20565072543497975,1.9944702000830496,-0.35151191314525854,-0.826196054882016,0.9599029122425612,0.8735380178138376,-1.644708644572304,-1.7738813013900911,1.7275862931329586,1.2410803233237333,-0.47371612259000284,1.414213513123541,1.458493689936051,0.3272856232608136,0.3165687182176862,0.8414601116357942,-0.32475580337050364,1.0868940465653318,0.4745634553998436,-0.2734907459319492,1.7936403614043865,0.2702198507442268,0.23166334935090627,0.2149514489904918,-0.15239433999431595,-0.46485670290661824,0.1769888823174567,0.9251355276226852,-2.923639876842984,-1.0036342420862625,-1.5972731861258282,-0.5863668064009814,0.24330756172163637,1.0711554663396936,0.7912213795894234,0.8222629425793855,-0.07065589111053654,-0.6059385075201855,-1.2444487075452308,-0.2986809340328696,2.1470548990107736,-0.9581686455331494,-0.14557432693872532,-0.4416089409116146,0.9352295488236574,-1.0506573059035353,1.3879041094191515,-0.6297383736287204,1.2161526628947408,0.9380321876702106,-0.3186924706946208,-1.0451195297871672,0.8789782921221527,-1.0706299167541156,-0.6134943608834571,2.114366282469496,0.4804360014579106,-0.10967689810515825,1.1730100543660051,0.6680577732576941,-1.1540774070386632,-0.4851203250530739,-0.06824582550241688,-0.4860733169583027,-1.3724089125985697,0.12312942342868287,0.16293029773806567,1.2974841267330905,3.354031799722983,-1.5810817578094538,0.8052116693646469,1.7562243908207342,0.5228297709229516,-0.8617659959734791,0.0620426273685626,0.16012867729300984,0.09689851489854824,-0.1137666435097898,1.803702528945463,0.2660268294434981,0.21102177430662458,-0.12523484176846558,-1.3224865786008155,-0.23270849471023752,-1.3608262494607177,1.6803295754838412,-0.26619167545737504,-1.2418906810336272,0.6446602759776894,-0.9887246241264553]},{\"line\":{\"color\":\"rgba(55, 128, 191, 1.0)\",\"dash\":\"solid\",\"shape\":\"linear\",\"width\":1.3},\"mode\":\"lines\",\"name\":\"B\",\"text\":\"\",\"type\":\"scatter\",\"x\":[0,1,2,3,4,5,6,7,8,9,10,11,12,13,14,15,16,17,18,19,20,21,22,23,24,25,26,27,28,29,30,31,32,33,34,35,36,37,38,39,40,41,42,43,44,45,46,47,48,49,50,51,52,53,54,55,56,57,58,59,60,61,62,63,64,65,66,67,68,69,70,71,72,73,74,75,76,77,78,79,80,81,82,83,84,85,86,87,88,89,90,91,92,93,94,95,96,97,98,99],\"y\":[-0.06053671648461432,0.04451657973152728,0.5893539754284983,1.013668452200273,0.6847946382566875,0.20861092698642347,-0.3309414257884284,-0.5453515972945141,0.23076522077023776,-0.6403566961541314,-1.4889655573956504,0.9352129666595805,-0.8553217826158602,-0.5358471525131479,-0.7285079896694445,-0.19435999410793742,-0.021183660575883688,-1.27486421427924,-1.377441170107258,0.1920596120363645,-1.1360047658662333,-0.25162260549257154,-0.38292153172884064,1.5087553081937204,0.14799880515885433,0.605878255040937,1.6218346664911871,-0.6412077490099374,0.3542488866697352,-0.4607106765297617,1.2204733158298071,1.5290677262515437,-0.5325381867220287,0.6886302420714265,-1.4040226516881387,-2.163779233019157,-1.635161679442351,0.11429126376701604,1.5913115916653733,-0.7516875353912756,-1.1490181657991692,0.05209633163880171,-1.2505146014805508,0.945770812894874,0.44120913669486617,-1.4272575263523835,-0.058534388435669125,-0.33290524940555216,0.25397740217116543,1.2107495453696848,-1.3048536413809813,-0.07290573215858111,-0.935009414667022,0.31698859178976346,0.3035657889195938,-0.09726791999649201,-0.13309365569973972,-1.3660791616250785,-1.0000957432387825,-0.44418957211110716,-0.7186337755517709,1.102995878230977,0.020947744800001725,-0.5379484903254714,1.434265530651456,-0.005595426280574108,-2.0024045908564716,1.2079291512768016,0.15101539633938965,-0.9415917180574958,0.8902241018403784,-0.6581560875764221,-1.2673251228201592,1.2592403371088414,-0.2831780015730596,0.047762380357669894,0.8603279518544563,-0.7821657611800706,-0.08202755823879464,0.06094696276155334,-0.8603811991901833,-0.05999313775337979,-0.4134487343659485,-0.4420361210196551,1.964645409112964,0.7896408572825018,-0.3773497911703148,1.6692535284277301,-0.27550204963687014,0.41138019434472406,-1.0549370402879954,1.6736473264323468,-0.8808278394958889,0.4728475230153127,0.19446889154197278,0.2995578928563227,-0.3887601705363107,-1.031190785706398,-1.4446194412722257,0.5759700536209127]},{\"line\":{\"color\":\"rgba(50, 171, 96, 1.0)\",\"dash\":\"solid\",\"shape\":\"linear\",\"width\":1.3},\"mode\":\"lines\",\"name\":\"C\",\"text\":\"\",\"type\":\"scatter\",\"x\":[0,1,2,3,4,5,6,7,8,9,10,11,12,13,14,15,16,17,18,19,20,21,22,23,24,25,26,27,28,29,30,31,32,33,34,35,36,37,38,39,40,41,42,43,44,45,46,47,48,49,50,51,52,53,54,55,56,57,58,59,60,61,62,63,64,65,66,67,68,69,70,71,72,73,74,75,76,77,78,79,80,81,82,83,84,85,86,87,88,89,90,91,92,93,94,95,96,97,98,99],\"y\":[-1.4138806139966658,0.9549943461350169,-2.0176025054120172,-0.3559458222091603,1.4153947552191721,0.12427455626105968,-1.3459787187103391,-0.19872516540106108,1.4088318088135734,0.9012366661206014,0.12167928602972863,0.6484887494471738,-0.24071830245211362,-0.3251708457434995,-0.07848163117310035,-0.5619681536095221,-0.4107090434792362,1.6335771937963104,-0.23108562854747383,-0.6253479656743208,-1.7470326746678497,0.1948171412052426,0.10667552470993999,1.168151845889162,0.9074924955855451,-0.05022155827796482,0.24599602330939935,-0.8162581224912675,-1.2964098715543981,0.46286889607730936,-0.10213511155337399,0.6309051597165397,-0.2362382902818193,0.4014181504403865,0.44327312805371816,-0.1506127376542421,-0.8237912696611064,0.9619847178419777,1.5613855884484278,0.7847649284788947,-0.715194383820001,-0.42188560666769154,0.7719771944709354,-0.42788322573565674,0.6295608422707876,-1.2316437164112453,-1.791586382047408,-1.4970537956291428,-1.3481044941034268,0.2915472094532004,-1.1924673961153276,1.5294697279384182,0.7329753983882141,-0.7346420338455535,1.5630204417323799,0.6027784429615578,-2.9091425536815265,-0.5221000792876885,0.22713425110466265,-0.7319197059378021,0.5163256584002801,1.053520675059922,0.27007681292676344,0.9686753400624246,1.5307581393786964,0.36737242145043647,0.025097599770220778,-0.8651713313226559,-0.341732622257134,-0.8520223476297429,1.850705214694412,-0.40433123147094446,-0.20770681737488159,1.4652245596672555,0.7022687371970578,0.9116339980456936,-0.4857214196763068,-0.6520074477878468,-0.5999681780513599,-0.15885427293055898,0.8499484258368485,-0.33877488292040364,0.24668022175070148,0.658460807810325,0.4801517632540298,0.5133810366740759,1.9219510343734911,-1.1183566698572092,-0.023438823060090475,-0.14588709366250815,-0.32697804678743025,-0.511923466545293,-0.45486558796788906,0.27615700635488605,-0.38189887714450116,1.7063174625892141,-0.11117157591083326,0.34677612795932183,1.0337762757857105,-1.8316147311422069]},{\"line\":{\"color\":\"rgba(128, 0, 128, 1.0)\",\"dash\":\"solid\",\"shape\":\"linear\",\"width\":1.3},\"mode\":\"lines\",\"name\":\"D\",\"text\":\"\",\"type\":\"scatter\",\"x\":[0,1,2,3,4,5,6,7,8,9,10,11,12,13,14,15,16,17,18,19,20,21,22,23,24,25,26,27,28,29,30,31,32,33,34,35,36,37,38,39,40,41,42,43,44,45,46,47,48,49,50,51,52,53,54,55,56,57,58,59,60,61,62,63,64,65,66,67,68,69,70,71,72,73,74,75,76,77,78,79,80,81,82,83,84,85,86,87,88,89,90,91,92,93,94,95,96,97,98,99],\"y\":[1.138881092138941,-0.8296593820905608,0.4940921451158362,1.4715672397977364,-1.1419091404761212,1.1670925420126028,-0.05952213756143999,-1.158319754654261,0.9340886362131698,0.08241160566677205,0.09050486923742268,-1.2080822552658015,-0.8059511189425327,0.23788239068331304,1.8508318786619247,-0.9275488532782582,-0.32988735181079404,-1.5255692872092812,0.01878277333096518,-1.7713787539245063,-1.169235762418271,-0.815999795639666,0.5003979518170936,0.21348561130162266,-1.8583553991873798,0.9584079218881999,-0.5923347203499466,-0.045701301432784204,1.1098349309061941,0.8108821831693277,1.2154286931093448,0.03534702668436145,0.982009445768607,0.6759622934673243,0.22793134842256393,0.5831497418958888,0.06440530013979788,-1.1015572556487958,-0.16365703680670007,1.2443518938853981,-0.30962832264924545,0.7337650029403703,0.37294149848351654,0.7960603041860554,0.49111515978717424,1.4093434653694459,0.24287036417708793,-1.5780263611682788,0.9252914445025481,1.962942289472823,-1.2424538815207948,0.6723340741862069,0.06742064638790596,-0.4686920066301773,-0.607956503575207,-0.9653818756804581,0.46450454370099953,0.05881620360562117,0.6772238445570063,-0.9033915215986897,1.0881282290657555,0.4359323184477213,0.7684410076854367,0.5005996452296388,0.7829515481772608,-0.026796813723469173,2.599386526232613,-0.14386967015853985,-1.5217198040434086,0.3114719797777141,-0.03544583751025676,-2.4348449244449637,0.9652715215395948,-0.7673168292664782,-1.8925580816941423,-0.7214493207694863,-0.4584329458861844,-0.29876105590390634,-0.4010748723773588,-0.9483449778577722,0.8200748964441905,0.3649981882074061,0.9303510634711705,-0.9063628584109353,0.32270295677364835,-1.3960046389806826,-1.6645024132499688,1.681129748878899,-0.35702788945906266,-0.9513402967568699,-1.4173177890827713,-1.363812590380575,0.8018862131924073,-1.0659923334724297,-1.7347035079139594,1.7247117586400194,-0.5534645932630475,-0.05269082880831947,0.013439662055486223,1.1457671048038869]}],                        {\"legend\":{\"bgcolor\":\"#F5F6F9\",\"font\":{\"color\":\"#4D5663\"}},\"paper_bgcolor\":\"#F5F6F9\",\"plot_bgcolor\":\"#F5F6F9\",\"template\":{\"data\":{\"bar\":[{\"error_x\":{\"color\":\"#2a3f5f\"},\"error_y\":{\"color\":\"#2a3f5f\"},\"marker\":{\"line\":{\"color\":\"#E5ECF6\",\"width\":0.5},\"pattern\":{\"fillmode\":\"overlay\",\"size\":10,\"solidity\":0.2}},\"type\":\"bar\"}],\"barpolar\":[{\"marker\":{\"line\":{\"color\":\"#E5ECF6\",\"width\":0.5},\"pattern\":{\"fillmode\":\"overlay\",\"size\":10,\"solidity\":0.2}},\"type\":\"barpolar\"}],\"carpet\":[{\"aaxis\":{\"endlinecolor\":\"#2a3f5f\",\"gridcolor\":\"white\",\"linecolor\":\"white\",\"minorgridcolor\":\"white\",\"startlinecolor\":\"#2a3f5f\"},\"baxis\":{\"endlinecolor\":\"#2a3f5f\",\"gridcolor\":\"white\",\"linecolor\":\"white\",\"minorgridcolor\":\"white\",\"startlinecolor\":\"#2a3f5f\"},\"type\":\"carpet\"}],\"choropleth\":[{\"colorbar\":{\"outlinewidth\":0,\"ticks\":\"\"},\"type\":\"choropleth\"}],\"contour\":[{\"colorbar\":{\"outlinewidth\":0,\"ticks\":\"\"},\"colorscale\":[[0.0,\"#0d0887\"],[0.1111111111111111,\"#46039f\"],[0.2222222222222222,\"#7201a8\"],[0.3333333333333333,\"#9c179e\"],[0.4444444444444444,\"#bd3786\"],[0.5555555555555556,\"#d8576b\"],[0.6666666666666666,\"#ed7953\"],[0.7777777777777778,\"#fb9f3a\"],[0.8888888888888888,\"#fdca26\"],[1.0,\"#f0f921\"]],\"type\":\"contour\"}],\"contourcarpet\":[{\"colorbar\":{\"outlinewidth\":0,\"ticks\":\"\"},\"type\":\"contourcarpet\"}],\"heatmap\":[{\"colorbar\":{\"outlinewidth\":0,\"ticks\":\"\"},\"colorscale\":[[0.0,\"#0d0887\"],[0.1111111111111111,\"#46039f\"],[0.2222222222222222,\"#7201a8\"],[0.3333333333333333,\"#9c179e\"],[0.4444444444444444,\"#bd3786\"],[0.5555555555555556,\"#d8576b\"],[0.6666666666666666,\"#ed7953\"],[0.7777777777777778,\"#fb9f3a\"],[0.8888888888888888,\"#fdca26\"],[1.0,\"#f0f921\"]],\"type\":\"heatmap\"}],\"heatmapgl\":[{\"colorbar\":{\"outlinewidth\":0,\"ticks\":\"\"},\"colorscale\":[[0.0,\"#0d0887\"],[0.1111111111111111,\"#46039f\"],[0.2222222222222222,\"#7201a8\"],[0.3333333333333333,\"#9c179e\"],[0.4444444444444444,\"#bd3786\"],[0.5555555555555556,\"#d8576b\"],[0.6666666666666666,\"#ed7953\"],[0.7777777777777778,\"#fb9f3a\"],[0.8888888888888888,\"#fdca26\"],[1.0,\"#f0f921\"]],\"type\":\"heatmapgl\"}],\"histogram\":[{\"marker\":{\"pattern\":{\"fillmode\":\"overlay\",\"size\":10,\"solidity\":0.2}},\"type\":\"histogram\"}],\"histogram2d\":[{\"colorbar\":{\"outlinewidth\":0,\"ticks\":\"\"},\"colorscale\":[[0.0,\"#0d0887\"],[0.1111111111111111,\"#46039f\"],[0.2222222222222222,\"#7201a8\"],[0.3333333333333333,\"#9c179e\"],[0.4444444444444444,\"#bd3786\"],[0.5555555555555556,\"#d8576b\"],[0.6666666666666666,\"#ed7953\"],[0.7777777777777778,\"#fb9f3a\"],[0.8888888888888888,\"#fdca26\"],[1.0,\"#f0f921\"]],\"type\":\"histogram2d\"}],\"histogram2dcontour\":[{\"colorbar\":{\"outlinewidth\":0,\"ticks\":\"\"},\"colorscale\":[[0.0,\"#0d0887\"],[0.1111111111111111,\"#46039f\"],[0.2222222222222222,\"#7201a8\"],[0.3333333333333333,\"#9c179e\"],[0.4444444444444444,\"#bd3786\"],[0.5555555555555556,\"#d8576b\"],[0.6666666666666666,\"#ed7953\"],[0.7777777777777778,\"#fb9f3a\"],[0.8888888888888888,\"#fdca26\"],[1.0,\"#f0f921\"]],\"type\":\"histogram2dcontour\"}],\"mesh3d\":[{\"colorbar\":{\"outlinewidth\":0,\"ticks\":\"\"},\"type\":\"mesh3d\"}],\"parcoords\":[{\"line\":{\"colorbar\":{\"outlinewidth\":0,\"ticks\":\"\"}},\"type\":\"parcoords\"}],\"pie\":[{\"automargin\":true,\"type\":\"pie\"}],\"scatter\":[{\"marker\":{\"colorbar\":{\"outlinewidth\":0,\"ticks\":\"\"}},\"type\":\"scatter\"}],\"scatter3d\":[{\"line\":{\"colorbar\":{\"outlinewidth\":0,\"ticks\":\"\"}},\"marker\":{\"colorbar\":{\"outlinewidth\":0,\"ticks\":\"\"}},\"type\":\"scatter3d\"}],\"scattercarpet\":[{\"marker\":{\"colorbar\":{\"outlinewidth\":0,\"ticks\":\"\"}},\"type\":\"scattercarpet\"}],\"scattergeo\":[{\"marker\":{\"colorbar\":{\"outlinewidth\":0,\"ticks\":\"\"}},\"type\":\"scattergeo\"}],\"scattergl\":[{\"marker\":{\"colorbar\":{\"outlinewidth\":0,\"ticks\":\"\"}},\"type\":\"scattergl\"}],\"scattermapbox\":[{\"marker\":{\"colorbar\":{\"outlinewidth\":0,\"ticks\":\"\"}},\"type\":\"scattermapbox\"}],\"scatterpolar\":[{\"marker\":{\"colorbar\":{\"outlinewidth\":0,\"ticks\":\"\"}},\"type\":\"scatterpolar\"}],\"scatterpolargl\":[{\"marker\":{\"colorbar\":{\"outlinewidth\":0,\"ticks\":\"\"}},\"type\":\"scatterpolargl\"}],\"scatterternary\":[{\"marker\":{\"colorbar\":{\"outlinewidth\":0,\"ticks\":\"\"}},\"type\":\"scatterternary\"}],\"surface\":[{\"colorbar\":{\"outlinewidth\":0,\"ticks\":\"\"},\"colorscale\":[[0.0,\"#0d0887\"],[0.1111111111111111,\"#46039f\"],[0.2222222222222222,\"#7201a8\"],[0.3333333333333333,\"#9c179e\"],[0.4444444444444444,\"#bd3786\"],[0.5555555555555556,\"#d8576b\"],[0.6666666666666666,\"#ed7953\"],[0.7777777777777778,\"#fb9f3a\"],[0.8888888888888888,\"#fdca26\"],[1.0,\"#f0f921\"]],\"type\":\"surface\"}],\"table\":[{\"cells\":{\"fill\":{\"color\":\"#EBF0F8\"},\"line\":{\"color\":\"white\"}},\"header\":{\"fill\":{\"color\":\"#C8D4E3\"},\"line\":{\"color\":\"white\"}},\"type\":\"table\"}]},\"layout\":{\"annotationdefaults\":{\"arrowcolor\":\"#2a3f5f\",\"arrowhead\":0,\"arrowwidth\":1},\"autotypenumbers\":\"strict\",\"coloraxis\":{\"colorbar\":{\"outlinewidth\":0,\"ticks\":\"\"}},\"colorscale\":{\"diverging\":[[0,\"#8e0152\"],[0.1,\"#c51b7d\"],[0.2,\"#de77ae\"],[0.3,\"#f1b6da\"],[0.4,\"#fde0ef\"],[0.5,\"#f7f7f7\"],[0.6,\"#e6f5d0\"],[0.7,\"#b8e186\"],[0.8,\"#7fbc41\"],[0.9,\"#4d9221\"],[1,\"#276419\"]],\"sequential\":[[0.0,\"#0d0887\"],[0.1111111111111111,\"#46039f\"],[0.2222222222222222,\"#7201a8\"],[0.3333333333333333,\"#9c179e\"],[0.4444444444444444,\"#bd3786\"],[0.5555555555555556,\"#d8576b\"],[0.6666666666666666,\"#ed7953\"],[0.7777777777777778,\"#fb9f3a\"],[0.8888888888888888,\"#fdca26\"],[1.0,\"#f0f921\"]],\"sequentialminus\":[[0.0,\"#0d0887\"],[0.1111111111111111,\"#46039f\"],[0.2222222222222222,\"#7201a8\"],[0.3333333333333333,\"#9c179e\"],[0.4444444444444444,\"#bd3786\"],[0.5555555555555556,\"#d8576b\"],[0.6666666666666666,\"#ed7953\"],[0.7777777777777778,\"#fb9f3a\"],[0.8888888888888888,\"#fdca26\"],[1.0,\"#f0f921\"]]},\"colorway\":[\"#636efa\",\"#EF553B\",\"#00cc96\",\"#ab63fa\",\"#FFA15A\",\"#19d3f3\",\"#FF6692\",\"#B6E880\",\"#FF97FF\",\"#FECB52\"],\"font\":{\"color\":\"#2a3f5f\"},\"geo\":{\"bgcolor\":\"white\",\"lakecolor\":\"white\",\"landcolor\":\"#E5ECF6\",\"showlakes\":true,\"showland\":true,\"subunitcolor\":\"white\"},\"hoverlabel\":{\"align\":\"left\"},\"hovermode\":\"closest\",\"mapbox\":{\"style\":\"light\"},\"paper_bgcolor\":\"white\",\"plot_bgcolor\":\"#E5ECF6\",\"polar\":{\"angularaxis\":{\"gridcolor\":\"white\",\"linecolor\":\"white\",\"ticks\":\"\"},\"bgcolor\":\"#E5ECF6\",\"radialaxis\":{\"gridcolor\":\"white\",\"linecolor\":\"white\",\"ticks\":\"\"}},\"scene\":{\"xaxis\":{\"backgroundcolor\":\"#E5ECF6\",\"gridcolor\":\"white\",\"gridwidth\":2,\"linecolor\":\"white\",\"showbackground\":true,\"ticks\":\"\",\"zerolinecolor\":\"white\"},\"yaxis\":{\"backgroundcolor\":\"#E5ECF6\",\"gridcolor\":\"white\",\"gridwidth\":2,\"linecolor\":\"white\",\"showbackground\":true,\"ticks\":\"\",\"zerolinecolor\":\"white\"},\"zaxis\":{\"backgroundcolor\":\"#E5ECF6\",\"gridcolor\":\"white\",\"gridwidth\":2,\"linecolor\":\"white\",\"showbackground\":true,\"ticks\":\"\",\"zerolinecolor\":\"white\"}},\"shapedefaults\":{\"line\":{\"color\":\"#2a3f5f\"}},\"ternary\":{\"aaxis\":{\"gridcolor\":\"white\",\"linecolor\":\"white\",\"ticks\":\"\"},\"baxis\":{\"gridcolor\":\"white\",\"linecolor\":\"white\",\"ticks\":\"\"},\"bgcolor\":\"#E5ECF6\",\"caxis\":{\"gridcolor\":\"white\",\"linecolor\":\"white\",\"ticks\":\"\"}},\"title\":{\"x\":0.05},\"xaxis\":{\"automargin\":true,\"gridcolor\":\"white\",\"linecolor\":\"white\",\"ticks\":\"\",\"title\":{\"standoff\":15},\"zerolinecolor\":\"white\",\"zerolinewidth\":2},\"yaxis\":{\"automargin\":true,\"gridcolor\":\"white\",\"linecolor\":\"white\",\"ticks\":\"\",\"title\":{\"standoff\":15},\"zerolinecolor\":\"white\",\"zerolinewidth\":2}}},\"title\":{\"font\":{\"color\":\"#4D5663\"}},\"xaxis\":{\"gridcolor\":\"#E1E5ED\",\"showgrid\":true,\"tickfont\":{\"color\":\"#4D5663\"},\"title\":{\"font\":{\"color\":\"#4D5663\"},\"text\":\"\"},\"zerolinecolor\":\"#E1E5ED\"},\"yaxis\":{\"gridcolor\":\"#E1E5ED\",\"showgrid\":true,\"tickfont\":{\"color\":\"#4D5663\"},\"title\":{\"font\":{\"color\":\"#4D5663\"},\"text\":\"\"},\"zerolinecolor\":\"#E1E5ED\"}},                        {\"showLink\": true, \"linkText\": \"Export to plot.ly\", \"plotlyServerURL\": \"https://plot.ly\", \"responsive\": true}                    ).then(function(){\n",
       "                            \n",
       "var gd = document.getElementById('4f86c20a-0eb2-448e-901b-bfd37249b94f');\n",
       "var x = new MutationObserver(function (mutations, observer) {{\n",
       "        var display = window.getComputedStyle(gd).display;\n",
       "        if (!display || display === 'none') {{\n",
       "            console.log([gd, 'removed!']);\n",
       "            Plotly.purge(gd);\n",
       "            observer.disconnect();\n",
       "        }}\n",
       "}});\n",
       "\n",
       "// Listen for the removal of the full notebook cells\n",
       "var notebookContainer = gd.closest('#notebook-container');\n",
       "if (notebookContainer) {{\n",
       "    x.observe(notebookContainer, {childList: true});\n",
       "}}\n",
       "\n",
       "// Listen for the clearing of the current output cell\n",
       "var outputEl = gd.closest('.output');\n",
       "if (outputEl) {{\n",
       "    x.observe(outputEl, {childList: true});\n",
       "}}\n",
       "\n",
       "                        })                };                });            </script>        </div>"
      ]
     },
     "metadata": {},
     "output_type": "display_data"
    }
   ],
   "source": [
    "df1.iplot()"
   ]
  },
  {
   "cell_type": "markdown",
   "metadata": {},
   "source": [
    "Let us try some other plots"
   ]
  },
  {
   "cell_type": "markdown",
   "metadata": {},
   "source": [
    "**Scatter plot**"
   ]
  },
  {
   "cell_type": "code",
   "execution_count": 14,
   "metadata": {},
   "outputs": [
    {
     "data": {
      "application/vnd.plotly.v1+json": {
       "config": {
        "linkText": "Export to plot.ly",
        "plotlyServerURL": "https://plot.ly",
        "showLink": true
       },
       "data": [
        {
         "line": {
          "color": "rgba(255, 153, 51, 1.0)",
          "dash": "solid",
          "shape": "linear",
          "width": 1.3
         },
         "marker": {
          "size": 12,
          "symbol": "circle"
         },
         "mode": "markers",
         "name": "B",
         "text": "",
         "type": "scatter",
         "x": [
          -0.2476021517537956,
          0.11874398704528717,
          -1.5986470436970923,
          1.4523802703570448,
          1.6090995991476928,
          0.36229045933429543,
          0.08354651513332022,
          -0.3527933783544127,
          0.5176107966859301,
          -0.833819690766652,
          0.20565072543497975,
          1.9944702000830496,
          -0.35151191314525854,
          -0.826196054882016,
          0.9599029122425612,
          0.8735380178138376,
          -1.644708644572304,
          -1.7738813013900911,
          1.7275862931329586,
          1.2410803233237333,
          -0.47371612259000284,
          1.414213513123541,
          1.458493689936051,
          0.3272856232608136,
          0.3165687182176862,
          0.8414601116357942,
          -0.32475580337050364,
          1.0868940465653318,
          0.4745634553998436,
          -0.2734907459319492,
          1.7936403614043865,
          0.2702198507442268,
          0.23166334935090627,
          0.2149514489904918,
          -0.15239433999431595,
          -0.46485670290661824,
          0.1769888823174567,
          0.9251355276226852,
          -2.923639876842984,
          -1.0036342420862625,
          -1.5972731861258282,
          -0.5863668064009814,
          0.24330756172163637,
          1.0711554663396936,
          0.7912213795894234,
          0.8222629425793855,
          -0.07065589111053654,
          -0.6059385075201855,
          -1.2444487075452308,
          -0.2986809340328696,
          2.1470548990107736,
          -0.9581686455331494,
          -0.14557432693872532,
          -0.4416089409116146,
          0.9352295488236574,
          -1.0506573059035353,
          1.3879041094191515,
          -0.6297383736287204,
          1.2161526628947408,
          0.9380321876702106,
          -0.3186924706946208,
          -1.0451195297871672,
          0.8789782921221527,
          -1.0706299167541156,
          -0.6134943608834571,
          2.114366282469496,
          0.4804360014579106,
          -0.10967689810515825,
          1.1730100543660051,
          0.6680577732576941,
          -1.1540774070386632,
          -0.4851203250530739,
          -0.06824582550241688,
          -0.4860733169583027,
          -1.3724089125985697,
          0.12312942342868287,
          0.16293029773806567,
          1.2974841267330905,
          3.354031799722983,
          -1.5810817578094538,
          0.8052116693646469,
          1.7562243908207342,
          0.5228297709229516,
          -0.8617659959734791,
          0.0620426273685626,
          0.16012867729300984,
          0.09689851489854824,
          -0.1137666435097898,
          1.803702528945463,
          0.2660268294434981,
          0.21102177430662458,
          -0.12523484176846558,
          -1.3224865786008155,
          -0.23270849471023752,
          -1.3608262494607177,
          1.6803295754838412,
          -0.26619167545737504,
          -1.2418906810336272,
          0.6446602759776894,
          -0.9887246241264553
         ],
         "y": [
          -0.06053671648461432,
          0.04451657973152728,
          0.5893539754284983,
          1.013668452200273,
          0.6847946382566875,
          0.20861092698642347,
          -0.3309414257884284,
          -0.5453515972945141,
          0.23076522077023776,
          -0.6403566961541314,
          -1.4889655573956504,
          0.9352129666595805,
          -0.8553217826158602,
          -0.5358471525131479,
          -0.7285079896694445,
          -0.19435999410793742,
          -0.021183660575883688,
          -1.27486421427924,
          -1.377441170107258,
          0.1920596120363645,
          -1.1360047658662333,
          -0.25162260549257154,
          -0.38292153172884064,
          1.5087553081937204,
          0.14799880515885433,
          0.605878255040937,
          1.6218346664911871,
          -0.6412077490099374,
          0.3542488866697352,
          -0.4607106765297617,
          1.2204733158298071,
          1.5290677262515437,
          -0.5325381867220287,
          0.6886302420714265,
          -1.4040226516881387,
          -2.163779233019157,
          -1.635161679442351,
          0.11429126376701604,
          1.5913115916653733,
          -0.7516875353912756,
          -1.1490181657991692,
          0.05209633163880171,
          -1.2505146014805508,
          0.945770812894874,
          0.44120913669486617,
          -1.4272575263523835,
          -0.058534388435669125,
          -0.33290524940555216,
          0.25397740217116543,
          1.2107495453696848,
          -1.3048536413809813,
          -0.07290573215858111,
          -0.935009414667022,
          0.31698859178976346,
          0.3035657889195938,
          -0.09726791999649201,
          -0.13309365569973972,
          -1.3660791616250785,
          -1.0000957432387825,
          -0.44418957211110716,
          -0.7186337755517709,
          1.102995878230977,
          0.020947744800001725,
          -0.5379484903254714,
          1.434265530651456,
          -0.005595426280574108,
          -2.0024045908564716,
          1.2079291512768016,
          0.15101539633938965,
          -0.9415917180574958,
          0.8902241018403784,
          -0.6581560875764221,
          -1.2673251228201592,
          1.2592403371088414,
          -0.2831780015730596,
          0.047762380357669894,
          0.8603279518544563,
          -0.7821657611800706,
          -0.08202755823879464,
          0.06094696276155334,
          -0.8603811991901833,
          -0.05999313775337979,
          -0.4134487343659485,
          -0.4420361210196551,
          1.964645409112964,
          0.7896408572825018,
          -0.3773497911703148,
          1.6692535284277301,
          -0.27550204963687014,
          0.41138019434472406,
          -1.0549370402879954,
          1.6736473264323468,
          -0.8808278394958889,
          0.4728475230153127,
          0.19446889154197278,
          0.2995578928563227,
          -0.3887601705363107,
          -1.031190785706398,
          -1.4446194412722257,
          0.5759700536209127
         ]
        }
       ],
       "layout": {
        "legend": {
         "bgcolor": "#F5F6F9",
         "font": {
          "color": "#4D5663"
         }
        },
        "paper_bgcolor": "#F5F6F9",
        "plot_bgcolor": "#F5F6F9",
        "template": {
         "data": {
          "bar": [
           {
            "error_x": {
             "color": "#2a3f5f"
            },
            "error_y": {
             "color": "#2a3f5f"
            },
            "marker": {
             "line": {
              "color": "#E5ECF6",
              "width": 0.5
             },
             "pattern": {
              "fillmode": "overlay",
              "size": 10,
              "solidity": 0.2
             }
            },
            "type": "bar"
           }
          ],
          "barpolar": [
           {
            "marker": {
             "line": {
              "color": "#E5ECF6",
              "width": 0.5
             },
             "pattern": {
              "fillmode": "overlay",
              "size": 10,
              "solidity": 0.2
             }
            },
            "type": "barpolar"
           }
          ],
          "carpet": [
           {
            "aaxis": {
             "endlinecolor": "#2a3f5f",
             "gridcolor": "white",
             "linecolor": "white",
             "minorgridcolor": "white",
             "startlinecolor": "#2a3f5f"
            },
            "baxis": {
             "endlinecolor": "#2a3f5f",
             "gridcolor": "white",
             "linecolor": "white",
             "minorgridcolor": "white",
             "startlinecolor": "#2a3f5f"
            },
            "type": "carpet"
           }
          ],
          "choropleth": [
           {
            "colorbar": {
             "outlinewidth": 0,
             "ticks": ""
            },
            "type": "choropleth"
           }
          ],
          "contour": [
           {
            "colorbar": {
             "outlinewidth": 0,
             "ticks": ""
            },
            "colorscale": [
             [
              0,
              "#0d0887"
             ],
             [
              0.1111111111111111,
              "#46039f"
             ],
             [
              0.2222222222222222,
              "#7201a8"
             ],
             [
              0.3333333333333333,
              "#9c179e"
             ],
             [
              0.4444444444444444,
              "#bd3786"
             ],
             [
              0.5555555555555556,
              "#d8576b"
             ],
             [
              0.6666666666666666,
              "#ed7953"
             ],
             [
              0.7777777777777778,
              "#fb9f3a"
             ],
             [
              0.8888888888888888,
              "#fdca26"
             ],
             [
              1,
              "#f0f921"
             ]
            ],
            "type": "contour"
           }
          ],
          "contourcarpet": [
           {
            "colorbar": {
             "outlinewidth": 0,
             "ticks": ""
            },
            "type": "contourcarpet"
           }
          ],
          "heatmap": [
           {
            "colorbar": {
             "outlinewidth": 0,
             "ticks": ""
            },
            "colorscale": [
             [
              0,
              "#0d0887"
             ],
             [
              0.1111111111111111,
              "#46039f"
             ],
             [
              0.2222222222222222,
              "#7201a8"
             ],
             [
              0.3333333333333333,
              "#9c179e"
             ],
             [
              0.4444444444444444,
              "#bd3786"
             ],
             [
              0.5555555555555556,
              "#d8576b"
             ],
             [
              0.6666666666666666,
              "#ed7953"
             ],
             [
              0.7777777777777778,
              "#fb9f3a"
             ],
             [
              0.8888888888888888,
              "#fdca26"
             ],
             [
              1,
              "#f0f921"
             ]
            ],
            "type": "heatmap"
           }
          ],
          "heatmapgl": [
           {
            "colorbar": {
             "outlinewidth": 0,
             "ticks": ""
            },
            "colorscale": [
             [
              0,
              "#0d0887"
             ],
             [
              0.1111111111111111,
              "#46039f"
             ],
             [
              0.2222222222222222,
              "#7201a8"
             ],
             [
              0.3333333333333333,
              "#9c179e"
             ],
             [
              0.4444444444444444,
              "#bd3786"
             ],
             [
              0.5555555555555556,
              "#d8576b"
             ],
             [
              0.6666666666666666,
              "#ed7953"
             ],
             [
              0.7777777777777778,
              "#fb9f3a"
             ],
             [
              0.8888888888888888,
              "#fdca26"
             ],
             [
              1,
              "#f0f921"
             ]
            ],
            "type": "heatmapgl"
           }
          ],
          "histogram": [
           {
            "marker": {
             "pattern": {
              "fillmode": "overlay",
              "size": 10,
              "solidity": 0.2
             }
            },
            "type": "histogram"
           }
          ],
          "histogram2d": [
           {
            "colorbar": {
             "outlinewidth": 0,
             "ticks": ""
            },
            "colorscale": [
             [
              0,
              "#0d0887"
             ],
             [
              0.1111111111111111,
              "#46039f"
             ],
             [
              0.2222222222222222,
              "#7201a8"
             ],
             [
              0.3333333333333333,
              "#9c179e"
             ],
             [
              0.4444444444444444,
              "#bd3786"
             ],
             [
              0.5555555555555556,
              "#d8576b"
             ],
             [
              0.6666666666666666,
              "#ed7953"
             ],
             [
              0.7777777777777778,
              "#fb9f3a"
             ],
             [
              0.8888888888888888,
              "#fdca26"
             ],
             [
              1,
              "#f0f921"
             ]
            ],
            "type": "histogram2d"
           }
          ],
          "histogram2dcontour": [
           {
            "colorbar": {
             "outlinewidth": 0,
             "ticks": ""
            },
            "colorscale": [
             [
              0,
              "#0d0887"
             ],
             [
              0.1111111111111111,
              "#46039f"
             ],
             [
              0.2222222222222222,
              "#7201a8"
             ],
             [
              0.3333333333333333,
              "#9c179e"
             ],
             [
              0.4444444444444444,
              "#bd3786"
             ],
             [
              0.5555555555555556,
              "#d8576b"
             ],
             [
              0.6666666666666666,
              "#ed7953"
             ],
             [
              0.7777777777777778,
              "#fb9f3a"
             ],
             [
              0.8888888888888888,
              "#fdca26"
             ],
             [
              1,
              "#f0f921"
             ]
            ],
            "type": "histogram2dcontour"
           }
          ],
          "mesh3d": [
           {
            "colorbar": {
             "outlinewidth": 0,
             "ticks": ""
            },
            "type": "mesh3d"
           }
          ],
          "parcoords": [
           {
            "line": {
             "colorbar": {
              "outlinewidth": 0,
              "ticks": ""
             }
            },
            "type": "parcoords"
           }
          ],
          "pie": [
           {
            "automargin": true,
            "type": "pie"
           }
          ],
          "scatter": [
           {
            "marker": {
             "colorbar": {
              "outlinewidth": 0,
              "ticks": ""
             }
            },
            "type": "scatter"
           }
          ],
          "scatter3d": [
           {
            "line": {
             "colorbar": {
              "outlinewidth": 0,
              "ticks": ""
             }
            },
            "marker": {
             "colorbar": {
              "outlinewidth": 0,
              "ticks": ""
             }
            },
            "type": "scatter3d"
           }
          ],
          "scattercarpet": [
           {
            "marker": {
             "colorbar": {
              "outlinewidth": 0,
              "ticks": ""
             }
            },
            "type": "scattercarpet"
           }
          ],
          "scattergeo": [
           {
            "marker": {
             "colorbar": {
              "outlinewidth": 0,
              "ticks": ""
             }
            },
            "type": "scattergeo"
           }
          ],
          "scattergl": [
           {
            "marker": {
             "colorbar": {
              "outlinewidth": 0,
              "ticks": ""
             }
            },
            "type": "scattergl"
           }
          ],
          "scattermapbox": [
           {
            "marker": {
             "colorbar": {
              "outlinewidth": 0,
              "ticks": ""
             }
            },
            "type": "scattermapbox"
           }
          ],
          "scatterpolar": [
           {
            "marker": {
             "colorbar": {
              "outlinewidth": 0,
              "ticks": ""
             }
            },
            "type": "scatterpolar"
           }
          ],
          "scatterpolargl": [
           {
            "marker": {
             "colorbar": {
              "outlinewidth": 0,
              "ticks": ""
             }
            },
            "type": "scatterpolargl"
           }
          ],
          "scatterternary": [
           {
            "marker": {
             "colorbar": {
              "outlinewidth": 0,
              "ticks": ""
             }
            },
            "type": "scatterternary"
           }
          ],
          "surface": [
           {
            "colorbar": {
             "outlinewidth": 0,
             "ticks": ""
            },
            "colorscale": [
             [
              0,
              "#0d0887"
             ],
             [
              0.1111111111111111,
              "#46039f"
             ],
             [
              0.2222222222222222,
              "#7201a8"
             ],
             [
              0.3333333333333333,
              "#9c179e"
             ],
             [
              0.4444444444444444,
              "#bd3786"
             ],
             [
              0.5555555555555556,
              "#d8576b"
             ],
             [
              0.6666666666666666,
              "#ed7953"
             ],
             [
              0.7777777777777778,
              "#fb9f3a"
             ],
             [
              0.8888888888888888,
              "#fdca26"
             ],
             [
              1,
              "#f0f921"
             ]
            ],
            "type": "surface"
           }
          ],
          "table": [
           {
            "cells": {
             "fill": {
              "color": "#EBF0F8"
             },
             "line": {
              "color": "white"
             }
            },
            "header": {
             "fill": {
              "color": "#C8D4E3"
             },
             "line": {
              "color": "white"
             }
            },
            "type": "table"
           }
          ]
         },
         "layout": {
          "annotationdefaults": {
           "arrowcolor": "#2a3f5f",
           "arrowhead": 0,
           "arrowwidth": 1
          },
          "autotypenumbers": "strict",
          "coloraxis": {
           "colorbar": {
            "outlinewidth": 0,
            "ticks": ""
           }
          },
          "colorscale": {
           "diverging": [
            [
             0,
             "#8e0152"
            ],
            [
             0.1,
             "#c51b7d"
            ],
            [
             0.2,
             "#de77ae"
            ],
            [
             0.3,
             "#f1b6da"
            ],
            [
             0.4,
             "#fde0ef"
            ],
            [
             0.5,
             "#f7f7f7"
            ],
            [
             0.6,
             "#e6f5d0"
            ],
            [
             0.7,
             "#b8e186"
            ],
            [
             0.8,
             "#7fbc41"
            ],
            [
             0.9,
             "#4d9221"
            ],
            [
             1,
             "#276419"
            ]
           ],
           "sequential": [
            [
             0,
             "#0d0887"
            ],
            [
             0.1111111111111111,
             "#46039f"
            ],
            [
             0.2222222222222222,
             "#7201a8"
            ],
            [
             0.3333333333333333,
             "#9c179e"
            ],
            [
             0.4444444444444444,
             "#bd3786"
            ],
            [
             0.5555555555555556,
             "#d8576b"
            ],
            [
             0.6666666666666666,
             "#ed7953"
            ],
            [
             0.7777777777777778,
             "#fb9f3a"
            ],
            [
             0.8888888888888888,
             "#fdca26"
            ],
            [
             1,
             "#f0f921"
            ]
           ],
           "sequentialminus": [
            [
             0,
             "#0d0887"
            ],
            [
             0.1111111111111111,
             "#46039f"
            ],
            [
             0.2222222222222222,
             "#7201a8"
            ],
            [
             0.3333333333333333,
             "#9c179e"
            ],
            [
             0.4444444444444444,
             "#bd3786"
            ],
            [
             0.5555555555555556,
             "#d8576b"
            ],
            [
             0.6666666666666666,
             "#ed7953"
            ],
            [
             0.7777777777777778,
             "#fb9f3a"
            ],
            [
             0.8888888888888888,
             "#fdca26"
            ],
            [
             1,
             "#f0f921"
            ]
           ]
          },
          "colorway": [
           "#636efa",
           "#EF553B",
           "#00cc96",
           "#ab63fa",
           "#FFA15A",
           "#19d3f3",
           "#FF6692",
           "#B6E880",
           "#FF97FF",
           "#FECB52"
          ],
          "font": {
           "color": "#2a3f5f"
          },
          "geo": {
           "bgcolor": "white",
           "lakecolor": "white",
           "landcolor": "#E5ECF6",
           "showlakes": true,
           "showland": true,
           "subunitcolor": "white"
          },
          "hoverlabel": {
           "align": "left"
          },
          "hovermode": "closest",
          "mapbox": {
           "style": "light"
          },
          "paper_bgcolor": "white",
          "plot_bgcolor": "#E5ECF6",
          "polar": {
           "angularaxis": {
            "gridcolor": "white",
            "linecolor": "white",
            "ticks": ""
           },
           "bgcolor": "#E5ECF6",
           "radialaxis": {
            "gridcolor": "white",
            "linecolor": "white",
            "ticks": ""
           }
          },
          "scene": {
           "xaxis": {
            "backgroundcolor": "#E5ECF6",
            "gridcolor": "white",
            "gridwidth": 2,
            "linecolor": "white",
            "showbackground": true,
            "ticks": "",
            "zerolinecolor": "white"
           },
           "yaxis": {
            "backgroundcolor": "#E5ECF6",
            "gridcolor": "white",
            "gridwidth": 2,
            "linecolor": "white",
            "showbackground": true,
            "ticks": "",
            "zerolinecolor": "white"
           },
           "zaxis": {
            "backgroundcolor": "#E5ECF6",
            "gridcolor": "white",
            "gridwidth": 2,
            "linecolor": "white",
            "showbackground": true,
            "ticks": "",
            "zerolinecolor": "white"
           }
          },
          "shapedefaults": {
           "line": {
            "color": "#2a3f5f"
           }
          },
          "ternary": {
           "aaxis": {
            "gridcolor": "white",
            "linecolor": "white",
            "ticks": ""
           },
           "baxis": {
            "gridcolor": "white",
            "linecolor": "white",
            "ticks": ""
           },
           "bgcolor": "#E5ECF6",
           "caxis": {
            "gridcolor": "white",
            "linecolor": "white",
            "ticks": ""
           }
          },
          "title": {
           "x": 0.05
          },
          "xaxis": {
           "automargin": true,
           "gridcolor": "white",
           "linecolor": "white",
           "ticks": "",
           "title": {
            "standoff": 15
           },
           "zerolinecolor": "white",
           "zerolinewidth": 2
          },
          "yaxis": {
           "automargin": true,
           "gridcolor": "white",
           "linecolor": "white",
           "ticks": "",
           "title": {
            "standoff": 15
           },
           "zerolinecolor": "white",
           "zerolinewidth": 2
          }
         }
        },
        "title": {
         "font": {
          "color": "#4D5663"
         }
        },
        "xaxis": {
         "gridcolor": "#E1E5ED",
         "showgrid": true,
         "tickfont": {
          "color": "#4D5663"
         },
         "title": {
          "font": {
           "color": "#4D5663"
          },
          "text": ""
         },
         "zerolinecolor": "#E1E5ED"
        },
        "yaxis": {
         "gridcolor": "#E1E5ED",
         "showgrid": true,
         "tickfont": {
          "color": "#4D5663"
         },
         "title": {
          "font": {
           "color": "#4D5663"
          },
          "text": ""
         },
         "zerolinecolor": "#E1E5ED"
        }
       }
      },
      "text/html": [
       "<div>                            <div id=\"6f27ed29-8e7b-47e0-9b4b-27e9da62db64\" class=\"plotly-graph-div\" style=\"height:525px; width:100%;\"></div>            <script type=\"text/javascript\">                require([\"plotly\"], function(Plotly) {                    window.PLOTLYENV=window.PLOTLYENV || {};\n",
       "                    window.PLOTLYENV.BASE_URL='https://plot.ly';                                    if (document.getElementById(\"6f27ed29-8e7b-47e0-9b4b-27e9da62db64\")) {                    Plotly.newPlot(                        \"6f27ed29-8e7b-47e0-9b4b-27e9da62db64\",                        [{\"line\":{\"color\":\"rgba(255, 153, 51, 1.0)\",\"dash\":\"solid\",\"shape\":\"linear\",\"width\":1.3},\"marker\":{\"size\":12,\"symbol\":\"circle\"},\"mode\":\"markers\",\"name\":\"B\",\"text\":\"\",\"type\":\"scatter\",\"x\":[-0.2476021517537956,0.11874398704528717,-1.5986470436970923,1.4523802703570448,1.6090995991476928,0.36229045933429543,0.08354651513332022,-0.3527933783544127,0.5176107966859301,-0.833819690766652,0.20565072543497975,1.9944702000830496,-0.35151191314525854,-0.826196054882016,0.9599029122425612,0.8735380178138376,-1.644708644572304,-1.7738813013900911,1.7275862931329586,1.2410803233237333,-0.47371612259000284,1.414213513123541,1.458493689936051,0.3272856232608136,0.3165687182176862,0.8414601116357942,-0.32475580337050364,1.0868940465653318,0.4745634553998436,-0.2734907459319492,1.7936403614043865,0.2702198507442268,0.23166334935090627,0.2149514489904918,-0.15239433999431595,-0.46485670290661824,0.1769888823174567,0.9251355276226852,-2.923639876842984,-1.0036342420862625,-1.5972731861258282,-0.5863668064009814,0.24330756172163637,1.0711554663396936,0.7912213795894234,0.8222629425793855,-0.07065589111053654,-0.6059385075201855,-1.2444487075452308,-0.2986809340328696,2.1470548990107736,-0.9581686455331494,-0.14557432693872532,-0.4416089409116146,0.9352295488236574,-1.0506573059035353,1.3879041094191515,-0.6297383736287204,1.2161526628947408,0.9380321876702106,-0.3186924706946208,-1.0451195297871672,0.8789782921221527,-1.0706299167541156,-0.6134943608834571,2.114366282469496,0.4804360014579106,-0.10967689810515825,1.1730100543660051,0.6680577732576941,-1.1540774070386632,-0.4851203250530739,-0.06824582550241688,-0.4860733169583027,-1.3724089125985697,0.12312942342868287,0.16293029773806567,1.2974841267330905,3.354031799722983,-1.5810817578094538,0.8052116693646469,1.7562243908207342,0.5228297709229516,-0.8617659959734791,0.0620426273685626,0.16012867729300984,0.09689851489854824,-0.1137666435097898,1.803702528945463,0.2660268294434981,0.21102177430662458,-0.12523484176846558,-1.3224865786008155,-0.23270849471023752,-1.3608262494607177,1.6803295754838412,-0.26619167545737504,-1.2418906810336272,0.6446602759776894,-0.9887246241264553],\"y\":[-0.06053671648461432,0.04451657973152728,0.5893539754284983,1.013668452200273,0.6847946382566875,0.20861092698642347,-0.3309414257884284,-0.5453515972945141,0.23076522077023776,-0.6403566961541314,-1.4889655573956504,0.9352129666595805,-0.8553217826158602,-0.5358471525131479,-0.7285079896694445,-0.19435999410793742,-0.021183660575883688,-1.27486421427924,-1.377441170107258,0.1920596120363645,-1.1360047658662333,-0.25162260549257154,-0.38292153172884064,1.5087553081937204,0.14799880515885433,0.605878255040937,1.6218346664911871,-0.6412077490099374,0.3542488866697352,-0.4607106765297617,1.2204733158298071,1.5290677262515437,-0.5325381867220287,0.6886302420714265,-1.4040226516881387,-2.163779233019157,-1.635161679442351,0.11429126376701604,1.5913115916653733,-0.7516875353912756,-1.1490181657991692,0.05209633163880171,-1.2505146014805508,0.945770812894874,0.44120913669486617,-1.4272575263523835,-0.058534388435669125,-0.33290524940555216,0.25397740217116543,1.2107495453696848,-1.3048536413809813,-0.07290573215858111,-0.935009414667022,0.31698859178976346,0.3035657889195938,-0.09726791999649201,-0.13309365569973972,-1.3660791616250785,-1.0000957432387825,-0.44418957211110716,-0.7186337755517709,1.102995878230977,0.020947744800001725,-0.5379484903254714,1.434265530651456,-0.005595426280574108,-2.0024045908564716,1.2079291512768016,0.15101539633938965,-0.9415917180574958,0.8902241018403784,-0.6581560875764221,-1.2673251228201592,1.2592403371088414,-0.2831780015730596,0.047762380357669894,0.8603279518544563,-0.7821657611800706,-0.08202755823879464,0.06094696276155334,-0.8603811991901833,-0.05999313775337979,-0.4134487343659485,-0.4420361210196551,1.964645409112964,0.7896408572825018,-0.3773497911703148,1.6692535284277301,-0.27550204963687014,0.41138019434472406,-1.0549370402879954,1.6736473264323468,-0.8808278394958889,0.4728475230153127,0.19446889154197278,0.2995578928563227,-0.3887601705363107,-1.031190785706398,-1.4446194412722257,0.5759700536209127]}],                        {\"legend\":{\"bgcolor\":\"#F5F6F9\",\"font\":{\"color\":\"#4D5663\"}},\"paper_bgcolor\":\"#F5F6F9\",\"plot_bgcolor\":\"#F5F6F9\",\"template\":{\"data\":{\"bar\":[{\"error_x\":{\"color\":\"#2a3f5f\"},\"error_y\":{\"color\":\"#2a3f5f\"},\"marker\":{\"line\":{\"color\":\"#E5ECF6\",\"width\":0.5},\"pattern\":{\"fillmode\":\"overlay\",\"size\":10,\"solidity\":0.2}},\"type\":\"bar\"}],\"barpolar\":[{\"marker\":{\"line\":{\"color\":\"#E5ECF6\",\"width\":0.5},\"pattern\":{\"fillmode\":\"overlay\",\"size\":10,\"solidity\":0.2}},\"type\":\"barpolar\"}],\"carpet\":[{\"aaxis\":{\"endlinecolor\":\"#2a3f5f\",\"gridcolor\":\"white\",\"linecolor\":\"white\",\"minorgridcolor\":\"white\",\"startlinecolor\":\"#2a3f5f\"},\"baxis\":{\"endlinecolor\":\"#2a3f5f\",\"gridcolor\":\"white\",\"linecolor\":\"white\",\"minorgridcolor\":\"white\",\"startlinecolor\":\"#2a3f5f\"},\"type\":\"carpet\"}],\"choropleth\":[{\"colorbar\":{\"outlinewidth\":0,\"ticks\":\"\"},\"type\":\"choropleth\"}],\"contour\":[{\"colorbar\":{\"outlinewidth\":0,\"ticks\":\"\"},\"colorscale\":[[0.0,\"#0d0887\"],[0.1111111111111111,\"#46039f\"],[0.2222222222222222,\"#7201a8\"],[0.3333333333333333,\"#9c179e\"],[0.4444444444444444,\"#bd3786\"],[0.5555555555555556,\"#d8576b\"],[0.6666666666666666,\"#ed7953\"],[0.7777777777777778,\"#fb9f3a\"],[0.8888888888888888,\"#fdca26\"],[1.0,\"#f0f921\"]],\"type\":\"contour\"}],\"contourcarpet\":[{\"colorbar\":{\"outlinewidth\":0,\"ticks\":\"\"},\"type\":\"contourcarpet\"}],\"heatmap\":[{\"colorbar\":{\"outlinewidth\":0,\"ticks\":\"\"},\"colorscale\":[[0.0,\"#0d0887\"],[0.1111111111111111,\"#46039f\"],[0.2222222222222222,\"#7201a8\"],[0.3333333333333333,\"#9c179e\"],[0.4444444444444444,\"#bd3786\"],[0.5555555555555556,\"#d8576b\"],[0.6666666666666666,\"#ed7953\"],[0.7777777777777778,\"#fb9f3a\"],[0.8888888888888888,\"#fdca26\"],[1.0,\"#f0f921\"]],\"type\":\"heatmap\"}],\"heatmapgl\":[{\"colorbar\":{\"outlinewidth\":0,\"ticks\":\"\"},\"colorscale\":[[0.0,\"#0d0887\"],[0.1111111111111111,\"#46039f\"],[0.2222222222222222,\"#7201a8\"],[0.3333333333333333,\"#9c179e\"],[0.4444444444444444,\"#bd3786\"],[0.5555555555555556,\"#d8576b\"],[0.6666666666666666,\"#ed7953\"],[0.7777777777777778,\"#fb9f3a\"],[0.8888888888888888,\"#fdca26\"],[1.0,\"#f0f921\"]],\"type\":\"heatmapgl\"}],\"histogram\":[{\"marker\":{\"pattern\":{\"fillmode\":\"overlay\",\"size\":10,\"solidity\":0.2}},\"type\":\"histogram\"}],\"histogram2d\":[{\"colorbar\":{\"outlinewidth\":0,\"ticks\":\"\"},\"colorscale\":[[0.0,\"#0d0887\"],[0.1111111111111111,\"#46039f\"],[0.2222222222222222,\"#7201a8\"],[0.3333333333333333,\"#9c179e\"],[0.4444444444444444,\"#bd3786\"],[0.5555555555555556,\"#d8576b\"],[0.6666666666666666,\"#ed7953\"],[0.7777777777777778,\"#fb9f3a\"],[0.8888888888888888,\"#fdca26\"],[1.0,\"#f0f921\"]],\"type\":\"histogram2d\"}],\"histogram2dcontour\":[{\"colorbar\":{\"outlinewidth\":0,\"ticks\":\"\"},\"colorscale\":[[0.0,\"#0d0887\"],[0.1111111111111111,\"#46039f\"],[0.2222222222222222,\"#7201a8\"],[0.3333333333333333,\"#9c179e\"],[0.4444444444444444,\"#bd3786\"],[0.5555555555555556,\"#d8576b\"],[0.6666666666666666,\"#ed7953\"],[0.7777777777777778,\"#fb9f3a\"],[0.8888888888888888,\"#fdca26\"],[1.0,\"#f0f921\"]],\"type\":\"histogram2dcontour\"}],\"mesh3d\":[{\"colorbar\":{\"outlinewidth\":0,\"ticks\":\"\"},\"type\":\"mesh3d\"}],\"parcoords\":[{\"line\":{\"colorbar\":{\"outlinewidth\":0,\"ticks\":\"\"}},\"type\":\"parcoords\"}],\"pie\":[{\"automargin\":true,\"type\":\"pie\"}],\"scatter\":[{\"marker\":{\"colorbar\":{\"outlinewidth\":0,\"ticks\":\"\"}},\"type\":\"scatter\"}],\"scatter3d\":[{\"line\":{\"colorbar\":{\"outlinewidth\":0,\"ticks\":\"\"}},\"marker\":{\"colorbar\":{\"outlinewidth\":0,\"ticks\":\"\"}},\"type\":\"scatter3d\"}],\"scattercarpet\":[{\"marker\":{\"colorbar\":{\"outlinewidth\":0,\"ticks\":\"\"}},\"type\":\"scattercarpet\"}],\"scattergeo\":[{\"marker\":{\"colorbar\":{\"outlinewidth\":0,\"ticks\":\"\"}},\"type\":\"scattergeo\"}],\"scattergl\":[{\"marker\":{\"colorbar\":{\"outlinewidth\":0,\"ticks\":\"\"}},\"type\":\"scattergl\"}],\"scattermapbox\":[{\"marker\":{\"colorbar\":{\"outlinewidth\":0,\"ticks\":\"\"}},\"type\":\"scattermapbox\"}],\"scatterpolar\":[{\"marker\":{\"colorbar\":{\"outlinewidth\":0,\"ticks\":\"\"}},\"type\":\"scatterpolar\"}],\"scatterpolargl\":[{\"marker\":{\"colorbar\":{\"outlinewidth\":0,\"ticks\":\"\"}},\"type\":\"scatterpolargl\"}],\"scatterternary\":[{\"marker\":{\"colorbar\":{\"outlinewidth\":0,\"ticks\":\"\"}},\"type\":\"scatterternary\"}],\"surface\":[{\"colorbar\":{\"outlinewidth\":0,\"ticks\":\"\"},\"colorscale\":[[0.0,\"#0d0887\"],[0.1111111111111111,\"#46039f\"],[0.2222222222222222,\"#7201a8\"],[0.3333333333333333,\"#9c179e\"],[0.4444444444444444,\"#bd3786\"],[0.5555555555555556,\"#d8576b\"],[0.6666666666666666,\"#ed7953\"],[0.7777777777777778,\"#fb9f3a\"],[0.8888888888888888,\"#fdca26\"],[1.0,\"#f0f921\"]],\"type\":\"surface\"}],\"table\":[{\"cells\":{\"fill\":{\"color\":\"#EBF0F8\"},\"line\":{\"color\":\"white\"}},\"header\":{\"fill\":{\"color\":\"#C8D4E3\"},\"line\":{\"color\":\"white\"}},\"type\":\"table\"}]},\"layout\":{\"annotationdefaults\":{\"arrowcolor\":\"#2a3f5f\",\"arrowhead\":0,\"arrowwidth\":1},\"autotypenumbers\":\"strict\",\"coloraxis\":{\"colorbar\":{\"outlinewidth\":0,\"ticks\":\"\"}},\"colorscale\":{\"diverging\":[[0,\"#8e0152\"],[0.1,\"#c51b7d\"],[0.2,\"#de77ae\"],[0.3,\"#f1b6da\"],[0.4,\"#fde0ef\"],[0.5,\"#f7f7f7\"],[0.6,\"#e6f5d0\"],[0.7,\"#b8e186\"],[0.8,\"#7fbc41\"],[0.9,\"#4d9221\"],[1,\"#276419\"]],\"sequential\":[[0.0,\"#0d0887\"],[0.1111111111111111,\"#46039f\"],[0.2222222222222222,\"#7201a8\"],[0.3333333333333333,\"#9c179e\"],[0.4444444444444444,\"#bd3786\"],[0.5555555555555556,\"#d8576b\"],[0.6666666666666666,\"#ed7953\"],[0.7777777777777778,\"#fb9f3a\"],[0.8888888888888888,\"#fdca26\"],[1.0,\"#f0f921\"]],\"sequentialminus\":[[0.0,\"#0d0887\"],[0.1111111111111111,\"#46039f\"],[0.2222222222222222,\"#7201a8\"],[0.3333333333333333,\"#9c179e\"],[0.4444444444444444,\"#bd3786\"],[0.5555555555555556,\"#d8576b\"],[0.6666666666666666,\"#ed7953\"],[0.7777777777777778,\"#fb9f3a\"],[0.8888888888888888,\"#fdca26\"],[1.0,\"#f0f921\"]]},\"colorway\":[\"#636efa\",\"#EF553B\",\"#00cc96\",\"#ab63fa\",\"#FFA15A\",\"#19d3f3\",\"#FF6692\",\"#B6E880\",\"#FF97FF\",\"#FECB52\"],\"font\":{\"color\":\"#2a3f5f\"},\"geo\":{\"bgcolor\":\"white\",\"lakecolor\":\"white\",\"landcolor\":\"#E5ECF6\",\"showlakes\":true,\"showland\":true,\"subunitcolor\":\"white\"},\"hoverlabel\":{\"align\":\"left\"},\"hovermode\":\"closest\",\"mapbox\":{\"style\":\"light\"},\"paper_bgcolor\":\"white\",\"plot_bgcolor\":\"#E5ECF6\",\"polar\":{\"angularaxis\":{\"gridcolor\":\"white\",\"linecolor\":\"white\",\"ticks\":\"\"},\"bgcolor\":\"#E5ECF6\",\"radialaxis\":{\"gridcolor\":\"white\",\"linecolor\":\"white\",\"ticks\":\"\"}},\"scene\":{\"xaxis\":{\"backgroundcolor\":\"#E5ECF6\",\"gridcolor\":\"white\",\"gridwidth\":2,\"linecolor\":\"white\",\"showbackground\":true,\"ticks\":\"\",\"zerolinecolor\":\"white\"},\"yaxis\":{\"backgroundcolor\":\"#E5ECF6\",\"gridcolor\":\"white\",\"gridwidth\":2,\"linecolor\":\"white\",\"showbackground\":true,\"ticks\":\"\",\"zerolinecolor\":\"white\"},\"zaxis\":{\"backgroundcolor\":\"#E5ECF6\",\"gridcolor\":\"white\",\"gridwidth\":2,\"linecolor\":\"white\",\"showbackground\":true,\"ticks\":\"\",\"zerolinecolor\":\"white\"}},\"shapedefaults\":{\"line\":{\"color\":\"#2a3f5f\"}},\"ternary\":{\"aaxis\":{\"gridcolor\":\"white\",\"linecolor\":\"white\",\"ticks\":\"\"},\"baxis\":{\"gridcolor\":\"white\",\"linecolor\":\"white\",\"ticks\":\"\"},\"bgcolor\":\"#E5ECF6\",\"caxis\":{\"gridcolor\":\"white\",\"linecolor\":\"white\",\"ticks\":\"\"}},\"title\":{\"x\":0.05},\"xaxis\":{\"automargin\":true,\"gridcolor\":\"white\",\"linecolor\":\"white\",\"ticks\":\"\",\"title\":{\"standoff\":15},\"zerolinecolor\":\"white\",\"zerolinewidth\":2},\"yaxis\":{\"automargin\":true,\"gridcolor\":\"white\",\"linecolor\":\"white\",\"ticks\":\"\",\"title\":{\"standoff\":15},\"zerolinecolor\":\"white\",\"zerolinewidth\":2}}},\"title\":{\"font\":{\"color\":\"#4D5663\"}},\"xaxis\":{\"gridcolor\":\"#E1E5ED\",\"showgrid\":true,\"tickfont\":{\"color\":\"#4D5663\"},\"title\":{\"font\":{\"color\":\"#4D5663\"},\"text\":\"\"},\"zerolinecolor\":\"#E1E5ED\"},\"yaxis\":{\"gridcolor\":\"#E1E5ED\",\"showgrid\":true,\"tickfont\":{\"color\":\"#4D5663\"},\"title\":{\"font\":{\"color\":\"#4D5663\"},\"text\":\"\"},\"zerolinecolor\":\"#E1E5ED\"}},                        {\"showLink\": true, \"linkText\": \"Export to plot.ly\", \"plotlyServerURL\": \"https://plot.ly\", \"responsive\": true}                    ).then(function(){\n",
       "                            \n",
       "var gd = document.getElementById('6f27ed29-8e7b-47e0-9b4b-27e9da62db64');\n",
       "var x = new MutationObserver(function (mutations, observer) {{\n",
       "        var display = window.getComputedStyle(gd).display;\n",
       "        if (!display || display === 'none') {{\n",
       "            console.log([gd, 'removed!']);\n",
       "            Plotly.purge(gd);\n",
       "            observer.disconnect();\n",
       "        }}\n",
       "}});\n",
       "\n",
       "// Listen for the removal of the full notebook cells\n",
       "var notebookContainer = gd.closest('#notebook-container');\n",
       "if (notebookContainer) {{\n",
       "    x.observe(notebookContainer, {childList: true});\n",
       "}}\n",
       "\n",
       "// Listen for the clearing of the current output cell\n",
       "var outputEl = gd.closest('.output');\n",
       "if (outputEl) {{\n",
       "    x.observe(outputEl, {childList: true});\n",
       "}}\n",
       "\n",
       "                        })                };                });            </script>        </div>"
      ]
     },
     "metadata": {},
     "output_type": "display_data"
    }
   ],
   "source": [
    "df1.iplot(x='A',y='B',mode='markers')  # The default mode is line graph (for larger markers, size=...)"
   ]
  },
  {
   "cell_type": "markdown",
   "metadata": {},
   "source": [
    "**Bar chart**"
   ]
  },
  {
   "cell_type": "code",
   "execution_count": 15,
   "metadata": {},
   "outputs": [
    {
     "data": {
      "application/vnd.plotly.v1+json": {
       "config": {
        "linkText": "Export to plot.ly",
        "plotlyServerURL": "https://plot.ly",
        "showLink": true
       },
       "data": [
        {
         "marker": {
          "color": "rgba(255, 153, 51, 0.6)",
          "line": {
           "color": "rgba(255, 153, 51, 1.0)",
           "width": 1
          }
         },
         "name": "Values",
         "orientation": "v",
         "text": "",
         "type": "bar",
         "x": [
          "A",
          "B",
          "C"
         ],
         "y": [
          32,
          43,
          50
         ]
        }
       ],
       "layout": {
        "legend": {
         "bgcolor": "#F5F6F9",
         "font": {
          "color": "#4D5663"
         }
        },
        "paper_bgcolor": "#F5F6F9",
        "plot_bgcolor": "#F5F6F9",
        "template": {
         "data": {
          "bar": [
           {
            "error_x": {
             "color": "#2a3f5f"
            },
            "error_y": {
             "color": "#2a3f5f"
            },
            "marker": {
             "line": {
              "color": "#E5ECF6",
              "width": 0.5
             },
             "pattern": {
              "fillmode": "overlay",
              "size": 10,
              "solidity": 0.2
             }
            },
            "type": "bar"
           }
          ],
          "barpolar": [
           {
            "marker": {
             "line": {
              "color": "#E5ECF6",
              "width": 0.5
             },
             "pattern": {
              "fillmode": "overlay",
              "size": 10,
              "solidity": 0.2
             }
            },
            "type": "barpolar"
           }
          ],
          "carpet": [
           {
            "aaxis": {
             "endlinecolor": "#2a3f5f",
             "gridcolor": "white",
             "linecolor": "white",
             "minorgridcolor": "white",
             "startlinecolor": "#2a3f5f"
            },
            "baxis": {
             "endlinecolor": "#2a3f5f",
             "gridcolor": "white",
             "linecolor": "white",
             "minorgridcolor": "white",
             "startlinecolor": "#2a3f5f"
            },
            "type": "carpet"
           }
          ],
          "choropleth": [
           {
            "colorbar": {
             "outlinewidth": 0,
             "ticks": ""
            },
            "type": "choropleth"
           }
          ],
          "contour": [
           {
            "colorbar": {
             "outlinewidth": 0,
             "ticks": ""
            },
            "colorscale": [
             [
              0,
              "#0d0887"
             ],
             [
              0.1111111111111111,
              "#46039f"
             ],
             [
              0.2222222222222222,
              "#7201a8"
             ],
             [
              0.3333333333333333,
              "#9c179e"
             ],
             [
              0.4444444444444444,
              "#bd3786"
             ],
             [
              0.5555555555555556,
              "#d8576b"
             ],
             [
              0.6666666666666666,
              "#ed7953"
             ],
             [
              0.7777777777777778,
              "#fb9f3a"
             ],
             [
              0.8888888888888888,
              "#fdca26"
             ],
             [
              1,
              "#f0f921"
             ]
            ],
            "type": "contour"
           }
          ],
          "contourcarpet": [
           {
            "colorbar": {
             "outlinewidth": 0,
             "ticks": ""
            },
            "type": "contourcarpet"
           }
          ],
          "heatmap": [
           {
            "colorbar": {
             "outlinewidth": 0,
             "ticks": ""
            },
            "colorscale": [
             [
              0,
              "#0d0887"
             ],
             [
              0.1111111111111111,
              "#46039f"
             ],
             [
              0.2222222222222222,
              "#7201a8"
             ],
             [
              0.3333333333333333,
              "#9c179e"
             ],
             [
              0.4444444444444444,
              "#bd3786"
             ],
             [
              0.5555555555555556,
              "#d8576b"
             ],
             [
              0.6666666666666666,
              "#ed7953"
             ],
             [
              0.7777777777777778,
              "#fb9f3a"
             ],
             [
              0.8888888888888888,
              "#fdca26"
             ],
             [
              1,
              "#f0f921"
             ]
            ],
            "type": "heatmap"
           }
          ],
          "heatmapgl": [
           {
            "colorbar": {
             "outlinewidth": 0,
             "ticks": ""
            },
            "colorscale": [
             [
              0,
              "#0d0887"
             ],
             [
              0.1111111111111111,
              "#46039f"
             ],
             [
              0.2222222222222222,
              "#7201a8"
             ],
             [
              0.3333333333333333,
              "#9c179e"
             ],
             [
              0.4444444444444444,
              "#bd3786"
             ],
             [
              0.5555555555555556,
              "#d8576b"
             ],
             [
              0.6666666666666666,
              "#ed7953"
             ],
             [
              0.7777777777777778,
              "#fb9f3a"
             ],
             [
              0.8888888888888888,
              "#fdca26"
             ],
             [
              1,
              "#f0f921"
             ]
            ],
            "type": "heatmapgl"
           }
          ],
          "histogram": [
           {
            "marker": {
             "pattern": {
              "fillmode": "overlay",
              "size": 10,
              "solidity": 0.2
             }
            },
            "type": "histogram"
           }
          ],
          "histogram2d": [
           {
            "colorbar": {
             "outlinewidth": 0,
             "ticks": ""
            },
            "colorscale": [
             [
              0,
              "#0d0887"
             ],
             [
              0.1111111111111111,
              "#46039f"
             ],
             [
              0.2222222222222222,
              "#7201a8"
             ],
             [
              0.3333333333333333,
              "#9c179e"
             ],
             [
              0.4444444444444444,
              "#bd3786"
             ],
             [
              0.5555555555555556,
              "#d8576b"
             ],
             [
              0.6666666666666666,
              "#ed7953"
             ],
             [
              0.7777777777777778,
              "#fb9f3a"
             ],
             [
              0.8888888888888888,
              "#fdca26"
             ],
             [
              1,
              "#f0f921"
             ]
            ],
            "type": "histogram2d"
           }
          ],
          "histogram2dcontour": [
           {
            "colorbar": {
             "outlinewidth": 0,
             "ticks": ""
            },
            "colorscale": [
             [
              0,
              "#0d0887"
             ],
             [
              0.1111111111111111,
              "#46039f"
             ],
             [
              0.2222222222222222,
              "#7201a8"
             ],
             [
              0.3333333333333333,
              "#9c179e"
             ],
             [
              0.4444444444444444,
              "#bd3786"
             ],
             [
              0.5555555555555556,
              "#d8576b"
             ],
             [
              0.6666666666666666,
              "#ed7953"
             ],
             [
              0.7777777777777778,
              "#fb9f3a"
             ],
             [
              0.8888888888888888,
              "#fdca26"
             ],
             [
              1,
              "#f0f921"
             ]
            ],
            "type": "histogram2dcontour"
           }
          ],
          "mesh3d": [
           {
            "colorbar": {
             "outlinewidth": 0,
             "ticks": ""
            },
            "type": "mesh3d"
           }
          ],
          "parcoords": [
           {
            "line": {
             "colorbar": {
              "outlinewidth": 0,
              "ticks": ""
             }
            },
            "type": "parcoords"
           }
          ],
          "pie": [
           {
            "automargin": true,
            "type": "pie"
           }
          ],
          "scatter": [
           {
            "marker": {
             "colorbar": {
              "outlinewidth": 0,
              "ticks": ""
             }
            },
            "type": "scatter"
           }
          ],
          "scatter3d": [
           {
            "line": {
             "colorbar": {
              "outlinewidth": 0,
              "ticks": ""
             }
            },
            "marker": {
             "colorbar": {
              "outlinewidth": 0,
              "ticks": ""
             }
            },
            "type": "scatter3d"
           }
          ],
          "scattercarpet": [
           {
            "marker": {
             "colorbar": {
              "outlinewidth": 0,
              "ticks": ""
             }
            },
            "type": "scattercarpet"
           }
          ],
          "scattergeo": [
           {
            "marker": {
             "colorbar": {
              "outlinewidth": 0,
              "ticks": ""
             }
            },
            "type": "scattergeo"
           }
          ],
          "scattergl": [
           {
            "marker": {
             "colorbar": {
              "outlinewidth": 0,
              "ticks": ""
             }
            },
            "type": "scattergl"
           }
          ],
          "scattermapbox": [
           {
            "marker": {
             "colorbar": {
              "outlinewidth": 0,
              "ticks": ""
             }
            },
            "type": "scattermapbox"
           }
          ],
          "scatterpolar": [
           {
            "marker": {
             "colorbar": {
              "outlinewidth": 0,
              "ticks": ""
             }
            },
            "type": "scatterpolar"
           }
          ],
          "scatterpolargl": [
           {
            "marker": {
             "colorbar": {
              "outlinewidth": 0,
              "ticks": ""
             }
            },
            "type": "scatterpolargl"
           }
          ],
          "scatterternary": [
           {
            "marker": {
             "colorbar": {
              "outlinewidth": 0,
              "ticks": ""
             }
            },
            "type": "scatterternary"
           }
          ],
          "surface": [
           {
            "colorbar": {
             "outlinewidth": 0,
             "ticks": ""
            },
            "colorscale": [
             [
              0,
              "#0d0887"
             ],
             [
              0.1111111111111111,
              "#46039f"
             ],
             [
              0.2222222222222222,
              "#7201a8"
             ],
             [
              0.3333333333333333,
              "#9c179e"
             ],
             [
              0.4444444444444444,
              "#bd3786"
             ],
             [
              0.5555555555555556,
              "#d8576b"
             ],
             [
              0.6666666666666666,
              "#ed7953"
             ],
             [
              0.7777777777777778,
              "#fb9f3a"
             ],
             [
              0.8888888888888888,
              "#fdca26"
             ],
             [
              1,
              "#f0f921"
             ]
            ],
            "type": "surface"
           }
          ],
          "table": [
           {
            "cells": {
             "fill": {
              "color": "#EBF0F8"
             },
             "line": {
              "color": "white"
             }
            },
            "header": {
             "fill": {
              "color": "#C8D4E3"
             },
             "line": {
              "color": "white"
             }
            },
            "type": "table"
           }
          ]
         },
         "layout": {
          "annotationdefaults": {
           "arrowcolor": "#2a3f5f",
           "arrowhead": 0,
           "arrowwidth": 1
          },
          "autotypenumbers": "strict",
          "coloraxis": {
           "colorbar": {
            "outlinewidth": 0,
            "ticks": ""
           }
          },
          "colorscale": {
           "diverging": [
            [
             0,
             "#8e0152"
            ],
            [
             0.1,
             "#c51b7d"
            ],
            [
             0.2,
             "#de77ae"
            ],
            [
             0.3,
             "#f1b6da"
            ],
            [
             0.4,
             "#fde0ef"
            ],
            [
             0.5,
             "#f7f7f7"
            ],
            [
             0.6,
             "#e6f5d0"
            ],
            [
             0.7,
             "#b8e186"
            ],
            [
             0.8,
             "#7fbc41"
            ],
            [
             0.9,
             "#4d9221"
            ],
            [
             1,
             "#276419"
            ]
           ],
           "sequential": [
            [
             0,
             "#0d0887"
            ],
            [
             0.1111111111111111,
             "#46039f"
            ],
            [
             0.2222222222222222,
             "#7201a8"
            ],
            [
             0.3333333333333333,
             "#9c179e"
            ],
            [
             0.4444444444444444,
             "#bd3786"
            ],
            [
             0.5555555555555556,
             "#d8576b"
            ],
            [
             0.6666666666666666,
             "#ed7953"
            ],
            [
             0.7777777777777778,
             "#fb9f3a"
            ],
            [
             0.8888888888888888,
             "#fdca26"
            ],
            [
             1,
             "#f0f921"
            ]
           ],
           "sequentialminus": [
            [
             0,
             "#0d0887"
            ],
            [
             0.1111111111111111,
             "#46039f"
            ],
            [
             0.2222222222222222,
             "#7201a8"
            ],
            [
             0.3333333333333333,
             "#9c179e"
            ],
            [
             0.4444444444444444,
             "#bd3786"
            ],
            [
             0.5555555555555556,
             "#d8576b"
            ],
            [
             0.6666666666666666,
             "#ed7953"
            ],
            [
             0.7777777777777778,
             "#fb9f3a"
            ],
            [
             0.8888888888888888,
             "#fdca26"
            ],
            [
             1,
             "#f0f921"
            ]
           ]
          },
          "colorway": [
           "#636efa",
           "#EF553B",
           "#00cc96",
           "#ab63fa",
           "#FFA15A",
           "#19d3f3",
           "#FF6692",
           "#B6E880",
           "#FF97FF",
           "#FECB52"
          ],
          "font": {
           "color": "#2a3f5f"
          },
          "geo": {
           "bgcolor": "white",
           "lakecolor": "white",
           "landcolor": "#E5ECF6",
           "showlakes": true,
           "showland": true,
           "subunitcolor": "white"
          },
          "hoverlabel": {
           "align": "left"
          },
          "hovermode": "closest",
          "mapbox": {
           "style": "light"
          },
          "paper_bgcolor": "white",
          "plot_bgcolor": "#E5ECF6",
          "polar": {
           "angularaxis": {
            "gridcolor": "white",
            "linecolor": "white",
            "ticks": ""
           },
           "bgcolor": "#E5ECF6",
           "radialaxis": {
            "gridcolor": "white",
            "linecolor": "white",
            "ticks": ""
           }
          },
          "scene": {
           "xaxis": {
            "backgroundcolor": "#E5ECF6",
            "gridcolor": "white",
            "gridwidth": 2,
            "linecolor": "white",
            "showbackground": true,
            "ticks": "",
            "zerolinecolor": "white"
           },
           "yaxis": {
            "backgroundcolor": "#E5ECF6",
            "gridcolor": "white",
            "gridwidth": 2,
            "linecolor": "white",
            "showbackground": true,
            "ticks": "",
            "zerolinecolor": "white"
           },
           "zaxis": {
            "backgroundcolor": "#E5ECF6",
            "gridcolor": "white",
            "gridwidth": 2,
            "linecolor": "white",
            "showbackground": true,
            "ticks": "",
            "zerolinecolor": "white"
           }
          },
          "shapedefaults": {
           "line": {
            "color": "#2a3f5f"
           }
          },
          "ternary": {
           "aaxis": {
            "gridcolor": "white",
            "linecolor": "white",
            "ticks": ""
           },
           "baxis": {
            "gridcolor": "white",
            "linecolor": "white",
            "ticks": ""
           },
           "bgcolor": "#E5ECF6",
           "caxis": {
            "gridcolor": "white",
            "linecolor": "white",
            "ticks": ""
           }
          },
          "title": {
           "x": 0.05
          },
          "xaxis": {
           "automargin": true,
           "gridcolor": "white",
           "linecolor": "white",
           "ticks": "",
           "title": {
            "standoff": 15
           },
           "zerolinecolor": "white",
           "zerolinewidth": 2
          },
          "yaxis": {
           "automargin": true,
           "gridcolor": "white",
           "linecolor": "white",
           "ticks": "",
           "title": {
            "standoff": 15
           },
           "zerolinecolor": "white",
           "zerolinewidth": 2
          }
         }
        },
        "title": {
         "font": {
          "color": "#4D5663"
         }
        },
        "xaxis": {
         "gridcolor": "#E1E5ED",
         "showgrid": true,
         "tickfont": {
          "color": "#4D5663"
         },
         "title": {
          "font": {
           "color": "#4D5663"
          },
          "text": ""
         },
         "zerolinecolor": "#E1E5ED"
        },
        "yaxis": {
         "gridcolor": "#E1E5ED",
         "showgrid": true,
         "tickfont": {
          "color": "#4D5663"
         },
         "title": {
          "font": {
           "color": "#4D5663"
          },
          "text": ""
         },
         "zerolinecolor": "#E1E5ED"
        }
       }
      },
      "text/html": [
       "<div>                            <div id=\"998eec20-351e-4c50-b5bb-a87de0370ff4\" class=\"plotly-graph-div\" style=\"height:525px; width:100%;\"></div>            <script type=\"text/javascript\">                require([\"plotly\"], function(Plotly) {                    window.PLOTLYENV=window.PLOTLYENV || {};\n",
       "                    window.PLOTLYENV.BASE_URL='https://plot.ly';                                    if (document.getElementById(\"998eec20-351e-4c50-b5bb-a87de0370ff4\")) {                    Plotly.newPlot(                        \"998eec20-351e-4c50-b5bb-a87de0370ff4\",                        [{\"marker\":{\"color\":\"rgba(255, 153, 51, 0.6)\",\"line\":{\"color\":\"rgba(255, 153, 51, 1.0)\",\"width\":1}},\"name\":\"Values\",\"orientation\":\"v\",\"text\":\"\",\"type\":\"bar\",\"x\":[\"A\",\"B\",\"C\"],\"y\":[32,43,50]}],                        {\"legend\":{\"bgcolor\":\"#F5F6F9\",\"font\":{\"color\":\"#4D5663\"}},\"paper_bgcolor\":\"#F5F6F9\",\"plot_bgcolor\":\"#F5F6F9\",\"template\":{\"data\":{\"bar\":[{\"error_x\":{\"color\":\"#2a3f5f\"},\"error_y\":{\"color\":\"#2a3f5f\"},\"marker\":{\"line\":{\"color\":\"#E5ECF6\",\"width\":0.5},\"pattern\":{\"fillmode\":\"overlay\",\"size\":10,\"solidity\":0.2}},\"type\":\"bar\"}],\"barpolar\":[{\"marker\":{\"line\":{\"color\":\"#E5ECF6\",\"width\":0.5},\"pattern\":{\"fillmode\":\"overlay\",\"size\":10,\"solidity\":0.2}},\"type\":\"barpolar\"}],\"carpet\":[{\"aaxis\":{\"endlinecolor\":\"#2a3f5f\",\"gridcolor\":\"white\",\"linecolor\":\"white\",\"minorgridcolor\":\"white\",\"startlinecolor\":\"#2a3f5f\"},\"baxis\":{\"endlinecolor\":\"#2a3f5f\",\"gridcolor\":\"white\",\"linecolor\":\"white\",\"minorgridcolor\":\"white\",\"startlinecolor\":\"#2a3f5f\"},\"type\":\"carpet\"}],\"choropleth\":[{\"colorbar\":{\"outlinewidth\":0,\"ticks\":\"\"},\"type\":\"choropleth\"}],\"contour\":[{\"colorbar\":{\"outlinewidth\":0,\"ticks\":\"\"},\"colorscale\":[[0.0,\"#0d0887\"],[0.1111111111111111,\"#46039f\"],[0.2222222222222222,\"#7201a8\"],[0.3333333333333333,\"#9c179e\"],[0.4444444444444444,\"#bd3786\"],[0.5555555555555556,\"#d8576b\"],[0.6666666666666666,\"#ed7953\"],[0.7777777777777778,\"#fb9f3a\"],[0.8888888888888888,\"#fdca26\"],[1.0,\"#f0f921\"]],\"type\":\"contour\"}],\"contourcarpet\":[{\"colorbar\":{\"outlinewidth\":0,\"ticks\":\"\"},\"type\":\"contourcarpet\"}],\"heatmap\":[{\"colorbar\":{\"outlinewidth\":0,\"ticks\":\"\"},\"colorscale\":[[0.0,\"#0d0887\"],[0.1111111111111111,\"#46039f\"],[0.2222222222222222,\"#7201a8\"],[0.3333333333333333,\"#9c179e\"],[0.4444444444444444,\"#bd3786\"],[0.5555555555555556,\"#d8576b\"],[0.6666666666666666,\"#ed7953\"],[0.7777777777777778,\"#fb9f3a\"],[0.8888888888888888,\"#fdca26\"],[1.0,\"#f0f921\"]],\"type\":\"heatmap\"}],\"heatmapgl\":[{\"colorbar\":{\"outlinewidth\":0,\"ticks\":\"\"},\"colorscale\":[[0.0,\"#0d0887\"],[0.1111111111111111,\"#46039f\"],[0.2222222222222222,\"#7201a8\"],[0.3333333333333333,\"#9c179e\"],[0.4444444444444444,\"#bd3786\"],[0.5555555555555556,\"#d8576b\"],[0.6666666666666666,\"#ed7953\"],[0.7777777777777778,\"#fb9f3a\"],[0.8888888888888888,\"#fdca26\"],[1.0,\"#f0f921\"]],\"type\":\"heatmapgl\"}],\"histogram\":[{\"marker\":{\"pattern\":{\"fillmode\":\"overlay\",\"size\":10,\"solidity\":0.2}},\"type\":\"histogram\"}],\"histogram2d\":[{\"colorbar\":{\"outlinewidth\":0,\"ticks\":\"\"},\"colorscale\":[[0.0,\"#0d0887\"],[0.1111111111111111,\"#46039f\"],[0.2222222222222222,\"#7201a8\"],[0.3333333333333333,\"#9c179e\"],[0.4444444444444444,\"#bd3786\"],[0.5555555555555556,\"#d8576b\"],[0.6666666666666666,\"#ed7953\"],[0.7777777777777778,\"#fb9f3a\"],[0.8888888888888888,\"#fdca26\"],[1.0,\"#f0f921\"]],\"type\":\"histogram2d\"}],\"histogram2dcontour\":[{\"colorbar\":{\"outlinewidth\":0,\"ticks\":\"\"},\"colorscale\":[[0.0,\"#0d0887\"],[0.1111111111111111,\"#46039f\"],[0.2222222222222222,\"#7201a8\"],[0.3333333333333333,\"#9c179e\"],[0.4444444444444444,\"#bd3786\"],[0.5555555555555556,\"#d8576b\"],[0.6666666666666666,\"#ed7953\"],[0.7777777777777778,\"#fb9f3a\"],[0.8888888888888888,\"#fdca26\"],[1.0,\"#f0f921\"]],\"type\":\"histogram2dcontour\"}],\"mesh3d\":[{\"colorbar\":{\"outlinewidth\":0,\"ticks\":\"\"},\"type\":\"mesh3d\"}],\"parcoords\":[{\"line\":{\"colorbar\":{\"outlinewidth\":0,\"ticks\":\"\"}},\"type\":\"parcoords\"}],\"pie\":[{\"automargin\":true,\"type\":\"pie\"}],\"scatter\":[{\"marker\":{\"colorbar\":{\"outlinewidth\":0,\"ticks\":\"\"}},\"type\":\"scatter\"}],\"scatter3d\":[{\"line\":{\"colorbar\":{\"outlinewidth\":0,\"ticks\":\"\"}},\"marker\":{\"colorbar\":{\"outlinewidth\":0,\"ticks\":\"\"}},\"type\":\"scatter3d\"}],\"scattercarpet\":[{\"marker\":{\"colorbar\":{\"outlinewidth\":0,\"ticks\":\"\"}},\"type\":\"scattercarpet\"}],\"scattergeo\":[{\"marker\":{\"colorbar\":{\"outlinewidth\":0,\"ticks\":\"\"}},\"type\":\"scattergeo\"}],\"scattergl\":[{\"marker\":{\"colorbar\":{\"outlinewidth\":0,\"ticks\":\"\"}},\"type\":\"scattergl\"}],\"scattermapbox\":[{\"marker\":{\"colorbar\":{\"outlinewidth\":0,\"ticks\":\"\"}},\"type\":\"scattermapbox\"}],\"scatterpolar\":[{\"marker\":{\"colorbar\":{\"outlinewidth\":0,\"ticks\":\"\"}},\"type\":\"scatterpolar\"}],\"scatterpolargl\":[{\"marker\":{\"colorbar\":{\"outlinewidth\":0,\"ticks\":\"\"}},\"type\":\"scatterpolargl\"}],\"scatterternary\":[{\"marker\":{\"colorbar\":{\"outlinewidth\":0,\"ticks\":\"\"}},\"type\":\"scatterternary\"}],\"surface\":[{\"colorbar\":{\"outlinewidth\":0,\"ticks\":\"\"},\"colorscale\":[[0.0,\"#0d0887\"],[0.1111111111111111,\"#46039f\"],[0.2222222222222222,\"#7201a8\"],[0.3333333333333333,\"#9c179e\"],[0.4444444444444444,\"#bd3786\"],[0.5555555555555556,\"#d8576b\"],[0.6666666666666666,\"#ed7953\"],[0.7777777777777778,\"#fb9f3a\"],[0.8888888888888888,\"#fdca26\"],[1.0,\"#f0f921\"]],\"type\":\"surface\"}],\"table\":[{\"cells\":{\"fill\":{\"color\":\"#EBF0F8\"},\"line\":{\"color\":\"white\"}},\"header\":{\"fill\":{\"color\":\"#C8D4E3\"},\"line\":{\"color\":\"white\"}},\"type\":\"table\"}]},\"layout\":{\"annotationdefaults\":{\"arrowcolor\":\"#2a3f5f\",\"arrowhead\":0,\"arrowwidth\":1},\"autotypenumbers\":\"strict\",\"coloraxis\":{\"colorbar\":{\"outlinewidth\":0,\"ticks\":\"\"}},\"colorscale\":{\"diverging\":[[0,\"#8e0152\"],[0.1,\"#c51b7d\"],[0.2,\"#de77ae\"],[0.3,\"#f1b6da\"],[0.4,\"#fde0ef\"],[0.5,\"#f7f7f7\"],[0.6,\"#e6f5d0\"],[0.7,\"#b8e186\"],[0.8,\"#7fbc41\"],[0.9,\"#4d9221\"],[1,\"#276419\"]],\"sequential\":[[0.0,\"#0d0887\"],[0.1111111111111111,\"#46039f\"],[0.2222222222222222,\"#7201a8\"],[0.3333333333333333,\"#9c179e\"],[0.4444444444444444,\"#bd3786\"],[0.5555555555555556,\"#d8576b\"],[0.6666666666666666,\"#ed7953\"],[0.7777777777777778,\"#fb9f3a\"],[0.8888888888888888,\"#fdca26\"],[1.0,\"#f0f921\"]],\"sequentialminus\":[[0.0,\"#0d0887\"],[0.1111111111111111,\"#46039f\"],[0.2222222222222222,\"#7201a8\"],[0.3333333333333333,\"#9c179e\"],[0.4444444444444444,\"#bd3786\"],[0.5555555555555556,\"#d8576b\"],[0.6666666666666666,\"#ed7953\"],[0.7777777777777778,\"#fb9f3a\"],[0.8888888888888888,\"#fdca26\"],[1.0,\"#f0f921\"]]},\"colorway\":[\"#636efa\",\"#EF553B\",\"#00cc96\",\"#ab63fa\",\"#FFA15A\",\"#19d3f3\",\"#FF6692\",\"#B6E880\",\"#FF97FF\",\"#FECB52\"],\"font\":{\"color\":\"#2a3f5f\"},\"geo\":{\"bgcolor\":\"white\",\"lakecolor\":\"white\",\"landcolor\":\"#E5ECF6\",\"showlakes\":true,\"showland\":true,\"subunitcolor\":\"white\"},\"hoverlabel\":{\"align\":\"left\"},\"hovermode\":\"closest\",\"mapbox\":{\"style\":\"light\"},\"paper_bgcolor\":\"white\",\"plot_bgcolor\":\"#E5ECF6\",\"polar\":{\"angularaxis\":{\"gridcolor\":\"white\",\"linecolor\":\"white\",\"ticks\":\"\"},\"bgcolor\":\"#E5ECF6\",\"radialaxis\":{\"gridcolor\":\"white\",\"linecolor\":\"white\",\"ticks\":\"\"}},\"scene\":{\"xaxis\":{\"backgroundcolor\":\"#E5ECF6\",\"gridcolor\":\"white\",\"gridwidth\":2,\"linecolor\":\"white\",\"showbackground\":true,\"ticks\":\"\",\"zerolinecolor\":\"white\"},\"yaxis\":{\"backgroundcolor\":\"#E5ECF6\",\"gridcolor\":\"white\",\"gridwidth\":2,\"linecolor\":\"white\",\"showbackground\":true,\"ticks\":\"\",\"zerolinecolor\":\"white\"},\"zaxis\":{\"backgroundcolor\":\"#E5ECF6\",\"gridcolor\":\"white\",\"gridwidth\":2,\"linecolor\":\"white\",\"showbackground\":true,\"ticks\":\"\",\"zerolinecolor\":\"white\"}},\"shapedefaults\":{\"line\":{\"color\":\"#2a3f5f\"}},\"ternary\":{\"aaxis\":{\"gridcolor\":\"white\",\"linecolor\":\"white\",\"ticks\":\"\"},\"baxis\":{\"gridcolor\":\"white\",\"linecolor\":\"white\",\"ticks\":\"\"},\"bgcolor\":\"#E5ECF6\",\"caxis\":{\"gridcolor\":\"white\",\"linecolor\":\"white\",\"ticks\":\"\"}},\"title\":{\"x\":0.05},\"xaxis\":{\"automargin\":true,\"gridcolor\":\"white\",\"linecolor\":\"white\",\"ticks\":\"\",\"title\":{\"standoff\":15},\"zerolinecolor\":\"white\",\"zerolinewidth\":2},\"yaxis\":{\"automargin\":true,\"gridcolor\":\"white\",\"linecolor\":\"white\",\"ticks\":\"\",\"title\":{\"standoff\":15},\"zerolinecolor\":\"white\",\"zerolinewidth\":2}}},\"title\":{\"font\":{\"color\":\"#4D5663\"}},\"xaxis\":{\"gridcolor\":\"#E1E5ED\",\"showgrid\":true,\"tickfont\":{\"color\":\"#4D5663\"},\"title\":{\"font\":{\"color\":\"#4D5663\"},\"text\":\"\"},\"zerolinecolor\":\"#E1E5ED\"},\"yaxis\":{\"gridcolor\":\"#E1E5ED\",\"showgrid\":true,\"tickfont\":{\"color\":\"#4D5663\"},\"title\":{\"font\":{\"color\":\"#4D5663\"},\"text\":\"\"},\"zerolinecolor\":\"#E1E5ED\"}},                        {\"showLink\": true, \"linkText\": \"Export to plot.ly\", \"plotlyServerURL\": \"https://plot.ly\", \"responsive\": true}                    ).then(function(){\n",
       "                            \n",
       "var gd = document.getElementById('998eec20-351e-4c50-b5bb-a87de0370ff4');\n",
       "var x = new MutationObserver(function (mutations, observer) {{\n",
       "        var display = window.getComputedStyle(gd).display;\n",
       "        if (!display || display === 'none') {{\n",
       "            console.log([gd, 'removed!']);\n",
       "            Plotly.purge(gd);\n",
       "            observer.disconnect();\n",
       "        }}\n",
       "}});\n",
       "\n",
       "// Listen for the removal of the full notebook cells\n",
       "var notebookContainer = gd.closest('#notebook-container');\n",
       "if (notebookContainer) {{\n",
       "    x.observe(notebookContainer, {childList: true});\n",
       "}}\n",
       "\n",
       "// Listen for the clearing of the current output cell\n",
       "var outputEl = gd.closest('.output');\n",
       "if (outputEl) {{\n",
       "    x.observe(outputEl, {childList: true});\n",
       "}}\n",
       "\n",
       "                        })                };                });            </script>        </div>"
      ]
     },
     "metadata": {},
     "output_type": "display_data"
    }
   ],
   "source": [
    "df2.iplot(kind='bar',x='Category',y='Values')"
   ]
  },
  {
   "cell_type": "markdown",
   "metadata": {},
   "source": [
    "Bar plot can be used for df1 but you need to aggregate it or do some other equivalent thing"
   ]
  },
  {
   "cell_type": "code",
   "execution_count": 17,
   "metadata": {},
   "outputs": [
    {
     "data": {
      "application/vnd.plotly.v1+json": {
       "config": {
        "linkText": "Export to plot.ly",
        "plotlyServerURL": "https://plot.ly",
        "showLink": true
       },
       "data": [
        {
         "marker": {
          "color": "rgba(255, 153, 51, 0.6)",
          "line": {
           "color": "rgba(255, 153, 51, 1.0)",
           "width": 1
          }
         },
         "name": "None",
         "orientation": "v",
         "text": "",
         "type": "bar",
         "x": [
          "A",
          "B",
          "C",
          "D"
         ],
         "y": [
          12.798823978712624,
          -9.600235032578725,
          2.7575709596083047,
          -2.4544319276405204
         ]
        }
       ],
       "layout": {
        "legend": {
         "bgcolor": "#F5F6F9",
         "font": {
          "color": "#4D5663"
         }
        },
        "paper_bgcolor": "#F5F6F9",
        "plot_bgcolor": "#F5F6F9",
        "template": {
         "data": {
          "bar": [
           {
            "error_x": {
             "color": "#2a3f5f"
            },
            "error_y": {
             "color": "#2a3f5f"
            },
            "marker": {
             "line": {
              "color": "#E5ECF6",
              "width": 0.5
             },
             "pattern": {
              "fillmode": "overlay",
              "size": 10,
              "solidity": 0.2
             }
            },
            "type": "bar"
           }
          ],
          "barpolar": [
           {
            "marker": {
             "line": {
              "color": "#E5ECF6",
              "width": 0.5
             },
             "pattern": {
              "fillmode": "overlay",
              "size": 10,
              "solidity": 0.2
             }
            },
            "type": "barpolar"
           }
          ],
          "carpet": [
           {
            "aaxis": {
             "endlinecolor": "#2a3f5f",
             "gridcolor": "white",
             "linecolor": "white",
             "minorgridcolor": "white",
             "startlinecolor": "#2a3f5f"
            },
            "baxis": {
             "endlinecolor": "#2a3f5f",
             "gridcolor": "white",
             "linecolor": "white",
             "minorgridcolor": "white",
             "startlinecolor": "#2a3f5f"
            },
            "type": "carpet"
           }
          ],
          "choropleth": [
           {
            "colorbar": {
             "outlinewidth": 0,
             "ticks": ""
            },
            "type": "choropleth"
           }
          ],
          "contour": [
           {
            "colorbar": {
             "outlinewidth": 0,
             "ticks": ""
            },
            "colorscale": [
             [
              0,
              "#0d0887"
             ],
             [
              0.1111111111111111,
              "#46039f"
             ],
             [
              0.2222222222222222,
              "#7201a8"
             ],
             [
              0.3333333333333333,
              "#9c179e"
             ],
             [
              0.4444444444444444,
              "#bd3786"
             ],
             [
              0.5555555555555556,
              "#d8576b"
             ],
             [
              0.6666666666666666,
              "#ed7953"
             ],
             [
              0.7777777777777778,
              "#fb9f3a"
             ],
             [
              0.8888888888888888,
              "#fdca26"
             ],
             [
              1,
              "#f0f921"
             ]
            ],
            "type": "contour"
           }
          ],
          "contourcarpet": [
           {
            "colorbar": {
             "outlinewidth": 0,
             "ticks": ""
            },
            "type": "contourcarpet"
           }
          ],
          "heatmap": [
           {
            "colorbar": {
             "outlinewidth": 0,
             "ticks": ""
            },
            "colorscale": [
             [
              0,
              "#0d0887"
             ],
             [
              0.1111111111111111,
              "#46039f"
             ],
             [
              0.2222222222222222,
              "#7201a8"
             ],
             [
              0.3333333333333333,
              "#9c179e"
             ],
             [
              0.4444444444444444,
              "#bd3786"
             ],
             [
              0.5555555555555556,
              "#d8576b"
             ],
             [
              0.6666666666666666,
              "#ed7953"
             ],
             [
              0.7777777777777778,
              "#fb9f3a"
             ],
             [
              0.8888888888888888,
              "#fdca26"
             ],
             [
              1,
              "#f0f921"
             ]
            ],
            "type": "heatmap"
           }
          ],
          "heatmapgl": [
           {
            "colorbar": {
             "outlinewidth": 0,
             "ticks": ""
            },
            "colorscale": [
             [
              0,
              "#0d0887"
             ],
             [
              0.1111111111111111,
              "#46039f"
             ],
             [
              0.2222222222222222,
              "#7201a8"
             ],
             [
              0.3333333333333333,
              "#9c179e"
             ],
             [
              0.4444444444444444,
              "#bd3786"
             ],
             [
              0.5555555555555556,
              "#d8576b"
             ],
             [
              0.6666666666666666,
              "#ed7953"
             ],
             [
              0.7777777777777778,
              "#fb9f3a"
             ],
             [
              0.8888888888888888,
              "#fdca26"
             ],
             [
              1,
              "#f0f921"
             ]
            ],
            "type": "heatmapgl"
           }
          ],
          "histogram": [
           {
            "marker": {
             "pattern": {
              "fillmode": "overlay",
              "size": 10,
              "solidity": 0.2
             }
            },
            "type": "histogram"
           }
          ],
          "histogram2d": [
           {
            "colorbar": {
             "outlinewidth": 0,
             "ticks": ""
            },
            "colorscale": [
             [
              0,
              "#0d0887"
             ],
             [
              0.1111111111111111,
              "#46039f"
             ],
             [
              0.2222222222222222,
              "#7201a8"
             ],
             [
              0.3333333333333333,
              "#9c179e"
             ],
             [
              0.4444444444444444,
              "#bd3786"
             ],
             [
              0.5555555555555556,
              "#d8576b"
             ],
             [
              0.6666666666666666,
              "#ed7953"
             ],
             [
              0.7777777777777778,
              "#fb9f3a"
             ],
             [
              0.8888888888888888,
              "#fdca26"
             ],
             [
              1,
              "#f0f921"
             ]
            ],
            "type": "histogram2d"
           }
          ],
          "histogram2dcontour": [
           {
            "colorbar": {
             "outlinewidth": 0,
             "ticks": ""
            },
            "colorscale": [
             [
              0,
              "#0d0887"
             ],
             [
              0.1111111111111111,
              "#46039f"
             ],
             [
              0.2222222222222222,
              "#7201a8"
             ],
             [
              0.3333333333333333,
              "#9c179e"
             ],
             [
              0.4444444444444444,
              "#bd3786"
             ],
             [
              0.5555555555555556,
              "#d8576b"
             ],
             [
              0.6666666666666666,
              "#ed7953"
             ],
             [
              0.7777777777777778,
              "#fb9f3a"
             ],
             [
              0.8888888888888888,
              "#fdca26"
             ],
             [
              1,
              "#f0f921"
             ]
            ],
            "type": "histogram2dcontour"
           }
          ],
          "mesh3d": [
           {
            "colorbar": {
             "outlinewidth": 0,
             "ticks": ""
            },
            "type": "mesh3d"
           }
          ],
          "parcoords": [
           {
            "line": {
             "colorbar": {
              "outlinewidth": 0,
              "ticks": ""
             }
            },
            "type": "parcoords"
           }
          ],
          "pie": [
           {
            "automargin": true,
            "type": "pie"
           }
          ],
          "scatter": [
           {
            "marker": {
             "colorbar": {
              "outlinewidth": 0,
              "ticks": ""
             }
            },
            "type": "scatter"
           }
          ],
          "scatter3d": [
           {
            "line": {
             "colorbar": {
              "outlinewidth": 0,
              "ticks": ""
             }
            },
            "marker": {
             "colorbar": {
              "outlinewidth": 0,
              "ticks": ""
             }
            },
            "type": "scatter3d"
           }
          ],
          "scattercarpet": [
           {
            "marker": {
             "colorbar": {
              "outlinewidth": 0,
              "ticks": ""
             }
            },
            "type": "scattercarpet"
           }
          ],
          "scattergeo": [
           {
            "marker": {
             "colorbar": {
              "outlinewidth": 0,
              "ticks": ""
             }
            },
            "type": "scattergeo"
           }
          ],
          "scattergl": [
           {
            "marker": {
             "colorbar": {
              "outlinewidth": 0,
              "ticks": ""
             }
            },
            "type": "scattergl"
           }
          ],
          "scattermapbox": [
           {
            "marker": {
             "colorbar": {
              "outlinewidth": 0,
              "ticks": ""
             }
            },
            "type": "scattermapbox"
           }
          ],
          "scatterpolar": [
           {
            "marker": {
             "colorbar": {
              "outlinewidth": 0,
              "ticks": ""
             }
            },
            "type": "scatterpolar"
           }
          ],
          "scatterpolargl": [
           {
            "marker": {
             "colorbar": {
              "outlinewidth": 0,
              "ticks": ""
             }
            },
            "type": "scatterpolargl"
           }
          ],
          "scatterternary": [
           {
            "marker": {
             "colorbar": {
              "outlinewidth": 0,
              "ticks": ""
             }
            },
            "type": "scatterternary"
           }
          ],
          "surface": [
           {
            "colorbar": {
             "outlinewidth": 0,
             "ticks": ""
            },
            "colorscale": [
             [
              0,
              "#0d0887"
             ],
             [
              0.1111111111111111,
              "#46039f"
             ],
             [
              0.2222222222222222,
              "#7201a8"
             ],
             [
              0.3333333333333333,
              "#9c179e"
             ],
             [
              0.4444444444444444,
              "#bd3786"
             ],
             [
              0.5555555555555556,
              "#d8576b"
             ],
             [
              0.6666666666666666,
              "#ed7953"
             ],
             [
              0.7777777777777778,
              "#fb9f3a"
             ],
             [
              0.8888888888888888,
              "#fdca26"
             ],
             [
              1,
              "#f0f921"
             ]
            ],
            "type": "surface"
           }
          ],
          "table": [
           {
            "cells": {
             "fill": {
              "color": "#EBF0F8"
             },
             "line": {
              "color": "white"
             }
            },
            "header": {
             "fill": {
              "color": "#C8D4E3"
             },
             "line": {
              "color": "white"
             }
            },
            "type": "table"
           }
          ]
         },
         "layout": {
          "annotationdefaults": {
           "arrowcolor": "#2a3f5f",
           "arrowhead": 0,
           "arrowwidth": 1
          },
          "autotypenumbers": "strict",
          "coloraxis": {
           "colorbar": {
            "outlinewidth": 0,
            "ticks": ""
           }
          },
          "colorscale": {
           "diverging": [
            [
             0,
             "#8e0152"
            ],
            [
             0.1,
             "#c51b7d"
            ],
            [
             0.2,
             "#de77ae"
            ],
            [
             0.3,
             "#f1b6da"
            ],
            [
             0.4,
             "#fde0ef"
            ],
            [
             0.5,
             "#f7f7f7"
            ],
            [
             0.6,
             "#e6f5d0"
            ],
            [
             0.7,
             "#b8e186"
            ],
            [
             0.8,
             "#7fbc41"
            ],
            [
             0.9,
             "#4d9221"
            ],
            [
             1,
             "#276419"
            ]
           ],
           "sequential": [
            [
             0,
             "#0d0887"
            ],
            [
             0.1111111111111111,
             "#46039f"
            ],
            [
             0.2222222222222222,
             "#7201a8"
            ],
            [
             0.3333333333333333,
             "#9c179e"
            ],
            [
             0.4444444444444444,
             "#bd3786"
            ],
            [
             0.5555555555555556,
             "#d8576b"
            ],
            [
             0.6666666666666666,
             "#ed7953"
            ],
            [
             0.7777777777777778,
             "#fb9f3a"
            ],
            [
             0.8888888888888888,
             "#fdca26"
            ],
            [
             1,
             "#f0f921"
            ]
           ],
           "sequentialminus": [
            [
             0,
             "#0d0887"
            ],
            [
             0.1111111111111111,
             "#46039f"
            ],
            [
             0.2222222222222222,
             "#7201a8"
            ],
            [
             0.3333333333333333,
             "#9c179e"
            ],
            [
             0.4444444444444444,
             "#bd3786"
            ],
            [
             0.5555555555555556,
             "#d8576b"
            ],
            [
             0.6666666666666666,
             "#ed7953"
            ],
            [
             0.7777777777777778,
             "#fb9f3a"
            ],
            [
             0.8888888888888888,
             "#fdca26"
            ],
            [
             1,
             "#f0f921"
            ]
           ]
          },
          "colorway": [
           "#636efa",
           "#EF553B",
           "#00cc96",
           "#ab63fa",
           "#FFA15A",
           "#19d3f3",
           "#FF6692",
           "#B6E880",
           "#FF97FF",
           "#FECB52"
          ],
          "font": {
           "color": "#2a3f5f"
          },
          "geo": {
           "bgcolor": "white",
           "lakecolor": "white",
           "landcolor": "#E5ECF6",
           "showlakes": true,
           "showland": true,
           "subunitcolor": "white"
          },
          "hoverlabel": {
           "align": "left"
          },
          "hovermode": "closest",
          "mapbox": {
           "style": "light"
          },
          "paper_bgcolor": "white",
          "plot_bgcolor": "#E5ECF6",
          "polar": {
           "angularaxis": {
            "gridcolor": "white",
            "linecolor": "white",
            "ticks": ""
           },
           "bgcolor": "#E5ECF6",
           "radialaxis": {
            "gridcolor": "white",
            "linecolor": "white",
            "ticks": ""
           }
          },
          "scene": {
           "xaxis": {
            "backgroundcolor": "#E5ECF6",
            "gridcolor": "white",
            "gridwidth": 2,
            "linecolor": "white",
            "showbackground": true,
            "ticks": "",
            "zerolinecolor": "white"
           },
           "yaxis": {
            "backgroundcolor": "#E5ECF6",
            "gridcolor": "white",
            "gridwidth": 2,
            "linecolor": "white",
            "showbackground": true,
            "ticks": "",
            "zerolinecolor": "white"
           },
           "zaxis": {
            "backgroundcolor": "#E5ECF6",
            "gridcolor": "white",
            "gridwidth": 2,
            "linecolor": "white",
            "showbackground": true,
            "ticks": "",
            "zerolinecolor": "white"
           }
          },
          "shapedefaults": {
           "line": {
            "color": "#2a3f5f"
           }
          },
          "ternary": {
           "aaxis": {
            "gridcolor": "white",
            "linecolor": "white",
            "ticks": ""
           },
           "baxis": {
            "gridcolor": "white",
            "linecolor": "white",
            "ticks": ""
           },
           "bgcolor": "#E5ECF6",
           "caxis": {
            "gridcolor": "white",
            "linecolor": "white",
            "ticks": ""
           }
          },
          "title": {
           "x": 0.05
          },
          "xaxis": {
           "automargin": true,
           "gridcolor": "white",
           "linecolor": "white",
           "ticks": "",
           "title": {
            "standoff": 15
           },
           "zerolinecolor": "white",
           "zerolinewidth": 2
          },
          "yaxis": {
           "automargin": true,
           "gridcolor": "white",
           "linecolor": "white",
           "ticks": "",
           "title": {
            "standoff": 15
           },
           "zerolinecolor": "white",
           "zerolinewidth": 2
          }
         }
        },
        "title": {
         "font": {
          "color": "#4D5663"
         }
        },
        "xaxis": {
         "gridcolor": "#E1E5ED",
         "showgrid": true,
         "tickfont": {
          "color": "#4D5663"
         },
         "title": {
          "font": {
           "color": "#4D5663"
          },
          "text": ""
         },
         "zerolinecolor": "#E1E5ED"
        },
        "yaxis": {
         "gridcolor": "#E1E5ED",
         "showgrid": true,
         "tickfont": {
          "color": "#4D5663"
         },
         "title": {
          "font": {
           "color": "#4D5663"
          },
          "text": ""
         },
         "zerolinecolor": "#E1E5ED"
        }
       }
      },
      "text/html": [
       "<div>                            <div id=\"a2bd8235-f362-4f5a-9104-d683ab2ff554\" class=\"plotly-graph-div\" style=\"height:525px; width:100%;\"></div>            <script type=\"text/javascript\">                require([\"plotly\"], function(Plotly) {                    window.PLOTLYENV=window.PLOTLYENV || {};\n",
       "                    window.PLOTLYENV.BASE_URL='https://plot.ly';                                    if (document.getElementById(\"a2bd8235-f362-4f5a-9104-d683ab2ff554\")) {                    Plotly.newPlot(                        \"a2bd8235-f362-4f5a-9104-d683ab2ff554\",                        [{\"marker\":{\"color\":\"rgba(255, 153, 51, 0.6)\",\"line\":{\"color\":\"rgba(255, 153, 51, 1.0)\",\"width\":1}},\"name\":\"None\",\"orientation\":\"v\",\"text\":\"\",\"type\":\"bar\",\"x\":[\"A\",\"B\",\"C\",\"D\"],\"y\":[12.798823978712624,-9.600235032578725,2.7575709596083047,-2.4544319276405204]}],                        {\"legend\":{\"bgcolor\":\"#F5F6F9\",\"font\":{\"color\":\"#4D5663\"}},\"paper_bgcolor\":\"#F5F6F9\",\"plot_bgcolor\":\"#F5F6F9\",\"template\":{\"data\":{\"bar\":[{\"error_x\":{\"color\":\"#2a3f5f\"},\"error_y\":{\"color\":\"#2a3f5f\"},\"marker\":{\"line\":{\"color\":\"#E5ECF6\",\"width\":0.5},\"pattern\":{\"fillmode\":\"overlay\",\"size\":10,\"solidity\":0.2}},\"type\":\"bar\"}],\"barpolar\":[{\"marker\":{\"line\":{\"color\":\"#E5ECF6\",\"width\":0.5},\"pattern\":{\"fillmode\":\"overlay\",\"size\":10,\"solidity\":0.2}},\"type\":\"barpolar\"}],\"carpet\":[{\"aaxis\":{\"endlinecolor\":\"#2a3f5f\",\"gridcolor\":\"white\",\"linecolor\":\"white\",\"minorgridcolor\":\"white\",\"startlinecolor\":\"#2a3f5f\"},\"baxis\":{\"endlinecolor\":\"#2a3f5f\",\"gridcolor\":\"white\",\"linecolor\":\"white\",\"minorgridcolor\":\"white\",\"startlinecolor\":\"#2a3f5f\"},\"type\":\"carpet\"}],\"choropleth\":[{\"colorbar\":{\"outlinewidth\":0,\"ticks\":\"\"},\"type\":\"choropleth\"}],\"contour\":[{\"colorbar\":{\"outlinewidth\":0,\"ticks\":\"\"},\"colorscale\":[[0.0,\"#0d0887\"],[0.1111111111111111,\"#46039f\"],[0.2222222222222222,\"#7201a8\"],[0.3333333333333333,\"#9c179e\"],[0.4444444444444444,\"#bd3786\"],[0.5555555555555556,\"#d8576b\"],[0.6666666666666666,\"#ed7953\"],[0.7777777777777778,\"#fb9f3a\"],[0.8888888888888888,\"#fdca26\"],[1.0,\"#f0f921\"]],\"type\":\"contour\"}],\"contourcarpet\":[{\"colorbar\":{\"outlinewidth\":0,\"ticks\":\"\"},\"type\":\"contourcarpet\"}],\"heatmap\":[{\"colorbar\":{\"outlinewidth\":0,\"ticks\":\"\"},\"colorscale\":[[0.0,\"#0d0887\"],[0.1111111111111111,\"#46039f\"],[0.2222222222222222,\"#7201a8\"],[0.3333333333333333,\"#9c179e\"],[0.4444444444444444,\"#bd3786\"],[0.5555555555555556,\"#d8576b\"],[0.6666666666666666,\"#ed7953\"],[0.7777777777777778,\"#fb9f3a\"],[0.8888888888888888,\"#fdca26\"],[1.0,\"#f0f921\"]],\"type\":\"heatmap\"}],\"heatmapgl\":[{\"colorbar\":{\"outlinewidth\":0,\"ticks\":\"\"},\"colorscale\":[[0.0,\"#0d0887\"],[0.1111111111111111,\"#46039f\"],[0.2222222222222222,\"#7201a8\"],[0.3333333333333333,\"#9c179e\"],[0.4444444444444444,\"#bd3786\"],[0.5555555555555556,\"#d8576b\"],[0.6666666666666666,\"#ed7953\"],[0.7777777777777778,\"#fb9f3a\"],[0.8888888888888888,\"#fdca26\"],[1.0,\"#f0f921\"]],\"type\":\"heatmapgl\"}],\"histogram\":[{\"marker\":{\"pattern\":{\"fillmode\":\"overlay\",\"size\":10,\"solidity\":0.2}},\"type\":\"histogram\"}],\"histogram2d\":[{\"colorbar\":{\"outlinewidth\":0,\"ticks\":\"\"},\"colorscale\":[[0.0,\"#0d0887\"],[0.1111111111111111,\"#46039f\"],[0.2222222222222222,\"#7201a8\"],[0.3333333333333333,\"#9c179e\"],[0.4444444444444444,\"#bd3786\"],[0.5555555555555556,\"#d8576b\"],[0.6666666666666666,\"#ed7953\"],[0.7777777777777778,\"#fb9f3a\"],[0.8888888888888888,\"#fdca26\"],[1.0,\"#f0f921\"]],\"type\":\"histogram2d\"}],\"histogram2dcontour\":[{\"colorbar\":{\"outlinewidth\":0,\"ticks\":\"\"},\"colorscale\":[[0.0,\"#0d0887\"],[0.1111111111111111,\"#46039f\"],[0.2222222222222222,\"#7201a8\"],[0.3333333333333333,\"#9c179e\"],[0.4444444444444444,\"#bd3786\"],[0.5555555555555556,\"#d8576b\"],[0.6666666666666666,\"#ed7953\"],[0.7777777777777778,\"#fb9f3a\"],[0.8888888888888888,\"#fdca26\"],[1.0,\"#f0f921\"]],\"type\":\"histogram2dcontour\"}],\"mesh3d\":[{\"colorbar\":{\"outlinewidth\":0,\"ticks\":\"\"},\"type\":\"mesh3d\"}],\"parcoords\":[{\"line\":{\"colorbar\":{\"outlinewidth\":0,\"ticks\":\"\"}},\"type\":\"parcoords\"}],\"pie\":[{\"automargin\":true,\"type\":\"pie\"}],\"scatter\":[{\"marker\":{\"colorbar\":{\"outlinewidth\":0,\"ticks\":\"\"}},\"type\":\"scatter\"}],\"scatter3d\":[{\"line\":{\"colorbar\":{\"outlinewidth\":0,\"ticks\":\"\"}},\"marker\":{\"colorbar\":{\"outlinewidth\":0,\"ticks\":\"\"}},\"type\":\"scatter3d\"}],\"scattercarpet\":[{\"marker\":{\"colorbar\":{\"outlinewidth\":0,\"ticks\":\"\"}},\"type\":\"scattercarpet\"}],\"scattergeo\":[{\"marker\":{\"colorbar\":{\"outlinewidth\":0,\"ticks\":\"\"}},\"type\":\"scattergeo\"}],\"scattergl\":[{\"marker\":{\"colorbar\":{\"outlinewidth\":0,\"ticks\":\"\"}},\"type\":\"scattergl\"}],\"scattermapbox\":[{\"marker\":{\"colorbar\":{\"outlinewidth\":0,\"ticks\":\"\"}},\"type\":\"scattermapbox\"}],\"scatterpolar\":[{\"marker\":{\"colorbar\":{\"outlinewidth\":0,\"ticks\":\"\"}},\"type\":\"scatterpolar\"}],\"scatterpolargl\":[{\"marker\":{\"colorbar\":{\"outlinewidth\":0,\"ticks\":\"\"}},\"type\":\"scatterpolargl\"}],\"scatterternary\":[{\"marker\":{\"colorbar\":{\"outlinewidth\":0,\"ticks\":\"\"}},\"type\":\"scatterternary\"}],\"surface\":[{\"colorbar\":{\"outlinewidth\":0,\"ticks\":\"\"},\"colorscale\":[[0.0,\"#0d0887\"],[0.1111111111111111,\"#46039f\"],[0.2222222222222222,\"#7201a8\"],[0.3333333333333333,\"#9c179e\"],[0.4444444444444444,\"#bd3786\"],[0.5555555555555556,\"#d8576b\"],[0.6666666666666666,\"#ed7953\"],[0.7777777777777778,\"#fb9f3a\"],[0.8888888888888888,\"#fdca26\"],[1.0,\"#f0f921\"]],\"type\":\"surface\"}],\"table\":[{\"cells\":{\"fill\":{\"color\":\"#EBF0F8\"},\"line\":{\"color\":\"white\"}},\"header\":{\"fill\":{\"color\":\"#C8D4E3\"},\"line\":{\"color\":\"white\"}},\"type\":\"table\"}]},\"layout\":{\"annotationdefaults\":{\"arrowcolor\":\"#2a3f5f\",\"arrowhead\":0,\"arrowwidth\":1},\"autotypenumbers\":\"strict\",\"coloraxis\":{\"colorbar\":{\"outlinewidth\":0,\"ticks\":\"\"}},\"colorscale\":{\"diverging\":[[0,\"#8e0152\"],[0.1,\"#c51b7d\"],[0.2,\"#de77ae\"],[0.3,\"#f1b6da\"],[0.4,\"#fde0ef\"],[0.5,\"#f7f7f7\"],[0.6,\"#e6f5d0\"],[0.7,\"#b8e186\"],[0.8,\"#7fbc41\"],[0.9,\"#4d9221\"],[1,\"#276419\"]],\"sequential\":[[0.0,\"#0d0887\"],[0.1111111111111111,\"#46039f\"],[0.2222222222222222,\"#7201a8\"],[0.3333333333333333,\"#9c179e\"],[0.4444444444444444,\"#bd3786\"],[0.5555555555555556,\"#d8576b\"],[0.6666666666666666,\"#ed7953\"],[0.7777777777777778,\"#fb9f3a\"],[0.8888888888888888,\"#fdca26\"],[1.0,\"#f0f921\"]],\"sequentialminus\":[[0.0,\"#0d0887\"],[0.1111111111111111,\"#46039f\"],[0.2222222222222222,\"#7201a8\"],[0.3333333333333333,\"#9c179e\"],[0.4444444444444444,\"#bd3786\"],[0.5555555555555556,\"#d8576b\"],[0.6666666666666666,\"#ed7953\"],[0.7777777777777778,\"#fb9f3a\"],[0.8888888888888888,\"#fdca26\"],[1.0,\"#f0f921\"]]},\"colorway\":[\"#636efa\",\"#EF553B\",\"#00cc96\",\"#ab63fa\",\"#FFA15A\",\"#19d3f3\",\"#FF6692\",\"#B6E880\",\"#FF97FF\",\"#FECB52\"],\"font\":{\"color\":\"#2a3f5f\"},\"geo\":{\"bgcolor\":\"white\",\"lakecolor\":\"white\",\"landcolor\":\"#E5ECF6\",\"showlakes\":true,\"showland\":true,\"subunitcolor\":\"white\"},\"hoverlabel\":{\"align\":\"left\"},\"hovermode\":\"closest\",\"mapbox\":{\"style\":\"light\"},\"paper_bgcolor\":\"white\",\"plot_bgcolor\":\"#E5ECF6\",\"polar\":{\"angularaxis\":{\"gridcolor\":\"white\",\"linecolor\":\"white\",\"ticks\":\"\"},\"bgcolor\":\"#E5ECF6\",\"radialaxis\":{\"gridcolor\":\"white\",\"linecolor\":\"white\",\"ticks\":\"\"}},\"scene\":{\"xaxis\":{\"backgroundcolor\":\"#E5ECF6\",\"gridcolor\":\"white\",\"gridwidth\":2,\"linecolor\":\"white\",\"showbackground\":true,\"ticks\":\"\",\"zerolinecolor\":\"white\"},\"yaxis\":{\"backgroundcolor\":\"#E5ECF6\",\"gridcolor\":\"white\",\"gridwidth\":2,\"linecolor\":\"white\",\"showbackground\":true,\"ticks\":\"\",\"zerolinecolor\":\"white\"},\"zaxis\":{\"backgroundcolor\":\"#E5ECF6\",\"gridcolor\":\"white\",\"gridwidth\":2,\"linecolor\":\"white\",\"showbackground\":true,\"ticks\":\"\",\"zerolinecolor\":\"white\"}},\"shapedefaults\":{\"line\":{\"color\":\"#2a3f5f\"}},\"ternary\":{\"aaxis\":{\"gridcolor\":\"white\",\"linecolor\":\"white\",\"ticks\":\"\"},\"baxis\":{\"gridcolor\":\"white\",\"linecolor\":\"white\",\"ticks\":\"\"},\"bgcolor\":\"#E5ECF6\",\"caxis\":{\"gridcolor\":\"white\",\"linecolor\":\"white\",\"ticks\":\"\"}},\"title\":{\"x\":0.05},\"xaxis\":{\"automargin\":true,\"gridcolor\":\"white\",\"linecolor\":\"white\",\"ticks\":\"\",\"title\":{\"standoff\":15},\"zerolinecolor\":\"white\",\"zerolinewidth\":2},\"yaxis\":{\"automargin\":true,\"gridcolor\":\"white\",\"linecolor\":\"white\",\"ticks\":\"\",\"title\":{\"standoff\":15},\"zerolinecolor\":\"white\",\"zerolinewidth\":2}}},\"title\":{\"font\":{\"color\":\"#4D5663\"}},\"xaxis\":{\"gridcolor\":\"#E1E5ED\",\"showgrid\":true,\"tickfont\":{\"color\":\"#4D5663\"},\"title\":{\"font\":{\"color\":\"#4D5663\"},\"text\":\"\"},\"zerolinecolor\":\"#E1E5ED\"},\"yaxis\":{\"gridcolor\":\"#E1E5ED\",\"showgrid\":true,\"tickfont\":{\"color\":\"#4D5663\"},\"title\":{\"font\":{\"color\":\"#4D5663\"},\"text\":\"\"},\"zerolinecolor\":\"#E1E5ED\"}},                        {\"showLink\": true, \"linkText\": \"Export to plot.ly\", \"plotlyServerURL\": \"https://plot.ly\", \"responsive\": true}                    ).then(function(){\n",
       "                            \n",
       "var gd = document.getElementById('a2bd8235-f362-4f5a-9104-d683ab2ff554');\n",
       "var x = new MutationObserver(function (mutations, observer) {{\n",
       "        var display = window.getComputedStyle(gd).display;\n",
       "        if (!display || display === 'none') {{\n",
       "            console.log([gd, 'removed!']);\n",
       "            Plotly.purge(gd);\n",
       "            observer.disconnect();\n",
       "        }}\n",
       "}});\n",
       "\n",
       "// Listen for the removal of the full notebook cells\n",
       "var notebookContainer = gd.closest('#notebook-container');\n",
       "if (notebookContainer) {{\n",
       "    x.observe(notebookContainer, {childList: true});\n",
       "}}\n",
       "\n",
       "// Listen for the clearing of the current output cell\n",
       "var outputEl = gd.closest('.output');\n",
       "if (outputEl) {{\n",
       "    x.observe(outputEl, {childList: true});\n",
       "}}\n",
       "\n",
       "                        })                };                });            </script>        </div>"
      ]
     },
     "metadata": {},
     "output_type": "display_data"
    }
   ],
   "source": [
    "df1.sum().iplot(kind='bar') # You could also try count if distribution is not even"
   ]
  },
  {
   "cell_type": "markdown",
   "metadata": {},
   "source": [
    "**Boxplot**"
   ]
  },
  {
   "cell_type": "code",
   "execution_count": 18,
   "metadata": {},
   "outputs": [
    {
     "data": {
      "application/vnd.plotly.v1+json": {
       "config": {
        "linkText": "Export to plot.ly",
        "plotlyServerURL": "https://plot.ly",
        "showLink": true
       },
       "data": [
        {
         "boxpoints": false,
         "line": {
          "width": 1.3
         },
         "marker": {
          "color": "rgba(255, 153, 51, 1.0)"
         },
         "name": "A",
         "orientation": "v",
         "type": "box",
         "y": [
          -0.2476021517537956,
          0.11874398704528717,
          -1.5986470436970923,
          1.4523802703570448,
          1.6090995991476928,
          0.36229045933429543,
          0.08354651513332022,
          -0.3527933783544127,
          0.5176107966859301,
          -0.833819690766652,
          0.20565072543497975,
          1.9944702000830496,
          -0.35151191314525854,
          -0.826196054882016,
          0.9599029122425612,
          0.8735380178138376,
          -1.644708644572304,
          -1.7738813013900911,
          1.7275862931329586,
          1.2410803233237333,
          -0.47371612259000284,
          1.414213513123541,
          1.458493689936051,
          0.3272856232608136,
          0.3165687182176862,
          0.8414601116357942,
          -0.32475580337050364,
          1.0868940465653318,
          0.4745634553998436,
          -0.2734907459319492,
          1.7936403614043865,
          0.2702198507442268,
          0.23166334935090627,
          0.2149514489904918,
          -0.15239433999431595,
          -0.46485670290661824,
          0.1769888823174567,
          0.9251355276226852,
          -2.923639876842984,
          -1.0036342420862625,
          -1.5972731861258282,
          -0.5863668064009814,
          0.24330756172163637,
          1.0711554663396936,
          0.7912213795894234,
          0.8222629425793855,
          -0.07065589111053654,
          -0.6059385075201855,
          -1.2444487075452308,
          -0.2986809340328696,
          2.1470548990107736,
          -0.9581686455331494,
          -0.14557432693872532,
          -0.4416089409116146,
          0.9352295488236574,
          -1.0506573059035353,
          1.3879041094191515,
          -0.6297383736287204,
          1.2161526628947408,
          0.9380321876702106,
          -0.3186924706946208,
          -1.0451195297871672,
          0.8789782921221527,
          -1.0706299167541156,
          -0.6134943608834571,
          2.114366282469496,
          0.4804360014579106,
          -0.10967689810515825,
          1.1730100543660051,
          0.6680577732576941,
          -1.1540774070386632,
          -0.4851203250530739,
          -0.06824582550241688,
          -0.4860733169583027,
          -1.3724089125985697,
          0.12312942342868287,
          0.16293029773806567,
          1.2974841267330905,
          3.354031799722983,
          -1.5810817578094538,
          0.8052116693646469,
          1.7562243908207342,
          0.5228297709229516,
          -0.8617659959734791,
          0.0620426273685626,
          0.16012867729300984,
          0.09689851489854824,
          -0.1137666435097898,
          1.803702528945463,
          0.2660268294434981,
          0.21102177430662458,
          -0.12523484176846558,
          -1.3224865786008155,
          -0.23270849471023752,
          -1.3608262494607177,
          1.6803295754838412,
          -0.26619167545737504,
          -1.2418906810336272,
          0.6446602759776894,
          -0.9887246241264553
         ]
        },
        {
         "boxpoints": false,
         "line": {
          "width": 1.3
         },
         "marker": {
          "color": "rgba(55, 128, 191, 1.0)"
         },
         "name": "B",
         "orientation": "v",
         "type": "box",
         "y": [
          -0.06053671648461432,
          0.04451657973152728,
          0.5893539754284983,
          1.013668452200273,
          0.6847946382566875,
          0.20861092698642347,
          -0.3309414257884284,
          -0.5453515972945141,
          0.23076522077023776,
          -0.6403566961541314,
          -1.4889655573956504,
          0.9352129666595805,
          -0.8553217826158602,
          -0.5358471525131479,
          -0.7285079896694445,
          -0.19435999410793742,
          -0.021183660575883688,
          -1.27486421427924,
          -1.377441170107258,
          0.1920596120363645,
          -1.1360047658662333,
          -0.25162260549257154,
          -0.38292153172884064,
          1.5087553081937204,
          0.14799880515885433,
          0.605878255040937,
          1.6218346664911871,
          -0.6412077490099374,
          0.3542488866697352,
          -0.4607106765297617,
          1.2204733158298071,
          1.5290677262515437,
          -0.5325381867220287,
          0.6886302420714265,
          -1.4040226516881387,
          -2.163779233019157,
          -1.635161679442351,
          0.11429126376701604,
          1.5913115916653733,
          -0.7516875353912756,
          -1.1490181657991692,
          0.05209633163880171,
          -1.2505146014805508,
          0.945770812894874,
          0.44120913669486617,
          -1.4272575263523835,
          -0.058534388435669125,
          -0.33290524940555216,
          0.25397740217116543,
          1.2107495453696848,
          -1.3048536413809813,
          -0.07290573215858111,
          -0.935009414667022,
          0.31698859178976346,
          0.3035657889195938,
          -0.09726791999649201,
          -0.13309365569973972,
          -1.3660791616250785,
          -1.0000957432387825,
          -0.44418957211110716,
          -0.7186337755517709,
          1.102995878230977,
          0.020947744800001725,
          -0.5379484903254714,
          1.434265530651456,
          -0.005595426280574108,
          -2.0024045908564716,
          1.2079291512768016,
          0.15101539633938965,
          -0.9415917180574958,
          0.8902241018403784,
          -0.6581560875764221,
          -1.2673251228201592,
          1.2592403371088414,
          -0.2831780015730596,
          0.047762380357669894,
          0.8603279518544563,
          -0.7821657611800706,
          -0.08202755823879464,
          0.06094696276155334,
          -0.8603811991901833,
          -0.05999313775337979,
          -0.4134487343659485,
          -0.4420361210196551,
          1.964645409112964,
          0.7896408572825018,
          -0.3773497911703148,
          1.6692535284277301,
          -0.27550204963687014,
          0.41138019434472406,
          -1.0549370402879954,
          1.6736473264323468,
          -0.8808278394958889,
          0.4728475230153127,
          0.19446889154197278,
          0.2995578928563227,
          -0.3887601705363107,
          -1.031190785706398,
          -1.4446194412722257,
          0.5759700536209127
         ]
        },
        {
         "boxpoints": false,
         "line": {
          "width": 1.3
         },
         "marker": {
          "color": "rgba(50, 171, 96, 1.0)"
         },
         "name": "C",
         "orientation": "v",
         "type": "box",
         "y": [
          -1.4138806139966658,
          0.9549943461350169,
          -2.0176025054120172,
          -0.3559458222091603,
          1.4153947552191721,
          0.12427455626105968,
          -1.3459787187103391,
          -0.19872516540106108,
          1.4088318088135734,
          0.9012366661206014,
          0.12167928602972863,
          0.6484887494471738,
          -0.24071830245211362,
          -0.3251708457434995,
          -0.07848163117310035,
          -0.5619681536095221,
          -0.4107090434792362,
          1.6335771937963104,
          -0.23108562854747383,
          -0.6253479656743208,
          -1.7470326746678497,
          0.1948171412052426,
          0.10667552470993999,
          1.168151845889162,
          0.9074924955855451,
          -0.05022155827796482,
          0.24599602330939935,
          -0.8162581224912675,
          -1.2964098715543981,
          0.46286889607730936,
          -0.10213511155337399,
          0.6309051597165397,
          -0.2362382902818193,
          0.4014181504403865,
          0.44327312805371816,
          -0.1506127376542421,
          -0.8237912696611064,
          0.9619847178419777,
          1.5613855884484278,
          0.7847649284788947,
          -0.715194383820001,
          -0.42188560666769154,
          0.7719771944709354,
          -0.42788322573565674,
          0.6295608422707876,
          -1.2316437164112453,
          -1.791586382047408,
          -1.4970537956291428,
          -1.3481044941034268,
          0.2915472094532004,
          -1.1924673961153276,
          1.5294697279384182,
          0.7329753983882141,
          -0.7346420338455535,
          1.5630204417323799,
          0.6027784429615578,
          -2.9091425536815265,
          -0.5221000792876885,
          0.22713425110466265,
          -0.7319197059378021,
          0.5163256584002801,
          1.053520675059922,
          0.27007681292676344,
          0.9686753400624246,
          1.5307581393786964,
          0.36737242145043647,
          0.025097599770220778,
          -0.8651713313226559,
          -0.341732622257134,
          -0.8520223476297429,
          1.850705214694412,
          -0.40433123147094446,
          -0.20770681737488159,
          1.4652245596672555,
          0.7022687371970578,
          0.9116339980456936,
          -0.4857214196763068,
          -0.6520074477878468,
          -0.5999681780513599,
          -0.15885427293055898,
          0.8499484258368485,
          -0.33877488292040364,
          0.24668022175070148,
          0.658460807810325,
          0.4801517632540298,
          0.5133810366740759,
          1.9219510343734911,
          -1.1183566698572092,
          -0.023438823060090475,
          -0.14588709366250815,
          -0.32697804678743025,
          -0.511923466545293,
          -0.45486558796788906,
          0.27615700635488605,
          -0.38189887714450116,
          1.7063174625892141,
          -0.11117157591083326,
          0.34677612795932183,
          1.0337762757857105,
          -1.8316147311422069
         ]
        },
        {
         "boxpoints": false,
         "line": {
          "width": 1.3
         },
         "marker": {
          "color": "rgba(128, 0, 128, 1.0)"
         },
         "name": "D",
         "orientation": "v",
         "type": "box",
         "y": [
          1.138881092138941,
          -0.8296593820905608,
          0.4940921451158362,
          1.4715672397977364,
          -1.1419091404761212,
          1.1670925420126028,
          -0.05952213756143999,
          -1.158319754654261,
          0.9340886362131698,
          0.08241160566677205,
          0.09050486923742268,
          -1.2080822552658015,
          -0.8059511189425327,
          0.23788239068331304,
          1.8508318786619247,
          -0.9275488532782582,
          -0.32988735181079404,
          -1.5255692872092812,
          0.01878277333096518,
          -1.7713787539245063,
          -1.169235762418271,
          -0.815999795639666,
          0.5003979518170936,
          0.21348561130162266,
          -1.8583553991873798,
          0.9584079218881999,
          -0.5923347203499466,
          -0.045701301432784204,
          1.1098349309061941,
          0.8108821831693277,
          1.2154286931093448,
          0.03534702668436145,
          0.982009445768607,
          0.6759622934673243,
          0.22793134842256393,
          0.5831497418958888,
          0.06440530013979788,
          -1.1015572556487958,
          -0.16365703680670007,
          1.2443518938853981,
          -0.30962832264924545,
          0.7337650029403703,
          0.37294149848351654,
          0.7960603041860554,
          0.49111515978717424,
          1.4093434653694459,
          0.24287036417708793,
          -1.5780263611682788,
          0.9252914445025481,
          1.962942289472823,
          -1.2424538815207948,
          0.6723340741862069,
          0.06742064638790596,
          -0.4686920066301773,
          -0.607956503575207,
          -0.9653818756804581,
          0.46450454370099953,
          0.05881620360562117,
          0.6772238445570063,
          -0.9033915215986897,
          1.0881282290657555,
          0.4359323184477213,
          0.7684410076854367,
          0.5005996452296388,
          0.7829515481772608,
          -0.026796813723469173,
          2.599386526232613,
          -0.14386967015853985,
          -1.5217198040434086,
          0.3114719797777141,
          -0.03544583751025676,
          -2.4348449244449637,
          0.9652715215395948,
          -0.7673168292664782,
          -1.8925580816941423,
          -0.7214493207694863,
          -0.4584329458861844,
          -0.29876105590390634,
          -0.4010748723773588,
          -0.9483449778577722,
          0.8200748964441905,
          0.3649981882074061,
          0.9303510634711705,
          -0.9063628584109353,
          0.32270295677364835,
          -1.3960046389806826,
          -1.6645024132499688,
          1.681129748878899,
          -0.35702788945906266,
          -0.9513402967568699,
          -1.4173177890827713,
          -1.363812590380575,
          0.8018862131924073,
          -1.0659923334724297,
          -1.7347035079139594,
          1.7247117586400194,
          -0.5534645932630475,
          -0.05269082880831947,
          0.013439662055486223,
          1.1457671048038869
         ]
        }
       ],
       "layout": {
        "legend": {
         "bgcolor": "#F5F6F9",
         "font": {
          "color": "#4D5663"
         }
        },
        "paper_bgcolor": "#F5F6F9",
        "plot_bgcolor": "#F5F6F9",
        "template": {
         "data": {
          "bar": [
           {
            "error_x": {
             "color": "#2a3f5f"
            },
            "error_y": {
             "color": "#2a3f5f"
            },
            "marker": {
             "line": {
              "color": "#E5ECF6",
              "width": 0.5
             },
             "pattern": {
              "fillmode": "overlay",
              "size": 10,
              "solidity": 0.2
             }
            },
            "type": "bar"
           }
          ],
          "barpolar": [
           {
            "marker": {
             "line": {
              "color": "#E5ECF6",
              "width": 0.5
             },
             "pattern": {
              "fillmode": "overlay",
              "size": 10,
              "solidity": 0.2
             }
            },
            "type": "barpolar"
           }
          ],
          "carpet": [
           {
            "aaxis": {
             "endlinecolor": "#2a3f5f",
             "gridcolor": "white",
             "linecolor": "white",
             "minorgridcolor": "white",
             "startlinecolor": "#2a3f5f"
            },
            "baxis": {
             "endlinecolor": "#2a3f5f",
             "gridcolor": "white",
             "linecolor": "white",
             "minorgridcolor": "white",
             "startlinecolor": "#2a3f5f"
            },
            "type": "carpet"
           }
          ],
          "choropleth": [
           {
            "colorbar": {
             "outlinewidth": 0,
             "ticks": ""
            },
            "type": "choropleth"
           }
          ],
          "contour": [
           {
            "colorbar": {
             "outlinewidth": 0,
             "ticks": ""
            },
            "colorscale": [
             [
              0,
              "#0d0887"
             ],
             [
              0.1111111111111111,
              "#46039f"
             ],
             [
              0.2222222222222222,
              "#7201a8"
             ],
             [
              0.3333333333333333,
              "#9c179e"
             ],
             [
              0.4444444444444444,
              "#bd3786"
             ],
             [
              0.5555555555555556,
              "#d8576b"
             ],
             [
              0.6666666666666666,
              "#ed7953"
             ],
             [
              0.7777777777777778,
              "#fb9f3a"
             ],
             [
              0.8888888888888888,
              "#fdca26"
             ],
             [
              1,
              "#f0f921"
             ]
            ],
            "type": "contour"
           }
          ],
          "contourcarpet": [
           {
            "colorbar": {
             "outlinewidth": 0,
             "ticks": ""
            },
            "type": "contourcarpet"
           }
          ],
          "heatmap": [
           {
            "colorbar": {
             "outlinewidth": 0,
             "ticks": ""
            },
            "colorscale": [
             [
              0,
              "#0d0887"
             ],
             [
              0.1111111111111111,
              "#46039f"
             ],
             [
              0.2222222222222222,
              "#7201a8"
             ],
             [
              0.3333333333333333,
              "#9c179e"
             ],
             [
              0.4444444444444444,
              "#bd3786"
             ],
             [
              0.5555555555555556,
              "#d8576b"
             ],
             [
              0.6666666666666666,
              "#ed7953"
             ],
             [
              0.7777777777777778,
              "#fb9f3a"
             ],
             [
              0.8888888888888888,
              "#fdca26"
             ],
             [
              1,
              "#f0f921"
             ]
            ],
            "type": "heatmap"
           }
          ],
          "heatmapgl": [
           {
            "colorbar": {
             "outlinewidth": 0,
             "ticks": ""
            },
            "colorscale": [
             [
              0,
              "#0d0887"
             ],
             [
              0.1111111111111111,
              "#46039f"
             ],
             [
              0.2222222222222222,
              "#7201a8"
             ],
             [
              0.3333333333333333,
              "#9c179e"
             ],
             [
              0.4444444444444444,
              "#bd3786"
             ],
             [
              0.5555555555555556,
              "#d8576b"
             ],
             [
              0.6666666666666666,
              "#ed7953"
             ],
             [
              0.7777777777777778,
              "#fb9f3a"
             ],
             [
              0.8888888888888888,
              "#fdca26"
             ],
             [
              1,
              "#f0f921"
             ]
            ],
            "type": "heatmapgl"
           }
          ],
          "histogram": [
           {
            "marker": {
             "pattern": {
              "fillmode": "overlay",
              "size": 10,
              "solidity": 0.2
             }
            },
            "type": "histogram"
           }
          ],
          "histogram2d": [
           {
            "colorbar": {
             "outlinewidth": 0,
             "ticks": ""
            },
            "colorscale": [
             [
              0,
              "#0d0887"
             ],
             [
              0.1111111111111111,
              "#46039f"
             ],
             [
              0.2222222222222222,
              "#7201a8"
             ],
             [
              0.3333333333333333,
              "#9c179e"
             ],
             [
              0.4444444444444444,
              "#bd3786"
             ],
             [
              0.5555555555555556,
              "#d8576b"
             ],
             [
              0.6666666666666666,
              "#ed7953"
             ],
             [
              0.7777777777777778,
              "#fb9f3a"
             ],
             [
              0.8888888888888888,
              "#fdca26"
             ],
             [
              1,
              "#f0f921"
             ]
            ],
            "type": "histogram2d"
           }
          ],
          "histogram2dcontour": [
           {
            "colorbar": {
             "outlinewidth": 0,
             "ticks": ""
            },
            "colorscale": [
             [
              0,
              "#0d0887"
             ],
             [
              0.1111111111111111,
              "#46039f"
             ],
             [
              0.2222222222222222,
              "#7201a8"
             ],
             [
              0.3333333333333333,
              "#9c179e"
             ],
             [
              0.4444444444444444,
              "#bd3786"
             ],
             [
              0.5555555555555556,
              "#d8576b"
             ],
             [
              0.6666666666666666,
              "#ed7953"
             ],
             [
              0.7777777777777778,
              "#fb9f3a"
             ],
             [
              0.8888888888888888,
              "#fdca26"
             ],
             [
              1,
              "#f0f921"
             ]
            ],
            "type": "histogram2dcontour"
           }
          ],
          "mesh3d": [
           {
            "colorbar": {
             "outlinewidth": 0,
             "ticks": ""
            },
            "type": "mesh3d"
           }
          ],
          "parcoords": [
           {
            "line": {
             "colorbar": {
              "outlinewidth": 0,
              "ticks": ""
             }
            },
            "type": "parcoords"
           }
          ],
          "pie": [
           {
            "automargin": true,
            "type": "pie"
           }
          ],
          "scatter": [
           {
            "marker": {
             "colorbar": {
              "outlinewidth": 0,
              "ticks": ""
             }
            },
            "type": "scatter"
           }
          ],
          "scatter3d": [
           {
            "line": {
             "colorbar": {
              "outlinewidth": 0,
              "ticks": ""
             }
            },
            "marker": {
             "colorbar": {
              "outlinewidth": 0,
              "ticks": ""
             }
            },
            "type": "scatter3d"
           }
          ],
          "scattercarpet": [
           {
            "marker": {
             "colorbar": {
              "outlinewidth": 0,
              "ticks": ""
             }
            },
            "type": "scattercarpet"
           }
          ],
          "scattergeo": [
           {
            "marker": {
             "colorbar": {
              "outlinewidth": 0,
              "ticks": ""
             }
            },
            "type": "scattergeo"
           }
          ],
          "scattergl": [
           {
            "marker": {
             "colorbar": {
              "outlinewidth": 0,
              "ticks": ""
             }
            },
            "type": "scattergl"
           }
          ],
          "scattermapbox": [
           {
            "marker": {
             "colorbar": {
              "outlinewidth": 0,
              "ticks": ""
             }
            },
            "type": "scattermapbox"
           }
          ],
          "scatterpolar": [
           {
            "marker": {
             "colorbar": {
              "outlinewidth": 0,
              "ticks": ""
             }
            },
            "type": "scatterpolar"
           }
          ],
          "scatterpolargl": [
           {
            "marker": {
             "colorbar": {
              "outlinewidth": 0,
              "ticks": ""
             }
            },
            "type": "scatterpolargl"
           }
          ],
          "scatterternary": [
           {
            "marker": {
             "colorbar": {
              "outlinewidth": 0,
              "ticks": ""
             }
            },
            "type": "scatterternary"
           }
          ],
          "surface": [
           {
            "colorbar": {
             "outlinewidth": 0,
             "ticks": ""
            },
            "colorscale": [
             [
              0,
              "#0d0887"
             ],
             [
              0.1111111111111111,
              "#46039f"
             ],
             [
              0.2222222222222222,
              "#7201a8"
             ],
             [
              0.3333333333333333,
              "#9c179e"
             ],
             [
              0.4444444444444444,
              "#bd3786"
             ],
             [
              0.5555555555555556,
              "#d8576b"
             ],
             [
              0.6666666666666666,
              "#ed7953"
             ],
             [
              0.7777777777777778,
              "#fb9f3a"
             ],
             [
              0.8888888888888888,
              "#fdca26"
             ],
             [
              1,
              "#f0f921"
             ]
            ],
            "type": "surface"
           }
          ],
          "table": [
           {
            "cells": {
             "fill": {
              "color": "#EBF0F8"
             },
             "line": {
              "color": "white"
             }
            },
            "header": {
             "fill": {
              "color": "#C8D4E3"
             },
             "line": {
              "color": "white"
             }
            },
            "type": "table"
           }
          ]
         },
         "layout": {
          "annotationdefaults": {
           "arrowcolor": "#2a3f5f",
           "arrowhead": 0,
           "arrowwidth": 1
          },
          "autotypenumbers": "strict",
          "coloraxis": {
           "colorbar": {
            "outlinewidth": 0,
            "ticks": ""
           }
          },
          "colorscale": {
           "diverging": [
            [
             0,
             "#8e0152"
            ],
            [
             0.1,
             "#c51b7d"
            ],
            [
             0.2,
             "#de77ae"
            ],
            [
             0.3,
             "#f1b6da"
            ],
            [
             0.4,
             "#fde0ef"
            ],
            [
             0.5,
             "#f7f7f7"
            ],
            [
             0.6,
             "#e6f5d0"
            ],
            [
             0.7,
             "#b8e186"
            ],
            [
             0.8,
             "#7fbc41"
            ],
            [
             0.9,
             "#4d9221"
            ],
            [
             1,
             "#276419"
            ]
           ],
           "sequential": [
            [
             0,
             "#0d0887"
            ],
            [
             0.1111111111111111,
             "#46039f"
            ],
            [
             0.2222222222222222,
             "#7201a8"
            ],
            [
             0.3333333333333333,
             "#9c179e"
            ],
            [
             0.4444444444444444,
             "#bd3786"
            ],
            [
             0.5555555555555556,
             "#d8576b"
            ],
            [
             0.6666666666666666,
             "#ed7953"
            ],
            [
             0.7777777777777778,
             "#fb9f3a"
            ],
            [
             0.8888888888888888,
             "#fdca26"
            ],
            [
             1,
             "#f0f921"
            ]
           ],
           "sequentialminus": [
            [
             0,
             "#0d0887"
            ],
            [
             0.1111111111111111,
             "#46039f"
            ],
            [
             0.2222222222222222,
             "#7201a8"
            ],
            [
             0.3333333333333333,
             "#9c179e"
            ],
            [
             0.4444444444444444,
             "#bd3786"
            ],
            [
             0.5555555555555556,
             "#d8576b"
            ],
            [
             0.6666666666666666,
             "#ed7953"
            ],
            [
             0.7777777777777778,
             "#fb9f3a"
            ],
            [
             0.8888888888888888,
             "#fdca26"
            ],
            [
             1,
             "#f0f921"
            ]
           ]
          },
          "colorway": [
           "#636efa",
           "#EF553B",
           "#00cc96",
           "#ab63fa",
           "#FFA15A",
           "#19d3f3",
           "#FF6692",
           "#B6E880",
           "#FF97FF",
           "#FECB52"
          ],
          "font": {
           "color": "#2a3f5f"
          },
          "geo": {
           "bgcolor": "white",
           "lakecolor": "white",
           "landcolor": "#E5ECF6",
           "showlakes": true,
           "showland": true,
           "subunitcolor": "white"
          },
          "hoverlabel": {
           "align": "left"
          },
          "hovermode": "closest",
          "mapbox": {
           "style": "light"
          },
          "paper_bgcolor": "white",
          "plot_bgcolor": "#E5ECF6",
          "polar": {
           "angularaxis": {
            "gridcolor": "white",
            "linecolor": "white",
            "ticks": ""
           },
           "bgcolor": "#E5ECF6",
           "radialaxis": {
            "gridcolor": "white",
            "linecolor": "white",
            "ticks": ""
           }
          },
          "scene": {
           "xaxis": {
            "backgroundcolor": "#E5ECF6",
            "gridcolor": "white",
            "gridwidth": 2,
            "linecolor": "white",
            "showbackground": true,
            "ticks": "",
            "zerolinecolor": "white"
           },
           "yaxis": {
            "backgroundcolor": "#E5ECF6",
            "gridcolor": "white",
            "gridwidth": 2,
            "linecolor": "white",
            "showbackground": true,
            "ticks": "",
            "zerolinecolor": "white"
           },
           "zaxis": {
            "backgroundcolor": "#E5ECF6",
            "gridcolor": "white",
            "gridwidth": 2,
            "linecolor": "white",
            "showbackground": true,
            "ticks": "",
            "zerolinecolor": "white"
           }
          },
          "shapedefaults": {
           "line": {
            "color": "#2a3f5f"
           }
          },
          "ternary": {
           "aaxis": {
            "gridcolor": "white",
            "linecolor": "white",
            "ticks": ""
           },
           "baxis": {
            "gridcolor": "white",
            "linecolor": "white",
            "ticks": ""
           },
           "bgcolor": "#E5ECF6",
           "caxis": {
            "gridcolor": "white",
            "linecolor": "white",
            "ticks": ""
           }
          },
          "title": {
           "x": 0.05
          },
          "xaxis": {
           "automargin": true,
           "gridcolor": "white",
           "linecolor": "white",
           "ticks": "",
           "title": {
            "standoff": 15
           },
           "zerolinecolor": "white",
           "zerolinewidth": 2
          },
          "yaxis": {
           "automargin": true,
           "gridcolor": "white",
           "linecolor": "white",
           "ticks": "",
           "title": {
            "standoff": 15
           },
           "zerolinecolor": "white",
           "zerolinewidth": 2
          }
         }
        },
        "title": {
         "font": {
          "color": "#4D5663"
         }
        },
        "xaxis": {
         "gridcolor": "#E1E5ED",
         "showgrid": true,
         "tickfont": {
          "color": "#4D5663"
         },
         "title": {
          "font": {
           "color": "#4D5663"
          },
          "text": ""
         },
         "zerolinecolor": "#E1E5ED"
        },
        "yaxis": {
         "gridcolor": "#E1E5ED",
         "showgrid": true,
         "tickfont": {
          "color": "#4D5663"
         },
         "title": {
          "font": {
           "color": "#4D5663"
          },
          "text": ""
         },
         "zerolinecolor": "#E1E5ED"
        }
       }
      },
      "text/html": [
       "<div>                            <div id=\"32519ef7-3e6f-44c9-8554-5d4ef723dd90\" class=\"plotly-graph-div\" style=\"height:525px; width:100%;\"></div>            <script type=\"text/javascript\">                require([\"plotly\"], function(Plotly) {                    window.PLOTLYENV=window.PLOTLYENV || {};\n",
       "                    window.PLOTLYENV.BASE_URL='https://plot.ly';                                    if (document.getElementById(\"32519ef7-3e6f-44c9-8554-5d4ef723dd90\")) {                    Plotly.newPlot(                        \"32519ef7-3e6f-44c9-8554-5d4ef723dd90\",                        [{\"boxpoints\":false,\"line\":{\"width\":1.3},\"marker\":{\"color\":\"rgba(255, 153, 51, 1.0)\"},\"name\":\"A\",\"orientation\":\"v\",\"type\":\"box\",\"y\":[-0.2476021517537956,0.11874398704528717,-1.5986470436970923,1.4523802703570448,1.6090995991476928,0.36229045933429543,0.08354651513332022,-0.3527933783544127,0.5176107966859301,-0.833819690766652,0.20565072543497975,1.9944702000830496,-0.35151191314525854,-0.826196054882016,0.9599029122425612,0.8735380178138376,-1.644708644572304,-1.7738813013900911,1.7275862931329586,1.2410803233237333,-0.47371612259000284,1.414213513123541,1.458493689936051,0.3272856232608136,0.3165687182176862,0.8414601116357942,-0.32475580337050364,1.0868940465653318,0.4745634553998436,-0.2734907459319492,1.7936403614043865,0.2702198507442268,0.23166334935090627,0.2149514489904918,-0.15239433999431595,-0.46485670290661824,0.1769888823174567,0.9251355276226852,-2.923639876842984,-1.0036342420862625,-1.5972731861258282,-0.5863668064009814,0.24330756172163637,1.0711554663396936,0.7912213795894234,0.8222629425793855,-0.07065589111053654,-0.6059385075201855,-1.2444487075452308,-0.2986809340328696,2.1470548990107736,-0.9581686455331494,-0.14557432693872532,-0.4416089409116146,0.9352295488236574,-1.0506573059035353,1.3879041094191515,-0.6297383736287204,1.2161526628947408,0.9380321876702106,-0.3186924706946208,-1.0451195297871672,0.8789782921221527,-1.0706299167541156,-0.6134943608834571,2.114366282469496,0.4804360014579106,-0.10967689810515825,1.1730100543660051,0.6680577732576941,-1.1540774070386632,-0.4851203250530739,-0.06824582550241688,-0.4860733169583027,-1.3724089125985697,0.12312942342868287,0.16293029773806567,1.2974841267330905,3.354031799722983,-1.5810817578094538,0.8052116693646469,1.7562243908207342,0.5228297709229516,-0.8617659959734791,0.0620426273685626,0.16012867729300984,0.09689851489854824,-0.1137666435097898,1.803702528945463,0.2660268294434981,0.21102177430662458,-0.12523484176846558,-1.3224865786008155,-0.23270849471023752,-1.3608262494607177,1.6803295754838412,-0.26619167545737504,-1.2418906810336272,0.6446602759776894,-0.9887246241264553]},{\"boxpoints\":false,\"line\":{\"width\":1.3},\"marker\":{\"color\":\"rgba(55, 128, 191, 1.0)\"},\"name\":\"B\",\"orientation\":\"v\",\"type\":\"box\",\"y\":[-0.06053671648461432,0.04451657973152728,0.5893539754284983,1.013668452200273,0.6847946382566875,0.20861092698642347,-0.3309414257884284,-0.5453515972945141,0.23076522077023776,-0.6403566961541314,-1.4889655573956504,0.9352129666595805,-0.8553217826158602,-0.5358471525131479,-0.7285079896694445,-0.19435999410793742,-0.021183660575883688,-1.27486421427924,-1.377441170107258,0.1920596120363645,-1.1360047658662333,-0.25162260549257154,-0.38292153172884064,1.5087553081937204,0.14799880515885433,0.605878255040937,1.6218346664911871,-0.6412077490099374,0.3542488866697352,-0.4607106765297617,1.2204733158298071,1.5290677262515437,-0.5325381867220287,0.6886302420714265,-1.4040226516881387,-2.163779233019157,-1.635161679442351,0.11429126376701604,1.5913115916653733,-0.7516875353912756,-1.1490181657991692,0.05209633163880171,-1.2505146014805508,0.945770812894874,0.44120913669486617,-1.4272575263523835,-0.058534388435669125,-0.33290524940555216,0.25397740217116543,1.2107495453696848,-1.3048536413809813,-0.07290573215858111,-0.935009414667022,0.31698859178976346,0.3035657889195938,-0.09726791999649201,-0.13309365569973972,-1.3660791616250785,-1.0000957432387825,-0.44418957211110716,-0.7186337755517709,1.102995878230977,0.020947744800001725,-0.5379484903254714,1.434265530651456,-0.005595426280574108,-2.0024045908564716,1.2079291512768016,0.15101539633938965,-0.9415917180574958,0.8902241018403784,-0.6581560875764221,-1.2673251228201592,1.2592403371088414,-0.2831780015730596,0.047762380357669894,0.8603279518544563,-0.7821657611800706,-0.08202755823879464,0.06094696276155334,-0.8603811991901833,-0.05999313775337979,-0.4134487343659485,-0.4420361210196551,1.964645409112964,0.7896408572825018,-0.3773497911703148,1.6692535284277301,-0.27550204963687014,0.41138019434472406,-1.0549370402879954,1.6736473264323468,-0.8808278394958889,0.4728475230153127,0.19446889154197278,0.2995578928563227,-0.3887601705363107,-1.031190785706398,-1.4446194412722257,0.5759700536209127]},{\"boxpoints\":false,\"line\":{\"width\":1.3},\"marker\":{\"color\":\"rgba(50, 171, 96, 1.0)\"},\"name\":\"C\",\"orientation\":\"v\",\"type\":\"box\",\"y\":[-1.4138806139966658,0.9549943461350169,-2.0176025054120172,-0.3559458222091603,1.4153947552191721,0.12427455626105968,-1.3459787187103391,-0.19872516540106108,1.4088318088135734,0.9012366661206014,0.12167928602972863,0.6484887494471738,-0.24071830245211362,-0.3251708457434995,-0.07848163117310035,-0.5619681536095221,-0.4107090434792362,1.6335771937963104,-0.23108562854747383,-0.6253479656743208,-1.7470326746678497,0.1948171412052426,0.10667552470993999,1.168151845889162,0.9074924955855451,-0.05022155827796482,0.24599602330939935,-0.8162581224912675,-1.2964098715543981,0.46286889607730936,-0.10213511155337399,0.6309051597165397,-0.2362382902818193,0.4014181504403865,0.44327312805371816,-0.1506127376542421,-0.8237912696611064,0.9619847178419777,1.5613855884484278,0.7847649284788947,-0.715194383820001,-0.42188560666769154,0.7719771944709354,-0.42788322573565674,0.6295608422707876,-1.2316437164112453,-1.791586382047408,-1.4970537956291428,-1.3481044941034268,0.2915472094532004,-1.1924673961153276,1.5294697279384182,0.7329753983882141,-0.7346420338455535,1.5630204417323799,0.6027784429615578,-2.9091425536815265,-0.5221000792876885,0.22713425110466265,-0.7319197059378021,0.5163256584002801,1.053520675059922,0.27007681292676344,0.9686753400624246,1.5307581393786964,0.36737242145043647,0.025097599770220778,-0.8651713313226559,-0.341732622257134,-0.8520223476297429,1.850705214694412,-0.40433123147094446,-0.20770681737488159,1.4652245596672555,0.7022687371970578,0.9116339980456936,-0.4857214196763068,-0.6520074477878468,-0.5999681780513599,-0.15885427293055898,0.8499484258368485,-0.33877488292040364,0.24668022175070148,0.658460807810325,0.4801517632540298,0.5133810366740759,1.9219510343734911,-1.1183566698572092,-0.023438823060090475,-0.14588709366250815,-0.32697804678743025,-0.511923466545293,-0.45486558796788906,0.27615700635488605,-0.38189887714450116,1.7063174625892141,-0.11117157591083326,0.34677612795932183,1.0337762757857105,-1.8316147311422069]},{\"boxpoints\":false,\"line\":{\"width\":1.3},\"marker\":{\"color\":\"rgba(128, 0, 128, 1.0)\"},\"name\":\"D\",\"orientation\":\"v\",\"type\":\"box\",\"y\":[1.138881092138941,-0.8296593820905608,0.4940921451158362,1.4715672397977364,-1.1419091404761212,1.1670925420126028,-0.05952213756143999,-1.158319754654261,0.9340886362131698,0.08241160566677205,0.09050486923742268,-1.2080822552658015,-0.8059511189425327,0.23788239068331304,1.8508318786619247,-0.9275488532782582,-0.32988735181079404,-1.5255692872092812,0.01878277333096518,-1.7713787539245063,-1.169235762418271,-0.815999795639666,0.5003979518170936,0.21348561130162266,-1.8583553991873798,0.9584079218881999,-0.5923347203499466,-0.045701301432784204,1.1098349309061941,0.8108821831693277,1.2154286931093448,0.03534702668436145,0.982009445768607,0.6759622934673243,0.22793134842256393,0.5831497418958888,0.06440530013979788,-1.1015572556487958,-0.16365703680670007,1.2443518938853981,-0.30962832264924545,0.7337650029403703,0.37294149848351654,0.7960603041860554,0.49111515978717424,1.4093434653694459,0.24287036417708793,-1.5780263611682788,0.9252914445025481,1.962942289472823,-1.2424538815207948,0.6723340741862069,0.06742064638790596,-0.4686920066301773,-0.607956503575207,-0.9653818756804581,0.46450454370099953,0.05881620360562117,0.6772238445570063,-0.9033915215986897,1.0881282290657555,0.4359323184477213,0.7684410076854367,0.5005996452296388,0.7829515481772608,-0.026796813723469173,2.599386526232613,-0.14386967015853985,-1.5217198040434086,0.3114719797777141,-0.03544583751025676,-2.4348449244449637,0.9652715215395948,-0.7673168292664782,-1.8925580816941423,-0.7214493207694863,-0.4584329458861844,-0.29876105590390634,-0.4010748723773588,-0.9483449778577722,0.8200748964441905,0.3649981882074061,0.9303510634711705,-0.9063628584109353,0.32270295677364835,-1.3960046389806826,-1.6645024132499688,1.681129748878899,-0.35702788945906266,-0.9513402967568699,-1.4173177890827713,-1.363812590380575,0.8018862131924073,-1.0659923334724297,-1.7347035079139594,1.7247117586400194,-0.5534645932630475,-0.05269082880831947,0.013439662055486223,1.1457671048038869]}],                        {\"legend\":{\"bgcolor\":\"#F5F6F9\",\"font\":{\"color\":\"#4D5663\"}},\"paper_bgcolor\":\"#F5F6F9\",\"plot_bgcolor\":\"#F5F6F9\",\"template\":{\"data\":{\"bar\":[{\"error_x\":{\"color\":\"#2a3f5f\"},\"error_y\":{\"color\":\"#2a3f5f\"},\"marker\":{\"line\":{\"color\":\"#E5ECF6\",\"width\":0.5},\"pattern\":{\"fillmode\":\"overlay\",\"size\":10,\"solidity\":0.2}},\"type\":\"bar\"}],\"barpolar\":[{\"marker\":{\"line\":{\"color\":\"#E5ECF6\",\"width\":0.5},\"pattern\":{\"fillmode\":\"overlay\",\"size\":10,\"solidity\":0.2}},\"type\":\"barpolar\"}],\"carpet\":[{\"aaxis\":{\"endlinecolor\":\"#2a3f5f\",\"gridcolor\":\"white\",\"linecolor\":\"white\",\"minorgridcolor\":\"white\",\"startlinecolor\":\"#2a3f5f\"},\"baxis\":{\"endlinecolor\":\"#2a3f5f\",\"gridcolor\":\"white\",\"linecolor\":\"white\",\"minorgridcolor\":\"white\",\"startlinecolor\":\"#2a3f5f\"},\"type\":\"carpet\"}],\"choropleth\":[{\"colorbar\":{\"outlinewidth\":0,\"ticks\":\"\"},\"type\":\"choropleth\"}],\"contour\":[{\"colorbar\":{\"outlinewidth\":0,\"ticks\":\"\"},\"colorscale\":[[0.0,\"#0d0887\"],[0.1111111111111111,\"#46039f\"],[0.2222222222222222,\"#7201a8\"],[0.3333333333333333,\"#9c179e\"],[0.4444444444444444,\"#bd3786\"],[0.5555555555555556,\"#d8576b\"],[0.6666666666666666,\"#ed7953\"],[0.7777777777777778,\"#fb9f3a\"],[0.8888888888888888,\"#fdca26\"],[1.0,\"#f0f921\"]],\"type\":\"contour\"}],\"contourcarpet\":[{\"colorbar\":{\"outlinewidth\":0,\"ticks\":\"\"},\"type\":\"contourcarpet\"}],\"heatmap\":[{\"colorbar\":{\"outlinewidth\":0,\"ticks\":\"\"},\"colorscale\":[[0.0,\"#0d0887\"],[0.1111111111111111,\"#46039f\"],[0.2222222222222222,\"#7201a8\"],[0.3333333333333333,\"#9c179e\"],[0.4444444444444444,\"#bd3786\"],[0.5555555555555556,\"#d8576b\"],[0.6666666666666666,\"#ed7953\"],[0.7777777777777778,\"#fb9f3a\"],[0.8888888888888888,\"#fdca26\"],[1.0,\"#f0f921\"]],\"type\":\"heatmap\"}],\"heatmapgl\":[{\"colorbar\":{\"outlinewidth\":0,\"ticks\":\"\"},\"colorscale\":[[0.0,\"#0d0887\"],[0.1111111111111111,\"#46039f\"],[0.2222222222222222,\"#7201a8\"],[0.3333333333333333,\"#9c179e\"],[0.4444444444444444,\"#bd3786\"],[0.5555555555555556,\"#d8576b\"],[0.6666666666666666,\"#ed7953\"],[0.7777777777777778,\"#fb9f3a\"],[0.8888888888888888,\"#fdca26\"],[1.0,\"#f0f921\"]],\"type\":\"heatmapgl\"}],\"histogram\":[{\"marker\":{\"pattern\":{\"fillmode\":\"overlay\",\"size\":10,\"solidity\":0.2}},\"type\":\"histogram\"}],\"histogram2d\":[{\"colorbar\":{\"outlinewidth\":0,\"ticks\":\"\"},\"colorscale\":[[0.0,\"#0d0887\"],[0.1111111111111111,\"#46039f\"],[0.2222222222222222,\"#7201a8\"],[0.3333333333333333,\"#9c179e\"],[0.4444444444444444,\"#bd3786\"],[0.5555555555555556,\"#d8576b\"],[0.6666666666666666,\"#ed7953\"],[0.7777777777777778,\"#fb9f3a\"],[0.8888888888888888,\"#fdca26\"],[1.0,\"#f0f921\"]],\"type\":\"histogram2d\"}],\"histogram2dcontour\":[{\"colorbar\":{\"outlinewidth\":0,\"ticks\":\"\"},\"colorscale\":[[0.0,\"#0d0887\"],[0.1111111111111111,\"#46039f\"],[0.2222222222222222,\"#7201a8\"],[0.3333333333333333,\"#9c179e\"],[0.4444444444444444,\"#bd3786\"],[0.5555555555555556,\"#d8576b\"],[0.6666666666666666,\"#ed7953\"],[0.7777777777777778,\"#fb9f3a\"],[0.8888888888888888,\"#fdca26\"],[1.0,\"#f0f921\"]],\"type\":\"histogram2dcontour\"}],\"mesh3d\":[{\"colorbar\":{\"outlinewidth\":0,\"ticks\":\"\"},\"type\":\"mesh3d\"}],\"parcoords\":[{\"line\":{\"colorbar\":{\"outlinewidth\":0,\"ticks\":\"\"}},\"type\":\"parcoords\"}],\"pie\":[{\"automargin\":true,\"type\":\"pie\"}],\"scatter\":[{\"marker\":{\"colorbar\":{\"outlinewidth\":0,\"ticks\":\"\"}},\"type\":\"scatter\"}],\"scatter3d\":[{\"line\":{\"colorbar\":{\"outlinewidth\":0,\"ticks\":\"\"}},\"marker\":{\"colorbar\":{\"outlinewidth\":0,\"ticks\":\"\"}},\"type\":\"scatter3d\"}],\"scattercarpet\":[{\"marker\":{\"colorbar\":{\"outlinewidth\":0,\"ticks\":\"\"}},\"type\":\"scattercarpet\"}],\"scattergeo\":[{\"marker\":{\"colorbar\":{\"outlinewidth\":0,\"ticks\":\"\"}},\"type\":\"scattergeo\"}],\"scattergl\":[{\"marker\":{\"colorbar\":{\"outlinewidth\":0,\"ticks\":\"\"}},\"type\":\"scattergl\"}],\"scattermapbox\":[{\"marker\":{\"colorbar\":{\"outlinewidth\":0,\"ticks\":\"\"}},\"type\":\"scattermapbox\"}],\"scatterpolar\":[{\"marker\":{\"colorbar\":{\"outlinewidth\":0,\"ticks\":\"\"}},\"type\":\"scatterpolar\"}],\"scatterpolargl\":[{\"marker\":{\"colorbar\":{\"outlinewidth\":0,\"ticks\":\"\"}},\"type\":\"scatterpolargl\"}],\"scatterternary\":[{\"marker\":{\"colorbar\":{\"outlinewidth\":0,\"ticks\":\"\"}},\"type\":\"scatterternary\"}],\"surface\":[{\"colorbar\":{\"outlinewidth\":0,\"ticks\":\"\"},\"colorscale\":[[0.0,\"#0d0887\"],[0.1111111111111111,\"#46039f\"],[0.2222222222222222,\"#7201a8\"],[0.3333333333333333,\"#9c179e\"],[0.4444444444444444,\"#bd3786\"],[0.5555555555555556,\"#d8576b\"],[0.6666666666666666,\"#ed7953\"],[0.7777777777777778,\"#fb9f3a\"],[0.8888888888888888,\"#fdca26\"],[1.0,\"#f0f921\"]],\"type\":\"surface\"}],\"table\":[{\"cells\":{\"fill\":{\"color\":\"#EBF0F8\"},\"line\":{\"color\":\"white\"}},\"header\":{\"fill\":{\"color\":\"#C8D4E3\"},\"line\":{\"color\":\"white\"}},\"type\":\"table\"}]},\"layout\":{\"annotationdefaults\":{\"arrowcolor\":\"#2a3f5f\",\"arrowhead\":0,\"arrowwidth\":1},\"autotypenumbers\":\"strict\",\"coloraxis\":{\"colorbar\":{\"outlinewidth\":0,\"ticks\":\"\"}},\"colorscale\":{\"diverging\":[[0,\"#8e0152\"],[0.1,\"#c51b7d\"],[0.2,\"#de77ae\"],[0.3,\"#f1b6da\"],[0.4,\"#fde0ef\"],[0.5,\"#f7f7f7\"],[0.6,\"#e6f5d0\"],[0.7,\"#b8e186\"],[0.8,\"#7fbc41\"],[0.9,\"#4d9221\"],[1,\"#276419\"]],\"sequential\":[[0.0,\"#0d0887\"],[0.1111111111111111,\"#46039f\"],[0.2222222222222222,\"#7201a8\"],[0.3333333333333333,\"#9c179e\"],[0.4444444444444444,\"#bd3786\"],[0.5555555555555556,\"#d8576b\"],[0.6666666666666666,\"#ed7953\"],[0.7777777777777778,\"#fb9f3a\"],[0.8888888888888888,\"#fdca26\"],[1.0,\"#f0f921\"]],\"sequentialminus\":[[0.0,\"#0d0887\"],[0.1111111111111111,\"#46039f\"],[0.2222222222222222,\"#7201a8\"],[0.3333333333333333,\"#9c179e\"],[0.4444444444444444,\"#bd3786\"],[0.5555555555555556,\"#d8576b\"],[0.6666666666666666,\"#ed7953\"],[0.7777777777777778,\"#fb9f3a\"],[0.8888888888888888,\"#fdca26\"],[1.0,\"#f0f921\"]]},\"colorway\":[\"#636efa\",\"#EF553B\",\"#00cc96\",\"#ab63fa\",\"#FFA15A\",\"#19d3f3\",\"#FF6692\",\"#B6E880\",\"#FF97FF\",\"#FECB52\"],\"font\":{\"color\":\"#2a3f5f\"},\"geo\":{\"bgcolor\":\"white\",\"lakecolor\":\"white\",\"landcolor\":\"#E5ECF6\",\"showlakes\":true,\"showland\":true,\"subunitcolor\":\"white\"},\"hoverlabel\":{\"align\":\"left\"},\"hovermode\":\"closest\",\"mapbox\":{\"style\":\"light\"},\"paper_bgcolor\":\"white\",\"plot_bgcolor\":\"#E5ECF6\",\"polar\":{\"angularaxis\":{\"gridcolor\":\"white\",\"linecolor\":\"white\",\"ticks\":\"\"},\"bgcolor\":\"#E5ECF6\",\"radialaxis\":{\"gridcolor\":\"white\",\"linecolor\":\"white\",\"ticks\":\"\"}},\"scene\":{\"xaxis\":{\"backgroundcolor\":\"#E5ECF6\",\"gridcolor\":\"white\",\"gridwidth\":2,\"linecolor\":\"white\",\"showbackground\":true,\"ticks\":\"\",\"zerolinecolor\":\"white\"},\"yaxis\":{\"backgroundcolor\":\"#E5ECF6\",\"gridcolor\":\"white\",\"gridwidth\":2,\"linecolor\":\"white\",\"showbackground\":true,\"ticks\":\"\",\"zerolinecolor\":\"white\"},\"zaxis\":{\"backgroundcolor\":\"#E5ECF6\",\"gridcolor\":\"white\",\"gridwidth\":2,\"linecolor\":\"white\",\"showbackground\":true,\"ticks\":\"\",\"zerolinecolor\":\"white\"}},\"shapedefaults\":{\"line\":{\"color\":\"#2a3f5f\"}},\"ternary\":{\"aaxis\":{\"gridcolor\":\"white\",\"linecolor\":\"white\",\"ticks\":\"\"},\"baxis\":{\"gridcolor\":\"white\",\"linecolor\":\"white\",\"ticks\":\"\"},\"bgcolor\":\"#E5ECF6\",\"caxis\":{\"gridcolor\":\"white\",\"linecolor\":\"white\",\"ticks\":\"\"}},\"title\":{\"x\":0.05},\"xaxis\":{\"automargin\":true,\"gridcolor\":\"white\",\"linecolor\":\"white\",\"ticks\":\"\",\"title\":{\"standoff\":15},\"zerolinecolor\":\"white\",\"zerolinewidth\":2},\"yaxis\":{\"automargin\":true,\"gridcolor\":\"white\",\"linecolor\":\"white\",\"ticks\":\"\",\"title\":{\"standoff\":15},\"zerolinecolor\":\"white\",\"zerolinewidth\":2}}},\"title\":{\"font\":{\"color\":\"#4D5663\"}},\"xaxis\":{\"gridcolor\":\"#E1E5ED\",\"showgrid\":true,\"tickfont\":{\"color\":\"#4D5663\"},\"title\":{\"font\":{\"color\":\"#4D5663\"},\"text\":\"\"},\"zerolinecolor\":\"#E1E5ED\"},\"yaxis\":{\"gridcolor\":\"#E1E5ED\",\"showgrid\":true,\"tickfont\":{\"color\":\"#4D5663\"},\"title\":{\"font\":{\"color\":\"#4D5663\"},\"text\":\"\"},\"zerolinecolor\":\"#E1E5ED\"}},                        {\"showLink\": true, \"linkText\": \"Export to plot.ly\", \"plotlyServerURL\": \"https://plot.ly\", \"responsive\": true}                    ).then(function(){\n",
       "                            \n",
       "var gd = document.getElementById('32519ef7-3e6f-44c9-8554-5d4ef723dd90');\n",
       "var x = new MutationObserver(function (mutations, observer) {{\n",
       "        var display = window.getComputedStyle(gd).display;\n",
       "        if (!display || display === 'none') {{\n",
       "            console.log([gd, 'removed!']);\n",
       "            Plotly.purge(gd);\n",
       "            observer.disconnect();\n",
       "        }}\n",
       "}});\n",
       "\n",
       "// Listen for the removal of the full notebook cells\n",
       "var notebookContainer = gd.closest('#notebook-container');\n",
       "if (notebookContainer) {{\n",
       "    x.observe(notebookContainer, {childList: true});\n",
       "}}\n",
       "\n",
       "// Listen for the clearing of the current output cell\n",
       "var outputEl = gd.closest('.output');\n",
       "if (outputEl) {{\n",
       "    x.observe(outputEl, {childList: true});\n",
       "}}\n",
       "\n",
       "                        })                };                });            </script>        </div>"
      ]
     },
     "metadata": {},
     "output_type": "display_data"
    }
   ],
   "source": [
    "df1.iplot(kind='box')"
   ]
  },
  {
   "cell_type": "markdown",
   "metadata": {},
   "source": [
    "**3D Surface**"
   ]
  },
  {
   "cell_type": "code",
   "execution_count": 19,
   "metadata": {},
   "outputs": [
    {
     "data": {
      "text/html": [
       "<div>\n",
       "<style scoped>\n",
       "    .dataframe tbody tr th:only-of-type {\n",
       "        vertical-align: middle;\n",
       "    }\n",
       "\n",
       "    .dataframe tbody tr th {\n",
       "        vertical-align: top;\n",
       "    }\n",
       "\n",
       "    .dataframe thead th {\n",
       "        text-align: right;\n",
       "    }\n",
       "</style>\n",
       "<table border=\"1\" class=\"dataframe\">\n",
       "  <thead>\n",
       "    <tr style=\"text-align: right;\">\n",
       "      <th></th>\n",
       "      <th>x</th>\n",
       "      <th>y</th>\n",
       "      <th>z</th>\n",
       "    </tr>\n",
       "  </thead>\n",
       "  <tbody>\n",
       "    <tr>\n",
       "      <th>0</th>\n",
       "      <td>1</td>\n",
       "      <td>10</td>\n",
       "      <td>500</td>\n",
       "    </tr>\n",
       "    <tr>\n",
       "      <th>1</th>\n",
       "      <td>2</td>\n",
       "      <td>20</td>\n",
       "      <td>400</td>\n",
       "    </tr>\n",
       "    <tr>\n",
       "      <th>2</th>\n",
       "      <td>3</td>\n",
       "      <td>30</td>\n",
       "      <td>300</td>\n",
       "    </tr>\n",
       "    <tr>\n",
       "      <th>3</th>\n",
       "      <td>4</td>\n",
       "      <td>20</td>\n",
       "      <td>200</td>\n",
       "    </tr>\n",
       "    <tr>\n",
       "      <th>4</th>\n",
       "      <td>5</td>\n",
       "      <td>10</td>\n",
       "      <td>100</td>\n",
       "    </tr>\n",
       "  </tbody>\n",
       "</table>\n",
       "</div>"
      ],
      "text/plain": [
       "   x   y    z\n",
       "0  1  10  500\n",
       "1  2  20  400\n",
       "2  3  30  300\n",
       "3  4  20  200\n",
       "4  5  10  100"
      ]
     },
     "execution_count": 19,
     "metadata": {},
     "output_type": "execute_result"
    }
   ],
   "source": [
    "df3 = pd.DataFrame({'x':[1,2,3,4,5],'y':[10,20,30,20,10],'z':[500,400,300,200,100]})\n",
    "df3"
   ]
  },
  {
   "cell_type": "code",
   "execution_count": 20,
   "metadata": {},
   "outputs": [
    {
     "data": {
      "application/vnd.plotly.v1+json": {
       "config": {
        "linkText": "Export to plot.ly",
        "plotlyServerURL": "https://plot.ly",
        "showLink": true
       },
       "data": [
        {
         "colorscale": [
          [
           0,
           "rgb(255, 153, 51)"
          ],
          [
           0.1111111111111111,
           "rgb(55, 128, 191)"
          ],
          [
           0.2222222222222222,
           "rgb(50, 171, 96)"
          ],
          [
           0.3333333333333333,
           "rgb(128, 0, 128)"
          ],
          [
           0.4444444444444444,
           "rgb(219, 64, 82)"
          ],
          [
           0.5555555555555556,
           "rgb(0, 128, 128)"
          ],
          [
           0.6666666666666666,
           "rgb(255, 255, 51)"
          ],
          [
           0.7777777777777778,
           "rgb(128, 128, 0)"
          ],
          [
           0.8888888888888888,
           "rgb(251, 128, 114)"
          ],
          [
           1,
           "rgb(128, 177, 211)"
          ]
         ],
         "type": "surface",
         "x": [
          0,
          1,
          2,
          3,
          4
         ],
         "y": [
          "x",
          "y",
          "z"
         ],
         "z": [
          [
           1,
           2,
           3,
           4,
           5
          ],
          [
           10,
           20,
           30,
           20,
           10
          ],
          [
           500,
           400,
           300,
           200,
           100
          ]
         ]
        }
       ],
       "layout": {
        "legend": {
         "bgcolor": "#F5F6F9",
         "font": {
          "color": "#4D5663"
         }
        },
        "paper_bgcolor": "#F5F6F9",
        "plot_bgcolor": "#F5F6F9",
        "template": {
         "data": {
          "bar": [
           {
            "error_x": {
             "color": "#2a3f5f"
            },
            "error_y": {
             "color": "#2a3f5f"
            },
            "marker": {
             "line": {
              "color": "#E5ECF6",
              "width": 0.5
             },
             "pattern": {
              "fillmode": "overlay",
              "size": 10,
              "solidity": 0.2
             }
            },
            "type": "bar"
           }
          ],
          "barpolar": [
           {
            "marker": {
             "line": {
              "color": "#E5ECF6",
              "width": 0.5
             },
             "pattern": {
              "fillmode": "overlay",
              "size": 10,
              "solidity": 0.2
             }
            },
            "type": "barpolar"
           }
          ],
          "carpet": [
           {
            "aaxis": {
             "endlinecolor": "#2a3f5f",
             "gridcolor": "white",
             "linecolor": "white",
             "minorgridcolor": "white",
             "startlinecolor": "#2a3f5f"
            },
            "baxis": {
             "endlinecolor": "#2a3f5f",
             "gridcolor": "white",
             "linecolor": "white",
             "minorgridcolor": "white",
             "startlinecolor": "#2a3f5f"
            },
            "type": "carpet"
           }
          ],
          "choropleth": [
           {
            "colorbar": {
             "outlinewidth": 0,
             "ticks": ""
            },
            "type": "choropleth"
           }
          ],
          "contour": [
           {
            "colorbar": {
             "outlinewidth": 0,
             "ticks": ""
            },
            "colorscale": [
             [
              0,
              "#0d0887"
             ],
             [
              0.1111111111111111,
              "#46039f"
             ],
             [
              0.2222222222222222,
              "#7201a8"
             ],
             [
              0.3333333333333333,
              "#9c179e"
             ],
             [
              0.4444444444444444,
              "#bd3786"
             ],
             [
              0.5555555555555556,
              "#d8576b"
             ],
             [
              0.6666666666666666,
              "#ed7953"
             ],
             [
              0.7777777777777778,
              "#fb9f3a"
             ],
             [
              0.8888888888888888,
              "#fdca26"
             ],
             [
              1,
              "#f0f921"
             ]
            ],
            "type": "contour"
           }
          ],
          "contourcarpet": [
           {
            "colorbar": {
             "outlinewidth": 0,
             "ticks": ""
            },
            "type": "contourcarpet"
           }
          ],
          "heatmap": [
           {
            "colorbar": {
             "outlinewidth": 0,
             "ticks": ""
            },
            "colorscale": [
             [
              0,
              "#0d0887"
             ],
             [
              0.1111111111111111,
              "#46039f"
             ],
             [
              0.2222222222222222,
              "#7201a8"
             ],
             [
              0.3333333333333333,
              "#9c179e"
             ],
             [
              0.4444444444444444,
              "#bd3786"
             ],
             [
              0.5555555555555556,
              "#d8576b"
             ],
             [
              0.6666666666666666,
              "#ed7953"
             ],
             [
              0.7777777777777778,
              "#fb9f3a"
             ],
             [
              0.8888888888888888,
              "#fdca26"
             ],
             [
              1,
              "#f0f921"
             ]
            ],
            "type": "heatmap"
           }
          ],
          "heatmapgl": [
           {
            "colorbar": {
             "outlinewidth": 0,
             "ticks": ""
            },
            "colorscale": [
             [
              0,
              "#0d0887"
             ],
             [
              0.1111111111111111,
              "#46039f"
             ],
             [
              0.2222222222222222,
              "#7201a8"
             ],
             [
              0.3333333333333333,
              "#9c179e"
             ],
             [
              0.4444444444444444,
              "#bd3786"
             ],
             [
              0.5555555555555556,
              "#d8576b"
             ],
             [
              0.6666666666666666,
              "#ed7953"
             ],
             [
              0.7777777777777778,
              "#fb9f3a"
             ],
             [
              0.8888888888888888,
              "#fdca26"
             ],
             [
              1,
              "#f0f921"
             ]
            ],
            "type": "heatmapgl"
           }
          ],
          "histogram": [
           {
            "marker": {
             "pattern": {
              "fillmode": "overlay",
              "size": 10,
              "solidity": 0.2
             }
            },
            "type": "histogram"
           }
          ],
          "histogram2d": [
           {
            "colorbar": {
             "outlinewidth": 0,
             "ticks": ""
            },
            "colorscale": [
             [
              0,
              "#0d0887"
             ],
             [
              0.1111111111111111,
              "#46039f"
             ],
             [
              0.2222222222222222,
              "#7201a8"
             ],
             [
              0.3333333333333333,
              "#9c179e"
             ],
             [
              0.4444444444444444,
              "#bd3786"
             ],
             [
              0.5555555555555556,
              "#d8576b"
             ],
             [
              0.6666666666666666,
              "#ed7953"
             ],
             [
              0.7777777777777778,
              "#fb9f3a"
             ],
             [
              0.8888888888888888,
              "#fdca26"
             ],
             [
              1,
              "#f0f921"
             ]
            ],
            "type": "histogram2d"
           }
          ],
          "histogram2dcontour": [
           {
            "colorbar": {
             "outlinewidth": 0,
             "ticks": ""
            },
            "colorscale": [
             [
              0,
              "#0d0887"
             ],
             [
              0.1111111111111111,
              "#46039f"
             ],
             [
              0.2222222222222222,
              "#7201a8"
             ],
             [
              0.3333333333333333,
              "#9c179e"
             ],
             [
              0.4444444444444444,
              "#bd3786"
             ],
             [
              0.5555555555555556,
              "#d8576b"
             ],
             [
              0.6666666666666666,
              "#ed7953"
             ],
             [
              0.7777777777777778,
              "#fb9f3a"
             ],
             [
              0.8888888888888888,
              "#fdca26"
             ],
             [
              1,
              "#f0f921"
             ]
            ],
            "type": "histogram2dcontour"
           }
          ],
          "mesh3d": [
           {
            "colorbar": {
             "outlinewidth": 0,
             "ticks": ""
            },
            "type": "mesh3d"
           }
          ],
          "parcoords": [
           {
            "line": {
             "colorbar": {
              "outlinewidth": 0,
              "ticks": ""
             }
            },
            "type": "parcoords"
           }
          ],
          "pie": [
           {
            "automargin": true,
            "type": "pie"
           }
          ],
          "scatter": [
           {
            "marker": {
             "colorbar": {
              "outlinewidth": 0,
              "ticks": ""
             }
            },
            "type": "scatter"
           }
          ],
          "scatter3d": [
           {
            "line": {
             "colorbar": {
              "outlinewidth": 0,
              "ticks": ""
             }
            },
            "marker": {
             "colorbar": {
              "outlinewidth": 0,
              "ticks": ""
             }
            },
            "type": "scatter3d"
           }
          ],
          "scattercarpet": [
           {
            "marker": {
             "colorbar": {
              "outlinewidth": 0,
              "ticks": ""
             }
            },
            "type": "scattercarpet"
           }
          ],
          "scattergeo": [
           {
            "marker": {
             "colorbar": {
              "outlinewidth": 0,
              "ticks": ""
             }
            },
            "type": "scattergeo"
           }
          ],
          "scattergl": [
           {
            "marker": {
             "colorbar": {
              "outlinewidth": 0,
              "ticks": ""
             }
            },
            "type": "scattergl"
           }
          ],
          "scattermapbox": [
           {
            "marker": {
             "colorbar": {
              "outlinewidth": 0,
              "ticks": ""
             }
            },
            "type": "scattermapbox"
           }
          ],
          "scatterpolar": [
           {
            "marker": {
             "colorbar": {
              "outlinewidth": 0,
              "ticks": ""
             }
            },
            "type": "scatterpolar"
           }
          ],
          "scatterpolargl": [
           {
            "marker": {
             "colorbar": {
              "outlinewidth": 0,
              "ticks": ""
             }
            },
            "type": "scatterpolargl"
           }
          ],
          "scatterternary": [
           {
            "marker": {
             "colorbar": {
              "outlinewidth": 0,
              "ticks": ""
             }
            },
            "type": "scatterternary"
           }
          ],
          "surface": [
           {
            "colorbar": {
             "outlinewidth": 0,
             "ticks": ""
            },
            "colorscale": [
             [
              0,
              "#0d0887"
             ],
             [
              0.1111111111111111,
              "#46039f"
             ],
             [
              0.2222222222222222,
              "#7201a8"
             ],
             [
              0.3333333333333333,
              "#9c179e"
             ],
             [
              0.4444444444444444,
              "#bd3786"
             ],
             [
              0.5555555555555556,
              "#d8576b"
             ],
             [
              0.6666666666666666,
              "#ed7953"
             ],
             [
              0.7777777777777778,
              "#fb9f3a"
             ],
             [
              0.8888888888888888,
              "#fdca26"
             ],
             [
              1,
              "#f0f921"
             ]
            ],
            "type": "surface"
           }
          ],
          "table": [
           {
            "cells": {
             "fill": {
              "color": "#EBF0F8"
             },
             "line": {
              "color": "white"
             }
            },
            "header": {
             "fill": {
              "color": "#C8D4E3"
             },
             "line": {
              "color": "white"
             }
            },
            "type": "table"
           }
          ]
         },
         "layout": {
          "annotationdefaults": {
           "arrowcolor": "#2a3f5f",
           "arrowhead": 0,
           "arrowwidth": 1
          },
          "autotypenumbers": "strict",
          "coloraxis": {
           "colorbar": {
            "outlinewidth": 0,
            "ticks": ""
           }
          },
          "colorscale": {
           "diverging": [
            [
             0,
             "#8e0152"
            ],
            [
             0.1,
             "#c51b7d"
            ],
            [
             0.2,
             "#de77ae"
            ],
            [
             0.3,
             "#f1b6da"
            ],
            [
             0.4,
             "#fde0ef"
            ],
            [
             0.5,
             "#f7f7f7"
            ],
            [
             0.6,
             "#e6f5d0"
            ],
            [
             0.7,
             "#b8e186"
            ],
            [
             0.8,
             "#7fbc41"
            ],
            [
             0.9,
             "#4d9221"
            ],
            [
             1,
             "#276419"
            ]
           ],
           "sequential": [
            [
             0,
             "#0d0887"
            ],
            [
             0.1111111111111111,
             "#46039f"
            ],
            [
             0.2222222222222222,
             "#7201a8"
            ],
            [
             0.3333333333333333,
             "#9c179e"
            ],
            [
             0.4444444444444444,
             "#bd3786"
            ],
            [
             0.5555555555555556,
             "#d8576b"
            ],
            [
             0.6666666666666666,
             "#ed7953"
            ],
            [
             0.7777777777777778,
             "#fb9f3a"
            ],
            [
             0.8888888888888888,
             "#fdca26"
            ],
            [
             1,
             "#f0f921"
            ]
           ],
           "sequentialminus": [
            [
             0,
             "#0d0887"
            ],
            [
             0.1111111111111111,
             "#46039f"
            ],
            [
             0.2222222222222222,
             "#7201a8"
            ],
            [
             0.3333333333333333,
             "#9c179e"
            ],
            [
             0.4444444444444444,
             "#bd3786"
            ],
            [
             0.5555555555555556,
             "#d8576b"
            ],
            [
             0.6666666666666666,
             "#ed7953"
            ],
            [
             0.7777777777777778,
             "#fb9f3a"
            ],
            [
             0.8888888888888888,
             "#fdca26"
            ],
            [
             1,
             "#f0f921"
            ]
           ]
          },
          "colorway": [
           "#636efa",
           "#EF553B",
           "#00cc96",
           "#ab63fa",
           "#FFA15A",
           "#19d3f3",
           "#FF6692",
           "#B6E880",
           "#FF97FF",
           "#FECB52"
          ],
          "font": {
           "color": "#2a3f5f"
          },
          "geo": {
           "bgcolor": "white",
           "lakecolor": "white",
           "landcolor": "#E5ECF6",
           "showlakes": true,
           "showland": true,
           "subunitcolor": "white"
          },
          "hoverlabel": {
           "align": "left"
          },
          "hovermode": "closest",
          "mapbox": {
           "style": "light"
          },
          "paper_bgcolor": "white",
          "plot_bgcolor": "#E5ECF6",
          "polar": {
           "angularaxis": {
            "gridcolor": "white",
            "linecolor": "white",
            "ticks": ""
           },
           "bgcolor": "#E5ECF6",
           "radialaxis": {
            "gridcolor": "white",
            "linecolor": "white",
            "ticks": ""
           }
          },
          "scene": {
           "xaxis": {
            "backgroundcolor": "#E5ECF6",
            "gridcolor": "white",
            "gridwidth": 2,
            "linecolor": "white",
            "showbackground": true,
            "ticks": "",
            "zerolinecolor": "white"
           },
           "yaxis": {
            "backgroundcolor": "#E5ECF6",
            "gridcolor": "white",
            "gridwidth": 2,
            "linecolor": "white",
            "showbackground": true,
            "ticks": "",
            "zerolinecolor": "white"
           },
           "zaxis": {
            "backgroundcolor": "#E5ECF6",
            "gridcolor": "white",
            "gridwidth": 2,
            "linecolor": "white",
            "showbackground": true,
            "ticks": "",
            "zerolinecolor": "white"
           }
          },
          "shapedefaults": {
           "line": {
            "color": "#2a3f5f"
           }
          },
          "ternary": {
           "aaxis": {
            "gridcolor": "white",
            "linecolor": "white",
            "ticks": ""
           },
           "baxis": {
            "gridcolor": "white",
            "linecolor": "white",
            "ticks": ""
           },
           "bgcolor": "#E5ECF6",
           "caxis": {
            "gridcolor": "white",
            "linecolor": "white",
            "ticks": ""
           }
          },
          "title": {
           "x": 0.05
          },
          "xaxis": {
           "automargin": true,
           "gridcolor": "white",
           "linecolor": "white",
           "ticks": "",
           "title": {
            "standoff": 15
           },
           "zerolinecolor": "white",
           "zerolinewidth": 2
          },
          "yaxis": {
           "automargin": true,
           "gridcolor": "white",
           "linecolor": "white",
           "ticks": "",
           "title": {
            "standoff": 15
           },
           "zerolinecolor": "white",
           "zerolinewidth": 2
          }
         }
        },
        "title": {
         "font": {
          "color": "#4D5663"
         }
        },
        "xaxis": {
         "gridcolor": "#E1E5ED",
         "showgrid": true,
         "tickfont": {
          "color": "#4D5663"
         },
         "title": {
          "font": {
           "color": "#4D5663"
          },
          "text": ""
         },
         "zerolinecolor": "#E1E5ED"
        },
        "yaxis": {
         "gridcolor": "#E1E5ED",
         "showgrid": true,
         "tickfont": {
          "color": "#4D5663"
         },
         "title": {
          "font": {
           "color": "#4D5663"
          },
          "text": ""
         },
         "zerolinecolor": "#E1E5ED"
        }
       }
      },
      "text/html": [
       "<div>                            <div id=\"8d420a6b-2d3a-4c2d-b4dd-5aa630f120ff\" class=\"plotly-graph-div\" style=\"height:525px; width:100%;\"></div>            <script type=\"text/javascript\">                require([\"plotly\"], function(Plotly) {                    window.PLOTLYENV=window.PLOTLYENV || {};\n",
       "                    window.PLOTLYENV.BASE_URL='https://plot.ly';                                    if (document.getElementById(\"8d420a6b-2d3a-4c2d-b4dd-5aa630f120ff\")) {                    Plotly.newPlot(                        \"8d420a6b-2d3a-4c2d-b4dd-5aa630f120ff\",                        [{\"colorscale\":[[0.0,\"rgb(255, 153, 51)\"],[0.1111111111111111,\"rgb(55, 128, 191)\"],[0.2222222222222222,\"rgb(50, 171, 96)\"],[0.3333333333333333,\"rgb(128, 0, 128)\"],[0.4444444444444444,\"rgb(219, 64, 82)\"],[0.5555555555555556,\"rgb(0, 128, 128)\"],[0.6666666666666666,\"rgb(255, 255, 51)\"],[0.7777777777777778,\"rgb(128, 128, 0)\"],[0.8888888888888888,\"rgb(251, 128, 114)\"],[1.0,\"rgb(128, 177, 211)\"]],\"type\":\"surface\",\"x\":[0,1,2,3,4],\"y\":[\"x\",\"y\",\"z\"],\"z\":[[1,2,3,4,5],[10,20,30,20,10],[500,400,300,200,100]]}],                        {\"legend\":{\"bgcolor\":\"#F5F6F9\",\"font\":{\"color\":\"#4D5663\"}},\"paper_bgcolor\":\"#F5F6F9\",\"plot_bgcolor\":\"#F5F6F9\",\"template\":{\"data\":{\"bar\":[{\"error_x\":{\"color\":\"#2a3f5f\"},\"error_y\":{\"color\":\"#2a3f5f\"},\"marker\":{\"line\":{\"color\":\"#E5ECF6\",\"width\":0.5},\"pattern\":{\"fillmode\":\"overlay\",\"size\":10,\"solidity\":0.2}},\"type\":\"bar\"}],\"barpolar\":[{\"marker\":{\"line\":{\"color\":\"#E5ECF6\",\"width\":0.5},\"pattern\":{\"fillmode\":\"overlay\",\"size\":10,\"solidity\":0.2}},\"type\":\"barpolar\"}],\"carpet\":[{\"aaxis\":{\"endlinecolor\":\"#2a3f5f\",\"gridcolor\":\"white\",\"linecolor\":\"white\",\"minorgridcolor\":\"white\",\"startlinecolor\":\"#2a3f5f\"},\"baxis\":{\"endlinecolor\":\"#2a3f5f\",\"gridcolor\":\"white\",\"linecolor\":\"white\",\"minorgridcolor\":\"white\",\"startlinecolor\":\"#2a3f5f\"},\"type\":\"carpet\"}],\"choropleth\":[{\"colorbar\":{\"outlinewidth\":0,\"ticks\":\"\"},\"type\":\"choropleth\"}],\"contour\":[{\"colorbar\":{\"outlinewidth\":0,\"ticks\":\"\"},\"colorscale\":[[0.0,\"#0d0887\"],[0.1111111111111111,\"#46039f\"],[0.2222222222222222,\"#7201a8\"],[0.3333333333333333,\"#9c179e\"],[0.4444444444444444,\"#bd3786\"],[0.5555555555555556,\"#d8576b\"],[0.6666666666666666,\"#ed7953\"],[0.7777777777777778,\"#fb9f3a\"],[0.8888888888888888,\"#fdca26\"],[1.0,\"#f0f921\"]],\"type\":\"contour\"}],\"contourcarpet\":[{\"colorbar\":{\"outlinewidth\":0,\"ticks\":\"\"},\"type\":\"contourcarpet\"}],\"heatmap\":[{\"colorbar\":{\"outlinewidth\":0,\"ticks\":\"\"},\"colorscale\":[[0.0,\"#0d0887\"],[0.1111111111111111,\"#46039f\"],[0.2222222222222222,\"#7201a8\"],[0.3333333333333333,\"#9c179e\"],[0.4444444444444444,\"#bd3786\"],[0.5555555555555556,\"#d8576b\"],[0.6666666666666666,\"#ed7953\"],[0.7777777777777778,\"#fb9f3a\"],[0.8888888888888888,\"#fdca26\"],[1.0,\"#f0f921\"]],\"type\":\"heatmap\"}],\"heatmapgl\":[{\"colorbar\":{\"outlinewidth\":0,\"ticks\":\"\"},\"colorscale\":[[0.0,\"#0d0887\"],[0.1111111111111111,\"#46039f\"],[0.2222222222222222,\"#7201a8\"],[0.3333333333333333,\"#9c179e\"],[0.4444444444444444,\"#bd3786\"],[0.5555555555555556,\"#d8576b\"],[0.6666666666666666,\"#ed7953\"],[0.7777777777777778,\"#fb9f3a\"],[0.8888888888888888,\"#fdca26\"],[1.0,\"#f0f921\"]],\"type\":\"heatmapgl\"}],\"histogram\":[{\"marker\":{\"pattern\":{\"fillmode\":\"overlay\",\"size\":10,\"solidity\":0.2}},\"type\":\"histogram\"}],\"histogram2d\":[{\"colorbar\":{\"outlinewidth\":0,\"ticks\":\"\"},\"colorscale\":[[0.0,\"#0d0887\"],[0.1111111111111111,\"#46039f\"],[0.2222222222222222,\"#7201a8\"],[0.3333333333333333,\"#9c179e\"],[0.4444444444444444,\"#bd3786\"],[0.5555555555555556,\"#d8576b\"],[0.6666666666666666,\"#ed7953\"],[0.7777777777777778,\"#fb9f3a\"],[0.8888888888888888,\"#fdca26\"],[1.0,\"#f0f921\"]],\"type\":\"histogram2d\"}],\"histogram2dcontour\":[{\"colorbar\":{\"outlinewidth\":0,\"ticks\":\"\"},\"colorscale\":[[0.0,\"#0d0887\"],[0.1111111111111111,\"#46039f\"],[0.2222222222222222,\"#7201a8\"],[0.3333333333333333,\"#9c179e\"],[0.4444444444444444,\"#bd3786\"],[0.5555555555555556,\"#d8576b\"],[0.6666666666666666,\"#ed7953\"],[0.7777777777777778,\"#fb9f3a\"],[0.8888888888888888,\"#fdca26\"],[1.0,\"#f0f921\"]],\"type\":\"histogram2dcontour\"}],\"mesh3d\":[{\"colorbar\":{\"outlinewidth\":0,\"ticks\":\"\"},\"type\":\"mesh3d\"}],\"parcoords\":[{\"line\":{\"colorbar\":{\"outlinewidth\":0,\"ticks\":\"\"}},\"type\":\"parcoords\"}],\"pie\":[{\"automargin\":true,\"type\":\"pie\"}],\"scatter\":[{\"marker\":{\"colorbar\":{\"outlinewidth\":0,\"ticks\":\"\"}},\"type\":\"scatter\"}],\"scatter3d\":[{\"line\":{\"colorbar\":{\"outlinewidth\":0,\"ticks\":\"\"}},\"marker\":{\"colorbar\":{\"outlinewidth\":0,\"ticks\":\"\"}},\"type\":\"scatter3d\"}],\"scattercarpet\":[{\"marker\":{\"colorbar\":{\"outlinewidth\":0,\"ticks\":\"\"}},\"type\":\"scattercarpet\"}],\"scattergeo\":[{\"marker\":{\"colorbar\":{\"outlinewidth\":0,\"ticks\":\"\"}},\"type\":\"scattergeo\"}],\"scattergl\":[{\"marker\":{\"colorbar\":{\"outlinewidth\":0,\"ticks\":\"\"}},\"type\":\"scattergl\"}],\"scattermapbox\":[{\"marker\":{\"colorbar\":{\"outlinewidth\":0,\"ticks\":\"\"}},\"type\":\"scattermapbox\"}],\"scatterpolar\":[{\"marker\":{\"colorbar\":{\"outlinewidth\":0,\"ticks\":\"\"}},\"type\":\"scatterpolar\"}],\"scatterpolargl\":[{\"marker\":{\"colorbar\":{\"outlinewidth\":0,\"ticks\":\"\"}},\"type\":\"scatterpolargl\"}],\"scatterternary\":[{\"marker\":{\"colorbar\":{\"outlinewidth\":0,\"ticks\":\"\"}},\"type\":\"scatterternary\"}],\"surface\":[{\"colorbar\":{\"outlinewidth\":0,\"ticks\":\"\"},\"colorscale\":[[0.0,\"#0d0887\"],[0.1111111111111111,\"#46039f\"],[0.2222222222222222,\"#7201a8\"],[0.3333333333333333,\"#9c179e\"],[0.4444444444444444,\"#bd3786\"],[0.5555555555555556,\"#d8576b\"],[0.6666666666666666,\"#ed7953\"],[0.7777777777777778,\"#fb9f3a\"],[0.8888888888888888,\"#fdca26\"],[1.0,\"#f0f921\"]],\"type\":\"surface\"}],\"table\":[{\"cells\":{\"fill\":{\"color\":\"#EBF0F8\"},\"line\":{\"color\":\"white\"}},\"header\":{\"fill\":{\"color\":\"#C8D4E3\"},\"line\":{\"color\":\"white\"}},\"type\":\"table\"}]},\"layout\":{\"annotationdefaults\":{\"arrowcolor\":\"#2a3f5f\",\"arrowhead\":0,\"arrowwidth\":1},\"autotypenumbers\":\"strict\",\"coloraxis\":{\"colorbar\":{\"outlinewidth\":0,\"ticks\":\"\"}},\"colorscale\":{\"diverging\":[[0,\"#8e0152\"],[0.1,\"#c51b7d\"],[0.2,\"#de77ae\"],[0.3,\"#f1b6da\"],[0.4,\"#fde0ef\"],[0.5,\"#f7f7f7\"],[0.6,\"#e6f5d0\"],[0.7,\"#b8e186\"],[0.8,\"#7fbc41\"],[0.9,\"#4d9221\"],[1,\"#276419\"]],\"sequential\":[[0.0,\"#0d0887\"],[0.1111111111111111,\"#46039f\"],[0.2222222222222222,\"#7201a8\"],[0.3333333333333333,\"#9c179e\"],[0.4444444444444444,\"#bd3786\"],[0.5555555555555556,\"#d8576b\"],[0.6666666666666666,\"#ed7953\"],[0.7777777777777778,\"#fb9f3a\"],[0.8888888888888888,\"#fdca26\"],[1.0,\"#f0f921\"]],\"sequentialminus\":[[0.0,\"#0d0887\"],[0.1111111111111111,\"#46039f\"],[0.2222222222222222,\"#7201a8\"],[0.3333333333333333,\"#9c179e\"],[0.4444444444444444,\"#bd3786\"],[0.5555555555555556,\"#d8576b\"],[0.6666666666666666,\"#ed7953\"],[0.7777777777777778,\"#fb9f3a\"],[0.8888888888888888,\"#fdca26\"],[1.0,\"#f0f921\"]]},\"colorway\":[\"#636efa\",\"#EF553B\",\"#00cc96\",\"#ab63fa\",\"#FFA15A\",\"#19d3f3\",\"#FF6692\",\"#B6E880\",\"#FF97FF\",\"#FECB52\"],\"font\":{\"color\":\"#2a3f5f\"},\"geo\":{\"bgcolor\":\"white\",\"lakecolor\":\"white\",\"landcolor\":\"#E5ECF6\",\"showlakes\":true,\"showland\":true,\"subunitcolor\":\"white\"},\"hoverlabel\":{\"align\":\"left\"},\"hovermode\":\"closest\",\"mapbox\":{\"style\":\"light\"},\"paper_bgcolor\":\"white\",\"plot_bgcolor\":\"#E5ECF6\",\"polar\":{\"angularaxis\":{\"gridcolor\":\"white\",\"linecolor\":\"white\",\"ticks\":\"\"},\"bgcolor\":\"#E5ECF6\",\"radialaxis\":{\"gridcolor\":\"white\",\"linecolor\":\"white\",\"ticks\":\"\"}},\"scene\":{\"xaxis\":{\"backgroundcolor\":\"#E5ECF6\",\"gridcolor\":\"white\",\"gridwidth\":2,\"linecolor\":\"white\",\"showbackground\":true,\"ticks\":\"\",\"zerolinecolor\":\"white\"},\"yaxis\":{\"backgroundcolor\":\"#E5ECF6\",\"gridcolor\":\"white\",\"gridwidth\":2,\"linecolor\":\"white\",\"showbackground\":true,\"ticks\":\"\",\"zerolinecolor\":\"white\"},\"zaxis\":{\"backgroundcolor\":\"#E5ECF6\",\"gridcolor\":\"white\",\"gridwidth\":2,\"linecolor\":\"white\",\"showbackground\":true,\"ticks\":\"\",\"zerolinecolor\":\"white\"}},\"shapedefaults\":{\"line\":{\"color\":\"#2a3f5f\"}},\"ternary\":{\"aaxis\":{\"gridcolor\":\"white\",\"linecolor\":\"white\",\"ticks\":\"\"},\"baxis\":{\"gridcolor\":\"white\",\"linecolor\":\"white\",\"ticks\":\"\"},\"bgcolor\":\"#E5ECF6\",\"caxis\":{\"gridcolor\":\"white\",\"linecolor\":\"white\",\"ticks\":\"\"}},\"title\":{\"x\":0.05},\"xaxis\":{\"automargin\":true,\"gridcolor\":\"white\",\"linecolor\":\"white\",\"ticks\":\"\",\"title\":{\"standoff\":15},\"zerolinecolor\":\"white\",\"zerolinewidth\":2},\"yaxis\":{\"automargin\":true,\"gridcolor\":\"white\",\"linecolor\":\"white\",\"ticks\":\"\",\"title\":{\"standoff\":15},\"zerolinecolor\":\"white\",\"zerolinewidth\":2}}},\"title\":{\"font\":{\"color\":\"#4D5663\"}},\"xaxis\":{\"gridcolor\":\"#E1E5ED\",\"showgrid\":true,\"tickfont\":{\"color\":\"#4D5663\"},\"title\":{\"font\":{\"color\":\"#4D5663\"},\"text\":\"\"},\"zerolinecolor\":\"#E1E5ED\"},\"yaxis\":{\"gridcolor\":\"#E1E5ED\",\"showgrid\":true,\"tickfont\":{\"color\":\"#4D5663\"},\"title\":{\"font\":{\"color\":\"#4D5663\"},\"text\":\"\"},\"zerolinecolor\":\"#E1E5ED\"}},                        {\"showLink\": true, \"linkText\": \"Export to plot.ly\", \"plotlyServerURL\": \"https://plot.ly\", \"responsive\": true}                    ).then(function(){\n",
       "                            \n",
       "var gd = document.getElementById('8d420a6b-2d3a-4c2d-b4dd-5aa630f120ff');\n",
       "var x = new MutationObserver(function (mutations, observer) {{\n",
       "        var display = window.getComputedStyle(gd).display;\n",
       "        if (!display || display === 'none') {{\n",
       "            console.log([gd, 'removed!']);\n",
       "            Plotly.purge(gd);\n",
       "            observer.disconnect();\n",
       "        }}\n",
       "}});\n",
       "\n",
       "// Listen for the removal of the full notebook cells\n",
       "var notebookContainer = gd.closest('#notebook-container');\n",
       "if (notebookContainer) {{\n",
       "    x.observe(notebookContainer, {childList: true});\n",
       "}}\n",
       "\n",
       "// Listen for the clearing of the current output cell\n",
       "var outputEl = gd.closest('.output');\n",
       "if (outputEl) {{\n",
       "    x.observe(outputEl, {childList: true});\n",
       "}}\n",
       "\n",
       "                        })                };                });            </script>        </div>"
      ]
     },
     "metadata": {},
     "output_type": "display_data"
    }
   ],
   "source": [
    "df3.iplot(kind='surface')"
   ]
  },
  {
   "cell_type": "code",
   "execution_count": 21,
   "metadata": {},
   "outputs": [
    {
     "data": {
      "application/vnd.plotly.v1+json": {
       "config": {
        "linkText": "Export to plot.ly",
        "plotlyServerURL": "https://plot.ly",
        "showLink": true
       },
       "data": [
        {
         "colorscale": [
          [
           0,
           "rgb(255, 153, 51)"
          ],
          [
           0.1111111111111111,
           "rgb(55, 128, 191)"
          ],
          [
           0.2222222222222222,
           "rgb(50, 171, 96)"
          ],
          [
           0.3333333333333333,
           "rgb(128, 0, 128)"
          ],
          [
           0.4444444444444444,
           "rgb(219, 64, 82)"
          ],
          [
           0.5555555555555556,
           "rgb(0, 128, 128)"
          ],
          [
           0.6666666666666666,
           "rgb(255, 255, 51)"
          ],
          [
           0.7777777777777778,
           "rgb(128, 128, 0)"
          ],
          [
           0.8888888888888888,
           "rgb(251, 128, 114)"
          ],
          [
           1,
           "rgb(128, 177, 211)"
          ]
         ],
         "type": "surface",
         "x": [
          0,
          1,
          2,
          3,
          4
         ],
         "y": [
          "x",
          "y",
          "z"
         ],
         "z": [
          [
           1,
           2,
           3,
           4,
           5
          ],
          [
           10,
           20,
           30,
           20,
           10
          ],
          [
           5,
           4,
           3,
           2,
           1
          ]
         ]
        }
       ],
       "layout": {
        "legend": {
         "bgcolor": "#F5F6F9",
         "font": {
          "color": "#4D5663"
         }
        },
        "paper_bgcolor": "#F5F6F9",
        "plot_bgcolor": "#F5F6F9",
        "template": {
         "data": {
          "bar": [
           {
            "error_x": {
             "color": "#2a3f5f"
            },
            "error_y": {
             "color": "#2a3f5f"
            },
            "marker": {
             "line": {
              "color": "#E5ECF6",
              "width": 0.5
             },
             "pattern": {
              "fillmode": "overlay",
              "size": 10,
              "solidity": 0.2
             }
            },
            "type": "bar"
           }
          ],
          "barpolar": [
           {
            "marker": {
             "line": {
              "color": "#E5ECF6",
              "width": 0.5
             },
             "pattern": {
              "fillmode": "overlay",
              "size": 10,
              "solidity": 0.2
             }
            },
            "type": "barpolar"
           }
          ],
          "carpet": [
           {
            "aaxis": {
             "endlinecolor": "#2a3f5f",
             "gridcolor": "white",
             "linecolor": "white",
             "minorgridcolor": "white",
             "startlinecolor": "#2a3f5f"
            },
            "baxis": {
             "endlinecolor": "#2a3f5f",
             "gridcolor": "white",
             "linecolor": "white",
             "minorgridcolor": "white",
             "startlinecolor": "#2a3f5f"
            },
            "type": "carpet"
           }
          ],
          "choropleth": [
           {
            "colorbar": {
             "outlinewidth": 0,
             "ticks": ""
            },
            "type": "choropleth"
           }
          ],
          "contour": [
           {
            "colorbar": {
             "outlinewidth": 0,
             "ticks": ""
            },
            "colorscale": [
             [
              0,
              "#0d0887"
             ],
             [
              0.1111111111111111,
              "#46039f"
             ],
             [
              0.2222222222222222,
              "#7201a8"
             ],
             [
              0.3333333333333333,
              "#9c179e"
             ],
             [
              0.4444444444444444,
              "#bd3786"
             ],
             [
              0.5555555555555556,
              "#d8576b"
             ],
             [
              0.6666666666666666,
              "#ed7953"
             ],
             [
              0.7777777777777778,
              "#fb9f3a"
             ],
             [
              0.8888888888888888,
              "#fdca26"
             ],
             [
              1,
              "#f0f921"
             ]
            ],
            "type": "contour"
           }
          ],
          "contourcarpet": [
           {
            "colorbar": {
             "outlinewidth": 0,
             "ticks": ""
            },
            "type": "contourcarpet"
           }
          ],
          "heatmap": [
           {
            "colorbar": {
             "outlinewidth": 0,
             "ticks": ""
            },
            "colorscale": [
             [
              0,
              "#0d0887"
             ],
             [
              0.1111111111111111,
              "#46039f"
             ],
             [
              0.2222222222222222,
              "#7201a8"
             ],
             [
              0.3333333333333333,
              "#9c179e"
             ],
             [
              0.4444444444444444,
              "#bd3786"
             ],
             [
              0.5555555555555556,
              "#d8576b"
             ],
             [
              0.6666666666666666,
              "#ed7953"
             ],
             [
              0.7777777777777778,
              "#fb9f3a"
             ],
             [
              0.8888888888888888,
              "#fdca26"
             ],
             [
              1,
              "#f0f921"
             ]
            ],
            "type": "heatmap"
           }
          ],
          "heatmapgl": [
           {
            "colorbar": {
             "outlinewidth": 0,
             "ticks": ""
            },
            "colorscale": [
             [
              0,
              "#0d0887"
             ],
             [
              0.1111111111111111,
              "#46039f"
             ],
             [
              0.2222222222222222,
              "#7201a8"
             ],
             [
              0.3333333333333333,
              "#9c179e"
             ],
             [
              0.4444444444444444,
              "#bd3786"
             ],
             [
              0.5555555555555556,
              "#d8576b"
             ],
             [
              0.6666666666666666,
              "#ed7953"
             ],
             [
              0.7777777777777778,
              "#fb9f3a"
             ],
             [
              0.8888888888888888,
              "#fdca26"
             ],
             [
              1,
              "#f0f921"
             ]
            ],
            "type": "heatmapgl"
           }
          ],
          "histogram": [
           {
            "marker": {
             "pattern": {
              "fillmode": "overlay",
              "size": 10,
              "solidity": 0.2
             }
            },
            "type": "histogram"
           }
          ],
          "histogram2d": [
           {
            "colorbar": {
             "outlinewidth": 0,
             "ticks": ""
            },
            "colorscale": [
             [
              0,
              "#0d0887"
             ],
             [
              0.1111111111111111,
              "#46039f"
             ],
             [
              0.2222222222222222,
              "#7201a8"
             ],
             [
              0.3333333333333333,
              "#9c179e"
             ],
             [
              0.4444444444444444,
              "#bd3786"
             ],
             [
              0.5555555555555556,
              "#d8576b"
             ],
             [
              0.6666666666666666,
              "#ed7953"
             ],
             [
              0.7777777777777778,
              "#fb9f3a"
             ],
             [
              0.8888888888888888,
              "#fdca26"
             ],
             [
              1,
              "#f0f921"
             ]
            ],
            "type": "histogram2d"
           }
          ],
          "histogram2dcontour": [
           {
            "colorbar": {
             "outlinewidth": 0,
             "ticks": ""
            },
            "colorscale": [
             [
              0,
              "#0d0887"
             ],
             [
              0.1111111111111111,
              "#46039f"
             ],
             [
              0.2222222222222222,
              "#7201a8"
             ],
             [
              0.3333333333333333,
              "#9c179e"
             ],
             [
              0.4444444444444444,
              "#bd3786"
             ],
             [
              0.5555555555555556,
              "#d8576b"
             ],
             [
              0.6666666666666666,
              "#ed7953"
             ],
             [
              0.7777777777777778,
              "#fb9f3a"
             ],
             [
              0.8888888888888888,
              "#fdca26"
             ],
             [
              1,
              "#f0f921"
             ]
            ],
            "type": "histogram2dcontour"
           }
          ],
          "mesh3d": [
           {
            "colorbar": {
             "outlinewidth": 0,
             "ticks": ""
            },
            "type": "mesh3d"
           }
          ],
          "parcoords": [
           {
            "line": {
             "colorbar": {
              "outlinewidth": 0,
              "ticks": ""
             }
            },
            "type": "parcoords"
           }
          ],
          "pie": [
           {
            "automargin": true,
            "type": "pie"
           }
          ],
          "scatter": [
           {
            "marker": {
             "colorbar": {
              "outlinewidth": 0,
              "ticks": ""
             }
            },
            "type": "scatter"
           }
          ],
          "scatter3d": [
           {
            "line": {
             "colorbar": {
              "outlinewidth": 0,
              "ticks": ""
             }
            },
            "marker": {
             "colorbar": {
              "outlinewidth": 0,
              "ticks": ""
             }
            },
            "type": "scatter3d"
           }
          ],
          "scattercarpet": [
           {
            "marker": {
             "colorbar": {
              "outlinewidth": 0,
              "ticks": ""
             }
            },
            "type": "scattercarpet"
           }
          ],
          "scattergeo": [
           {
            "marker": {
             "colorbar": {
              "outlinewidth": 0,
              "ticks": ""
             }
            },
            "type": "scattergeo"
           }
          ],
          "scattergl": [
           {
            "marker": {
             "colorbar": {
              "outlinewidth": 0,
              "ticks": ""
             }
            },
            "type": "scattergl"
           }
          ],
          "scattermapbox": [
           {
            "marker": {
             "colorbar": {
              "outlinewidth": 0,
              "ticks": ""
             }
            },
            "type": "scattermapbox"
           }
          ],
          "scatterpolar": [
           {
            "marker": {
             "colorbar": {
              "outlinewidth": 0,
              "ticks": ""
             }
            },
            "type": "scatterpolar"
           }
          ],
          "scatterpolargl": [
           {
            "marker": {
             "colorbar": {
              "outlinewidth": 0,
              "ticks": ""
             }
            },
            "type": "scatterpolargl"
           }
          ],
          "scatterternary": [
           {
            "marker": {
             "colorbar": {
              "outlinewidth": 0,
              "ticks": ""
             }
            },
            "type": "scatterternary"
           }
          ],
          "surface": [
           {
            "colorbar": {
             "outlinewidth": 0,
             "ticks": ""
            },
            "colorscale": [
             [
              0,
              "#0d0887"
             ],
             [
              0.1111111111111111,
              "#46039f"
             ],
             [
              0.2222222222222222,
              "#7201a8"
             ],
             [
              0.3333333333333333,
              "#9c179e"
             ],
             [
              0.4444444444444444,
              "#bd3786"
             ],
             [
              0.5555555555555556,
              "#d8576b"
             ],
             [
              0.6666666666666666,
              "#ed7953"
             ],
             [
              0.7777777777777778,
              "#fb9f3a"
             ],
             [
              0.8888888888888888,
              "#fdca26"
             ],
             [
              1,
              "#f0f921"
             ]
            ],
            "type": "surface"
           }
          ],
          "table": [
           {
            "cells": {
             "fill": {
              "color": "#EBF0F8"
             },
             "line": {
              "color": "white"
             }
            },
            "header": {
             "fill": {
              "color": "#C8D4E3"
             },
             "line": {
              "color": "white"
             }
            },
            "type": "table"
           }
          ]
         },
         "layout": {
          "annotationdefaults": {
           "arrowcolor": "#2a3f5f",
           "arrowhead": 0,
           "arrowwidth": 1
          },
          "autotypenumbers": "strict",
          "coloraxis": {
           "colorbar": {
            "outlinewidth": 0,
            "ticks": ""
           }
          },
          "colorscale": {
           "diverging": [
            [
             0,
             "#8e0152"
            ],
            [
             0.1,
             "#c51b7d"
            ],
            [
             0.2,
             "#de77ae"
            ],
            [
             0.3,
             "#f1b6da"
            ],
            [
             0.4,
             "#fde0ef"
            ],
            [
             0.5,
             "#f7f7f7"
            ],
            [
             0.6,
             "#e6f5d0"
            ],
            [
             0.7,
             "#b8e186"
            ],
            [
             0.8,
             "#7fbc41"
            ],
            [
             0.9,
             "#4d9221"
            ],
            [
             1,
             "#276419"
            ]
           ],
           "sequential": [
            [
             0,
             "#0d0887"
            ],
            [
             0.1111111111111111,
             "#46039f"
            ],
            [
             0.2222222222222222,
             "#7201a8"
            ],
            [
             0.3333333333333333,
             "#9c179e"
            ],
            [
             0.4444444444444444,
             "#bd3786"
            ],
            [
             0.5555555555555556,
             "#d8576b"
            ],
            [
             0.6666666666666666,
             "#ed7953"
            ],
            [
             0.7777777777777778,
             "#fb9f3a"
            ],
            [
             0.8888888888888888,
             "#fdca26"
            ],
            [
             1,
             "#f0f921"
            ]
           ],
           "sequentialminus": [
            [
             0,
             "#0d0887"
            ],
            [
             0.1111111111111111,
             "#46039f"
            ],
            [
             0.2222222222222222,
             "#7201a8"
            ],
            [
             0.3333333333333333,
             "#9c179e"
            ],
            [
             0.4444444444444444,
             "#bd3786"
            ],
            [
             0.5555555555555556,
             "#d8576b"
            ],
            [
             0.6666666666666666,
             "#ed7953"
            ],
            [
             0.7777777777777778,
             "#fb9f3a"
            ],
            [
             0.8888888888888888,
             "#fdca26"
            ],
            [
             1,
             "#f0f921"
            ]
           ]
          },
          "colorway": [
           "#636efa",
           "#EF553B",
           "#00cc96",
           "#ab63fa",
           "#FFA15A",
           "#19d3f3",
           "#FF6692",
           "#B6E880",
           "#FF97FF",
           "#FECB52"
          ],
          "font": {
           "color": "#2a3f5f"
          },
          "geo": {
           "bgcolor": "white",
           "lakecolor": "white",
           "landcolor": "#E5ECF6",
           "showlakes": true,
           "showland": true,
           "subunitcolor": "white"
          },
          "hoverlabel": {
           "align": "left"
          },
          "hovermode": "closest",
          "mapbox": {
           "style": "light"
          },
          "paper_bgcolor": "white",
          "plot_bgcolor": "#E5ECF6",
          "polar": {
           "angularaxis": {
            "gridcolor": "white",
            "linecolor": "white",
            "ticks": ""
           },
           "bgcolor": "#E5ECF6",
           "radialaxis": {
            "gridcolor": "white",
            "linecolor": "white",
            "ticks": ""
           }
          },
          "scene": {
           "xaxis": {
            "backgroundcolor": "#E5ECF6",
            "gridcolor": "white",
            "gridwidth": 2,
            "linecolor": "white",
            "showbackground": true,
            "ticks": "",
            "zerolinecolor": "white"
           },
           "yaxis": {
            "backgroundcolor": "#E5ECF6",
            "gridcolor": "white",
            "gridwidth": 2,
            "linecolor": "white",
            "showbackground": true,
            "ticks": "",
            "zerolinecolor": "white"
           },
           "zaxis": {
            "backgroundcolor": "#E5ECF6",
            "gridcolor": "white",
            "gridwidth": 2,
            "linecolor": "white",
            "showbackground": true,
            "ticks": "",
            "zerolinecolor": "white"
           }
          },
          "shapedefaults": {
           "line": {
            "color": "#2a3f5f"
           }
          },
          "ternary": {
           "aaxis": {
            "gridcolor": "white",
            "linecolor": "white",
            "ticks": ""
           },
           "baxis": {
            "gridcolor": "white",
            "linecolor": "white",
            "ticks": ""
           },
           "bgcolor": "#E5ECF6",
           "caxis": {
            "gridcolor": "white",
            "linecolor": "white",
            "ticks": ""
           }
          },
          "title": {
           "x": 0.05
          },
          "xaxis": {
           "automargin": true,
           "gridcolor": "white",
           "linecolor": "white",
           "ticks": "",
           "title": {
            "standoff": 15
           },
           "zerolinecolor": "white",
           "zerolinewidth": 2
          },
          "yaxis": {
           "automargin": true,
           "gridcolor": "white",
           "linecolor": "white",
           "ticks": "",
           "title": {
            "standoff": 15
           },
           "zerolinecolor": "white",
           "zerolinewidth": 2
          }
         }
        },
        "title": {
         "font": {
          "color": "#4D5663"
         }
        },
        "xaxis": {
         "gridcolor": "#E1E5ED",
         "showgrid": true,
         "tickfont": {
          "color": "#4D5663"
         },
         "title": {
          "font": {
           "color": "#4D5663"
          },
          "text": ""
         },
         "zerolinecolor": "#E1E5ED"
        },
        "yaxis": {
         "gridcolor": "#E1E5ED",
         "showgrid": true,
         "tickfont": {
          "color": "#4D5663"
         },
         "title": {
          "font": {
           "color": "#4D5663"
          },
          "text": ""
         },
         "zerolinecolor": "#E1E5ED"
        }
       }
      },
      "text/html": [
       "<div>                            <div id=\"102b09cc-7940-4d56-86a2-83c74ddafdda\" class=\"plotly-graph-div\" style=\"height:525px; width:100%;\"></div>            <script type=\"text/javascript\">                require([\"plotly\"], function(Plotly) {                    window.PLOTLYENV=window.PLOTLYENV || {};\n",
       "                    window.PLOTLYENV.BASE_URL='https://plot.ly';                                    if (document.getElementById(\"102b09cc-7940-4d56-86a2-83c74ddafdda\")) {                    Plotly.newPlot(                        \"102b09cc-7940-4d56-86a2-83c74ddafdda\",                        [{\"colorscale\":[[0.0,\"rgb(255, 153, 51)\"],[0.1111111111111111,\"rgb(55, 128, 191)\"],[0.2222222222222222,\"rgb(50, 171, 96)\"],[0.3333333333333333,\"rgb(128, 0, 128)\"],[0.4444444444444444,\"rgb(219, 64, 82)\"],[0.5555555555555556,\"rgb(0, 128, 128)\"],[0.6666666666666666,\"rgb(255, 255, 51)\"],[0.7777777777777778,\"rgb(128, 128, 0)\"],[0.8888888888888888,\"rgb(251, 128, 114)\"],[1.0,\"rgb(128, 177, 211)\"]],\"type\":\"surface\",\"x\":[0,1,2,3,4],\"y\":[\"x\",\"y\",\"z\"],\"z\":[[1,2,3,4,5],[10,20,30,20,10],[5,4,3,2,1]]}],                        {\"legend\":{\"bgcolor\":\"#F5F6F9\",\"font\":{\"color\":\"#4D5663\"}},\"paper_bgcolor\":\"#F5F6F9\",\"plot_bgcolor\":\"#F5F6F9\",\"template\":{\"data\":{\"bar\":[{\"error_x\":{\"color\":\"#2a3f5f\"},\"error_y\":{\"color\":\"#2a3f5f\"},\"marker\":{\"line\":{\"color\":\"#E5ECF6\",\"width\":0.5},\"pattern\":{\"fillmode\":\"overlay\",\"size\":10,\"solidity\":0.2}},\"type\":\"bar\"}],\"barpolar\":[{\"marker\":{\"line\":{\"color\":\"#E5ECF6\",\"width\":0.5},\"pattern\":{\"fillmode\":\"overlay\",\"size\":10,\"solidity\":0.2}},\"type\":\"barpolar\"}],\"carpet\":[{\"aaxis\":{\"endlinecolor\":\"#2a3f5f\",\"gridcolor\":\"white\",\"linecolor\":\"white\",\"minorgridcolor\":\"white\",\"startlinecolor\":\"#2a3f5f\"},\"baxis\":{\"endlinecolor\":\"#2a3f5f\",\"gridcolor\":\"white\",\"linecolor\":\"white\",\"minorgridcolor\":\"white\",\"startlinecolor\":\"#2a3f5f\"},\"type\":\"carpet\"}],\"choropleth\":[{\"colorbar\":{\"outlinewidth\":0,\"ticks\":\"\"},\"type\":\"choropleth\"}],\"contour\":[{\"colorbar\":{\"outlinewidth\":0,\"ticks\":\"\"},\"colorscale\":[[0.0,\"#0d0887\"],[0.1111111111111111,\"#46039f\"],[0.2222222222222222,\"#7201a8\"],[0.3333333333333333,\"#9c179e\"],[0.4444444444444444,\"#bd3786\"],[0.5555555555555556,\"#d8576b\"],[0.6666666666666666,\"#ed7953\"],[0.7777777777777778,\"#fb9f3a\"],[0.8888888888888888,\"#fdca26\"],[1.0,\"#f0f921\"]],\"type\":\"contour\"}],\"contourcarpet\":[{\"colorbar\":{\"outlinewidth\":0,\"ticks\":\"\"},\"type\":\"contourcarpet\"}],\"heatmap\":[{\"colorbar\":{\"outlinewidth\":0,\"ticks\":\"\"},\"colorscale\":[[0.0,\"#0d0887\"],[0.1111111111111111,\"#46039f\"],[0.2222222222222222,\"#7201a8\"],[0.3333333333333333,\"#9c179e\"],[0.4444444444444444,\"#bd3786\"],[0.5555555555555556,\"#d8576b\"],[0.6666666666666666,\"#ed7953\"],[0.7777777777777778,\"#fb9f3a\"],[0.8888888888888888,\"#fdca26\"],[1.0,\"#f0f921\"]],\"type\":\"heatmap\"}],\"heatmapgl\":[{\"colorbar\":{\"outlinewidth\":0,\"ticks\":\"\"},\"colorscale\":[[0.0,\"#0d0887\"],[0.1111111111111111,\"#46039f\"],[0.2222222222222222,\"#7201a8\"],[0.3333333333333333,\"#9c179e\"],[0.4444444444444444,\"#bd3786\"],[0.5555555555555556,\"#d8576b\"],[0.6666666666666666,\"#ed7953\"],[0.7777777777777778,\"#fb9f3a\"],[0.8888888888888888,\"#fdca26\"],[1.0,\"#f0f921\"]],\"type\":\"heatmapgl\"}],\"histogram\":[{\"marker\":{\"pattern\":{\"fillmode\":\"overlay\",\"size\":10,\"solidity\":0.2}},\"type\":\"histogram\"}],\"histogram2d\":[{\"colorbar\":{\"outlinewidth\":0,\"ticks\":\"\"},\"colorscale\":[[0.0,\"#0d0887\"],[0.1111111111111111,\"#46039f\"],[0.2222222222222222,\"#7201a8\"],[0.3333333333333333,\"#9c179e\"],[0.4444444444444444,\"#bd3786\"],[0.5555555555555556,\"#d8576b\"],[0.6666666666666666,\"#ed7953\"],[0.7777777777777778,\"#fb9f3a\"],[0.8888888888888888,\"#fdca26\"],[1.0,\"#f0f921\"]],\"type\":\"histogram2d\"}],\"histogram2dcontour\":[{\"colorbar\":{\"outlinewidth\":0,\"ticks\":\"\"},\"colorscale\":[[0.0,\"#0d0887\"],[0.1111111111111111,\"#46039f\"],[0.2222222222222222,\"#7201a8\"],[0.3333333333333333,\"#9c179e\"],[0.4444444444444444,\"#bd3786\"],[0.5555555555555556,\"#d8576b\"],[0.6666666666666666,\"#ed7953\"],[0.7777777777777778,\"#fb9f3a\"],[0.8888888888888888,\"#fdca26\"],[1.0,\"#f0f921\"]],\"type\":\"histogram2dcontour\"}],\"mesh3d\":[{\"colorbar\":{\"outlinewidth\":0,\"ticks\":\"\"},\"type\":\"mesh3d\"}],\"parcoords\":[{\"line\":{\"colorbar\":{\"outlinewidth\":0,\"ticks\":\"\"}},\"type\":\"parcoords\"}],\"pie\":[{\"automargin\":true,\"type\":\"pie\"}],\"scatter\":[{\"marker\":{\"colorbar\":{\"outlinewidth\":0,\"ticks\":\"\"}},\"type\":\"scatter\"}],\"scatter3d\":[{\"line\":{\"colorbar\":{\"outlinewidth\":0,\"ticks\":\"\"}},\"marker\":{\"colorbar\":{\"outlinewidth\":0,\"ticks\":\"\"}},\"type\":\"scatter3d\"}],\"scattercarpet\":[{\"marker\":{\"colorbar\":{\"outlinewidth\":0,\"ticks\":\"\"}},\"type\":\"scattercarpet\"}],\"scattergeo\":[{\"marker\":{\"colorbar\":{\"outlinewidth\":0,\"ticks\":\"\"}},\"type\":\"scattergeo\"}],\"scattergl\":[{\"marker\":{\"colorbar\":{\"outlinewidth\":0,\"ticks\":\"\"}},\"type\":\"scattergl\"}],\"scattermapbox\":[{\"marker\":{\"colorbar\":{\"outlinewidth\":0,\"ticks\":\"\"}},\"type\":\"scattermapbox\"}],\"scatterpolar\":[{\"marker\":{\"colorbar\":{\"outlinewidth\":0,\"ticks\":\"\"}},\"type\":\"scatterpolar\"}],\"scatterpolargl\":[{\"marker\":{\"colorbar\":{\"outlinewidth\":0,\"ticks\":\"\"}},\"type\":\"scatterpolargl\"}],\"scatterternary\":[{\"marker\":{\"colorbar\":{\"outlinewidth\":0,\"ticks\":\"\"}},\"type\":\"scatterternary\"}],\"surface\":[{\"colorbar\":{\"outlinewidth\":0,\"ticks\":\"\"},\"colorscale\":[[0.0,\"#0d0887\"],[0.1111111111111111,\"#46039f\"],[0.2222222222222222,\"#7201a8\"],[0.3333333333333333,\"#9c179e\"],[0.4444444444444444,\"#bd3786\"],[0.5555555555555556,\"#d8576b\"],[0.6666666666666666,\"#ed7953\"],[0.7777777777777778,\"#fb9f3a\"],[0.8888888888888888,\"#fdca26\"],[1.0,\"#f0f921\"]],\"type\":\"surface\"}],\"table\":[{\"cells\":{\"fill\":{\"color\":\"#EBF0F8\"},\"line\":{\"color\":\"white\"}},\"header\":{\"fill\":{\"color\":\"#C8D4E3\"},\"line\":{\"color\":\"white\"}},\"type\":\"table\"}]},\"layout\":{\"annotationdefaults\":{\"arrowcolor\":\"#2a3f5f\",\"arrowhead\":0,\"arrowwidth\":1},\"autotypenumbers\":\"strict\",\"coloraxis\":{\"colorbar\":{\"outlinewidth\":0,\"ticks\":\"\"}},\"colorscale\":{\"diverging\":[[0,\"#8e0152\"],[0.1,\"#c51b7d\"],[0.2,\"#de77ae\"],[0.3,\"#f1b6da\"],[0.4,\"#fde0ef\"],[0.5,\"#f7f7f7\"],[0.6,\"#e6f5d0\"],[0.7,\"#b8e186\"],[0.8,\"#7fbc41\"],[0.9,\"#4d9221\"],[1,\"#276419\"]],\"sequential\":[[0.0,\"#0d0887\"],[0.1111111111111111,\"#46039f\"],[0.2222222222222222,\"#7201a8\"],[0.3333333333333333,\"#9c179e\"],[0.4444444444444444,\"#bd3786\"],[0.5555555555555556,\"#d8576b\"],[0.6666666666666666,\"#ed7953\"],[0.7777777777777778,\"#fb9f3a\"],[0.8888888888888888,\"#fdca26\"],[1.0,\"#f0f921\"]],\"sequentialminus\":[[0.0,\"#0d0887\"],[0.1111111111111111,\"#46039f\"],[0.2222222222222222,\"#7201a8\"],[0.3333333333333333,\"#9c179e\"],[0.4444444444444444,\"#bd3786\"],[0.5555555555555556,\"#d8576b\"],[0.6666666666666666,\"#ed7953\"],[0.7777777777777778,\"#fb9f3a\"],[0.8888888888888888,\"#fdca26\"],[1.0,\"#f0f921\"]]},\"colorway\":[\"#636efa\",\"#EF553B\",\"#00cc96\",\"#ab63fa\",\"#FFA15A\",\"#19d3f3\",\"#FF6692\",\"#B6E880\",\"#FF97FF\",\"#FECB52\"],\"font\":{\"color\":\"#2a3f5f\"},\"geo\":{\"bgcolor\":\"white\",\"lakecolor\":\"white\",\"landcolor\":\"#E5ECF6\",\"showlakes\":true,\"showland\":true,\"subunitcolor\":\"white\"},\"hoverlabel\":{\"align\":\"left\"},\"hovermode\":\"closest\",\"mapbox\":{\"style\":\"light\"},\"paper_bgcolor\":\"white\",\"plot_bgcolor\":\"#E5ECF6\",\"polar\":{\"angularaxis\":{\"gridcolor\":\"white\",\"linecolor\":\"white\",\"ticks\":\"\"},\"bgcolor\":\"#E5ECF6\",\"radialaxis\":{\"gridcolor\":\"white\",\"linecolor\":\"white\",\"ticks\":\"\"}},\"scene\":{\"xaxis\":{\"backgroundcolor\":\"#E5ECF6\",\"gridcolor\":\"white\",\"gridwidth\":2,\"linecolor\":\"white\",\"showbackground\":true,\"ticks\":\"\",\"zerolinecolor\":\"white\"},\"yaxis\":{\"backgroundcolor\":\"#E5ECF6\",\"gridcolor\":\"white\",\"gridwidth\":2,\"linecolor\":\"white\",\"showbackground\":true,\"ticks\":\"\",\"zerolinecolor\":\"white\"},\"zaxis\":{\"backgroundcolor\":\"#E5ECF6\",\"gridcolor\":\"white\",\"gridwidth\":2,\"linecolor\":\"white\",\"showbackground\":true,\"ticks\":\"\",\"zerolinecolor\":\"white\"}},\"shapedefaults\":{\"line\":{\"color\":\"#2a3f5f\"}},\"ternary\":{\"aaxis\":{\"gridcolor\":\"white\",\"linecolor\":\"white\",\"ticks\":\"\"},\"baxis\":{\"gridcolor\":\"white\",\"linecolor\":\"white\",\"ticks\":\"\"},\"bgcolor\":\"#E5ECF6\",\"caxis\":{\"gridcolor\":\"white\",\"linecolor\":\"white\",\"ticks\":\"\"}},\"title\":{\"x\":0.05},\"xaxis\":{\"automargin\":true,\"gridcolor\":\"white\",\"linecolor\":\"white\",\"ticks\":\"\",\"title\":{\"standoff\":15},\"zerolinecolor\":\"white\",\"zerolinewidth\":2},\"yaxis\":{\"automargin\":true,\"gridcolor\":\"white\",\"linecolor\":\"white\",\"ticks\":\"\",\"title\":{\"standoff\":15},\"zerolinecolor\":\"white\",\"zerolinewidth\":2}}},\"title\":{\"font\":{\"color\":\"#4D5663\"}},\"xaxis\":{\"gridcolor\":\"#E1E5ED\",\"showgrid\":true,\"tickfont\":{\"color\":\"#4D5663\"},\"title\":{\"font\":{\"color\":\"#4D5663\"},\"text\":\"\"},\"zerolinecolor\":\"#E1E5ED\"},\"yaxis\":{\"gridcolor\":\"#E1E5ED\",\"showgrid\":true,\"tickfont\":{\"color\":\"#4D5663\"},\"title\":{\"font\":{\"color\":\"#4D5663\"},\"text\":\"\"},\"zerolinecolor\":\"#E1E5ED\"}},                        {\"showLink\": true, \"linkText\": \"Export to plot.ly\", \"plotlyServerURL\": \"https://plot.ly\", \"responsive\": true}                    ).then(function(){\n",
       "                            \n",
       "var gd = document.getElementById('102b09cc-7940-4d56-86a2-83c74ddafdda');\n",
       "var x = new MutationObserver(function (mutations, observer) {{\n",
       "        var display = window.getComputedStyle(gd).display;\n",
       "        if (!display || display === 'none') {{\n",
       "            console.log([gd, 'removed!']);\n",
       "            Plotly.purge(gd);\n",
       "            observer.disconnect();\n",
       "        }}\n",
       "}});\n",
       "\n",
       "// Listen for the removal of the full notebook cells\n",
       "var notebookContainer = gd.closest('#notebook-container');\n",
       "if (notebookContainer) {{\n",
       "    x.observe(notebookContainer, {childList: true});\n",
       "}}\n",
       "\n",
       "// Listen for the clearing of the current output cell\n",
       "var outputEl = gd.closest('.output');\n",
       "if (outputEl) {{\n",
       "    x.observe(outputEl, {childList: true});\n",
       "}}\n",
       "\n",
       "                        })                };                });            </script>        </div>"
      ]
     },
     "metadata": {},
     "output_type": "display_data"
    }
   ],
   "source": [
    "df4 = pd.DataFrame({'x':[1,2,3,4,5],'y':[10,20,30,20,10],'z':[5,4,3,2,1]})\n",
    "df4.iplot(kind='surface')"
   ]
  },
  {
   "cell_type": "markdown",
   "metadata": {},
   "source": [
    "We can customise the surface"
   ]
  },
  {
   "cell_type": "code",
   "execution_count": 22,
   "metadata": {},
   "outputs": [
    {
     "data": {
      "application/vnd.plotly.v1+json": {
       "config": {
        "linkText": "Export to plot.ly",
        "plotlyServerURL": "https://plot.ly",
        "showLink": true
       },
       "data": [
        {
         "colorscale": [
          [
           0,
           "rgb(165,0,38)"
          ],
          [
           0.1,
           "rgb(215,48,39)"
          ],
          [
           0.2,
           "rgb(244,109,67)"
          ],
          [
           0.3,
           "rgb(253,174,97)"
          ],
          [
           0.4,
           "rgb(254,224,144)"
          ],
          [
           0.5,
           "rgb(255,255,191)"
          ],
          [
           0.6,
           "rgb(224,243,248)"
          ],
          [
           0.7,
           "rgb(171,217,233)"
          ],
          [
           0.8,
           "rgb(116,173,209)"
          ],
          [
           0.9,
           "rgb(69,117,180)"
          ],
          [
           1,
           "rgb(49,54,149)"
          ]
         ],
         "type": "surface",
         "x": [
          0,
          1,
          2,
          3,
          4
         ],
         "y": [
          "x",
          "y",
          "z"
         ],
         "z": [
          [
           1,
           2,
           3,
           4,
           5
          ],
          [
           10,
           20,
           30,
           20,
           10
          ],
          [
           5,
           4,
           3,
           2,
           1
          ]
         ]
        }
       ],
       "layout": {
        "legend": {
         "bgcolor": "#F5F6F9",
         "font": {
          "color": "#4D5663"
         }
        },
        "paper_bgcolor": "#F5F6F9",
        "plot_bgcolor": "#F5F6F9",
        "template": {
         "data": {
          "bar": [
           {
            "error_x": {
             "color": "#2a3f5f"
            },
            "error_y": {
             "color": "#2a3f5f"
            },
            "marker": {
             "line": {
              "color": "#E5ECF6",
              "width": 0.5
             },
             "pattern": {
              "fillmode": "overlay",
              "size": 10,
              "solidity": 0.2
             }
            },
            "type": "bar"
           }
          ],
          "barpolar": [
           {
            "marker": {
             "line": {
              "color": "#E5ECF6",
              "width": 0.5
             },
             "pattern": {
              "fillmode": "overlay",
              "size": 10,
              "solidity": 0.2
             }
            },
            "type": "barpolar"
           }
          ],
          "carpet": [
           {
            "aaxis": {
             "endlinecolor": "#2a3f5f",
             "gridcolor": "white",
             "linecolor": "white",
             "minorgridcolor": "white",
             "startlinecolor": "#2a3f5f"
            },
            "baxis": {
             "endlinecolor": "#2a3f5f",
             "gridcolor": "white",
             "linecolor": "white",
             "minorgridcolor": "white",
             "startlinecolor": "#2a3f5f"
            },
            "type": "carpet"
           }
          ],
          "choropleth": [
           {
            "colorbar": {
             "outlinewidth": 0,
             "ticks": ""
            },
            "type": "choropleth"
           }
          ],
          "contour": [
           {
            "colorbar": {
             "outlinewidth": 0,
             "ticks": ""
            },
            "colorscale": [
             [
              0,
              "#0d0887"
             ],
             [
              0.1111111111111111,
              "#46039f"
             ],
             [
              0.2222222222222222,
              "#7201a8"
             ],
             [
              0.3333333333333333,
              "#9c179e"
             ],
             [
              0.4444444444444444,
              "#bd3786"
             ],
             [
              0.5555555555555556,
              "#d8576b"
             ],
             [
              0.6666666666666666,
              "#ed7953"
             ],
             [
              0.7777777777777778,
              "#fb9f3a"
             ],
             [
              0.8888888888888888,
              "#fdca26"
             ],
             [
              1,
              "#f0f921"
             ]
            ],
            "type": "contour"
           }
          ],
          "contourcarpet": [
           {
            "colorbar": {
             "outlinewidth": 0,
             "ticks": ""
            },
            "type": "contourcarpet"
           }
          ],
          "heatmap": [
           {
            "colorbar": {
             "outlinewidth": 0,
             "ticks": ""
            },
            "colorscale": [
             [
              0,
              "#0d0887"
             ],
             [
              0.1111111111111111,
              "#46039f"
             ],
             [
              0.2222222222222222,
              "#7201a8"
             ],
             [
              0.3333333333333333,
              "#9c179e"
             ],
             [
              0.4444444444444444,
              "#bd3786"
             ],
             [
              0.5555555555555556,
              "#d8576b"
             ],
             [
              0.6666666666666666,
              "#ed7953"
             ],
             [
              0.7777777777777778,
              "#fb9f3a"
             ],
             [
              0.8888888888888888,
              "#fdca26"
             ],
             [
              1,
              "#f0f921"
             ]
            ],
            "type": "heatmap"
           }
          ],
          "heatmapgl": [
           {
            "colorbar": {
             "outlinewidth": 0,
             "ticks": ""
            },
            "colorscale": [
             [
              0,
              "#0d0887"
             ],
             [
              0.1111111111111111,
              "#46039f"
             ],
             [
              0.2222222222222222,
              "#7201a8"
             ],
             [
              0.3333333333333333,
              "#9c179e"
             ],
             [
              0.4444444444444444,
              "#bd3786"
             ],
             [
              0.5555555555555556,
              "#d8576b"
             ],
             [
              0.6666666666666666,
              "#ed7953"
             ],
             [
              0.7777777777777778,
              "#fb9f3a"
             ],
             [
              0.8888888888888888,
              "#fdca26"
             ],
             [
              1,
              "#f0f921"
             ]
            ],
            "type": "heatmapgl"
           }
          ],
          "histogram": [
           {
            "marker": {
             "pattern": {
              "fillmode": "overlay",
              "size": 10,
              "solidity": 0.2
             }
            },
            "type": "histogram"
           }
          ],
          "histogram2d": [
           {
            "colorbar": {
             "outlinewidth": 0,
             "ticks": ""
            },
            "colorscale": [
             [
              0,
              "#0d0887"
             ],
             [
              0.1111111111111111,
              "#46039f"
             ],
             [
              0.2222222222222222,
              "#7201a8"
             ],
             [
              0.3333333333333333,
              "#9c179e"
             ],
             [
              0.4444444444444444,
              "#bd3786"
             ],
             [
              0.5555555555555556,
              "#d8576b"
             ],
             [
              0.6666666666666666,
              "#ed7953"
             ],
             [
              0.7777777777777778,
              "#fb9f3a"
             ],
             [
              0.8888888888888888,
              "#fdca26"
             ],
             [
              1,
              "#f0f921"
             ]
            ],
            "type": "histogram2d"
           }
          ],
          "histogram2dcontour": [
           {
            "colorbar": {
             "outlinewidth": 0,
             "ticks": ""
            },
            "colorscale": [
             [
              0,
              "#0d0887"
             ],
             [
              0.1111111111111111,
              "#46039f"
             ],
             [
              0.2222222222222222,
              "#7201a8"
             ],
             [
              0.3333333333333333,
              "#9c179e"
             ],
             [
              0.4444444444444444,
              "#bd3786"
             ],
             [
              0.5555555555555556,
              "#d8576b"
             ],
             [
              0.6666666666666666,
              "#ed7953"
             ],
             [
              0.7777777777777778,
              "#fb9f3a"
             ],
             [
              0.8888888888888888,
              "#fdca26"
             ],
             [
              1,
              "#f0f921"
             ]
            ],
            "type": "histogram2dcontour"
           }
          ],
          "mesh3d": [
           {
            "colorbar": {
             "outlinewidth": 0,
             "ticks": ""
            },
            "type": "mesh3d"
           }
          ],
          "parcoords": [
           {
            "line": {
             "colorbar": {
              "outlinewidth": 0,
              "ticks": ""
             }
            },
            "type": "parcoords"
           }
          ],
          "pie": [
           {
            "automargin": true,
            "type": "pie"
           }
          ],
          "scatter": [
           {
            "marker": {
             "colorbar": {
              "outlinewidth": 0,
              "ticks": ""
             }
            },
            "type": "scatter"
           }
          ],
          "scatter3d": [
           {
            "line": {
             "colorbar": {
              "outlinewidth": 0,
              "ticks": ""
             }
            },
            "marker": {
             "colorbar": {
              "outlinewidth": 0,
              "ticks": ""
             }
            },
            "type": "scatter3d"
           }
          ],
          "scattercarpet": [
           {
            "marker": {
             "colorbar": {
              "outlinewidth": 0,
              "ticks": ""
             }
            },
            "type": "scattercarpet"
           }
          ],
          "scattergeo": [
           {
            "marker": {
             "colorbar": {
              "outlinewidth": 0,
              "ticks": ""
             }
            },
            "type": "scattergeo"
           }
          ],
          "scattergl": [
           {
            "marker": {
             "colorbar": {
              "outlinewidth": 0,
              "ticks": ""
             }
            },
            "type": "scattergl"
           }
          ],
          "scattermapbox": [
           {
            "marker": {
             "colorbar": {
              "outlinewidth": 0,
              "ticks": ""
             }
            },
            "type": "scattermapbox"
           }
          ],
          "scatterpolar": [
           {
            "marker": {
             "colorbar": {
              "outlinewidth": 0,
              "ticks": ""
             }
            },
            "type": "scatterpolar"
           }
          ],
          "scatterpolargl": [
           {
            "marker": {
             "colorbar": {
              "outlinewidth": 0,
              "ticks": ""
             }
            },
            "type": "scatterpolargl"
           }
          ],
          "scatterternary": [
           {
            "marker": {
             "colorbar": {
              "outlinewidth": 0,
              "ticks": ""
             }
            },
            "type": "scatterternary"
           }
          ],
          "surface": [
           {
            "colorbar": {
             "outlinewidth": 0,
             "ticks": ""
            },
            "colorscale": [
             [
              0,
              "#0d0887"
             ],
             [
              0.1111111111111111,
              "#46039f"
             ],
             [
              0.2222222222222222,
              "#7201a8"
             ],
             [
              0.3333333333333333,
              "#9c179e"
             ],
             [
              0.4444444444444444,
              "#bd3786"
             ],
             [
              0.5555555555555556,
              "#d8576b"
             ],
             [
              0.6666666666666666,
              "#ed7953"
             ],
             [
              0.7777777777777778,
              "#fb9f3a"
             ],
             [
              0.8888888888888888,
              "#fdca26"
             ],
             [
              1,
              "#f0f921"
             ]
            ],
            "type": "surface"
           }
          ],
          "table": [
           {
            "cells": {
             "fill": {
              "color": "#EBF0F8"
             },
             "line": {
              "color": "white"
             }
            },
            "header": {
             "fill": {
              "color": "#C8D4E3"
             },
             "line": {
              "color": "white"
             }
            },
            "type": "table"
           }
          ]
         },
         "layout": {
          "annotationdefaults": {
           "arrowcolor": "#2a3f5f",
           "arrowhead": 0,
           "arrowwidth": 1
          },
          "autotypenumbers": "strict",
          "coloraxis": {
           "colorbar": {
            "outlinewidth": 0,
            "ticks": ""
           }
          },
          "colorscale": {
           "diverging": [
            [
             0,
             "#8e0152"
            ],
            [
             0.1,
             "#c51b7d"
            ],
            [
             0.2,
             "#de77ae"
            ],
            [
             0.3,
             "#f1b6da"
            ],
            [
             0.4,
             "#fde0ef"
            ],
            [
             0.5,
             "#f7f7f7"
            ],
            [
             0.6,
             "#e6f5d0"
            ],
            [
             0.7,
             "#b8e186"
            ],
            [
             0.8,
             "#7fbc41"
            ],
            [
             0.9,
             "#4d9221"
            ],
            [
             1,
             "#276419"
            ]
           ],
           "sequential": [
            [
             0,
             "#0d0887"
            ],
            [
             0.1111111111111111,
             "#46039f"
            ],
            [
             0.2222222222222222,
             "#7201a8"
            ],
            [
             0.3333333333333333,
             "#9c179e"
            ],
            [
             0.4444444444444444,
             "#bd3786"
            ],
            [
             0.5555555555555556,
             "#d8576b"
            ],
            [
             0.6666666666666666,
             "#ed7953"
            ],
            [
             0.7777777777777778,
             "#fb9f3a"
            ],
            [
             0.8888888888888888,
             "#fdca26"
            ],
            [
             1,
             "#f0f921"
            ]
           ],
           "sequentialminus": [
            [
             0,
             "#0d0887"
            ],
            [
             0.1111111111111111,
             "#46039f"
            ],
            [
             0.2222222222222222,
             "#7201a8"
            ],
            [
             0.3333333333333333,
             "#9c179e"
            ],
            [
             0.4444444444444444,
             "#bd3786"
            ],
            [
             0.5555555555555556,
             "#d8576b"
            ],
            [
             0.6666666666666666,
             "#ed7953"
            ],
            [
             0.7777777777777778,
             "#fb9f3a"
            ],
            [
             0.8888888888888888,
             "#fdca26"
            ],
            [
             1,
             "#f0f921"
            ]
           ]
          },
          "colorway": [
           "#636efa",
           "#EF553B",
           "#00cc96",
           "#ab63fa",
           "#FFA15A",
           "#19d3f3",
           "#FF6692",
           "#B6E880",
           "#FF97FF",
           "#FECB52"
          ],
          "font": {
           "color": "#2a3f5f"
          },
          "geo": {
           "bgcolor": "white",
           "lakecolor": "white",
           "landcolor": "#E5ECF6",
           "showlakes": true,
           "showland": true,
           "subunitcolor": "white"
          },
          "hoverlabel": {
           "align": "left"
          },
          "hovermode": "closest",
          "mapbox": {
           "style": "light"
          },
          "paper_bgcolor": "white",
          "plot_bgcolor": "#E5ECF6",
          "polar": {
           "angularaxis": {
            "gridcolor": "white",
            "linecolor": "white",
            "ticks": ""
           },
           "bgcolor": "#E5ECF6",
           "radialaxis": {
            "gridcolor": "white",
            "linecolor": "white",
            "ticks": ""
           }
          },
          "scene": {
           "xaxis": {
            "backgroundcolor": "#E5ECF6",
            "gridcolor": "white",
            "gridwidth": 2,
            "linecolor": "white",
            "showbackground": true,
            "ticks": "",
            "zerolinecolor": "white"
           },
           "yaxis": {
            "backgroundcolor": "#E5ECF6",
            "gridcolor": "white",
            "gridwidth": 2,
            "linecolor": "white",
            "showbackground": true,
            "ticks": "",
            "zerolinecolor": "white"
           },
           "zaxis": {
            "backgroundcolor": "#E5ECF6",
            "gridcolor": "white",
            "gridwidth": 2,
            "linecolor": "white",
            "showbackground": true,
            "ticks": "",
            "zerolinecolor": "white"
           }
          },
          "shapedefaults": {
           "line": {
            "color": "#2a3f5f"
           }
          },
          "ternary": {
           "aaxis": {
            "gridcolor": "white",
            "linecolor": "white",
            "ticks": ""
           },
           "baxis": {
            "gridcolor": "white",
            "linecolor": "white",
            "ticks": ""
           },
           "bgcolor": "#E5ECF6",
           "caxis": {
            "gridcolor": "white",
            "linecolor": "white",
            "ticks": ""
           }
          },
          "title": {
           "x": 0.05
          },
          "xaxis": {
           "automargin": true,
           "gridcolor": "white",
           "linecolor": "white",
           "ticks": "",
           "title": {
            "standoff": 15
           },
           "zerolinecolor": "white",
           "zerolinewidth": 2
          },
          "yaxis": {
           "automargin": true,
           "gridcolor": "white",
           "linecolor": "white",
           "ticks": "",
           "title": {
            "standoff": 15
           },
           "zerolinecolor": "white",
           "zerolinewidth": 2
          }
         }
        },
        "title": {
         "font": {
          "color": "#4D5663"
         }
        },
        "xaxis": {
         "gridcolor": "#E1E5ED",
         "showgrid": true,
         "tickfont": {
          "color": "#4D5663"
         },
         "title": {
          "font": {
           "color": "#4D5663"
          },
          "text": ""
         },
         "zerolinecolor": "#E1E5ED"
        },
        "yaxis": {
         "gridcolor": "#E1E5ED",
         "showgrid": true,
         "tickfont": {
          "color": "#4D5663"
         },
         "title": {
          "font": {
           "color": "#4D5663"
          },
          "text": ""
         },
         "zerolinecolor": "#E1E5ED"
        }
       }
      },
      "text/html": [
       "<div>                            <div id=\"ab4acd07-bf23-4350-bc89-9d1c323cc7a3\" class=\"plotly-graph-div\" style=\"height:525px; width:100%;\"></div>            <script type=\"text/javascript\">                require([\"plotly\"], function(Plotly) {                    window.PLOTLYENV=window.PLOTLYENV || {};\n",
       "                    window.PLOTLYENV.BASE_URL='https://plot.ly';                                    if (document.getElementById(\"ab4acd07-bf23-4350-bc89-9d1c323cc7a3\")) {                    Plotly.newPlot(                        \"ab4acd07-bf23-4350-bc89-9d1c323cc7a3\",                        [{\"colorscale\":[[0.0,\"rgb(165,0,38)\"],[0.1,\"rgb(215,48,39)\"],[0.2,\"rgb(244,109,67)\"],[0.3,\"rgb(253,174,97)\"],[0.4,\"rgb(254,224,144)\"],[0.5,\"rgb(255,255,191)\"],[0.6,\"rgb(224,243,248)\"],[0.7,\"rgb(171,217,233)\"],[0.8,\"rgb(116,173,209)\"],[0.9,\"rgb(69,117,180)\"],[1.0,\"rgb(49,54,149)\"]],\"type\":\"surface\",\"x\":[0,1,2,3,4],\"y\":[\"x\",\"y\",\"z\"],\"z\":[[1,2,3,4,5],[10,20,30,20,10],[5,4,3,2,1]]}],                        {\"legend\":{\"bgcolor\":\"#F5F6F9\",\"font\":{\"color\":\"#4D5663\"}},\"paper_bgcolor\":\"#F5F6F9\",\"plot_bgcolor\":\"#F5F6F9\",\"template\":{\"data\":{\"bar\":[{\"error_x\":{\"color\":\"#2a3f5f\"},\"error_y\":{\"color\":\"#2a3f5f\"},\"marker\":{\"line\":{\"color\":\"#E5ECF6\",\"width\":0.5},\"pattern\":{\"fillmode\":\"overlay\",\"size\":10,\"solidity\":0.2}},\"type\":\"bar\"}],\"barpolar\":[{\"marker\":{\"line\":{\"color\":\"#E5ECF6\",\"width\":0.5},\"pattern\":{\"fillmode\":\"overlay\",\"size\":10,\"solidity\":0.2}},\"type\":\"barpolar\"}],\"carpet\":[{\"aaxis\":{\"endlinecolor\":\"#2a3f5f\",\"gridcolor\":\"white\",\"linecolor\":\"white\",\"minorgridcolor\":\"white\",\"startlinecolor\":\"#2a3f5f\"},\"baxis\":{\"endlinecolor\":\"#2a3f5f\",\"gridcolor\":\"white\",\"linecolor\":\"white\",\"minorgridcolor\":\"white\",\"startlinecolor\":\"#2a3f5f\"},\"type\":\"carpet\"}],\"choropleth\":[{\"colorbar\":{\"outlinewidth\":0,\"ticks\":\"\"},\"type\":\"choropleth\"}],\"contour\":[{\"colorbar\":{\"outlinewidth\":0,\"ticks\":\"\"},\"colorscale\":[[0.0,\"#0d0887\"],[0.1111111111111111,\"#46039f\"],[0.2222222222222222,\"#7201a8\"],[0.3333333333333333,\"#9c179e\"],[0.4444444444444444,\"#bd3786\"],[0.5555555555555556,\"#d8576b\"],[0.6666666666666666,\"#ed7953\"],[0.7777777777777778,\"#fb9f3a\"],[0.8888888888888888,\"#fdca26\"],[1.0,\"#f0f921\"]],\"type\":\"contour\"}],\"contourcarpet\":[{\"colorbar\":{\"outlinewidth\":0,\"ticks\":\"\"},\"type\":\"contourcarpet\"}],\"heatmap\":[{\"colorbar\":{\"outlinewidth\":0,\"ticks\":\"\"},\"colorscale\":[[0.0,\"#0d0887\"],[0.1111111111111111,\"#46039f\"],[0.2222222222222222,\"#7201a8\"],[0.3333333333333333,\"#9c179e\"],[0.4444444444444444,\"#bd3786\"],[0.5555555555555556,\"#d8576b\"],[0.6666666666666666,\"#ed7953\"],[0.7777777777777778,\"#fb9f3a\"],[0.8888888888888888,\"#fdca26\"],[1.0,\"#f0f921\"]],\"type\":\"heatmap\"}],\"heatmapgl\":[{\"colorbar\":{\"outlinewidth\":0,\"ticks\":\"\"},\"colorscale\":[[0.0,\"#0d0887\"],[0.1111111111111111,\"#46039f\"],[0.2222222222222222,\"#7201a8\"],[0.3333333333333333,\"#9c179e\"],[0.4444444444444444,\"#bd3786\"],[0.5555555555555556,\"#d8576b\"],[0.6666666666666666,\"#ed7953\"],[0.7777777777777778,\"#fb9f3a\"],[0.8888888888888888,\"#fdca26\"],[1.0,\"#f0f921\"]],\"type\":\"heatmapgl\"}],\"histogram\":[{\"marker\":{\"pattern\":{\"fillmode\":\"overlay\",\"size\":10,\"solidity\":0.2}},\"type\":\"histogram\"}],\"histogram2d\":[{\"colorbar\":{\"outlinewidth\":0,\"ticks\":\"\"},\"colorscale\":[[0.0,\"#0d0887\"],[0.1111111111111111,\"#46039f\"],[0.2222222222222222,\"#7201a8\"],[0.3333333333333333,\"#9c179e\"],[0.4444444444444444,\"#bd3786\"],[0.5555555555555556,\"#d8576b\"],[0.6666666666666666,\"#ed7953\"],[0.7777777777777778,\"#fb9f3a\"],[0.8888888888888888,\"#fdca26\"],[1.0,\"#f0f921\"]],\"type\":\"histogram2d\"}],\"histogram2dcontour\":[{\"colorbar\":{\"outlinewidth\":0,\"ticks\":\"\"},\"colorscale\":[[0.0,\"#0d0887\"],[0.1111111111111111,\"#46039f\"],[0.2222222222222222,\"#7201a8\"],[0.3333333333333333,\"#9c179e\"],[0.4444444444444444,\"#bd3786\"],[0.5555555555555556,\"#d8576b\"],[0.6666666666666666,\"#ed7953\"],[0.7777777777777778,\"#fb9f3a\"],[0.8888888888888888,\"#fdca26\"],[1.0,\"#f0f921\"]],\"type\":\"histogram2dcontour\"}],\"mesh3d\":[{\"colorbar\":{\"outlinewidth\":0,\"ticks\":\"\"},\"type\":\"mesh3d\"}],\"parcoords\":[{\"line\":{\"colorbar\":{\"outlinewidth\":0,\"ticks\":\"\"}},\"type\":\"parcoords\"}],\"pie\":[{\"automargin\":true,\"type\":\"pie\"}],\"scatter\":[{\"marker\":{\"colorbar\":{\"outlinewidth\":0,\"ticks\":\"\"}},\"type\":\"scatter\"}],\"scatter3d\":[{\"line\":{\"colorbar\":{\"outlinewidth\":0,\"ticks\":\"\"}},\"marker\":{\"colorbar\":{\"outlinewidth\":0,\"ticks\":\"\"}},\"type\":\"scatter3d\"}],\"scattercarpet\":[{\"marker\":{\"colorbar\":{\"outlinewidth\":0,\"ticks\":\"\"}},\"type\":\"scattercarpet\"}],\"scattergeo\":[{\"marker\":{\"colorbar\":{\"outlinewidth\":0,\"ticks\":\"\"}},\"type\":\"scattergeo\"}],\"scattergl\":[{\"marker\":{\"colorbar\":{\"outlinewidth\":0,\"ticks\":\"\"}},\"type\":\"scattergl\"}],\"scattermapbox\":[{\"marker\":{\"colorbar\":{\"outlinewidth\":0,\"ticks\":\"\"}},\"type\":\"scattermapbox\"}],\"scatterpolar\":[{\"marker\":{\"colorbar\":{\"outlinewidth\":0,\"ticks\":\"\"}},\"type\":\"scatterpolar\"}],\"scatterpolargl\":[{\"marker\":{\"colorbar\":{\"outlinewidth\":0,\"ticks\":\"\"}},\"type\":\"scatterpolargl\"}],\"scatterternary\":[{\"marker\":{\"colorbar\":{\"outlinewidth\":0,\"ticks\":\"\"}},\"type\":\"scatterternary\"}],\"surface\":[{\"colorbar\":{\"outlinewidth\":0,\"ticks\":\"\"},\"colorscale\":[[0.0,\"#0d0887\"],[0.1111111111111111,\"#46039f\"],[0.2222222222222222,\"#7201a8\"],[0.3333333333333333,\"#9c179e\"],[0.4444444444444444,\"#bd3786\"],[0.5555555555555556,\"#d8576b\"],[0.6666666666666666,\"#ed7953\"],[0.7777777777777778,\"#fb9f3a\"],[0.8888888888888888,\"#fdca26\"],[1.0,\"#f0f921\"]],\"type\":\"surface\"}],\"table\":[{\"cells\":{\"fill\":{\"color\":\"#EBF0F8\"},\"line\":{\"color\":\"white\"}},\"header\":{\"fill\":{\"color\":\"#C8D4E3\"},\"line\":{\"color\":\"white\"}},\"type\":\"table\"}]},\"layout\":{\"annotationdefaults\":{\"arrowcolor\":\"#2a3f5f\",\"arrowhead\":0,\"arrowwidth\":1},\"autotypenumbers\":\"strict\",\"coloraxis\":{\"colorbar\":{\"outlinewidth\":0,\"ticks\":\"\"}},\"colorscale\":{\"diverging\":[[0,\"#8e0152\"],[0.1,\"#c51b7d\"],[0.2,\"#de77ae\"],[0.3,\"#f1b6da\"],[0.4,\"#fde0ef\"],[0.5,\"#f7f7f7\"],[0.6,\"#e6f5d0\"],[0.7,\"#b8e186\"],[0.8,\"#7fbc41\"],[0.9,\"#4d9221\"],[1,\"#276419\"]],\"sequential\":[[0.0,\"#0d0887\"],[0.1111111111111111,\"#46039f\"],[0.2222222222222222,\"#7201a8\"],[0.3333333333333333,\"#9c179e\"],[0.4444444444444444,\"#bd3786\"],[0.5555555555555556,\"#d8576b\"],[0.6666666666666666,\"#ed7953\"],[0.7777777777777778,\"#fb9f3a\"],[0.8888888888888888,\"#fdca26\"],[1.0,\"#f0f921\"]],\"sequentialminus\":[[0.0,\"#0d0887\"],[0.1111111111111111,\"#46039f\"],[0.2222222222222222,\"#7201a8\"],[0.3333333333333333,\"#9c179e\"],[0.4444444444444444,\"#bd3786\"],[0.5555555555555556,\"#d8576b\"],[0.6666666666666666,\"#ed7953\"],[0.7777777777777778,\"#fb9f3a\"],[0.8888888888888888,\"#fdca26\"],[1.0,\"#f0f921\"]]},\"colorway\":[\"#636efa\",\"#EF553B\",\"#00cc96\",\"#ab63fa\",\"#FFA15A\",\"#19d3f3\",\"#FF6692\",\"#B6E880\",\"#FF97FF\",\"#FECB52\"],\"font\":{\"color\":\"#2a3f5f\"},\"geo\":{\"bgcolor\":\"white\",\"lakecolor\":\"white\",\"landcolor\":\"#E5ECF6\",\"showlakes\":true,\"showland\":true,\"subunitcolor\":\"white\"},\"hoverlabel\":{\"align\":\"left\"},\"hovermode\":\"closest\",\"mapbox\":{\"style\":\"light\"},\"paper_bgcolor\":\"white\",\"plot_bgcolor\":\"#E5ECF6\",\"polar\":{\"angularaxis\":{\"gridcolor\":\"white\",\"linecolor\":\"white\",\"ticks\":\"\"},\"bgcolor\":\"#E5ECF6\",\"radialaxis\":{\"gridcolor\":\"white\",\"linecolor\":\"white\",\"ticks\":\"\"}},\"scene\":{\"xaxis\":{\"backgroundcolor\":\"#E5ECF6\",\"gridcolor\":\"white\",\"gridwidth\":2,\"linecolor\":\"white\",\"showbackground\":true,\"ticks\":\"\",\"zerolinecolor\":\"white\"},\"yaxis\":{\"backgroundcolor\":\"#E5ECF6\",\"gridcolor\":\"white\",\"gridwidth\":2,\"linecolor\":\"white\",\"showbackground\":true,\"ticks\":\"\",\"zerolinecolor\":\"white\"},\"zaxis\":{\"backgroundcolor\":\"#E5ECF6\",\"gridcolor\":\"white\",\"gridwidth\":2,\"linecolor\":\"white\",\"showbackground\":true,\"ticks\":\"\",\"zerolinecolor\":\"white\"}},\"shapedefaults\":{\"line\":{\"color\":\"#2a3f5f\"}},\"ternary\":{\"aaxis\":{\"gridcolor\":\"white\",\"linecolor\":\"white\",\"ticks\":\"\"},\"baxis\":{\"gridcolor\":\"white\",\"linecolor\":\"white\",\"ticks\":\"\"},\"bgcolor\":\"#E5ECF6\",\"caxis\":{\"gridcolor\":\"white\",\"linecolor\":\"white\",\"ticks\":\"\"}},\"title\":{\"x\":0.05},\"xaxis\":{\"automargin\":true,\"gridcolor\":\"white\",\"linecolor\":\"white\",\"ticks\":\"\",\"title\":{\"standoff\":15},\"zerolinecolor\":\"white\",\"zerolinewidth\":2},\"yaxis\":{\"automargin\":true,\"gridcolor\":\"white\",\"linecolor\":\"white\",\"ticks\":\"\",\"title\":{\"standoff\":15},\"zerolinecolor\":\"white\",\"zerolinewidth\":2}}},\"title\":{\"font\":{\"color\":\"#4D5663\"}},\"xaxis\":{\"gridcolor\":\"#E1E5ED\",\"showgrid\":true,\"tickfont\":{\"color\":\"#4D5663\"},\"title\":{\"font\":{\"color\":\"#4D5663\"},\"text\":\"\"},\"zerolinecolor\":\"#E1E5ED\"},\"yaxis\":{\"gridcolor\":\"#E1E5ED\",\"showgrid\":true,\"tickfont\":{\"color\":\"#4D5663\"},\"title\":{\"font\":{\"color\":\"#4D5663\"},\"text\":\"\"},\"zerolinecolor\":\"#E1E5ED\"}},                        {\"showLink\": true, \"linkText\": \"Export to plot.ly\", \"plotlyServerURL\": \"https://plot.ly\", \"responsive\": true}                    ).then(function(){\n",
       "                            \n",
       "var gd = document.getElementById('ab4acd07-bf23-4350-bc89-9d1c323cc7a3');\n",
       "var x = new MutationObserver(function (mutations, observer) {{\n",
       "        var display = window.getComputedStyle(gd).display;\n",
       "        if (!display || display === 'none') {{\n",
       "            console.log([gd, 'removed!']);\n",
       "            Plotly.purge(gd);\n",
       "            observer.disconnect();\n",
       "        }}\n",
       "}});\n",
       "\n",
       "// Listen for the removal of the full notebook cells\n",
       "var notebookContainer = gd.closest('#notebook-container');\n",
       "if (notebookContainer) {{\n",
       "    x.observe(notebookContainer, {childList: true});\n",
       "}}\n",
       "\n",
       "// Listen for the clearing of the current output cell\n",
       "var outputEl = gd.closest('.output');\n",
       "if (outputEl) {{\n",
       "    x.observe(outputEl, {childList: true});\n",
       "}}\n",
       "\n",
       "                        })                };                });            </script>        </div>"
      ]
     },
     "metadata": {},
     "output_type": "display_data"
    }
   ],
   "source": [
    "df4.iplot(kind='surface',colorscale='rdylbu')  # First and third letters of the colour"
   ]
  },
  {
   "cell_type": "markdown",
   "metadata": {},
   "source": [
    "**Histogram**"
   ]
  },
  {
   "cell_type": "code",
   "execution_count": 25,
   "metadata": {},
   "outputs": [
    {
     "data": {
      "application/vnd.plotly.v1+json": {
       "config": {
        "linkText": "Export to plot.ly",
        "plotlyServerURL": "https://plot.ly",
        "showLink": true
       },
       "data": [
        {
         "histfunc": "count",
         "histnorm": "",
         "marker": {
          "color": "rgba(255, 153, 51, 1.0)",
          "line": {
           "color": "#4D5663",
           "width": 1.3
          }
         },
         "name": "A",
         "nbinsx": 20,
         "opacity": 0.8,
         "orientation": "v",
         "type": "histogram",
         "x": [
          -0.2476021517537956,
          0.11874398704528717,
          -1.5986470436970923,
          1.4523802703570448,
          1.6090995991476928,
          0.36229045933429543,
          0.08354651513332022,
          -0.3527933783544127,
          0.5176107966859301,
          -0.833819690766652,
          0.20565072543497975,
          1.9944702000830496,
          -0.35151191314525854,
          -0.826196054882016,
          0.9599029122425612,
          0.8735380178138376,
          -1.644708644572304,
          -1.7738813013900911,
          1.7275862931329586,
          1.2410803233237333,
          -0.47371612259000284,
          1.414213513123541,
          1.458493689936051,
          0.3272856232608136,
          0.3165687182176862,
          0.8414601116357942,
          -0.32475580337050364,
          1.0868940465653318,
          0.4745634553998436,
          -0.2734907459319492,
          1.7936403614043865,
          0.2702198507442268,
          0.23166334935090627,
          0.2149514489904918,
          -0.15239433999431595,
          -0.46485670290661824,
          0.1769888823174567,
          0.9251355276226852,
          -2.923639876842984,
          -1.0036342420862625,
          -1.5972731861258282,
          -0.5863668064009814,
          0.24330756172163637,
          1.0711554663396936,
          0.7912213795894234,
          0.8222629425793855,
          -0.07065589111053654,
          -0.6059385075201855,
          -1.2444487075452308,
          -0.2986809340328696,
          2.1470548990107736,
          -0.9581686455331494,
          -0.14557432693872532,
          -0.4416089409116146,
          0.9352295488236574,
          -1.0506573059035353,
          1.3879041094191515,
          -0.6297383736287204,
          1.2161526628947408,
          0.9380321876702106,
          -0.3186924706946208,
          -1.0451195297871672,
          0.8789782921221527,
          -1.0706299167541156,
          -0.6134943608834571,
          2.114366282469496,
          0.4804360014579106,
          -0.10967689810515825,
          1.1730100543660051,
          0.6680577732576941,
          -1.1540774070386632,
          -0.4851203250530739,
          -0.06824582550241688,
          -0.4860733169583027,
          -1.3724089125985697,
          0.12312942342868287,
          0.16293029773806567,
          1.2974841267330905,
          3.354031799722983,
          -1.5810817578094538,
          0.8052116693646469,
          1.7562243908207342,
          0.5228297709229516,
          -0.8617659959734791,
          0.0620426273685626,
          0.16012867729300984,
          0.09689851489854824,
          -0.1137666435097898,
          1.803702528945463,
          0.2660268294434981,
          0.21102177430662458,
          -0.12523484176846558,
          -1.3224865786008155,
          -0.23270849471023752,
          -1.3608262494607177,
          1.6803295754838412,
          -0.26619167545737504,
          -1.2418906810336272,
          0.6446602759776894,
          -0.9887246241264553
         ]
        }
       ],
       "layout": {
        "barmode": "overlay",
        "legend": {
         "bgcolor": "#F5F6F9",
         "font": {
          "color": "#4D5663"
         }
        },
        "paper_bgcolor": "#F5F6F9",
        "plot_bgcolor": "#F5F6F9",
        "template": {
         "data": {
          "bar": [
           {
            "error_x": {
             "color": "#2a3f5f"
            },
            "error_y": {
             "color": "#2a3f5f"
            },
            "marker": {
             "line": {
              "color": "#E5ECF6",
              "width": 0.5
             },
             "pattern": {
              "fillmode": "overlay",
              "size": 10,
              "solidity": 0.2
             }
            },
            "type": "bar"
           }
          ],
          "barpolar": [
           {
            "marker": {
             "line": {
              "color": "#E5ECF6",
              "width": 0.5
             },
             "pattern": {
              "fillmode": "overlay",
              "size": 10,
              "solidity": 0.2
             }
            },
            "type": "barpolar"
           }
          ],
          "carpet": [
           {
            "aaxis": {
             "endlinecolor": "#2a3f5f",
             "gridcolor": "white",
             "linecolor": "white",
             "minorgridcolor": "white",
             "startlinecolor": "#2a3f5f"
            },
            "baxis": {
             "endlinecolor": "#2a3f5f",
             "gridcolor": "white",
             "linecolor": "white",
             "minorgridcolor": "white",
             "startlinecolor": "#2a3f5f"
            },
            "type": "carpet"
           }
          ],
          "choropleth": [
           {
            "colorbar": {
             "outlinewidth": 0,
             "ticks": ""
            },
            "type": "choropleth"
           }
          ],
          "contour": [
           {
            "colorbar": {
             "outlinewidth": 0,
             "ticks": ""
            },
            "colorscale": [
             [
              0,
              "#0d0887"
             ],
             [
              0.1111111111111111,
              "#46039f"
             ],
             [
              0.2222222222222222,
              "#7201a8"
             ],
             [
              0.3333333333333333,
              "#9c179e"
             ],
             [
              0.4444444444444444,
              "#bd3786"
             ],
             [
              0.5555555555555556,
              "#d8576b"
             ],
             [
              0.6666666666666666,
              "#ed7953"
             ],
             [
              0.7777777777777778,
              "#fb9f3a"
             ],
             [
              0.8888888888888888,
              "#fdca26"
             ],
             [
              1,
              "#f0f921"
             ]
            ],
            "type": "contour"
           }
          ],
          "contourcarpet": [
           {
            "colorbar": {
             "outlinewidth": 0,
             "ticks": ""
            },
            "type": "contourcarpet"
           }
          ],
          "heatmap": [
           {
            "colorbar": {
             "outlinewidth": 0,
             "ticks": ""
            },
            "colorscale": [
             [
              0,
              "#0d0887"
             ],
             [
              0.1111111111111111,
              "#46039f"
             ],
             [
              0.2222222222222222,
              "#7201a8"
             ],
             [
              0.3333333333333333,
              "#9c179e"
             ],
             [
              0.4444444444444444,
              "#bd3786"
             ],
             [
              0.5555555555555556,
              "#d8576b"
             ],
             [
              0.6666666666666666,
              "#ed7953"
             ],
             [
              0.7777777777777778,
              "#fb9f3a"
             ],
             [
              0.8888888888888888,
              "#fdca26"
             ],
             [
              1,
              "#f0f921"
             ]
            ],
            "type": "heatmap"
           }
          ],
          "heatmapgl": [
           {
            "colorbar": {
             "outlinewidth": 0,
             "ticks": ""
            },
            "colorscale": [
             [
              0,
              "#0d0887"
             ],
             [
              0.1111111111111111,
              "#46039f"
             ],
             [
              0.2222222222222222,
              "#7201a8"
             ],
             [
              0.3333333333333333,
              "#9c179e"
             ],
             [
              0.4444444444444444,
              "#bd3786"
             ],
             [
              0.5555555555555556,
              "#d8576b"
             ],
             [
              0.6666666666666666,
              "#ed7953"
             ],
             [
              0.7777777777777778,
              "#fb9f3a"
             ],
             [
              0.8888888888888888,
              "#fdca26"
             ],
             [
              1,
              "#f0f921"
             ]
            ],
            "type": "heatmapgl"
           }
          ],
          "histogram": [
           {
            "marker": {
             "pattern": {
              "fillmode": "overlay",
              "size": 10,
              "solidity": 0.2
             }
            },
            "type": "histogram"
           }
          ],
          "histogram2d": [
           {
            "colorbar": {
             "outlinewidth": 0,
             "ticks": ""
            },
            "colorscale": [
             [
              0,
              "#0d0887"
             ],
             [
              0.1111111111111111,
              "#46039f"
             ],
             [
              0.2222222222222222,
              "#7201a8"
             ],
             [
              0.3333333333333333,
              "#9c179e"
             ],
             [
              0.4444444444444444,
              "#bd3786"
             ],
             [
              0.5555555555555556,
              "#d8576b"
             ],
             [
              0.6666666666666666,
              "#ed7953"
             ],
             [
              0.7777777777777778,
              "#fb9f3a"
             ],
             [
              0.8888888888888888,
              "#fdca26"
             ],
             [
              1,
              "#f0f921"
             ]
            ],
            "type": "histogram2d"
           }
          ],
          "histogram2dcontour": [
           {
            "colorbar": {
             "outlinewidth": 0,
             "ticks": ""
            },
            "colorscale": [
             [
              0,
              "#0d0887"
             ],
             [
              0.1111111111111111,
              "#46039f"
             ],
             [
              0.2222222222222222,
              "#7201a8"
             ],
             [
              0.3333333333333333,
              "#9c179e"
             ],
             [
              0.4444444444444444,
              "#bd3786"
             ],
             [
              0.5555555555555556,
              "#d8576b"
             ],
             [
              0.6666666666666666,
              "#ed7953"
             ],
             [
              0.7777777777777778,
              "#fb9f3a"
             ],
             [
              0.8888888888888888,
              "#fdca26"
             ],
             [
              1,
              "#f0f921"
             ]
            ],
            "type": "histogram2dcontour"
           }
          ],
          "mesh3d": [
           {
            "colorbar": {
             "outlinewidth": 0,
             "ticks": ""
            },
            "type": "mesh3d"
           }
          ],
          "parcoords": [
           {
            "line": {
             "colorbar": {
              "outlinewidth": 0,
              "ticks": ""
             }
            },
            "type": "parcoords"
           }
          ],
          "pie": [
           {
            "automargin": true,
            "type": "pie"
           }
          ],
          "scatter": [
           {
            "marker": {
             "colorbar": {
              "outlinewidth": 0,
              "ticks": ""
             }
            },
            "type": "scatter"
           }
          ],
          "scatter3d": [
           {
            "line": {
             "colorbar": {
              "outlinewidth": 0,
              "ticks": ""
             }
            },
            "marker": {
             "colorbar": {
              "outlinewidth": 0,
              "ticks": ""
             }
            },
            "type": "scatter3d"
           }
          ],
          "scattercarpet": [
           {
            "marker": {
             "colorbar": {
              "outlinewidth": 0,
              "ticks": ""
             }
            },
            "type": "scattercarpet"
           }
          ],
          "scattergeo": [
           {
            "marker": {
             "colorbar": {
              "outlinewidth": 0,
              "ticks": ""
             }
            },
            "type": "scattergeo"
           }
          ],
          "scattergl": [
           {
            "marker": {
             "colorbar": {
              "outlinewidth": 0,
              "ticks": ""
             }
            },
            "type": "scattergl"
           }
          ],
          "scattermapbox": [
           {
            "marker": {
             "colorbar": {
              "outlinewidth": 0,
              "ticks": ""
             }
            },
            "type": "scattermapbox"
           }
          ],
          "scatterpolar": [
           {
            "marker": {
             "colorbar": {
              "outlinewidth": 0,
              "ticks": ""
             }
            },
            "type": "scatterpolar"
           }
          ],
          "scatterpolargl": [
           {
            "marker": {
             "colorbar": {
              "outlinewidth": 0,
              "ticks": ""
             }
            },
            "type": "scatterpolargl"
           }
          ],
          "scatterternary": [
           {
            "marker": {
             "colorbar": {
              "outlinewidth": 0,
              "ticks": ""
             }
            },
            "type": "scatterternary"
           }
          ],
          "surface": [
           {
            "colorbar": {
             "outlinewidth": 0,
             "ticks": ""
            },
            "colorscale": [
             [
              0,
              "#0d0887"
             ],
             [
              0.1111111111111111,
              "#46039f"
             ],
             [
              0.2222222222222222,
              "#7201a8"
             ],
             [
              0.3333333333333333,
              "#9c179e"
             ],
             [
              0.4444444444444444,
              "#bd3786"
             ],
             [
              0.5555555555555556,
              "#d8576b"
             ],
             [
              0.6666666666666666,
              "#ed7953"
             ],
             [
              0.7777777777777778,
              "#fb9f3a"
             ],
             [
              0.8888888888888888,
              "#fdca26"
             ],
             [
              1,
              "#f0f921"
             ]
            ],
            "type": "surface"
           }
          ],
          "table": [
           {
            "cells": {
             "fill": {
              "color": "#EBF0F8"
             },
             "line": {
              "color": "white"
             }
            },
            "header": {
             "fill": {
              "color": "#C8D4E3"
             },
             "line": {
              "color": "white"
             }
            },
            "type": "table"
           }
          ]
         },
         "layout": {
          "annotationdefaults": {
           "arrowcolor": "#2a3f5f",
           "arrowhead": 0,
           "arrowwidth": 1
          },
          "autotypenumbers": "strict",
          "coloraxis": {
           "colorbar": {
            "outlinewidth": 0,
            "ticks": ""
           }
          },
          "colorscale": {
           "diverging": [
            [
             0,
             "#8e0152"
            ],
            [
             0.1,
             "#c51b7d"
            ],
            [
             0.2,
             "#de77ae"
            ],
            [
             0.3,
             "#f1b6da"
            ],
            [
             0.4,
             "#fde0ef"
            ],
            [
             0.5,
             "#f7f7f7"
            ],
            [
             0.6,
             "#e6f5d0"
            ],
            [
             0.7,
             "#b8e186"
            ],
            [
             0.8,
             "#7fbc41"
            ],
            [
             0.9,
             "#4d9221"
            ],
            [
             1,
             "#276419"
            ]
           ],
           "sequential": [
            [
             0,
             "#0d0887"
            ],
            [
             0.1111111111111111,
             "#46039f"
            ],
            [
             0.2222222222222222,
             "#7201a8"
            ],
            [
             0.3333333333333333,
             "#9c179e"
            ],
            [
             0.4444444444444444,
             "#bd3786"
            ],
            [
             0.5555555555555556,
             "#d8576b"
            ],
            [
             0.6666666666666666,
             "#ed7953"
            ],
            [
             0.7777777777777778,
             "#fb9f3a"
            ],
            [
             0.8888888888888888,
             "#fdca26"
            ],
            [
             1,
             "#f0f921"
            ]
           ],
           "sequentialminus": [
            [
             0,
             "#0d0887"
            ],
            [
             0.1111111111111111,
             "#46039f"
            ],
            [
             0.2222222222222222,
             "#7201a8"
            ],
            [
             0.3333333333333333,
             "#9c179e"
            ],
            [
             0.4444444444444444,
             "#bd3786"
            ],
            [
             0.5555555555555556,
             "#d8576b"
            ],
            [
             0.6666666666666666,
             "#ed7953"
            ],
            [
             0.7777777777777778,
             "#fb9f3a"
            ],
            [
             0.8888888888888888,
             "#fdca26"
            ],
            [
             1,
             "#f0f921"
            ]
           ]
          },
          "colorway": [
           "#636efa",
           "#EF553B",
           "#00cc96",
           "#ab63fa",
           "#FFA15A",
           "#19d3f3",
           "#FF6692",
           "#B6E880",
           "#FF97FF",
           "#FECB52"
          ],
          "font": {
           "color": "#2a3f5f"
          },
          "geo": {
           "bgcolor": "white",
           "lakecolor": "white",
           "landcolor": "#E5ECF6",
           "showlakes": true,
           "showland": true,
           "subunitcolor": "white"
          },
          "hoverlabel": {
           "align": "left"
          },
          "hovermode": "closest",
          "mapbox": {
           "style": "light"
          },
          "paper_bgcolor": "white",
          "plot_bgcolor": "#E5ECF6",
          "polar": {
           "angularaxis": {
            "gridcolor": "white",
            "linecolor": "white",
            "ticks": ""
           },
           "bgcolor": "#E5ECF6",
           "radialaxis": {
            "gridcolor": "white",
            "linecolor": "white",
            "ticks": ""
           }
          },
          "scene": {
           "xaxis": {
            "backgroundcolor": "#E5ECF6",
            "gridcolor": "white",
            "gridwidth": 2,
            "linecolor": "white",
            "showbackground": true,
            "ticks": "",
            "zerolinecolor": "white"
           },
           "yaxis": {
            "backgroundcolor": "#E5ECF6",
            "gridcolor": "white",
            "gridwidth": 2,
            "linecolor": "white",
            "showbackground": true,
            "ticks": "",
            "zerolinecolor": "white"
           },
           "zaxis": {
            "backgroundcolor": "#E5ECF6",
            "gridcolor": "white",
            "gridwidth": 2,
            "linecolor": "white",
            "showbackground": true,
            "ticks": "",
            "zerolinecolor": "white"
           }
          },
          "shapedefaults": {
           "line": {
            "color": "#2a3f5f"
           }
          },
          "ternary": {
           "aaxis": {
            "gridcolor": "white",
            "linecolor": "white",
            "ticks": ""
           },
           "baxis": {
            "gridcolor": "white",
            "linecolor": "white",
            "ticks": ""
           },
           "bgcolor": "#E5ECF6",
           "caxis": {
            "gridcolor": "white",
            "linecolor": "white",
            "ticks": ""
           }
          },
          "title": {
           "x": 0.05
          },
          "xaxis": {
           "automargin": true,
           "gridcolor": "white",
           "linecolor": "white",
           "ticks": "",
           "title": {
            "standoff": 15
           },
           "zerolinecolor": "white",
           "zerolinewidth": 2
          },
          "yaxis": {
           "automargin": true,
           "gridcolor": "white",
           "linecolor": "white",
           "ticks": "",
           "title": {
            "standoff": 15
           },
           "zerolinecolor": "white",
           "zerolinewidth": 2
          }
         }
        },
        "title": {
         "font": {
          "color": "#4D5663"
         }
        },
        "xaxis": {
         "gridcolor": "#E1E5ED",
         "showgrid": true,
         "tickfont": {
          "color": "#4D5663"
         },
         "title": {
          "font": {
           "color": "#4D5663"
          },
          "text": ""
         },
         "zerolinecolor": "#E1E5ED"
        },
        "yaxis": {
         "gridcolor": "#E1E5ED",
         "showgrid": true,
         "tickfont": {
          "color": "#4D5663"
         },
         "title": {
          "font": {
           "color": "#4D5663"
          },
          "text": ""
         },
         "zerolinecolor": "#E1E5ED"
        }
       }
      },
      "text/html": [
       "<div>                            <div id=\"92ee4b29-2b6d-4a58-9dd3-6eb10856a26f\" class=\"plotly-graph-div\" style=\"height:525px; width:100%;\"></div>            <script type=\"text/javascript\">                require([\"plotly\"], function(Plotly) {                    window.PLOTLYENV=window.PLOTLYENV || {};\n",
       "                    window.PLOTLYENV.BASE_URL='https://plot.ly';                                    if (document.getElementById(\"92ee4b29-2b6d-4a58-9dd3-6eb10856a26f\")) {                    Plotly.newPlot(                        \"92ee4b29-2b6d-4a58-9dd3-6eb10856a26f\",                        [{\"histfunc\":\"count\",\"histnorm\":\"\",\"marker\":{\"color\":\"rgba(255, 153, 51, 1.0)\",\"line\":{\"color\":\"#4D5663\",\"width\":1.3}},\"name\":\"A\",\"nbinsx\":20,\"opacity\":0.8,\"orientation\":\"v\",\"type\":\"histogram\",\"x\":[-0.2476021517537956,0.11874398704528717,-1.5986470436970923,1.4523802703570448,1.6090995991476928,0.36229045933429543,0.08354651513332022,-0.3527933783544127,0.5176107966859301,-0.833819690766652,0.20565072543497975,1.9944702000830496,-0.35151191314525854,-0.826196054882016,0.9599029122425612,0.8735380178138376,-1.644708644572304,-1.7738813013900911,1.7275862931329586,1.2410803233237333,-0.47371612259000284,1.414213513123541,1.458493689936051,0.3272856232608136,0.3165687182176862,0.8414601116357942,-0.32475580337050364,1.0868940465653318,0.4745634553998436,-0.2734907459319492,1.7936403614043865,0.2702198507442268,0.23166334935090627,0.2149514489904918,-0.15239433999431595,-0.46485670290661824,0.1769888823174567,0.9251355276226852,-2.923639876842984,-1.0036342420862625,-1.5972731861258282,-0.5863668064009814,0.24330756172163637,1.0711554663396936,0.7912213795894234,0.8222629425793855,-0.07065589111053654,-0.6059385075201855,-1.2444487075452308,-0.2986809340328696,2.1470548990107736,-0.9581686455331494,-0.14557432693872532,-0.4416089409116146,0.9352295488236574,-1.0506573059035353,1.3879041094191515,-0.6297383736287204,1.2161526628947408,0.9380321876702106,-0.3186924706946208,-1.0451195297871672,0.8789782921221527,-1.0706299167541156,-0.6134943608834571,2.114366282469496,0.4804360014579106,-0.10967689810515825,1.1730100543660051,0.6680577732576941,-1.1540774070386632,-0.4851203250530739,-0.06824582550241688,-0.4860733169583027,-1.3724089125985697,0.12312942342868287,0.16293029773806567,1.2974841267330905,3.354031799722983,-1.5810817578094538,0.8052116693646469,1.7562243908207342,0.5228297709229516,-0.8617659959734791,0.0620426273685626,0.16012867729300984,0.09689851489854824,-0.1137666435097898,1.803702528945463,0.2660268294434981,0.21102177430662458,-0.12523484176846558,-1.3224865786008155,-0.23270849471023752,-1.3608262494607177,1.6803295754838412,-0.26619167545737504,-1.2418906810336272,0.6446602759776894,-0.9887246241264553]}],                        {\"barmode\":\"overlay\",\"legend\":{\"bgcolor\":\"#F5F6F9\",\"font\":{\"color\":\"#4D5663\"}},\"paper_bgcolor\":\"#F5F6F9\",\"plot_bgcolor\":\"#F5F6F9\",\"template\":{\"data\":{\"bar\":[{\"error_x\":{\"color\":\"#2a3f5f\"},\"error_y\":{\"color\":\"#2a3f5f\"},\"marker\":{\"line\":{\"color\":\"#E5ECF6\",\"width\":0.5},\"pattern\":{\"fillmode\":\"overlay\",\"size\":10,\"solidity\":0.2}},\"type\":\"bar\"}],\"barpolar\":[{\"marker\":{\"line\":{\"color\":\"#E5ECF6\",\"width\":0.5},\"pattern\":{\"fillmode\":\"overlay\",\"size\":10,\"solidity\":0.2}},\"type\":\"barpolar\"}],\"carpet\":[{\"aaxis\":{\"endlinecolor\":\"#2a3f5f\",\"gridcolor\":\"white\",\"linecolor\":\"white\",\"minorgridcolor\":\"white\",\"startlinecolor\":\"#2a3f5f\"},\"baxis\":{\"endlinecolor\":\"#2a3f5f\",\"gridcolor\":\"white\",\"linecolor\":\"white\",\"minorgridcolor\":\"white\",\"startlinecolor\":\"#2a3f5f\"},\"type\":\"carpet\"}],\"choropleth\":[{\"colorbar\":{\"outlinewidth\":0,\"ticks\":\"\"},\"type\":\"choropleth\"}],\"contour\":[{\"colorbar\":{\"outlinewidth\":0,\"ticks\":\"\"},\"colorscale\":[[0.0,\"#0d0887\"],[0.1111111111111111,\"#46039f\"],[0.2222222222222222,\"#7201a8\"],[0.3333333333333333,\"#9c179e\"],[0.4444444444444444,\"#bd3786\"],[0.5555555555555556,\"#d8576b\"],[0.6666666666666666,\"#ed7953\"],[0.7777777777777778,\"#fb9f3a\"],[0.8888888888888888,\"#fdca26\"],[1.0,\"#f0f921\"]],\"type\":\"contour\"}],\"contourcarpet\":[{\"colorbar\":{\"outlinewidth\":0,\"ticks\":\"\"},\"type\":\"contourcarpet\"}],\"heatmap\":[{\"colorbar\":{\"outlinewidth\":0,\"ticks\":\"\"},\"colorscale\":[[0.0,\"#0d0887\"],[0.1111111111111111,\"#46039f\"],[0.2222222222222222,\"#7201a8\"],[0.3333333333333333,\"#9c179e\"],[0.4444444444444444,\"#bd3786\"],[0.5555555555555556,\"#d8576b\"],[0.6666666666666666,\"#ed7953\"],[0.7777777777777778,\"#fb9f3a\"],[0.8888888888888888,\"#fdca26\"],[1.0,\"#f0f921\"]],\"type\":\"heatmap\"}],\"heatmapgl\":[{\"colorbar\":{\"outlinewidth\":0,\"ticks\":\"\"},\"colorscale\":[[0.0,\"#0d0887\"],[0.1111111111111111,\"#46039f\"],[0.2222222222222222,\"#7201a8\"],[0.3333333333333333,\"#9c179e\"],[0.4444444444444444,\"#bd3786\"],[0.5555555555555556,\"#d8576b\"],[0.6666666666666666,\"#ed7953\"],[0.7777777777777778,\"#fb9f3a\"],[0.8888888888888888,\"#fdca26\"],[1.0,\"#f0f921\"]],\"type\":\"heatmapgl\"}],\"histogram\":[{\"marker\":{\"pattern\":{\"fillmode\":\"overlay\",\"size\":10,\"solidity\":0.2}},\"type\":\"histogram\"}],\"histogram2d\":[{\"colorbar\":{\"outlinewidth\":0,\"ticks\":\"\"},\"colorscale\":[[0.0,\"#0d0887\"],[0.1111111111111111,\"#46039f\"],[0.2222222222222222,\"#7201a8\"],[0.3333333333333333,\"#9c179e\"],[0.4444444444444444,\"#bd3786\"],[0.5555555555555556,\"#d8576b\"],[0.6666666666666666,\"#ed7953\"],[0.7777777777777778,\"#fb9f3a\"],[0.8888888888888888,\"#fdca26\"],[1.0,\"#f0f921\"]],\"type\":\"histogram2d\"}],\"histogram2dcontour\":[{\"colorbar\":{\"outlinewidth\":0,\"ticks\":\"\"},\"colorscale\":[[0.0,\"#0d0887\"],[0.1111111111111111,\"#46039f\"],[0.2222222222222222,\"#7201a8\"],[0.3333333333333333,\"#9c179e\"],[0.4444444444444444,\"#bd3786\"],[0.5555555555555556,\"#d8576b\"],[0.6666666666666666,\"#ed7953\"],[0.7777777777777778,\"#fb9f3a\"],[0.8888888888888888,\"#fdca26\"],[1.0,\"#f0f921\"]],\"type\":\"histogram2dcontour\"}],\"mesh3d\":[{\"colorbar\":{\"outlinewidth\":0,\"ticks\":\"\"},\"type\":\"mesh3d\"}],\"parcoords\":[{\"line\":{\"colorbar\":{\"outlinewidth\":0,\"ticks\":\"\"}},\"type\":\"parcoords\"}],\"pie\":[{\"automargin\":true,\"type\":\"pie\"}],\"scatter\":[{\"marker\":{\"colorbar\":{\"outlinewidth\":0,\"ticks\":\"\"}},\"type\":\"scatter\"}],\"scatter3d\":[{\"line\":{\"colorbar\":{\"outlinewidth\":0,\"ticks\":\"\"}},\"marker\":{\"colorbar\":{\"outlinewidth\":0,\"ticks\":\"\"}},\"type\":\"scatter3d\"}],\"scattercarpet\":[{\"marker\":{\"colorbar\":{\"outlinewidth\":0,\"ticks\":\"\"}},\"type\":\"scattercarpet\"}],\"scattergeo\":[{\"marker\":{\"colorbar\":{\"outlinewidth\":0,\"ticks\":\"\"}},\"type\":\"scattergeo\"}],\"scattergl\":[{\"marker\":{\"colorbar\":{\"outlinewidth\":0,\"ticks\":\"\"}},\"type\":\"scattergl\"}],\"scattermapbox\":[{\"marker\":{\"colorbar\":{\"outlinewidth\":0,\"ticks\":\"\"}},\"type\":\"scattermapbox\"}],\"scatterpolar\":[{\"marker\":{\"colorbar\":{\"outlinewidth\":0,\"ticks\":\"\"}},\"type\":\"scatterpolar\"}],\"scatterpolargl\":[{\"marker\":{\"colorbar\":{\"outlinewidth\":0,\"ticks\":\"\"}},\"type\":\"scatterpolargl\"}],\"scatterternary\":[{\"marker\":{\"colorbar\":{\"outlinewidth\":0,\"ticks\":\"\"}},\"type\":\"scatterternary\"}],\"surface\":[{\"colorbar\":{\"outlinewidth\":0,\"ticks\":\"\"},\"colorscale\":[[0.0,\"#0d0887\"],[0.1111111111111111,\"#46039f\"],[0.2222222222222222,\"#7201a8\"],[0.3333333333333333,\"#9c179e\"],[0.4444444444444444,\"#bd3786\"],[0.5555555555555556,\"#d8576b\"],[0.6666666666666666,\"#ed7953\"],[0.7777777777777778,\"#fb9f3a\"],[0.8888888888888888,\"#fdca26\"],[1.0,\"#f0f921\"]],\"type\":\"surface\"}],\"table\":[{\"cells\":{\"fill\":{\"color\":\"#EBF0F8\"},\"line\":{\"color\":\"white\"}},\"header\":{\"fill\":{\"color\":\"#C8D4E3\"},\"line\":{\"color\":\"white\"}},\"type\":\"table\"}]},\"layout\":{\"annotationdefaults\":{\"arrowcolor\":\"#2a3f5f\",\"arrowhead\":0,\"arrowwidth\":1},\"autotypenumbers\":\"strict\",\"coloraxis\":{\"colorbar\":{\"outlinewidth\":0,\"ticks\":\"\"}},\"colorscale\":{\"diverging\":[[0,\"#8e0152\"],[0.1,\"#c51b7d\"],[0.2,\"#de77ae\"],[0.3,\"#f1b6da\"],[0.4,\"#fde0ef\"],[0.5,\"#f7f7f7\"],[0.6,\"#e6f5d0\"],[0.7,\"#b8e186\"],[0.8,\"#7fbc41\"],[0.9,\"#4d9221\"],[1,\"#276419\"]],\"sequential\":[[0.0,\"#0d0887\"],[0.1111111111111111,\"#46039f\"],[0.2222222222222222,\"#7201a8\"],[0.3333333333333333,\"#9c179e\"],[0.4444444444444444,\"#bd3786\"],[0.5555555555555556,\"#d8576b\"],[0.6666666666666666,\"#ed7953\"],[0.7777777777777778,\"#fb9f3a\"],[0.8888888888888888,\"#fdca26\"],[1.0,\"#f0f921\"]],\"sequentialminus\":[[0.0,\"#0d0887\"],[0.1111111111111111,\"#46039f\"],[0.2222222222222222,\"#7201a8\"],[0.3333333333333333,\"#9c179e\"],[0.4444444444444444,\"#bd3786\"],[0.5555555555555556,\"#d8576b\"],[0.6666666666666666,\"#ed7953\"],[0.7777777777777778,\"#fb9f3a\"],[0.8888888888888888,\"#fdca26\"],[1.0,\"#f0f921\"]]},\"colorway\":[\"#636efa\",\"#EF553B\",\"#00cc96\",\"#ab63fa\",\"#FFA15A\",\"#19d3f3\",\"#FF6692\",\"#B6E880\",\"#FF97FF\",\"#FECB52\"],\"font\":{\"color\":\"#2a3f5f\"},\"geo\":{\"bgcolor\":\"white\",\"lakecolor\":\"white\",\"landcolor\":\"#E5ECF6\",\"showlakes\":true,\"showland\":true,\"subunitcolor\":\"white\"},\"hoverlabel\":{\"align\":\"left\"},\"hovermode\":\"closest\",\"mapbox\":{\"style\":\"light\"},\"paper_bgcolor\":\"white\",\"plot_bgcolor\":\"#E5ECF6\",\"polar\":{\"angularaxis\":{\"gridcolor\":\"white\",\"linecolor\":\"white\",\"ticks\":\"\"},\"bgcolor\":\"#E5ECF6\",\"radialaxis\":{\"gridcolor\":\"white\",\"linecolor\":\"white\",\"ticks\":\"\"}},\"scene\":{\"xaxis\":{\"backgroundcolor\":\"#E5ECF6\",\"gridcolor\":\"white\",\"gridwidth\":2,\"linecolor\":\"white\",\"showbackground\":true,\"ticks\":\"\",\"zerolinecolor\":\"white\"},\"yaxis\":{\"backgroundcolor\":\"#E5ECF6\",\"gridcolor\":\"white\",\"gridwidth\":2,\"linecolor\":\"white\",\"showbackground\":true,\"ticks\":\"\",\"zerolinecolor\":\"white\"},\"zaxis\":{\"backgroundcolor\":\"#E5ECF6\",\"gridcolor\":\"white\",\"gridwidth\":2,\"linecolor\":\"white\",\"showbackground\":true,\"ticks\":\"\",\"zerolinecolor\":\"white\"}},\"shapedefaults\":{\"line\":{\"color\":\"#2a3f5f\"}},\"ternary\":{\"aaxis\":{\"gridcolor\":\"white\",\"linecolor\":\"white\",\"ticks\":\"\"},\"baxis\":{\"gridcolor\":\"white\",\"linecolor\":\"white\",\"ticks\":\"\"},\"bgcolor\":\"#E5ECF6\",\"caxis\":{\"gridcolor\":\"white\",\"linecolor\":\"white\",\"ticks\":\"\"}},\"title\":{\"x\":0.05},\"xaxis\":{\"automargin\":true,\"gridcolor\":\"white\",\"linecolor\":\"white\",\"ticks\":\"\",\"title\":{\"standoff\":15},\"zerolinecolor\":\"white\",\"zerolinewidth\":2},\"yaxis\":{\"automargin\":true,\"gridcolor\":\"white\",\"linecolor\":\"white\",\"ticks\":\"\",\"title\":{\"standoff\":15},\"zerolinecolor\":\"white\",\"zerolinewidth\":2}}},\"title\":{\"font\":{\"color\":\"#4D5663\"}},\"xaxis\":{\"gridcolor\":\"#E1E5ED\",\"showgrid\":true,\"tickfont\":{\"color\":\"#4D5663\"},\"title\":{\"font\":{\"color\":\"#4D5663\"},\"text\":\"\"},\"zerolinecolor\":\"#E1E5ED\"},\"yaxis\":{\"gridcolor\":\"#E1E5ED\",\"showgrid\":true,\"tickfont\":{\"color\":\"#4D5663\"},\"title\":{\"font\":{\"color\":\"#4D5663\"},\"text\":\"\"},\"zerolinecolor\":\"#E1E5ED\"}},                        {\"showLink\": true, \"linkText\": \"Export to plot.ly\", \"plotlyServerURL\": \"https://plot.ly\", \"responsive\": true}                    ).then(function(){\n",
       "                            \n",
       "var gd = document.getElementById('92ee4b29-2b6d-4a58-9dd3-6eb10856a26f');\n",
       "var x = new MutationObserver(function (mutations, observer) {{\n",
       "        var display = window.getComputedStyle(gd).display;\n",
       "        if (!display || display === 'none') {{\n",
       "            console.log([gd, 'removed!']);\n",
       "            Plotly.purge(gd);\n",
       "            observer.disconnect();\n",
       "        }}\n",
       "}});\n",
       "\n",
       "// Listen for the removal of the full notebook cells\n",
       "var notebookContainer = gd.closest('#notebook-container');\n",
       "if (notebookContainer) {{\n",
       "    x.observe(notebookContainer, {childList: true});\n",
       "}}\n",
       "\n",
       "// Listen for the clearing of the current output cell\n",
       "var outputEl = gd.closest('.output');\n",
       "if (outputEl) {{\n",
       "    x.observe(outputEl, {childList: true});\n",
       "}}\n",
       "\n",
       "                        })                };                });            </script>        </div>"
      ]
     },
     "metadata": {},
     "output_type": "display_data"
    }
   ],
   "source": [
    "df1['A'].iplot(kind='hist',bins=20)"
   ]
  },
  {
   "cell_type": "code",
   "execution_count": 26,
   "metadata": {},
   "outputs": [
    {
     "data": {
      "application/vnd.plotly.v1+json": {
       "config": {
        "linkText": "Export to plot.ly",
        "plotlyServerURL": "https://plot.ly",
        "showLink": true
       },
       "data": [
        {
         "histfunc": "count",
         "histnorm": "",
         "marker": {
          "color": "rgba(255, 153, 51, 1.0)",
          "line": {
           "color": "#4D5663",
           "width": 1.3
          }
         },
         "name": "A",
         "opacity": 0.8,
         "orientation": "v",
         "type": "histogram",
         "x": [
          -0.2476021517537956,
          0.11874398704528717,
          -1.5986470436970923,
          1.4523802703570448,
          1.6090995991476928,
          0.36229045933429543,
          0.08354651513332022,
          -0.3527933783544127,
          0.5176107966859301,
          -0.833819690766652,
          0.20565072543497975,
          1.9944702000830496,
          -0.35151191314525854,
          -0.826196054882016,
          0.9599029122425612,
          0.8735380178138376,
          -1.644708644572304,
          -1.7738813013900911,
          1.7275862931329586,
          1.2410803233237333,
          -0.47371612259000284,
          1.414213513123541,
          1.458493689936051,
          0.3272856232608136,
          0.3165687182176862,
          0.8414601116357942,
          -0.32475580337050364,
          1.0868940465653318,
          0.4745634553998436,
          -0.2734907459319492,
          1.7936403614043865,
          0.2702198507442268,
          0.23166334935090627,
          0.2149514489904918,
          -0.15239433999431595,
          -0.46485670290661824,
          0.1769888823174567,
          0.9251355276226852,
          -2.923639876842984,
          -1.0036342420862625,
          -1.5972731861258282,
          -0.5863668064009814,
          0.24330756172163637,
          1.0711554663396936,
          0.7912213795894234,
          0.8222629425793855,
          -0.07065589111053654,
          -0.6059385075201855,
          -1.2444487075452308,
          -0.2986809340328696,
          2.1470548990107736,
          -0.9581686455331494,
          -0.14557432693872532,
          -0.4416089409116146,
          0.9352295488236574,
          -1.0506573059035353,
          1.3879041094191515,
          -0.6297383736287204,
          1.2161526628947408,
          0.9380321876702106,
          -0.3186924706946208,
          -1.0451195297871672,
          0.8789782921221527,
          -1.0706299167541156,
          -0.6134943608834571,
          2.114366282469496,
          0.4804360014579106,
          -0.10967689810515825,
          1.1730100543660051,
          0.6680577732576941,
          -1.1540774070386632,
          -0.4851203250530739,
          -0.06824582550241688,
          -0.4860733169583027,
          -1.3724089125985697,
          0.12312942342868287,
          0.16293029773806567,
          1.2974841267330905,
          3.354031799722983,
          -1.5810817578094538,
          0.8052116693646469,
          1.7562243908207342,
          0.5228297709229516,
          -0.8617659959734791,
          0.0620426273685626,
          0.16012867729300984,
          0.09689851489854824,
          -0.1137666435097898,
          1.803702528945463,
          0.2660268294434981,
          0.21102177430662458,
          -0.12523484176846558,
          -1.3224865786008155,
          -0.23270849471023752,
          -1.3608262494607177,
          1.6803295754838412,
          -0.26619167545737504,
          -1.2418906810336272,
          0.6446602759776894,
          -0.9887246241264553
         ]
        },
        {
         "histfunc": "count",
         "histnorm": "",
         "marker": {
          "color": "rgba(55, 128, 191, 1.0)",
          "line": {
           "color": "#4D5663",
           "width": 1.3
          }
         },
         "name": "B",
         "opacity": 0.8,
         "orientation": "v",
         "type": "histogram",
         "x": [
          -0.06053671648461432,
          0.04451657973152728,
          0.5893539754284983,
          1.013668452200273,
          0.6847946382566875,
          0.20861092698642347,
          -0.3309414257884284,
          -0.5453515972945141,
          0.23076522077023776,
          -0.6403566961541314,
          -1.4889655573956504,
          0.9352129666595805,
          -0.8553217826158602,
          -0.5358471525131479,
          -0.7285079896694445,
          -0.19435999410793742,
          -0.021183660575883688,
          -1.27486421427924,
          -1.377441170107258,
          0.1920596120363645,
          -1.1360047658662333,
          -0.25162260549257154,
          -0.38292153172884064,
          1.5087553081937204,
          0.14799880515885433,
          0.605878255040937,
          1.6218346664911871,
          -0.6412077490099374,
          0.3542488866697352,
          -0.4607106765297617,
          1.2204733158298071,
          1.5290677262515437,
          -0.5325381867220287,
          0.6886302420714265,
          -1.4040226516881387,
          -2.163779233019157,
          -1.635161679442351,
          0.11429126376701604,
          1.5913115916653733,
          -0.7516875353912756,
          -1.1490181657991692,
          0.05209633163880171,
          -1.2505146014805508,
          0.945770812894874,
          0.44120913669486617,
          -1.4272575263523835,
          -0.058534388435669125,
          -0.33290524940555216,
          0.25397740217116543,
          1.2107495453696848,
          -1.3048536413809813,
          -0.07290573215858111,
          -0.935009414667022,
          0.31698859178976346,
          0.3035657889195938,
          -0.09726791999649201,
          -0.13309365569973972,
          -1.3660791616250785,
          -1.0000957432387825,
          -0.44418957211110716,
          -0.7186337755517709,
          1.102995878230977,
          0.020947744800001725,
          -0.5379484903254714,
          1.434265530651456,
          -0.005595426280574108,
          -2.0024045908564716,
          1.2079291512768016,
          0.15101539633938965,
          -0.9415917180574958,
          0.8902241018403784,
          -0.6581560875764221,
          -1.2673251228201592,
          1.2592403371088414,
          -0.2831780015730596,
          0.047762380357669894,
          0.8603279518544563,
          -0.7821657611800706,
          -0.08202755823879464,
          0.06094696276155334,
          -0.8603811991901833,
          -0.05999313775337979,
          -0.4134487343659485,
          -0.4420361210196551,
          1.964645409112964,
          0.7896408572825018,
          -0.3773497911703148,
          1.6692535284277301,
          -0.27550204963687014,
          0.41138019434472406,
          -1.0549370402879954,
          1.6736473264323468,
          -0.8808278394958889,
          0.4728475230153127,
          0.19446889154197278,
          0.2995578928563227,
          -0.3887601705363107,
          -1.031190785706398,
          -1.4446194412722257,
          0.5759700536209127
         ]
        },
        {
         "histfunc": "count",
         "histnorm": "",
         "marker": {
          "color": "rgba(50, 171, 96, 1.0)",
          "line": {
           "color": "#4D5663",
           "width": 1.3
          }
         },
         "name": "C",
         "opacity": 0.8,
         "orientation": "v",
         "type": "histogram",
         "x": [
          -1.4138806139966658,
          0.9549943461350169,
          -2.0176025054120172,
          -0.3559458222091603,
          1.4153947552191721,
          0.12427455626105968,
          -1.3459787187103391,
          -0.19872516540106108,
          1.4088318088135734,
          0.9012366661206014,
          0.12167928602972863,
          0.6484887494471738,
          -0.24071830245211362,
          -0.3251708457434995,
          -0.07848163117310035,
          -0.5619681536095221,
          -0.4107090434792362,
          1.6335771937963104,
          -0.23108562854747383,
          -0.6253479656743208,
          -1.7470326746678497,
          0.1948171412052426,
          0.10667552470993999,
          1.168151845889162,
          0.9074924955855451,
          -0.05022155827796482,
          0.24599602330939935,
          -0.8162581224912675,
          -1.2964098715543981,
          0.46286889607730936,
          -0.10213511155337399,
          0.6309051597165397,
          -0.2362382902818193,
          0.4014181504403865,
          0.44327312805371816,
          -0.1506127376542421,
          -0.8237912696611064,
          0.9619847178419777,
          1.5613855884484278,
          0.7847649284788947,
          -0.715194383820001,
          -0.42188560666769154,
          0.7719771944709354,
          -0.42788322573565674,
          0.6295608422707876,
          -1.2316437164112453,
          -1.791586382047408,
          -1.4970537956291428,
          -1.3481044941034268,
          0.2915472094532004,
          -1.1924673961153276,
          1.5294697279384182,
          0.7329753983882141,
          -0.7346420338455535,
          1.5630204417323799,
          0.6027784429615578,
          -2.9091425536815265,
          -0.5221000792876885,
          0.22713425110466265,
          -0.7319197059378021,
          0.5163256584002801,
          1.053520675059922,
          0.27007681292676344,
          0.9686753400624246,
          1.5307581393786964,
          0.36737242145043647,
          0.025097599770220778,
          -0.8651713313226559,
          -0.341732622257134,
          -0.8520223476297429,
          1.850705214694412,
          -0.40433123147094446,
          -0.20770681737488159,
          1.4652245596672555,
          0.7022687371970578,
          0.9116339980456936,
          -0.4857214196763068,
          -0.6520074477878468,
          -0.5999681780513599,
          -0.15885427293055898,
          0.8499484258368485,
          -0.33877488292040364,
          0.24668022175070148,
          0.658460807810325,
          0.4801517632540298,
          0.5133810366740759,
          1.9219510343734911,
          -1.1183566698572092,
          -0.023438823060090475,
          -0.14588709366250815,
          -0.32697804678743025,
          -0.511923466545293,
          -0.45486558796788906,
          0.27615700635488605,
          -0.38189887714450116,
          1.7063174625892141,
          -0.11117157591083326,
          0.34677612795932183,
          1.0337762757857105,
          -1.8316147311422069
         ]
        },
        {
         "histfunc": "count",
         "histnorm": "",
         "marker": {
          "color": "rgba(128, 0, 128, 1.0)",
          "line": {
           "color": "#4D5663",
           "width": 1.3
          }
         },
         "name": "D",
         "opacity": 0.8,
         "orientation": "v",
         "type": "histogram",
         "x": [
          1.138881092138941,
          -0.8296593820905608,
          0.4940921451158362,
          1.4715672397977364,
          -1.1419091404761212,
          1.1670925420126028,
          -0.05952213756143999,
          -1.158319754654261,
          0.9340886362131698,
          0.08241160566677205,
          0.09050486923742268,
          -1.2080822552658015,
          -0.8059511189425327,
          0.23788239068331304,
          1.8508318786619247,
          -0.9275488532782582,
          -0.32988735181079404,
          -1.5255692872092812,
          0.01878277333096518,
          -1.7713787539245063,
          -1.169235762418271,
          -0.815999795639666,
          0.5003979518170936,
          0.21348561130162266,
          -1.8583553991873798,
          0.9584079218881999,
          -0.5923347203499466,
          -0.045701301432784204,
          1.1098349309061941,
          0.8108821831693277,
          1.2154286931093448,
          0.03534702668436145,
          0.982009445768607,
          0.6759622934673243,
          0.22793134842256393,
          0.5831497418958888,
          0.06440530013979788,
          -1.1015572556487958,
          -0.16365703680670007,
          1.2443518938853981,
          -0.30962832264924545,
          0.7337650029403703,
          0.37294149848351654,
          0.7960603041860554,
          0.49111515978717424,
          1.4093434653694459,
          0.24287036417708793,
          -1.5780263611682788,
          0.9252914445025481,
          1.962942289472823,
          -1.2424538815207948,
          0.6723340741862069,
          0.06742064638790596,
          -0.4686920066301773,
          -0.607956503575207,
          -0.9653818756804581,
          0.46450454370099953,
          0.05881620360562117,
          0.6772238445570063,
          -0.9033915215986897,
          1.0881282290657555,
          0.4359323184477213,
          0.7684410076854367,
          0.5005996452296388,
          0.7829515481772608,
          -0.026796813723469173,
          2.599386526232613,
          -0.14386967015853985,
          -1.5217198040434086,
          0.3114719797777141,
          -0.03544583751025676,
          -2.4348449244449637,
          0.9652715215395948,
          -0.7673168292664782,
          -1.8925580816941423,
          -0.7214493207694863,
          -0.4584329458861844,
          -0.29876105590390634,
          -0.4010748723773588,
          -0.9483449778577722,
          0.8200748964441905,
          0.3649981882074061,
          0.9303510634711705,
          -0.9063628584109353,
          0.32270295677364835,
          -1.3960046389806826,
          -1.6645024132499688,
          1.681129748878899,
          -0.35702788945906266,
          -0.9513402967568699,
          -1.4173177890827713,
          -1.363812590380575,
          0.8018862131924073,
          -1.0659923334724297,
          -1.7347035079139594,
          1.7247117586400194,
          -0.5534645932630475,
          -0.05269082880831947,
          0.013439662055486223,
          1.1457671048038869
         ]
        }
       ],
       "layout": {
        "barmode": "overlay",
        "legend": {
         "bgcolor": "#F5F6F9",
         "font": {
          "color": "#4D5663"
         }
        },
        "paper_bgcolor": "#F5F6F9",
        "plot_bgcolor": "#F5F6F9",
        "template": {
         "data": {
          "bar": [
           {
            "error_x": {
             "color": "#2a3f5f"
            },
            "error_y": {
             "color": "#2a3f5f"
            },
            "marker": {
             "line": {
              "color": "#E5ECF6",
              "width": 0.5
             },
             "pattern": {
              "fillmode": "overlay",
              "size": 10,
              "solidity": 0.2
             }
            },
            "type": "bar"
           }
          ],
          "barpolar": [
           {
            "marker": {
             "line": {
              "color": "#E5ECF6",
              "width": 0.5
             },
             "pattern": {
              "fillmode": "overlay",
              "size": 10,
              "solidity": 0.2
             }
            },
            "type": "barpolar"
           }
          ],
          "carpet": [
           {
            "aaxis": {
             "endlinecolor": "#2a3f5f",
             "gridcolor": "white",
             "linecolor": "white",
             "minorgridcolor": "white",
             "startlinecolor": "#2a3f5f"
            },
            "baxis": {
             "endlinecolor": "#2a3f5f",
             "gridcolor": "white",
             "linecolor": "white",
             "minorgridcolor": "white",
             "startlinecolor": "#2a3f5f"
            },
            "type": "carpet"
           }
          ],
          "choropleth": [
           {
            "colorbar": {
             "outlinewidth": 0,
             "ticks": ""
            },
            "type": "choropleth"
           }
          ],
          "contour": [
           {
            "colorbar": {
             "outlinewidth": 0,
             "ticks": ""
            },
            "colorscale": [
             [
              0,
              "#0d0887"
             ],
             [
              0.1111111111111111,
              "#46039f"
             ],
             [
              0.2222222222222222,
              "#7201a8"
             ],
             [
              0.3333333333333333,
              "#9c179e"
             ],
             [
              0.4444444444444444,
              "#bd3786"
             ],
             [
              0.5555555555555556,
              "#d8576b"
             ],
             [
              0.6666666666666666,
              "#ed7953"
             ],
             [
              0.7777777777777778,
              "#fb9f3a"
             ],
             [
              0.8888888888888888,
              "#fdca26"
             ],
             [
              1,
              "#f0f921"
             ]
            ],
            "type": "contour"
           }
          ],
          "contourcarpet": [
           {
            "colorbar": {
             "outlinewidth": 0,
             "ticks": ""
            },
            "type": "contourcarpet"
           }
          ],
          "heatmap": [
           {
            "colorbar": {
             "outlinewidth": 0,
             "ticks": ""
            },
            "colorscale": [
             [
              0,
              "#0d0887"
             ],
             [
              0.1111111111111111,
              "#46039f"
             ],
             [
              0.2222222222222222,
              "#7201a8"
             ],
             [
              0.3333333333333333,
              "#9c179e"
             ],
             [
              0.4444444444444444,
              "#bd3786"
             ],
             [
              0.5555555555555556,
              "#d8576b"
             ],
             [
              0.6666666666666666,
              "#ed7953"
             ],
             [
              0.7777777777777778,
              "#fb9f3a"
             ],
             [
              0.8888888888888888,
              "#fdca26"
             ],
             [
              1,
              "#f0f921"
             ]
            ],
            "type": "heatmap"
           }
          ],
          "heatmapgl": [
           {
            "colorbar": {
             "outlinewidth": 0,
             "ticks": ""
            },
            "colorscale": [
             [
              0,
              "#0d0887"
             ],
             [
              0.1111111111111111,
              "#46039f"
             ],
             [
              0.2222222222222222,
              "#7201a8"
             ],
             [
              0.3333333333333333,
              "#9c179e"
             ],
             [
              0.4444444444444444,
              "#bd3786"
             ],
             [
              0.5555555555555556,
              "#d8576b"
             ],
             [
              0.6666666666666666,
              "#ed7953"
             ],
             [
              0.7777777777777778,
              "#fb9f3a"
             ],
             [
              0.8888888888888888,
              "#fdca26"
             ],
             [
              1,
              "#f0f921"
             ]
            ],
            "type": "heatmapgl"
           }
          ],
          "histogram": [
           {
            "marker": {
             "pattern": {
              "fillmode": "overlay",
              "size": 10,
              "solidity": 0.2
             }
            },
            "type": "histogram"
           }
          ],
          "histogram2d": [
           {
            "colorbar": {
             "outlinewidth": 0,
             "ticks": ""
            },
            "colorscale": [
             [
              0,
              "#0d0887"
             ],
             [
              0.1111111111111111,
              "#46039f"
             ],
             [
              0.2222222222222222,
              "#7201a8"
             ],
             [
              0.3333333333333333,
              "#9c179e"
             ],
             [
              0.4444444444444444,
              "#bd3786"
             ],
             [
              0.5555555555555556,
              "#d8576b"
             ],
             [
              0.6666666666666666,
              "#ed7953"
             ],
             [
              0.7777777777777778,
              "#fb9f3a"
             ],
             [
              0.8888888888888888,
              "#fdca26"
             ],
             [
              1,
              "#f0f921"
             ]
            ],
            "type": "histogram2d"
           }
          ],
          "histogram2dcontour": [
           {
            "colorbar": {
             "outlinewidth": 0,
             "ticks": ""
            },
            "colorscale": [
             [
              0,
              "#0d0887"
             ],
             [
              0.1111111111111111,
              "#46039f"
             ],
             [
              0.2222222222222222,
              "#7201a8"
             ],
             [
              0.3333333333333333,
              "#9c179e"
             ],
             [
              0.4444444444444444,
              "#bd3786"
             ],
             [
              0.5555555555555556,
              "#d8576b"
             ],
             [
              0.6666666666666666,
              "#ed7953"
             ],
             [
              0.7777777777777778,
              "#fb9f3a"
             ],
             [
              0.8888888888888888,
              "#fdca26"
             ],
             [
              1,
              "#f0f921"
             ]
            ],
            "type": "histogram2dcontour"
           }
          ],
          "mesh3d": [
           {
            "colorbar": {
             "outlinewidth": 0,
             "ticks": ""
            },
            "type": "mesh3d"
           }
          ],
          "parcoords": [
           {
            "line": {
             "colorbar": {
              "outlinewidth": 0,
              "ticks": ""
             }
            },
            "type": "parcoords"
           }
          ],
          "pie": [
           {
            "automargin": true,
            "type": "pie"
           }
          ],
          "scatter": [
           {
            "marker": {
             "colorbar": {
              "outlinewidth": 0,
              "ticks": ""
             }
            },
            "type": "scatter"
           }
          ],
          "scatter3d": [
           {
            "line": {
             "colorbar": {
              "outlinewidth": 0,
              "ticks": ""
             }
            },
            "marker": {
             "colorbar": {
              "outlinewidth": 0,
              "ticks": ""
             }
            },
            "type": "scatter3d"
           }
          ],
          "scattercarpet": [
           {
            "marker": {
             "colorbar": {
              "outlinewidth": 0,
              "ticks": ""
             }
            },
            "type": "scattercarpet"
           }
          ],
          "scattergeo": [
           {
            "marker": {
             "colorbar": {
              "outlinewidth": 0,
              "ticks": ""
             }
            },
            "type": "scattergeo"
           }
          ],
          "scattergl": [
           {
            "marker": {
             "colorbar": {
              "outlinewidth": 0,
              "ticks": ""
             }
            },
            "type": "scattergl"
           }
          ],
          "scattermapbox": [
           {
            "marker": {
             "colorbar": {
              "outlinewidth": 0,
              "ticks": ""
             }
            },
            "type": "scattermapbox"
           }
          ],
          "scatterpolar": [
           {
            "marker": {
             "colorbar": {
              "outlinewidth": 0,
              "ticks": ""
             }
            },
            "type": "scatterpolar"
           }
          ],
          "scatterpolargl": [
           {
            "marker": {
             "colorbar": {
              "outlinewidth": 0,
              "ticks": ""
             }
            },
            "type": "scatterpolargl"
           }
          ],
          "scatterternary": [
           {
            "marker": {
             "colorbar": {
              "outlinewidth": 0,
              "ticks": ""
             }
            },
            "type": "scatterternary"
           }
          ],
          "surface": [
           {
            "colorbar": {
             "outlinewidth": 0,
             "ticks": ""
            },
            "colorscale": [
             [
              0,
              "#0d0887"
             ],
             [
              0.1111111111111111,
              "#46039f"
             ],
             [
              0.2222222222222222,
              "#7201a8"
             ],
             [
              0.3333333333333333,
              "#9c179e"
             ],
             [
              0.4444444444444444,
              "#bd3786"
             ],
             [
              0.5555555555555556,
              "#d8576b"
             ],
             [
              0.6666666666666666,
              "#ed7953"
             ],
             [
              0.7777777777777778,
              "#fb9f3a"
             ],
             [
              0.8888888888888888,
              "#fdca26"
             ],
             [
              1,
              "#f0f921"
             ]
            ],
            "type": "surface"
           }
          ],
          "table": [
           {
            "cells": {
             "fill": {
              "color": "#EBF0F8"
             },
             "line": {
              "color": "white"
             }
            },
            "header": {
             "fill": {
              "color": "#C8D4E3"
             },
             "line": {
              "color": "white"
             }
            },
            "type": "table"
           }
          ]
         },
         "layout": {
          "annotationdefaults": {
           "arrowcolor": "#2a3f5f",
           "arrowhead": 0,
           "arrowwidth": 1
          },
          "autotypenumbers": "strict",
          "coloraxis": {
           "colorbar": {
            "outlinewidth": 0,
            "ticks": ""
           }
          },
          "colorscale": {
           "diverging": [
            [
             0,
             "#8e0152"
            ],
            [
             0.1,
             "#c51b7d"
            ],
            [
             0.2,
             "#de77ae"
            ],
            [
             0.3,
             "#f1b6da"
            ],
            [
             0.4,
             "#fde0ef"
            ],
            [
             0.5,
             "#f7f7f7"
            ],
            [
             0.6,
             "#e6f5d0"
            ],
            [
             0.7,
             "#b8e186"
            ],
            [
             0.8,
             "#7fbc41"
            ],
            [
             0.9,
             "#4d9221"
            ],
            [
             1,
             "#276419"
            ]
           ],
           "sequential": [
            [
             0,
             "#0d0887"
            ],
            [
             0.1111111111111111,
             "#46039f"
            ],
            [
             0.2222222222222222,
             "#7201a8"
            ],
            [
             0.3333333333333333,
             "#9c179e"
            ],
            [
             0.4444444444444444,
             "#bd3786"
            ],
            [
             0.5555555555555556,
             "#d8576b"
            ],
            [
             0.6666666666666666,
             "#ed7953"
            ],
            [
             0.7777777777777778,
             "#fb9f3a"
            ],
            [
             0.8888888888888888,
             "#fdca26"
            ],
            [
             1,
             "#f0f921"
            ]
           ],
           "sequentialminus": [
            [
             0,
             "#0d0887"
            ],
            [
             0.1111111111111111,
             "#46039f"
            ],
            [
             0.2222222222222222,
             "#7201a8"
            ],
            [
             0.3333333333333333,
             "#9c179e"
            ],
            [
             0.4444444444444444,
             "#bd3786"
            ],
            [
             0.5555555555555556,
             "#d8576b"
            ],
            [
             0.6666666666666666,
             "#ed7953"
            ],
            [
             0.7777777777777778,
             "#fb9f3a"
            ],
            [
             0.8888888888888888,
             "#fdca26"
            ],
            [
             1,
             "#f0f921"
            ]
           ]
          },
          "colorway": [
           "#636efa",
           "#EF553B",
           "#00cc96",
           "#ab63fa",
           "#FFA15A",
           "#19d3f3",
           "#FF6692",
           "#B6E880",
           "#FF97FF",
           "#FECB52"
          ],
          "font": {
           "color": "#2a3f5f"
          },
          "geo": {
           "bgcolor": "white",
           "lakecolor": "white",
           "landcolor": "#E5ECF6",
           "showlakes": true,
           "showland": true,
           "subunitcolor": "white"
          },
          "hoverlabel": {
           "align": "left"
          },
          "hovermode": "closest",
          "mapbox": {
           "style": "light"
          },
          "paper_bgcolor": "white",
          "plot_bgcolor": "#E5ECF6",
          "polar": {
           "angularaxis": {
            "gridcolor": "white",
            "linecolor": "white",
            "ticks": ""
           },
           "bgcolor": "#E5ECF6",
           "radialaxis": {
            "gridcolor": "white",
            "linecolor": "white",
            "ticks": ""
           }
          },
          "scene": {
           "xaxis": {
            "backgroundcolor": "#E5ECF6",
            "gridcolor": "white",
            "gridwidth": 2,
            "linecolor": "white",
            "showbackground": true,
            "ticks": "",
            "zerolinecolor": "white"
           },
           "yaxis": {
            "backgroundcolor": "#E5ECF6",
            "gridcolor": "white",
            "gridwidth": 2,
            "linecolor": "white",
            "showbackground": true,
            "ticks": "",
            "zerolinecolor": "white"
           },
           "zaxis": {
            "backgroundcolor": "#E5ECF6",
            "gridcolor": "white",
            "gridwidth": 2,
            "linecolor": "white",
            "showbackground": true,
            "ticks": "",
            "zerolinecolor": "white"
           }
          },
          "shapedefaults": {
           "line": {
            "color": "#2a3f5f"
           }
          },
          "ternary": {
           "aaxis": {
            "gridcolor": "white",
            "linecolor": "white",
            "ticks": ""
           },
           "baxis": {
            "gridcolor": "white",
            "linecolor": "white",
            "ticks": ""
           },
           "bgcolor": "#E5ECF6",
           "caxis": {
            "gridcolor": "white",
            "linecolor": "white",
            "ticks": ""
           }
          },
          "title": {
           "x": 0.05
          },
          "xaxis": {
           "automargin": true,
           "gridcolor": "white",
           "linecolor": "white",
           "ticks": "",
           "title": {
            "standoff": 15
           },
           "zerolinecolor": "white",
           "zerolinewidth": 2
          },
          "yaxis": {
           "automargin": true,
           "gridcolor": "white",
           "linecolor": "white",
           "ticks": "",
           "title": {
            "standoff": 15
           },
           "zerolinecolor": "white",
           "zerolinewidth": 2
          }
         }
        },
        "title": {
         "font": {
          "color": "#4D5663"
         }
        },
        "xaxis": {
         "gridcolor": "#E1E5ED",
         "showgrid": true,
         "tickfont": {
          "color": "#4D5663"
         },
         "title": {
          "font": {
           "color": "#4D5663"
          },
          "text": ""
         },
         "zerolinecolor": "#E1E5ED"
        },
        "yaxis": {
         "gridcolor": "#E1E5ED",
         "showgrid": true,
         "tickfont": {
          "color": "#4D5663"
         },
         "title": {
          "font": {
           "color": "#4D5663"
          },
          "text": ""
         },
         "zerolinecolor": "#E1E5ED"
        }
       }
      },
      "text/html": [
       "<div>                            <div id=\"143a6c3d-c3a3-40fe-a3b0-73195d6bee14\" class=\"plotly-graph-div\" style=\"height:525px; width:100%;\"></div>            <script type=\"text/javascript\">                require([\"plotly\"], function(Plotly) {                    window.PLOTLYENV=window.PLOTLYENV || {};\n",
       "                    window.PLOTLYENV.BASE_URL='https://plot.ly';                                    if (document.getElementById(\"143a6c3d-c3a3-40fe-a3b0-73195d6bee14\")) {                    Plotly.newPlot(                        \"143a6c3d-c3a3-40fe-a3b0-73195d6bee14\",                        [{\"histfunc\":\"count\",\"histnorm\":\"\",\"marker\":{\"color\":\"rgba(255, 153, 51, 1.0)\",\"line\":{\"color\":\"#4D5663\",\"width\":1.3}},\"name\":\"A\",\"opacity\":0.8,\"orientation\":\"v\",\"type\":\"histogram\",\"x\":[-0.2476021517537956,0.11874398704528717,-1.5986470436970923,1.4523802703570448,1.6090995991476928,0.36229045933429543,0.08354651513332022,-0.3527933783544127,0.5176107966859301,-0.833819690766652,0.20565072543497975,1.9944702000830496,-0.35151191314525854,-0.826196054882016,0.9599029122425612,0.8735380178138376,-1.644708644572304,-1.7738813013900911,1.7275862931329586,1.2410803233237333,-0.47371612259000284,1.414213513123541,1.458493689936051,0.3272856232608136,0.3165687182176862,0.8414601116357942,-0.32475580337050364,1.0868940465653318,0.4745634553998436,-0.2734907459319492,1.7936403614043865,0.2702198507442268,0.23166334935090627,0.2149514489904918,-0.15239433999431595,-0.46485670290661824,0.1769888823174567,0.9251355276226852,-2.923639876842984,-1.0036342420862625,-1.5972731861258282,-0.5863668064009814,0.24330756172163637,1.0711554663396936,0.7912213795894234,0.8222629425793855,-0.07065589111053654,-0.6059385075201855,-1.2444487075452308,-0.2986809340328696,2.1470548990107736,-0.9581686455331494,-0.14557432693872532,-0.4416089409116146,0.9352295488236574,-1.0506573059035353,1.3879041094191515,-0.6297383736287204,1.2161526628947408,0.9380321876702106,-0.3186924706946208,-1.0451195297871672,0.8789782921221527,-1.0706299167541156,-0.6134943608834571,2.114366282469496,0.4804360014579106,-0.10967689810515825,1.1730100543660051,0.6680577732576941,-1.1540774070386632,-0.4851203250530739,-0.06824582550241688,-0.4860733169583027,-1.3724089125985697,0.12312942342868287,0.16293029773806567,1.2974841267330905,3.354031799722983,-1.5810817578094538,0.8052116693646469,1.7562243908207342,0.5228297709229516,-0.8617659959734791,0.0620426273685626,0.16012867729300984,0.09689851489854824,-0.1137666435097898,1.803702528945463,0.2660268294434981,0.21102177430662458,-0.12523484176846558,-1.3224865786008155,-0.23270849471023752,-1.3608262494607177,1.6803295754838412,-0.26619167545737504,-1.2418906810336272,0.6446602759776894,-0.9887246241264553]},{\"histfunc\":\"count\",\"histnorm\":\"\",\"marker\":{\"color\":\"rgba(55, 128, 191, 1.0)\",\"line\":{\"color\":\"#4D5663\",\"width\":1.3}},\"name\":\"B\",\"opacity\":0.8,\"orientation\":\"v\",\"type\":\"histogram\",\"x\":[-0.06053671648461432,0.04451657973152728,0.5893539754284983,1.013668452200273,0.6847946382566875,0.20861092698642347,-0.3309414257884284,-0.5453515972945141,0.23076522077023776,-0.6403566961541314,-1.4889655573956504,0.9352129666595805,-0.8553217826158602,-0.5358471525131479,-0.7285079896694445,-0.19435999410793742,-0.021183660575883688,-1.27486421427924,-1.377441170107258,0.1920596120363645,-1.1360047658662333,-0.25162260549257154,-0.38292153172884064,1.5087553081937204,0.14799880515885433,0.605878255040937,1.6218346664911871,-0.6412077490099374,0.3542488866697352,-0.4607106765297617,1.2204733158298071,1.5290677262515437,-0.5325381867220287,0.6886302420714265,-1.4040226516881387,-2.163779233019157,-1.635161679442351,0.11429126376701604,1.5913115916653733,-0.7516875353912756,-1.1490181657991692,0.05209633163880171,-1.2505146014805508,0.945770812894874,0.44120913669486617,-1.4272575263523835,-0.058534388435669125,-0.33290524940555216,0.25397740217116543,1.2107495453696848,-1.3048536413809813,-0.07290573215858111,-0.935009414667022,0.31698859178976346,0.3035657889195938,-0.09726791999649201,-0.13309365569973972,-1.3660791616250785,-1.0000957432387825,-0.44418957211110716,-0.7186337755517709,1.102995878230977,0.020947744800001725,-0.5379484903254714,1.434265530651456,-0.005595426280574108,-2.0024045908564716,1.2079291512768016,0.15101539633938965,-0.9415917180574958,0.8902241018403784,-0.6581560875764221,-1.2673251228201592,1.2592403371088414,-0.2831780015730596,0.047762380357669894,0.8603279518544563,-0.7821657611800706,-0.08202755823879464,0.06094696276155334,-0.8603811991901833,-0.05999313775337979,-0.4134487343659485,-0.4420361210196551,1.964645409112964,0.7896408572825018,-0.3773497911703148,1.6692535284277301,-0.27550204963687014,0.41138019434472406,-1.0549370402879954,1.6736473264323468,-0.8808278394958889,0.4728475230153127,0.19446889154197278,0.2995578928563227,-0.3887601705363107,-1.031190785706398,-1.4446194412722257,0.5759700536209127]},{\"histfunc\":\"count\",\"histnorm\":\"\",\"marker\":{\"color\":\"rgba(50, 171, 96, 1.0)\",\"line\":{\"color\":\"#4D5663\",\"width\":1.3}},\"name\":\"C\",\"opacity\":0.8,\"orientation\":\"v\",\"type\":\"histogram\",\"x\":[-1.4138806139966658,0.9549943461350169,-2.0176025054120172,-0.3559458222091603,1.4153947552191721,0.12427455626105968,-1.3459787187103391,-0.19872516540106108,1.4088318088135734,0.9012366661206014,0.12167928602972863,0.6484887494471738,-0.24071830245211362,-0.3251708457434995,-0.07848163117310035,-0.5619681536095221,-0.4107090434792362,1.6335771937963104,-0.23108562854747383,-0.6253479656743208,-1.7470326746678497,0.1948171412052426,0.10667552470993999,1.168151845889162,0.9074924955855451,-0.05022155827796482,0.24599602330939935,-0.8162581224912675,-1.2964098715543981,0.46286889607730936,-0.10213511155337399,0.6309051597165397,-0.2362382902818193,0.4014181504403865,0.44327312805371816,-0.1506127376542421,-0.8237912696611064,0.9619847178419777,1.5613855884484278,0.7847649284788947,-0.715194383820001,-0.42188560666769154,0.7719771944709354,-0.42788322573565674,0.6295608422707876,-1.2316437164112453,-1.791586382047408,-1.4970537956291428,-1.3481044941034268,0.2915472094532004,-1.1924673961153276,1.5294697279384182,0.7329753983882141,-0.7346420338455535,1.5630204417323799,0.6027784429615578,-2.9091425536815265,-0.5221000792876885,0.22713425110466265,-0.7319197059378021,0.5163256584002801,1.053520675059922,0.27007681292676344,0.9686753400624246,1.5307581393786964,0.36737242145043647,0.025097599770220778,-0.8651713313226559,-0.341732622257134,-0.8520223476297429,1.850705214694412,-0.40433123147094446,-0.20770681737488159,1.4652245596672555,0.7022687371970578,0.9116339980456936,-0.4857214196763068,-0.6520074477878468,-0.5999681780513599,-0.15885427293055898,0.8499484258368485,-0.33877488292040364,0.24668022175070148,0.658460807810325,0.4801517632540298,0.5133810366740759,1.9219510343734911,-1.1183566698572092,-0.023438823060090475,-0.14588709366250815,-0.32697804678743025,-0.511923466545293,-0.45486558796788906,0.27615700635488605,-0.38189887714450116,1.7063174625892141,-0.11117157591083326,0.34677612795932183,1.0337762757857105,-1.8316147311422069]},{\"histfunc\":\"count\",\"histnorm\":\"\",\"marker\":{\"color\":\"rgba(128, 0, 128, 1.0)\",\"line\":{\"color\":\"#4D5663\",\"width\":1.3}},\"name\":\"D\",\"opacity\":0.8,\"orientation\":\"v\",\"type\":\"histogram\",\"x\":[1.138881092138941,-0.8296593820905608,0.4940921451158362,1.4715672397977364,-1.1419091404761212,1.1670925420126028,-0.05952213756143999,-1.158319754654261,0.9340886362131698,0.08241160566677205,0.09050486923742268,-1.2080822552658015,-0.8059511189425327,0.23788239068331304,1.8508318786619247,-0.9275488532782582,-0.32988735181079404,-1.5255692872092812,0.01878277333096518,-1.7713787539245063,-1.169235762418271,-0.815999795639666,0.5003979518170936,0.21348561130162266,-1.8583553991873798,0.9584079218881999,-0.5923347203499466,-0.045701301432784204,1.1098349309061941,0.8108821831693277,1.2154286931093448,0.03534702668436145,0.982009445768607,0.6759622934673243,0.22793134842256393,0.5831497418958888,0.06440530013979788,-1.1015572556487958,-0.16365703680670007,1.2443518938853981,-0.30962832264924545,0.7337650029403703,0.37294149848351654,0.7960603041860554,0.49111515978717424,1.4093434653694459,0.24287036417708793,-1.5780263611682788,0.9252914445025481,1.962942289472823,-1.2424538815207948,0.6723340741862069,0.06742064638790596,-0.4686920066301773,-0.607956503575207,-0.9653818756804581,0.46450454370099953,0.05881620360562117,0.6772238445570063,-0.9033915215986897,1.0881282290657555,0.4359323184477213,0.7684410076854367,0.5005996452296388,0.7829515481772608,-0.026796813723469173,2.599386526232613,-0.14386967015853985,-1.5217198040434086,0.3114719797777141,-0.03544583751025676,-2.4348449244449637,0.9652715215395948,-0.7673168292664782,-1.8925580816941423,-0.7214493207694863,-0.4584329458861844,-0.29876105590390634,-0.4010748723773588,-0.9483449778577722,0.8200748964441905,0.3649981882074061,0.9303510634711705,-0.9063628584109353,0.32270295677364835,-1.3960046389806826,-1.6645024132499688,1.681129748878899,-0.35702788945906266,-0.9513402967568699,-1.4173177890827713,-1.363812590380575,0.8018862131924073,-1.0659923334724297,-1.7347035079139594,1.7247117586400194,-0.5534645932630475,-0.05269082880831947,0.013439662055486223,1.1457671048038869]}],                        {\"barmode\":\"overlay\",\"legend\":{\"bgcolor\":\"#F5F6F9\",\"font\":{\"color\":\"#4D5663\"}},\"paper_bgcolor\":\"#F5F6F9\",\"plot_bgcolor\":\"#F5F6F9\",\"template\":{\"data\":{\"bar\":[{\"error_x\":{\"color\":\"#2a3f5f\"},\"error_y\":{\"color\":\"#2a3f5f\"},\"marker\":{\"line\":{\"color\":\"#E5ECF6\",\"width\":0.5},\"pattern\":{\"fillmode\":\"overlay\",\"size\":10,\"solidity\":0.2}},\"type\":\"bar\"}],\"barpolar\":[{\"marker\":{\"line\":{\"color\":\"#E5ECF6\",\"width\":0.5},\"pattern\":{\"fillmode\":\"overlay\",\"size\":10,\"solidity\":0.2}},\"type\":\"barpolar\"}],\"carpet\":[{\"aaxis\":{\"endlinecolor\":\"#2a3f5f\",\"gridcolor\":\"white\",\"linecolor\":\"white\",\"minorgridcolor\":\"white\",\"startlinecolor\":\"#2a3f5f\"},\"baxis\":{\"endlinecolor\":\"#2a3f5f\",\"gridcolor\":\"white\",\"linecolor\":\"white\",\"minorgridcolor\":\"white\",\"startlinecolor\":\"#2a3f5f\"},\"type\":\"carpet\"}],\"choropleth\":[{\"colorbar\":{\"outlinewidth\":0,\"ticks\":\"\"},\"type\":\"choropleth\"}],\"contour\":[{\"colorbar\":{\"outlinewidth\":0,\"ticks\":\"\"},\"colorscale\":[[0.0,\"#0d0887\"],[0.1111111111111111,\"#46039f\"],[0.2222222222222222,\"#7201a8\"],[0.3333333333333333,\"#9c179e\"],[0.4444444444444444,\"#bd3786\"],[0.5555555555555556,\"#d8576b\"],[0.6666666666666666,\"#ed7953\"],[0.7777777777777778,\"#fb9f3a\"],[0.8888888888888888,\"#fdca26\"],[1.0,\"#f0f921\"]],\"type\":\"contour\"}],\"contourcarpet\":[{\"colorbar\":{\"outlinewidth\":0,\"ticks\":\"\"},\"type\":\"contourcarpet\"}],\"heatmap\":[{\"colorbar\":{\"outlinewidth\":0,\"ticks\":\"\"},\"colorscale\":[[0.0,\"#0d0887\"],[0.1111111111111111,\"#46039f\"],[0.2222222222222222,\"#7201a8\"],[0.3333333333333333,\"#9c179e\"],[0.4444444444444444,\"#bd3786\"],[0.5555555555555556,\"#d8576b\"],[0.6666666666666666,\"#ed7953\"],[0.7777777777777778,\"#fb9f3a\"],[0.8888888888888888,\"#fdca26\"],[1.0,\"#f0f921\"]],\"type\":\"heatmap\"}],\"heatmapgl\":[{\"colorbar\":{\"outlinewidth\":0,\"ticks\":\"\"},\"colorscale\":[[0.0,\"#0d0887\"],[0.1111111111111111,\"#46039f\"],[0.2222222222222222,\"#7201a8\"],[0.3333333333333333,\"#9c179e\"],[0.4444444444444444,\"#bd3786\"],[0.5555555555555556,\"#d8576b\"],[0.6666666666666666,\"#ed7953\"],[0.7777777777777778,\"#fb9f3a\"],[0.8888888888888888,\"#fdca26\"],[1.0,\"#f0f921\"]],\"type\":\"heatmapgl\"}],\"histogram\":[{\"marker\":{\"pattern\":{\"fillmode\":\"overlay\",\"size\":10,\"solidity\":0.2}},\"type\":\"histogram\"}],\"histogram2d\":[{\"colorbar\":{\"outlinewidth\":0,\"ticks\":\"\"},\"colorscale\":[[0.0,\"#0d0887\"],[0.1111111111111111,\"#46039f\"],[0.2222222222222222,\"#7201a8\"],[0.3333333333333333,\"#9c179e\"],[0.4444444444444444,\"#bd3786\"],[0.5555555555555556,\"#d8576b\"],[0.6666666666666666,\"#ed7953\"],[0.7777777777777778,\"#fb9f3a\"],[0.8888888888888888,\"#fdca26\"],[1.0,\"#f0f921\"]],\"type\":\"histogram2d\"}],\"histogram2dcontour\":[{\"colorbar\":{\"outlinewidth\":0,\"ticks\":\"\"},\"colorscale\":[[0.0,\"#0d0887\"],[0.1111111111111111,\"#46039f\"],[0.2222222222222222,\"#7201a8\"],[0.3333333333333333,\"#9c179e\"],[0.4444444444444444,\"#bd3786\"],[0.5555555555555556,\"#d8576b\"],[0.6666666666666666,\"#ed7953\"],[0.7777777777777778,\"#fb9f3a\"],[0.8888888888888888,\"#fdca26\"],[1.0,\"#f0f921\"]],\"type\":\"histogram2dcontour\"}],\"mesh3d\":[{\"colorbar\":{\"outlinewidth\":0,\"ticks\":\"\"},\"type\":\"mesh3d\"}],\"parcoords\":[{\"line\":{\"colorbar\":{\"outlinewidth\":0,\"ticks\":\"\"}},\"type\":\"parcoords\"}],\"pie\":[{\"automargin\":true,\"type\":\"pie\"}],\"scatter\":[{\"marker\":{\"colorbar\":{\"outlinewidth\":0,\"ticks\":\"\"}},\"type\":\"scatter\"}],\"scatter3d\":[{\"line\":{\"colorbar\":{\"outlinewidth\":0,\"ticks\":\"\"}},\"marker\":{\"colorbar\":{\"outlinewidth\":0,\"ticks\":\"\"}},\"type\":\"scatter3d\"}],\"scattercarpet\":[{\"marker\":{\"colorbar\":{\"outlinewidth\":0,\"ticks\":\"\"}},\"type\":\"scattercarpet\"}],\"scattergeo\":[{\"marker\":{\"colorbar\":{\"outlinewidth\":0,\"ticks\":\"\"}},\"type\":\"scattergeo\"}],\"scattergl\":[{\"marker\":{\"colorbar\":{\"outlinewidth\":0,\"ticks\":\"\"}},\"type\":\"scattergl\"}],\"scattermapbox\":[{\"marker\":{\"colorbar\":{\"outlinewidth\":0,\"ticks\":\"\"}},\"type\":\"scattermapbox\"}],\"scatterpolar\":[{\"marker\":{\"colorbar\":{\"outlinewidth\":0,\"ticks\":\"\"}},\"type\":\"scatterpolar\"}],\"scatterpolargl\":[{\"marker\":{\"colorbar\":{\"outlinewidth\":0,\"ticks\":\"\"}},\"type\":\"scatterpolargl\"}],\"scatterternary\":[{\"marker\":{\"colorbar\":{\"outlinewidth\":0,\"ticks\":\"\"}},\"type\":\"scatterternary\"}],\"surface\":[{\"colorbar\":{\"outlinewidth\":0,\"ticks\":\"\"},\"colorscale\":[[0.0,\"#0d0887\"],[0.1111111111111111,\"#46039f\"],[0.2222222222222222,\"#7201a8\"],[0.3333333333333333,\"#9c179e\"],[0.4444444444444444,\"#bd3786\"],[0.5555555555555556,\"#d8576b\"],[0.6666666666666666,\"#ed7953\"],[0.7777777777777778,\"#fb9f3a\"],[0.8888888888888888,\"#fdca26\"],[1.0,\"#f0f921\"]],\"type\":\"surface\"}],\"table\":[{\"cells\":{\"fill\":{\"color\":\"#EBF0F8\"},\"line\":{\"color\":\"white\"}},\"header\":{\"fill\":{\"color\":\"#C8D4E3\"},\"line\":{\"color\":\"white\"}},\"type\":\"table\"}]},\"layout\":{\"annotationdefaults\":{\"arrowcolor\":\"#2a3f5f\",\"arrowhead\":0,\"arrowwidth\":1},\"autotypenumbers\":\"strict\",\"coloraxis\":{\"colorbar\":{\"outlinewidth\":0,\"ticks\":\"\"}},\"colorscale\":{\"diverging\":[[0,\"#8e0152\"],[0.1,\"#c51b7d\"],[0.2,\"#de77ae\"],[0.3,\"#f1b6da\"],[0.4,\"#fde0ef\"],[0.5,\"#f7f7f7\"],[0.6,\"#e6f5d0\"],[0.7,\"#b8e186\"],[0.8,\"#7fbc41\"],[0.9,\"#4d9221\"],[1,\"#276419\"]],\"sequential\":[[0.0,\"#0d0887\"],[0.1111111111111111,\"#46039f\"],[0.2222222222222222,\"#7201a8\"],[0.3333333333333333,\"#9c179e\"],[0.4444444444444444,\"#bd3786\"],[0.5555555555555556,\"#d8576b\"],[0.6666666666666666,\"#ed7953\"],[0.7777777777777778,\"#fb9f3a\"],[0.8888888888888888,\"#fdca26\"],[1.0,\"#f0f921\"]],\"sequentialminus\":[[0.0,\"#0d0887\"],[0.1111111111111111,\"#46039f\"],[0.2222222222222222,\"#7201a8\"],[0.3333333333333333,\"#9c179e\"],[0.4444444444444444,\"#bd3786\"],[0.5555555555555556,\"#d8576b\"],[0.6666666666666666,\"#ed7953\"],[0.7777777777777778,\"#fb9f3a\"],[0.8888888888888888,\"#fdca26\"],[1.0,\"#f0f921\"]]},\"colorway\":[\"#636efa\",\"#EF553B\",\"#00cc96\",\"#ab63fa\",\"#FFA15A\",\"#19d3f3\",\"#FF6692\",\"#B6E880\",\"#FF97FF\",\"#FECB52\"],\"font\":{\"color\":\"#2a3f5f\"},\"geo\":{\"bgcolor\":\"white\",\"lakecolor\":\"white\",\"landcolor\":\"#E5ECF6\",\"showlakes\":true,\"showland\":true,\"subunitcolor\":\"white\"},\"hoverlabel\":{\"align\":\"left\"},\"hovermode\":\"closest\",\"mapbox\":{\"style\":\"light\"},\"paper_bgcolor\":\"white\",\"plot_bgcolor\":\"#E5ECF6\",\"polar\":{\"angularaxis\":{\"gridcolor\":\"white\",\"linecolor\":\"white\",\"ticks\":\"\"},\"bgcolor\":\"#E5ECF6\",\"radialaxis\":{\"gridcolor\":\"white\",\"linecolor\":\"white\",\"ticks\":\"\"}},\"scene\":{\"xaxis\":{\"backgroundcolor\":\"#E5ECF6\",\"gridcolor\":\"white\",\"gridwidth\":2,\"linecolor\":\"white\",\"showbackground\":true,\"ticks\":\"\",\"zerolinecolor\":\"white\"},\"yaxis\":{\"backgroundcolor\":\"#E5ECF6\",\"gridcolor\":\"white\",\"gridwidth\":2,\"linecolor\":\"white\",\"showbackground\":true,\"ticks\":\"\",\"zerolinecolor\":\"white\"},\"zaxis\":{\"backgroundcolor\":\"#E5ECF6\",\"gridcolor\":\"white\",\"gridwidth\":2,\"linecolor\":\"white\",\"showbackground\":true,\"ticks\":\"\",\"zerolinecolor\":\"white\"}},\"shapedefaults\":{\"line\":{\"color\":\"#2a3f5f\"}},\"ternary\":{\"aaxis\":{\"gridcolor\":\"white\",\"linecolor\":\"white\",\"ticks\":\"\"},\"baxis\":{\"gridcolor\":\"white\",\"linecolor\":\"white\",\"ticks\":\"\"},\"bgcolor\":\"#E5ECF6\",\"caxis\":{\"gridcolor\":\"white\",\"linecolor\":\"white\",\"ticks\":\"\"}},\"title\":{\"x\":0.05},\"xaxis\":{\"automargin\":true,\"gridcolor\":\"white\",\"linecolor\":\"white\",\"ticks\":\"\",\"title\":{\"standoff\":15},\"zerolinecolor\":\"white\",\"zerolinewidth\":2},\"yaxis\":{\"automargin\":true,\"gridcolor\":\"white\",\"linecolor\":\"white\",\"ticks\":\"\",\"title\":{\"standoff\":15},\"zerolinecolor\":\"white\",\"zerolinewidth\":2}}},\"title\":{\"font\":{\"color\":\"#4D5663\"}},\"xaxis\":{\"gridcolor\":\"#E1E5ED\",\"showgrid\":true,\"tickfont\":{\"color\":\"#4D5663\"},\"title\":{\"font\":{\"color\":\"#4D5663\"},\"text\":\"\"},\"zerolinecolor\":\"#E1E5ED\"},\"yaxis\":{\"gridcolor\":\"#E1E5ED\",\"showgrid\":true,\"tickfont\":{\"color\":\"#4D5663\"},\"title\":{\"font\":{\"color\":\"#4D5663\"},\"text\":\"\"},\"zerolinecolor\":\"#E1E5ED\"}},                        {\"showLink\": true, \"linkText\": \"Export to plot.ly\", \"plotlyServerURL\": \"https://plot.ly\", \"responsive\": true}                    ).then(function(){\n",
       "                            \n",
       "var gd = document.getElementById('143a6c3d-c3a3-40fe-a3b0-73195d6bee14');\n",
       "var x = new MutationObserver(function (mutations, observer) {{\n",
       "        var display = window.getComputedStyle(gd).display;\n",
       "        if (!display || display === 'none') {{\n",
       "            console.log([gd, 'removed!']);\n",
       "            Plotly.purge(gd);\n",
       "            observer.disconnect();\n",
       "        }}\n",
       "}});\n",
       "\n",
       "// Listen for the removal of the full notebook cells\n",
       "var notebookContainer = gd.closest('#notebook-container');\n",
       "if (notebookContainer) {{\n",
       "    x.observe(notebookContainer, {childList: true});\n",
       "}}\n",
       "\n",
       "// Listen for the clearing of the current output cell\n",
       "var outputEl = gd.closest('.output');\n",
       "if (outputEl) {{\n",
       "    x.observe(outputEl, {childList: true});\n",
       "}}\n",
       "\n",
       "                        })                };                });            </script>        </div>"
      ]
     },
     "metadata": {},
     "output_type": "display_data"
    }
   ],
   "source": [
    "df1.iplot(kind='hist')"
   ]
  },
  {
   "cell_type": "markdown",
   "metadata": {},
   "source": [
    "**Spread**\n",
    "\n",
    "Used to compare values"
   ]
  },
  {
   "cell_type": "code",
   "execution_count": 29,
   "metadata": {},
   "outputs": [
    {
     "name": "stderr",
     "output_type": "stream",
     "text": [
      "C:\\Users\\cuprogrammer\\Anaconda3\\lib\\site-packages\\cufflinks\\plotlytools.py:849: FutureWarning:\n",
      "\n",
      "The pandas.np module is deprecated and will be removed from pandas in a future version. Import numpy directly instead\n",
      "\n",
      "C:\\Users\\cuprogrammer\\Anaconda3\\lib\\site-packages\\cufflinks\\plotlytools.py:850: FutureWarning:\n",
      "\n",
      "The pandas.np module is deprecated and will be removed from pandas in a future version. Import numpy directly instead\n",
      "\n"
     ]
    },
    {
     "data": {
      "application/vnd.plotly.v1+json": {
       "config": {
        "linkText": "Export to plot.ly",
        "plotlyServerURL": "https://plot.ly",
        "showLink": true
       },
       "data": [
        {
         "line": {
          "color": "rgba(255, 153, 51, 1.0)",
          "dash": "solid",
          "shape": "linear",
          "width": 1.3
         },
         "mode": "lines",
         "name": "A",
         "text": "",
         "type": "scatter",
         "x": [
          0,
          1,
          2,
          3,
          4,
          5,
          6,
          7,
          8,
          9,
          10,
          11,
          12,
          13,
          14,
          15,
          16,
          17,
          18,
          19,
          20,
          21,
          22,
          23,
          24,
          25,
          26,
          27,
          28,
          29,
          30,
          31,
          32,
          33,
          34,
          35,
          36,
          37,
          38,
          39,
          40,
          41,
          42,
          43,
          44,
          45,
          46,
          47,
          48,
          49,
          50,
          51,
          52,
          53,
          54,
          55,
          56,
          57,
          58,
          59,
          60,
          61,
          62,
          63,
          64,
          65,
          66,
          67,
          68,
          69,
          70,
          71,
          72,
          73,
          74,
          75,
          76,
          77,
          78,
          79,
          80,
          81,
          82,
          83,
          84,
          85,
          86,
          87,
          88,
          89,
          90,
          91,
          92,
          93,
          94,
          95,
          96,
          97,
          98,
          99
         ],
         "y": [
          -0.2476021517537956,
          0.11874398704528717,
          -1.5986470436970923,
          1.4523802703570448,
          1.6090995991476928,
          0.36229045933429543,
          0.08354651513332022,
          -0.3527933783544127,
          0.5176107966859301,
          -0.833819690766652,
          0.20565072543497975,
          1.9944702000830496,
          -0.35151191314525854,
          -0.826196054882016,
          0.9599029122425612,
          0.8735380178138376,
          -1.644708644572304,
          -1.7738813013900911,
          1.7275862931329586,
          1.2410803233237333,
          -0.47371612259000284,
          1.414213513123541,
          1.458493689936051,
          0.3272856232608136,
          0.3165687182176862,
          0.8414601116357942,
          -0.32475580337050364,
          1.0868940465653318,
          0.4745634553998436,
          -0.2734907459319492,
          1.7936403614043865,
          0.2702198507442268,
          0.23166334935090627,
          0.2149514489904918,
          -0.15239433999431595,
          -0.46485670290661824,
          0.1769888823174567,
          0.9251355276226852,
          -2.923639876842984,
          -1.0036342420862625,
          -1.5972731861258282,
          -0.5863668064009814,
          0.24330756172163637,
          1.0711554663396936,
          0.7912213795894234,
          0.8222629425793855,
          -0.07065589111053654,
          -0.6059385075201855,
          -1.2444487075452308,
          -0.2986809340328696,
          2.1470548990107736,
          -0.9581686455331494,
          -0.14557432693872532,
          -0.4416089409116146,
          0.9352295488236574,
          -1.0506573059035353,
          1.3879041094191515,
          -0.6297383736287204,
          1.2161526628947408,
          0.9380321876702106,
          -0.3186924706946208,
          -1.0451195297871672,
          0.8789782921221527,
          -1.0706299167541156,
          -0.6134943608834571,
          2.114366282469496,
          0.4804360014579106,
          -0.10967689810515825,
          1.1730100543660051,
          0.6680577732576941,
          -1.1540774070386632,
          -0.4851203250530739,
          -0.06824582550241688,
          -0.4860733169583027,
          -1.3724089125985697,
          0.12312942342868287,
          0.16293029773806567,
          1.2974841267330905,
          3.354031799722983,
          -1.5810817578094538,
          0.8052116693646469,
          1.7562243908207342,
          0.5228297709229516,
          -0.8617659959734791,
          0.0620426273685626,
          0.16012867729300984,
          0.09689851489854824,
          -0.1137666435097898,
          1.803702528945463,
          0.2660268294434981,
          0.21102177430662458,
          -0.12523484176846558,
          -1.3224865786008155,
          -0.23270849471023752,
          -1.3608262494607177,
          1.6803295754838412,
          -0.26619167545737504,
          -1.2418906810336272,
          0.6446602759776894,
          -0.9887246241264553
         ]
        },
        {
         "line": {
          "color": "rgba(55, 128, 191, 1.0)",
          "dash": "solid",
          "shape": "linear",
          "width": 1.3
         },
         "mode": "lines",
         "name": "B",
         "text": "",
         "type": "scatter",
         "x": [
          0,
          1,
          2,
          3,
          4,
          5,
          6,
          7,
          8,
          9,
          10,
          11,
          12,
          13,
          14,
          15,
          16,
          17,
          18,
          19,
          20,
          21,
          22,
          23,
          24,
          25,
          26,
          27,
          28,
          29,
          30,
          31,
          32,
          33,
          34,
          35,
          36,
          37,
          38,
          39,
          40,
          41,
          42,
          43,
          44,
          45,
          46,
          47,
          48,
          49,
          50,
          51,
          52,
          53,
          54,
          55,
          56,
          57,
          58,
          59,
          60,
          61,
          62,
          63,
          64,
          65,
          66,
          67,
          68,
          69,
          70,
          71,
          72,
          73,
          74,
          75,
          76,
          77,
          78,
          79,
          80,
          81,
          82,
          83,
          84,
          85,
          86,
          87,
          88,
          89,
          90,
          91,
          92,
          93,
          94,
          95,
          96,
          97,
          98,
          99
         ],
         "y": [
          -0.06053671648461432,
          0.04451657973152728,
          0.5893539754284983,
          1.013668452200273,
          0.6847946382566875,
          0.20861092698642347,
          -0.3309414257884284,
          -0.5453515972945141,
          0.23076522077023776,
          -0.6403566961541314,
          -1.4889655573956504,
          0.9352129666595805,
          -0.8553217826158602,
          -0.5358471525131479,
          -0.7285079896694445,
          -0.19435999410793742,
          -0.021183660575883688,
          -1.27486421427924,
          -1.377441170107258,
          0.1920596120363645,
          -1.1360047658662333,
          -0.25162260549257154,
          -0.38292153172884064,
          1.5087553081937204,
          0.14799880515885433,
          0.605878255040937,
          1.6218346664911871,
          -0.6412077490099374,
          0.3542488866697352,
          -0.4607106765297617,
          1.2204733158298071,
          1.5290677262515437,
          -0.5325381867220287,
          0.6886302420714265,
          -1.4040226516881387,
          -2.163779233019157,
          -1.635161679442351,
          0.11429126376701604,
          1.5913115916653733,
          -0.7516875353912756,
          -1.1490181657991692,
          0.05209633163880171,
          -1.2505146014805508,
          0.945770812894874,
          0.44120913669486617,
          -1.4272575263523835,
          -0.058534388435669125,
          -0.33290524940555216,
          0.25397740217116543,
          1.2107495453696848,
          -1.3048536413809813,
          -0.07290573215858111,
          -0.935009414667022,
          0.31698859178976346,
          0.3035657889195938,
          -0.09726791999649201,
          -0.13309365569973972,
          -1.3660791616250785,
          -1.0000957432387825,
          -0.44418957211110716,
          -0.7186337755517709,
          1.102995878230977,
          0.020947744800001725,
          -0.5379484903254714,
          1.434265530651456,
          -0.005595426280574108,
          -2.0024045908564716,
          1.2079291512768016,
          0.15101539633938965,
          -0.9415917180574958,
          0.8902241018403784,
          -0.6581560875764221,
          -1.2673251228201592,
          1.2592403371088414,
          -0.2831780015730596,
          0.047762380357669894,
          0.8603279518544563,
          -0.7821657611800706,
          -0.08202755823879464,
          0.06094696276155334,
          -0.8603811991901833,
          -0.05999313775337979,
          -0.4134487343659485,
          -0.4420361210196551,
          1.964645409112964,
          0.7896408572825018,
          -0.3773497911703148,
          1.6692535284277301,
          -0.27550204963687014,
          0.41138019434472406,
          -1.0549370402879954,
          1.6736473264323468,
          -0.8808278394958889,
          0.4728475230153127,
          0.19446889154197278,
          0.2995578928563227,
          -0.3887601705363107,
          -1.031190785706398,
          -1.4446194412722257,
          0.5759700536209127
         ]
        },
        {
         "connectgaps": false,
         "fill": "tozeroy",
         "line": {
          "color": "green",
          "dash": "solid",
          "shape": "linear",
          "width": 0.5
         },
         "mode": "lines",
         "name": "Spread",
         "showlegend": false,
         "type": "scatter",
         "x": [
          0,
          1,
          2,
          3,
          4,
          5,
          6,
          7,
          8,
          9,
          10,
          11,
          12,
          13,
          14,
          15,
          16,
          17,
          18,
          19,
          20,
          21,
          22,
          23,
          24,
          25,
          26,
          27,
          28,
          29,
          30,
          31,
          32,
          33,
          34,
          35,
          36,
          37,
          38,
          39,
          40,
          41,
          42,
          43,
          44,
          45,
          46,
          47,
          48,
          49,
          50,
          51,
          52,
          53,
          54,
          55,
          56,
          57,
          58,
          59,
          60,
          61,
          62,
          63,
          64,
          65,
          66,
          67,
          68,
          69,
          70,
          71,
          72,
          73,
          74,
          75,
          76,
          77,
          78,
          79,
          80,
          81,
          82,
          83,
          84,
          85,
          86,
          87,
          88,
          89,
          90,
          91,
          92,
          93,
          94,
          95,
          96,
          97,
          98,
          99
         ],
         "xaxis": "x2",
         "y": [
          "",
          0.0742274073137599,
          "",
          0.43871181815677174,
          0.9243049608910053,
          0.15367953234787196,
          0.4144879409217486,
          0.1925582189401014,
          0.2868455759156924,
          "",
          1.6946162828306301,
          1.0592572334234691,
          0.5038098694706017,
          "",
          1.6884109019120057,
          1.067898011921775,
          "",
          "",
          3.1050274632402166,
          1.0490207112873688,
          0.6622886432762305,
          1.6658361186161126,
          1.8414152216648916,
          "",
          0.16856991305883184,
          0.2355818565948572,
          "",
          1.7281017955752693,
          0.12031456873010843,
          0.1872199305978125,
          0.5731670455745794,
          "",
          0.764201536072935,
          "",
          1.2516283116938227,
          1.698922530112539,
          1.8121505617598077,
          0.8108442638556692,
          "",
          "",
          "",
          "",
          1.493822163202187,
          0.12538465344481964,
          0.35001224289455724,
          2.249520468931769,
          "",
          "",
          "",
          "",
          3.451908540391755,
          "",
          0.7894350877282967,
          "",
          0.6316637599040635,
          "",
          1.5209977651188913,
          0.736340787996358,
          2.2162484061335235,
          1.3822217597813178,
          0.39994130485715007,
          "",
          0.858030547322151,
          "",
          "",
          2.11996170875007,
          2.4828405923143824,
          "",
          1.0219946580266155,
          1.60964949131519,
          "",
          0.17303576252334818,
          1.1990792973177422,
          "",
          "",
          0.07536704307101297,
          "",
          2.079649887913161,
          3.4360593579617777,
          "",
          1.6655928685548302,
          1.816217528574114,
          0.9362785052889,
          "",
          "",
          "",
          0.47424830606886303,
          "",
          2.079204578582333,
          "",
          1.26595881459462,
          "",
          "",
          "",
          "",
          1.3807716826275185,
          0.12256849507893564,
          "",
          2.089279717249915,
          ""
         ],
         "yaxis": "y2"
        },
        {
         "connectgaps": false,
         "fill": "tozeroy",
         "line": {
          "color": "red",
          "dash": "solid",
          "shape": "linear",
          "width": 0.5
         },
         "mode": "lines",
         "name": "Spread",
         "showlegend": false,
         "type": "scatter",
         "x": [
          0,
          1,
          2,
          3,
          4,
          5,
          6,
          7,
          8,
          9,
          10,
          11,
          12,
          13,
          14,
          15,
          16,
          17,
          18,
          19,
          20,
          21,
          22,
          23,
          24,
          25,
          26,
          27,
          28,
          29,
          30,
          31,
          32,
          33,
          34,
          35,
          36,
          37,
          38,
          39,
          40,
          41,
          42,
          43,
          44,
          45,
          46,
          47,
          48,
          49,
          50,
          51,
          52,
          53,
          54,
          55,
          56,
          57,
          58,
          59,
          60,
          61,
          62,
          63,
          64,
          65,
          66,
          67,
          68,
          69,
          70,
          71,
          72,
          73,
          74,
          75,
          76,
          77,
          78,
          79,
          80,
          81,
          82,
          83,
          84,
          85,
          86,
          87,
          88,
          89,
          90,
          91,
          92,
          93,
          94,
          95,
          96,
          97,
          98,
          99
         ],
         "xaxis": "x2",
         "y": [
          -0.1870654352691813,
          "",
          -2.1880010191255908,
          "",
          "",
          "",
          "",
          "",
          "",
          -0.1934629946125206,
          "",
          "",
          "",
          -0.2903489023688681,
          "",
          "",
          -1.6235249839964203,
          -0.49901708711085124,
          "",
          "",
          "",
          "",
          "",
          -1.1814696849329067,
          "",
          "",
          -1.9465904698616907,
          "",
          "",
          "",
          "",
          -1.258847875507317,
          "",
          -0.47367879308093475,
          "",
          "",
          "",
          "",
          -4.514951468508357,
          -0.25194670669498687,
          -0.4482550203266591,
          -0.638463138039783,
          "",
          "",
          "",
          "",
          -0.012121502674867411,
          -0.27303325811463336,
          -1.4984261097163962,
          -1.5094304794025544,
          "",
          -0.8852629133745683,
          "",
          -0.7585975327013781,
          "",
          -0.9533893859070434,
          "",
          "",
          "",
          "",
          "",
          -2.1481154080181444,
          "",
          -0.5326814264286441,
          -2.047759891534913,
          "",
          "",
          -1.31760604938196,
          "",
          "",
          -2.0443015088790415,
          "",
          "",
          -1.7453136540671441,
          -1.08923091102551,
          "",
          -0.6973976541163907,
          "",
          "",
          -1.6420287205710071,
          "",
          "",
          "",
          -0.419729874953824,
          -1.9026027817444013,
          -0.6295121799894919,
          "",
          -1.7830201719375198,
          "",
          -0.14535336490122597,
          "",
          -1.7988821682008125,
          -0.4416587391049266,
          -0.7055560177255502,
          -1.5552951410026905,
          "",
          "",
          -0.21069989532722921,
          "",
          -1.564694677747368
         ],
         "yaxis": "y2"
        }
       ],
       "layout": {
        "hovermode": "x",
        "legend": {
         "bgcolor": "#F5F6F9",
         "font": {
          "color": "#4D5663"
         }
        },
        "paper_bgcolor": "#F5F6F9",
        "plot_bgcolor": "#F5F6F9",
        "template": {
         "data": {
          "bar": [
           {
            "error_x": {
             "color": "#2a3f5f"
            },
            "error_y": {
             "color": "#2a3f5f"
            },
            "marker": {
             "line": {
              "color": "#E5ECF6",
              "width": 0.5
             },
             "pattern": {
              "fillmode": "overlay",
              "size": 10,
              "solidity": 0.2
             }
            },
            "type": "bar"
           }
          ],
          "barpolar": [
           {
            "marker": {
             "line": {
              "color": "#E5ECF6",
              "width": 0.5
             },
             "pattern": {
              "fillmode": "overlay",
              "size": 10,
              "solidity": 0.2
             }
            },
            "type": "barpolar"
           }
          ],
          "carpet": [
           {
            "aaxis": {
             "endlinecolor": "#2a3f5f",
             "gridcolor": "white",
             "linecolor": "white",
             "minorgridcolor": "white",
             "startlinecolor": "#2a3f5f"
            },
            "baxis": {
             "endlinecolor": "#2a3f5f",
             "gridcolor": "white",
             "linecolor": "white",
             "minorgridcolor": "white",
             "startlinecolor": "#2a3f5f"
            },
            "type": "carpet"
           }
          ],
          "choropleth": [
           {
            "colorbar": {
             "outlinewidth": 0,
             "ticks": ""
            },
            "type": "choropleth"
           }
          ],
          "contour": [
           {
            "colorbar": {
             "outlinewidth": 0,
             "ticks": ""
            },
            "colorscale": [
             [
              0,
              "#0d0887"
             ],
             [
              0.1111111111111111,
              "#46039f"
             ],
             [
              0.2222222222222222,
              "#7201a8"
             ],
             [
              0.3333333333333333,
              "#9c179e"
             ],
             [
              0.4444444444444444,
              "#bd3786"
             ],
             [
              0.5555555555555556,
              "#d8576b"
             ],
             [
              0.6666666666666666,
              "#ed7953"
             ],
             [
              0.7777777777777778,
              "#fb9f3a"
             ],
             [
              0.8888888888888888,
              "#fdca26"
             ],
             [
              1,
              "#f0f921"
             ]
            ],
            "type": "contour"
           }
          ],
          "contourcarpet": [
           {
            "colorbar": {
             "outlinewidth": 0,
             "ticks": ""
            },
            "type": "contourcarpet"
           }
          ],
          "heatmap": [
           {
            "colorbar": {
             "outlinewidth": 0,
             "ticks": ""
            },
            "colorscale": [
             [
              0,
              "#0d0887"
             ],
             [
              0.1111111111111111,
              "#46039f"
             ],
             [
              0.2222222222222222,
              "#7201a8"
             ],
             [
              0.3333333333333333,
              "#9c179e"
             ],
             [
              0.4444444444444444,
              "#bd3786"
             ],
             [
              0.5555555555555556,
              "#d8576b"
             ],
             [
              0.6666666666666666,
              "#ed7953"
             ],
             [
              0.7777777777777778,
              "#fb9f3a"
             ],
             [
              0.8888888888888888,
              "#fdca26"
             ],
             [
              1,
              "#f0f921"
             ]
            ],
            "type": "heatmap"
           }
          ],
          "heatmapgl": [
           {
            "colorbar": {
             "outlinewidth": 0,
             "ticks": ""
            },
            "colorscale": [
             [
              0,
              "#0d0887"
             ],
             [
              0.1111111111111111,
              "#46039f"
             ],
             [
              0.2222222222222222,
              "#7201a8"
             ],
             [
              0.3333333333333333,
              "#9c179e"
             ],
             [
              0.4444444444444444,
              "#bd3786"
             ],
             [
              0.5555555555555556,
              "#d8576b"
             ],
             [
              0.6666666666666666,
              "#ed7953"
             ],
             [
              0.7777777777777778,
              "#fb9f3a"
             ],
             [
              0.8888888888888888,
              "#fdca26"
             ],
             [
              1,
              "#f0f921"
             ]
            ],
            "type": "heatmapgl"
           }
          ],
          "histogram": [
           {
            "marker": {
             "pattern": {
              "fillmode": "overlay",
              "size": 10,
              "solidity": 0.2
             }
            },
            "type": "histogram"
           }
          ],
          "histogram2d": [
           {
            "colorbar": {
             "outlinewidth": 0,
             "ticks": ""
            },
            "colorscale": [
             [
              0,
              "#0d0887"
             ],
             [
              0.1111111111111111,
              "#46039f"
             ],
             [
              0.2222222222222222,
              "#7201a8"
             ],
             [
              0.3333333333333333,
              "#9c179e"
             ],
             [
              0.4444444444444444,
              "#bd3786"
             ],
             [
              0.5555555555555556,
              "#d8576b"
             ],
             [
              0.6666666666666666,
              "#ed7953"
             ],
             [
              0.7777777777777778,
              "#fb9f3a"
             ],
             [
              0.8888888888888888,
              "#fdca26"
             ],
             [
              1,
              "#f0f921"
             ]
            ],
            "type": "histogram2d"
           }
          ],
          "histogram2dcontour": [
           {
            "colorbar": {
             "outlinewidth": 0,
             "ticks": ""
            },
            "colorscale": [
             [
              0,
              "#0d0887"
             ],
             [
              0.1111111111111111,
              "#46039f"
             ],
             [
              0.2222222222222222,
              "#7201a8"
             ],
             [
              0.3333333333333333,
              "#9c179e"
             ],
             [
              0.4444444444444444,
              "#bd3786"
             ],
             [
              0.5555555555555556,
              "#d8576b"
             ],
             [
              0.6666666666666666,
              "#ed7953"
             ],
             [
              0.7777777777777778,
              "#fb9f3a"
             ],
             [
              0.8888888888888888,
              "#fdca26"
             ],
             [
              1,
              "#f0f921"
             ]
            ],
            "type": "histogram2dcontour"
           }
          ],
          "mesh3d": [
           {
            "colorbar": {
             "outlinewidth": 0,
             "ticks": ""
            },
            "type": "mesh3d"
           }
          ],
          "parcoords": [
           {
            "line": {
             "colorbar": {
              "outlinewidth": 0,
              "ticks": ""
             }
            },
            "type": "parcoords"
           }
          ],
          "pie": [
           {
            "automargin": true,
            "type": "pie"
           }
          ],
          "scatter": [
           {
            "marker": {
             "colorbar": {
              "outlinewidth": 0,
              "ticks": ""
             }
            },
            "type": "scatter"
           }
          ],
          "scatter3d": [
           {
            "line": {
             "colorbar": {
              "outlinewidth": 0,
              "ticks": ""
             }
            },
            "marker": {
             "colorbar": {
              "outlinewidth": 0,
              "ticks": ""
             }
            },
            "type": "scatter3d"
           }
          ],
          "scattercarpet": [
           {
            "marker": {
             "colorbar": {
              "outlinewidth": 0,
              "ticks": ""
             }
            },
            "type": "scattercarpet"
           }
          ],
          "scattergeo": [
           {
            "marker": {
             "colorbar": {
              "outlinewidth": 0,
              "ticks": ""
             }
            },
            "type": "scattergeo"
           }
          ],
          "scattergl": [
           {
            "marker": {
             "colorbar": {
              "outlinewidth": 0,
              "ticks": ""
             }
            },
            "type": "scattergl"
           }
          ],
          "scattermapbox": [
           {
            "marker": {
             "colorbar": {
              "outlinewidth": 0,
              "ticks": ""
             }
            },
            "type": "scattermapbox"
           }
          ],
          "scatterpolar": [
           {
            "marker": {
             "colorbar": {
              "outlinewidth": 0,
              "ticks": ""
             }
            },
            "type": "scatterpolar"
           }
          ],
          "scatterpolargl": [
           {
            "marker": {
             "colorbar": {
              "outlinewidth": 0,
              "ticks": ""
             }
            },
            "type": "scatterpolargl"
           }
          ],
          "scatterternary": [
           {
            "marker": {
             "colorbar": {
              "outlinewidth": 0,
              "ticks": ""
             }
            },
            "type": "scatterternary"
           }
          ],
          "surface": [
           {
            "colorbar": {
             "outlinewidth": 0,
             "ticks": ""
            },
            "colorscale": [
             [
              0,
              "#0d0887"
             ],
             [
              0.1111111111111111,
              "#46039f"
             ],
             [
              0.2222222222222222,
              "#7201a8"
             ],
             [
              0.3333333333333333,
              "#9c179e"
             ],
             [
              0.4444444444444444,
              "#bd3786"
             ],
             [
              0.5555555555555556,
              "#d8576b"
             ],
             [
              0.6666666666666666,
              "#ed7953"
             ],
             [
              0.7777777777777778,
              "#fb9f3a"
             ],
             [
              0.8888888888888888,
              "#fdca26"
             ],
             [
              1,
              "#f0f921"
             ]
            ],
            "type": "surface"
           }
          ],
          "table": [
           {
            "cells": {
             "fill": {
              "color": "#EBF0F8"
             },
             "line": {
              "color": "white"
             }
            },
            "header": {
             "fill": {
              "color": "#C8D4E3"
             },
             "line": {
              "color": "white"
             }
            },
            "type": "table"
           }
          ]
         },
         "layout": {
          "annotationdefaults": {
           "arrowcolor": "#2a3f5f",
           "arrowhead": 0,
           "arrowwidth": 1
          },
          "autotypenumbers": "strict",
          "coloraxis": {
           "colorbar": {
            "outlinewidth": 0,
            "ticks": ""
           }
          },
          "colorscale": {
           "diverging": [
            [
             0,
             "#8e0152"
            ],
            [
             0.1,
             "#c51b7d"
            ],
            [
             0.2,
             "#de77ae"
            ],
            [
             0.3,
             "#f1b6da"
            ],
            [
             0.4,
             "#fde0ef"
            ],
            [
             0.5,
             "#f7f7f7"
            ],
            [
             0.6,
             "#e6f5d0"
            ],
            [
             0.7,
             "#b8e186"
            ],
            [
             0.8,
             "#7fbc41"
            ],
            [
             0.9,
             "#4d9221"
            ],
            [
             1,
             "#276419"
            ]
           ],
           "sequential": [
            [
             0,
             "#0d0887"
            ],
            [
             0.1111111111111111,
             "#46039f"
            ],
            [
             0.2222222222222222,
             "#7201a8"
            ],
            [
             0.3333333333333333,
             "#9c179e"
            ],
            [
             0.4444444444444444,
             "#bd3786"
            ],
            [
             0.5555555555555556,
             "#d8576b"
            ],
            [
             0.6666666666666666,
             "#ed7953"
            ],
            [
             0.7777777777777778,
             "#fb9f3a"
            ],
            [
             0.8888888888888888,
             "#fdca26"
            ],
            [
             1,
             "#f0f921"
            ]
           ],
           "sequentialminus": [
            [
             0,
             "#0d0887"
            ],
            [
             0.1111111111111111,
             "#46039f"
            ],
            [
             0.2222222222222222,
             "#7201a8"
            ],
            [
             0.3333333333333333,
             "#9c179e"
            ],
            [
             0.4444444444444444,
             "#bd3786"
            ],
            [
             0.5555555555555556,
             "#d8576b"
            ],
            [
             0.6666666666666666,
             "#ed7953"
            ],
            [
             0.7777777777777778,
             "#fb9f3a"
            ],
            [
             0.8888888888888888,
             "#fdca26"
            ],
            [
             1,
             "#f0f921"
            ]
           ]
          },
          "colorway": [
           "#636efa",
           "#EF553B",
           "#00cc96",
           "#ab63fa",
           "#FFA15A",
           "#19d3f3",
           "#FF6692",
           "#B6E880",
           "#FF97FF",
           "#FECB52"
          ],
          "font": {
           "color": "#2a3f5f"
          },
          "geo": {
           "bgcolor": "white",
           "lakecolor": "white",
           "landcolor": "#E5ECF6",
           "showlakes": true,
           "showland": true,
           "subunitcolor": "white"
          },
          "hoverlabel": {
           "align": "left"
          },
          "hovermode": "closest",
          "mapbox": {
           "style": "light"
          },
          "paper_bgcolor": "white",
          "plot_bgcolor": "#E5ECF6",
          "polar": {
           "angularaxis": {
            "gridcolor": "white",
            "linecolor": "white",
            "ticks": ""
           },
           "bgcolor": "#E5ECF6",
           "radialaxis": {
            "gridcolor": "white",
            "linecolor": "white",
            "ticks": ""
           }
          },
          "scene": {
           "xaxis": {
            "backgroundcolor": "#E5ECF6",
            "gridcolor": "white",
            "gridwidth": 2,
            "linecolor": "white",
            "showbackground": true,
            "ticks": "",
            "zerolinecolor": "white"
           },
           "yaxis": {
            "backgroundcolor": "#E5ECF6",
            "gridcolor": "white",
            "gridwidth": 2,
            "linecolor": "white",
            "showbackground": true,
            "ticks": "",
            "zerolinecolor": "white"
           },
           "zaxis": {
            "backgroundcolor": "#E5ECF6",
            "gridcolor": "white",
            "gridwidth": 2,
            "linecolor": "white",
            "showbackground": true,
            "ticks": "",
            "zerolinecolor": "white"
           }
          },
          "shapedefaults": {
           "line": {
            "color": "#2a3f5f"
           }
          },
          "ternary": {
           "aaxis": {
            "gridcolor": "white",
            "linecolor": "white",
            "ticks": ""
           },
           "baxis": {
            "gridcolor": "white",
            "linecolor": "white",
            "ticks": ""
           },
           "bgcolor": "#E5ECF6",
           "caxis": {
            "gridcolor": "white",
            "linecolor": "white",
            "ticks": ""
           }
          },
          "title": {
           "x": 0.05
          },
          "xaxis": {
           "automargin": true,
           "gridcolor": "white",
           "linecolor": "white",
           "ticks": "",
           "title": {
            "standoff": 15
           },
           "zerolinecolor": "white",
           "zerolinewidth": 2
          },
          "yaxis": {
           "automargin": true,
           "gridcolor": "white",
           "linecolor": "white",
           "ticks": "",
           "title": {
            "standoff": 15
           },
           "zerolinecolor": "white",
           "zerolinewidth": 2
          }
         }
        },
        "title": {
         "font": {
          "color": "#4D5663"
         }
        },
        "xaxis": {
         "gridcolor": "#E1E5ED",
         "showgrid": true,
         "tickfont": {
          "color": "#4D5663"
         },
         "title": {
          "font": {
           "color": "#4D5663"
          },
          "text": ""
         },
         "zerolinecolor": "#E1E5ED"
        },
        "xaxis2": {
         "anchor": "y2",
         "gridcolor": "#E1E5ED",
         "showgrid": true,
         "showticklabels": false,
         "tickfont": {
          "color": "#4D5663"
         },
         "title": {
          "font": {
           "color": "#4D5663"
          },
          "text": ""
         },
         "zerolinecolor": "#E1E5ED"
        },
        "yaxis": {
         "domain": [
          0.3,
          1
         ],
         "gridcolor": "#E1E5ED",
         "showgrid": true,
         "tickfont": {
          "color": "#4D5663"
         },
         "title": {
          "font": {
           "color": "#4D5663"
          },
          "text": ""
         },
         "zerolinecolor": "#E1E5ED"
        },
        "yaxis2": {
         "domain": [
          0,
          0.25
         ],
         "gridcolor": "#E1E5ED",
         "showgrid": true,
         "tickfont": {
          "color": "#4D5663"
         },
         "title": {
          "font": {
           "color": "#4D5663"
          },
          "text": "Spread"
         },
         "zerolinecolor": "#E1E5ED"
        }
       }
      },
      "text/html": [
       "<div>                            <div id=\"922c1308-cc05-4092-b906-8edff2335b2e\" class=\"plotly-graph-div\" style=\"height:525px; width:100%;\"></div>            <script type=\"text/javascript\">                require([\"plotly\"], function(Plotly) {                    window.PLOTLYENV=window.PLOTLYENV || {};\n",
       "                    window.PLOTLYENV.BASE_URL='https://plot.ly';                                    if (document.getElementById(\"922c1308-cc05-4092-b906-8edff2335b2e\")) {                    Plotly.newPlot(                        \"922c1308-cc05-4092-b906-8edff2335b2e\",                        [{\"line\":{\"color\":\"rgba(255, 153, 51, 1.0)\",\"dash\":\"solid\",\"shape\":\"linear\",\"width\":1.3},\"mode\":\"lines\",\"name\":\"A\",\"text\":\"\",\"type\":\"scatter\",\"x\":[0,1,2,3,4,5,6,7,8,9,10,11,12,13,14,15,16,17,18,19,20,21,22,23,24,25,26,27,28,29,30,31,32,33,34,35,36,37,38,39,40,41,42,43,44,45,46,47,48,49,50,51,52,53,54,55,56,57,58,59,60,61,62,63,64,65,66,67,68,69,70,71,72,73,74,75,76,77,78,79,80,81,82,83,84,85,86,87,88,89,90,91,92,93,94,95,96,97,98,99],\"y\":[-0.2476021517537956,0.11874398704528717,-1.5986470436970923,1.4523802703570448,1.6090995991476928,0.36229045933429543,0.08354651513332022,-0.3527933783544127,0.5176107966859301,-0.833819690766652,0.20565072543497975,1.9944702000830496,-0.35151191314525854,-0.826196054882016,0.9599029122425612,0.8735380178138376,-1.644708644572304,-1.7738813013900911,1.7275862931329586,1.2410803233237333,-0.47371612259000284,1.414213513123541,1.458493689936051,0.3272856232608136,0.3165687182176862,0.8414601116357942,-0.32475580337050364,1.0868940465653318,0.4745634553998436,-0.2734907459319492,1.7936403614043865,0.2702198507442268,0.23166334935090627,0.2149514489904918,-0.15239433999431595,-0.46485670290661824,0.1769888823174567,0.9251355276226852,-2.923639876842984,-1.0036342420862625,-1.5972731861258282,-0.5863668064009814,0.24330756172163637,1.0711554663396936,0.7912213795894234,0.8222629425793855,-0.07065589111053654,-0.6059385075201855,-1.2444487075452308,-0.2986809340328696,2.1470548990107736,-0.9581686455331494,-0.14557432693872532,-0.4416089409116146,0.9352295488236574,-1.0506573059035353,1.3879041094191515,-0.6297383736287204,1.2161526628947408,0.9380321876702106,-0.3186924706946208,-1.0451195297871672,0.8789782921221527,-1.0706299167541156,-0.6134943608834571,2.114366282469496,0.4804360014579106,-0.10967689810515825,1.1730100543660051,0.6680577732576941,-1.1540774070386632,-0.4851203250530739,-0.06824582550241688,-0.4860733169583027,-1.3724089125985697,0.12312942342868287,0.16293029773806567,1.2974841267330905,3.354031799722983,-1.5810817578094538,0.8052116693646469,1.7562243908207342,0.5228297709229516,-0.8617659959734791,0.0620426273685626,0.16012867729300984,0.09689851489854824,-0.1137666435097898,1.803702528945463,0.2660268294434981,0.21102177430662458,-0.12523484176846558,-1.3224865786008155,-0.23270849471023752,-1.3608262494607177,1.6803295754838412,-0.26619167545737504,-1.2418906810336272,0.6446602759776894,-0.9887246241264553]},{\"line\":{\"color\":\"rgba(55, 128, 191, 1.0)\",\"dash\":\"solid\",\"shape\":\"linear\",\"width\":1.3},\"mode\":\"lines\",\"name\":\"B\",\"text\":\"\",\"type\":\"scatter\",\"x\":[0,1,2,3,4,5,6,7,8,9,10,11,12,13,14,15,16,17,18,19,20,21,22,23,24,25,26,27,28,29,30,31,32,33,34,35,36,37,38,39,40,41,42,43,44,45,46,47,48,49,50,51,52,53,54,55,56,57,58,59,60,61,62,63,64,65,66,67,68,69,70,71,72,73,74,75,76,77,78,79,80,81,82,83,84,85,86,87,88,89,90,91,92,93,94,95,96,97,98,99],\"y\":[-0.06053671648461432,0.04451657973152728,0.5893539754284983,1.013668452200273,0.6847946382566875,0.20861092698642347,-0.3309414257884284,-0.5453515972945141,0.23076522077023776,-0.6403566961541314,-1.4889655573956504,0.9352129666595805,-0.8553217826158602,-0.5358471525131479,-0.7285079896694445,-0.19435999410793742,-0.021183660575883688,-1.27486421427924,-1.377441170107258,0.1920596120363645,-1.1360047658662333,-0.25162260549257154,-0.38292153172884064,1.5087553081937204,0.14799880515885433,0.605878255040937,1.6218346664911871,-0.6412077490099374,0.3542488866697352,-0.4607106765297617,1.2204733158298071,1.5290677262515437,-0.5325381867220287,0.6886302420714265,-1.4040226516881387,-2.163779233019157,-1.635161679442351,0.11429126376701604,1.5913115916653733,-0.7516875353912756,-1.1490181657991692,0.05209633163880171,-1.2505146014805508,0.945770812894874,0.44120913669486617,-1.4272575263523835,-0.058534388435669125,-0.33290524940555216,0.25397740217116543,1.2107495453696848,-1.3048536413809813,-0.07290573215858111,-0.935009414667022,0.31698859178976346,0.3035657889195938,-0.09726791999649201,-0.13309365569973972,-1.3660791616250785,-1.0000957432387825,-0.44418957211110716,-0.7186337755517709,1.102995878230977,0.020947744800001725,-0.5379484903254714,1.434265530651456,-0.005595426280574108,-2.0024045908564716,1.2079291512768016,0.15101539633938965,-0.9415917180574958,0.8902241018403784,-0.6581560875764221,-1.2673251228201592,1.2592403371088414,-0.2831780015730596,0.047762380357669894,0.8603279518544563,-0.7821657611800706,-0.08202755823879464,0.06094696276155334,-0.8603811991901833,-0.05999313775337979,-0.4134487343659485,-0.4420361210196551,1.964645409112964,0.7896408572825018,-0.3773497911703148,1.6692535284277301,-0.27550204963687014,0.41138019434472406,-1.0549370402879954,1.6736473264323468,-0.8808278394958889,0.4728475230153127,0.19446889154197278,0.2995578928563227,-0.3887601705363107,-1.031190785706398,-1.4446194412722257,0.5759700536209127]},{\"connectgaps\":false,\"fill\":\"tozeroy\",\"line\":{\"color\":\"green\",\"dash\":\"solid\",\"shape\":\"linear\",\"width\":0.5},\"mode\":\"lines\",\"name\":\"Spread\",\"showlegend\":false,\"type\":\"scatter\",\"x\":[0,1,2,3,4,5,6,7,8,9,10,11,12,13,14,15,16,17,18,19,20,21,22,23,24,25,26,27,28,29,30,31,32,33,34,35,36,37,38,39,40,41,42,43,44,45,46,47,48,49,50,51,52,53,54,55,56,57,58,59,60,61,62,63,64,65,66,67,68,69,70,71,72,73,74,75,76,77,78,79,80,81,82,83,84,85,86,87,88,89,90,91,92,93,94,95,96,97,98,99],\"xaxis\":\"x2\",\"y\":[\"\",0.0742274073137599,\"\",0.43871181815677174,0.9243049608910053,0.15367953234787196,0.4144879409217486,0.1925582189401014,0.2868455759156924,\"\",1.6946162828306301,1.0592572334234691,0.5038098694706017,\"\",1.6884109019120057,1.067898011921775,\"\",\"\",3.1050274632402166,1.0490207112873688,0.6622886432762305,1.6658361186161126,1.8414152216648916,\"\",0.16856991305883184,0.2355818565948572,\"\",1.7281017955752693,0.12031456873010843,0.1872199305978125,0.5731670455745794,\"\",0.764201536072935,\"\",1.2516283116938227,1.698922530112539,1.8121505617598077,0.8108442638556692,\"\",\"\",\"\",\"\",1.493822163202187,0.12538465344481964,0.35001224289455724,2.249520468931769,\"\",\"\",\"\",\"\",3.451908540391755,\"\",0.7894350877282967,\"\",0.6316637599040635,\"\",1.5209977651188913,0.736340787996358,2.2162484061335235,1.3822217597813178,0.39994130485715007,\"\",0.858030547322151,\"\",\"\",2.11996170875007,2.4828405923143824,\"\",1.0219946580266155,1.60964949131519,\"\",0.17303576252334818,1.1990792973177422,\"\",\"\",0.07536704307101297,\"\",2.079649887913161,3.4360593579617777,\"\",1.6655928685548302,1.816217528574114,0.9362785052889,\"\",\"\",\"\",0.47424830606886303,\"\",2.079204578582333,\"\",1.26595881459462,\"\",\"\",\"\",\"\",1.3807716826275185,0.12256849507893564,\"\",2.089279717249915,\"\"],\"yaxis\":\"y2\"},{\"connectgaps\":false,\"fill\":\"tozeroy\",\"line\":{\"color\":\"red\",\"dash\":\"solid\",\"shape\":\"linear\",\"width\":0.5},\"mode\":\"lines\",\"name\":\"Spread\",\"showlegend\":false,\"type\":\"scatter\",\"x\":[0,1,2,3,4,5,6,7,8,9,10,11,12,13,14,15,16,17,18,19,20,21,22,23,24,25,26,27,28,29,30,31,32,33,34,35,36,37,38,39,40,41,42,43,44,45,46,47,48,49,50,51,52,53,54,55,56,57,58,59,60,61,62,63,64,65,66,67,68,69,70,71,72,73,74,75,76,77,78,79,80,81,82,83,84,85,86,87,88,89,90,91,92,93,94,95,96,97,98,99],\"xaxis\":\"x2\",\"y\":[-0.1870654352691813,\"\",-2.1880010191255908,\"\",\"\",\"\",\"\",\"\",\"\",-0.1934629946125206,\"\",\"\",\"\",-0.2903489023688681,\"\",\"\",-1.6235249839964203,-0.49901708711085124,\"\",\"\",\"\",\"\",\"\",-1.1814696849329067,\"\",\"\",-1.9465904698616907,\"\",\"\",\"\",\"\",-1.258847875507317,\"\",-0.47367879308093475,\"\",\"\",\"\",\"\",-4.514951468508357,-0.25194670669498687,-0.4482550203266591,-0.638463138039783,\"\",\"\",\"\",\"\",-0.012121502674867411,-0.27303325811463336,-1.4984261097163962,-1.5094304794025544,\"\",-0.8852629133745683,\"\",-0.7585975327013781,\"\",-0.9533893859070434,\"\",\"\",\"\",\"\",\"\",-2.1481154080181444,\"\",-0.5326814264286441,-2.047759891534913,\"\",\"\",-1.31760604938196,\"\",\"\",-2.0443015088790415,\"\",\"\",-1.7453136540671441,-1.08923091102551,\"\",-0.6973976541163907,\"\",\"\",-1.6420287205710071,\"\",\"\",\"\",-0.419729874953824,-1.9026027817444013,-0.6295121799894919,\"\",-1.7830201719375198,\"\",-0.14535336490122597,\"\",-1.7988821682008125,-0.4416587391049266,-0.7055560177255502,-1.5552951410026905,\"\",\"\",-0.21069989532722921,\"\",-1.564694677747368],\"yaxis\":\"y2\"}],                        {\"hovermode\":\"x\",\"legend\":{\"bgcolor\":\"#F5F6F9\",\"font\":{\"color\":\"#4D5663\"}},\"paper_bgcolor\":\"#F5F6F9\",\"plot_bgcolor\":\"#F5F6F9\",\"template\":{\"data\":{\"bar\":[{\"error_x\":{\"color\":\"#2a3f5f\"},\"error_y\":{\"color\":\"#2a3f5f\"},\"marker\":{\"line\":{\"color\":\"#E5ECF6\",\"width\":0.5},\"pattern\":{\"fillmode\":\"overlay\",\"size\":10,\"solidity\":0.2}},\"type\":\"bar\"}],\"barpolar\":[{\"marker\":{\"line\":{\"color\":\"#E5ECF6\",\"width\":0.5},\"pattern\":{\"fillmode\":\"overlay\",\"size\":10,\"solidity\":0.2}},\"type\":\"barpolar\"}],\"carpet\":[{\"aaxis\":{\"endlinecolor\":\"#2a3f5f\",\"gridcolor\":\"white\",\"linecolor\":\"white\",\"minorgridcolor\":\"white\",\"startlinecolor\":\"#2a3f5f\"},\"baxis\":{\"endlinecolor\":\"#2a3f5f\",\"gridcolor\":\"white\",\"linecolor\":\"white\",\"minorgridcolor\":\"white\",\"startlinecolor\":\"#2a3f5f\"},\"type\":\"carpet\"}],\"choropleth\":[{\"colorbar\":{\"outlinewidth\":0,\"ticks\":\"\"},\"type\":\"choropleth\"}],\"contour\":[{\"colorbar\":{\"outlinewidth\":0,\"ticks\":\"\"},\"colorscale\":[[0.0,\"#0d0887\"],[0.1111111111111111,\"#46039f\"],[0.2222222222222222,\"#7201a8\"],[0.3333333333333333,\"#9c179e\"],[0.4444444444444444,\"#bd3786\"],[0.5555555555555556,\"#d8576b\"],[0.6666666666666666,\"#ed7953\"],[0.7777777777777778,\"#fb9f3a\"],[0.8888888888888888,\"#fdca26\"],[1.0,\"#f0f921\"]],\"type\":\"contour\"}],\"contourcarpet\":[{\"colorbar\":{\"outlinewidth\":0,\"ticks\":\"\"},\"type\":\"contourcarpet\"}],\"heatmap\":[{\"colorbar\":{\"outlinewidth\":0,\"ticks\":\"\"},\"colorscale\":[[0.0,\"#0d0887\"],[0.1111111111111111,\"#46039f\"],[0.2222222222222222,\"#7201a8\"],[0.3333333333333333,\"#9c179e\"],[0.4444444444444444,\"#bd3786\"],[0.5555555555555556,\"#d8576b\"],[0.6666666666666666,\"#ed7953\"],[0.7777777777777778,\"#fb9f3a\"],[0.8888888888888888,\"#fdca26\"],[1.0,\"#f0f921\"]],\"type\":\"heatmap\"}],\"heatmapgl\":[{\"colorbar\":{\"outlinewidth\":0,\"ticks\":\"\"},\"colorscale\":[[0.0,\"#0d0887\"],[0.1111111111111111,\"#46039f\"],[0.2222222222222222,\"#7201a8\"],[0.3333333333333333,\"#9c179e\"],[0.4444444444444444,\"#bd3786\"],[0.5555555555555556,\"#d8576b\"],[0.6666666666666666,\"#ed7953\"],[0.7777777777777778,\"#fb9f3a\"],[0.8888888888888888,\"#fdca26\"],[1.0,\"#f0f921\"]],\"type\":\"heatmapgl\"}],\"histogram\":[{\"marker\":{\"pattern\":{\"fillmode\":\"overlay\",\"size\":10,\"solidity\":0.2}},\"type\":\"histogram\"}],\"histogram2d\":[{\"colorbar\":{\"outlinewidth\":0,\"ticks\":\"\"},\"colorscale\":[[0.0,\"#0d0887\"],[0.1111111111111111,\"#46039f\"],[0.2222222222222222,\"#7201a8\"],[0.3333333333333333,\"#9c179e\"],[0.4444444444444444,\"#bd3786\"],[0.5555555555555556,\"#d8576b\"],[0.6666666666666666,\"#ed7953\"],[0.7777777777777778,\"#fb9f3a\"],[0.8888888888888888,\"#fdca26\"],[1.0,\"#f0f921\"]],\"type\":\"histogram2d\"}],\"histogram2dcontour\":[{\"colorbar\":{\"outlinewidth\":0,\"ticks\":\"\"},\"colorscale\":[[0.0,\"#0d0887\"],[0.1111111111111111,\"#46039f\"],[0.2222222222222222,\"#7201a8\"],[0.3333333333333333,\"#9c179e\"],[0.4444444444444444,\"#bd3786\"],[0.5555555555555556,\"#d8576b\"],[0.6666666666666666,\"#ed7953\"],[0.7777777777777778,\"#fb9f3a\"],[0.8888888888888888,\"#fdca26\"],[1.0,\"#f0f921\"]],\"type\":\"histogram2dcontour\"}],\"mesh3d\":[{\"colorbar\":{\"outlinewidth\":0,\"ticks\":\"\"},\"type\":\"mesh3d\"}],\"parcoords\":[{\"line\":{\"colorbar\":{\"outlinewidth\":0,\"ticks\":\"\"}},\"type\":\"parcoords\"}],\"pie\":[{\"automargin\":true,\"type\":\"pie\"}],\"scatter\":[{\"marker\":{\"colorbar\":{\"outlinewidth\":0,\"ticks\":\"\"}},\"type\":\"scatter\"}],\"scatter3d\":[{\"line\":{\"colorbar\":{\"outlinewidth\":0,\"ticks\":\"\"}},\"marker\":{\"colorbar\":{\"outlinewidth\":0,\"ticks\":\"\"}},\"type\":\"scatter3d\"}],\"scattercarpet\":[{\"marker\":{\"colorbar\":{\"outlinewidth\":0,\"ticks\":\"\"}},\"type\":\"scattercarpet\"}],\"scattergeo\":[{\"marker\":{\"colorbar\":{\"outlinewidth\":0,\"ticks\":\"\"}},\"type\":\"scattergeo\"}],\"scattergl\":[{\"marker\":{\"colorbar\":{\"outlinewidth\":0,\"ticks\":\"\"}},\"type\":\"scattergl\"}],\"scattermapbox\":[{\"marker\":{\"colorbar\":{\"outlinewidth\":0,\"ticks\":\"\"}},\"type\":\"scattermapbox\"}],\"scatterpolar\":[{\"marker\":{\"colorbar\":{\"outlinewidth\":0,\"ticks\":\"\"}},\"type\":\"scatterpolar\"}],\"scatterpolargl\":[{\"marker\":{\"colorbar\":{\"outlinewidth\":0,\"ticks\":\"\"}},\"type\":\"scatterpolargl\"}],\"scatterternary\":[{\"marker\":{\"colorbar\":{\"outlinewidth\":0,\"ticks\":\"\"}},\"type\":\"scatterternary\"}],\"surface\":[{\"colorbar\":{\"outlinewidth\":0,\"ticks\":\"\"},\"colorscale\":[[0.0,\"#0d0887\"],[0.1111111111111111,\"#46039f\"],[0.2222222222222222,\"#7201a8\"],[0.3333333333333333,\"#9c179e\"],[0.4444444444444444,\"#bd3786\"],[0.5555555555555556,\"#d8576b\"],[0.6666666666666666,\"#ed7953\"],[0.7777777777777778,\"#fb9f3a\"],[0.8888888888888888,\"#fdca26\"],[1.0,\"#f0f921\"]],\"type\":\"surface\"}],\"table\":[{\"cells\":{\"fill\":{\"color\":\"#EBF0F8\"},\"line\":{\"color\":\"white\"}},\"header\":{\"fill\":{\"color\":\"#C8D4E3\"},\"line\":{\"color\":\"white\"}},\"type\":\"table\"}]},\"layout\":{\"annotationdefaults\":{\"arrowcolor\":\"#2a3f5f\",\"arrowhead\":0,\"arrowwidth\":1},\"autotypenumbers\":\"strict\",\"coloraxis\":{\"colorbar\":{\"outlinewidth\":0,\"ticks\":\"\"}},\"colorscale\":{\"diverging\":[[0,\"#8e0152\"],[0.1,\"#c51b7d\"],[0.2,\"#de77ae\"],[0.3,\"#f1b6da\"],[0.4,\"#fde0ef\"],[0.5,\"#f7f7f7\"],[0.6,\"#e6f5d0\"],[0.7,\"#b8e186\"],[0.8,\"#7fbc41\"],[0.9,\"#4d9221\"],[1,\"#276419\"]],\"sequential\":[[0.0,\"#0d0887\"],[0.1111111111111111,\"#46039f\"],[0.2222222222222222,\"#7201a8\"],[0.3333333333333333,\"#9c179e\"],[0.4444444444444444,\"#bd3786\"],[0.5555555555555556,\"#d8576b\"],[0.6666666666666666,\"#ed7953\"],[0.7777777777777778,\"#fb9f3a\"],[0.8888888888888888,\"#fdca26\"],[1.0,\"#f0f921\"]],\"sequentialminus\":[[0.0,\"#0d0887\"],[0.1111111111111111,\"#46039f\"],[0.2222222222222222,\"#7201a8\"],[0.3333333333333333,\"#9c179e\"],[0.4444444444444444,\"#bd3786\"],[0.5555555555555556,\"#d8576b\"],[0.6666666666666666,\"#ed7953\"],[0.7777777777777778,\"#fb9f3a\"],[0.8888888888888888,\"#fdca26\"],[1.0,\"#f0f921\"]]},\"colorway\":[\"#636efa\",\"#EF553B\",\"#00cc96\",\"#ab63fa\",\"#FFA15A\",\"#19d3f3\",\"#FF6692\",\"#B6E880\",\"#FF97FF\",\"#FECB52\"],\"font\":{\"color\":\"#2a3f5f\"},\"geo\":{\"bgcolor\":\"white\",\"lakecolor\":\"white\",\"landcolor\":\"#E5ECF6\",\"showlakes\":true,\"showland\":true,\"subunitcolor\":\"white\"},\"hoverlabel\":{\"align\":\"left\"},\"hovermode\":\"closest\",\"mapbox\":{\"style\":\"light\"},\"paper_bgcolor\":\"white\",\"plot_bgcolor\":\"#E5ECF6\",\"polar\":{\"angularaxis\":{\"gridcolor\":\"white\",\"linecolor\":\"white\",\"ticks\":\"\"},\"bgcolor\":\"#E5ECF6\",\"radialaxis\":{\"gridcolor\":\"white\",\"linecolor\":\"white\",\"ticks\":\"\"}},\"scene\":{\"xaxis\":{\"backgroundcolor\":\"#E5ECF6\",\"gridcolor\":\"white\",\"gridwidth\":2,\"linecolor\":\"white\",\"showbackground\":true,\"ticks\":\"\",\"zerolinecolor\":\"white\"},\"yaxis\":{\"backgroundcolor\":\"#E5ECF6\",\"gridcolor\":\"white\",\"gridwidth\":2,\"linecolor\":\"white\",\"showbackground\":true,\"ticks\":\"\",\"zerolinecolor\":\"white\"},\"zaxis\":{\"backgroundcolor\":\"#E5ECF6\",\"gridcolor\":\"white\",\"gridwidth\":2,\"linecolor\":\"white\",\"showbackground\":true,\"ticks\":\"\",\"zerolinecolor\":\"white\"}},\"shapedefaults\":{\"line\":{\"color\":\"#2a3f5f\"}},\"ternary\":{\"aaxis\":{\"gridcolor\":\"white\",\"linecolor\":\"white\",\"ticks\":\"\"},\"baxis\":{\"gridcolor\":\"white\",\"linecolor\":\"white\",\"ticks\":\"\"},\"bgcolor\":\"#E5ECF6\",\"caxis\":{\"gridcolor\":\"white\",\"linecolor\":\"white\",\"ticks\":\"\"}},\"title\":{\"x\":0.05},\"xaxis\":{\"automargin\":true,\"gridcolor\":\"white\",\"linecolor\":\"white\",\"ticks\":\"\",\"title\":{\"standoff\":15},\"zerolinecolor\":\"white\",\"zerolinewidth\":2},\"yaxis\":{\"automargin\":true,\"gridcolor\":\"white\",\"linecolor\":\"white\",\"ticks\":\"\",\"title\":{\"standoff\":15},\"zerolinecolor\":\"white\",\"zerolinewidth\":2}}},\"title\":{\"font\":{\"color\":\"#4D5663\"}},\"xaxis\":{\"gridcolor\":\"#E1E5ED\",\"showgrid\":true,\"tickfont\":{\"color\":\"#4D5663\"},\"title\":{\"font\":{\"color\":\"#4D5663\"},\"text\":\"\"},\"zerolinecolor\":\"#E1E5ED\"},\"xaxis2\":{\"anchor\":\"y2\",\"gridcolor\":\"#E1E5ED\",\"showgrid\":true,\"showticklabels\":false,\"tickfont\":{\"color\":\"#4D5663\"},\"title\":{\"font\":{\"color\":\"#4D5663\"},\"text\":\"\"},\"zerolinecolor\":\"#E1E5ED\"},\"yaxis\":{\"domain\":[0.3,1],\"gridcolor\":\"#E1E5ED\",\"showgrid\":true,\"tickfont\":{\"color\":\"#4D5663\"},\"title\":{\"font\":{\"color\":\"#4D5663\"},\"text\":\"\"},\"zerolinecolor\":\"#E1E5ED\"},\"yaxis2\":{\"domain\":[0,0.25],\"gridcolor\":\"#E1E5ED\",\"showgrid\":true,\"tickfont\":{\"color\":\"#4D5663\"},\"title\":{\"font\":{\"color\":\"#4D5663\"},\"text\":\"Spread\"},\"zerolinecolor\":\"#E1E5ED\"}},                        {\"showLink\": true, \"linkText\": \"Export to plot.ly\", \"plotlyServerURL\": \"https://plot.ly\", \"responsive\": true}                    ).then(function(){\n",
       "                            \n",
       "var gd = document.getElementById('922c1308-cc05-4092-b906-8edff2335b2e');\n",
       "var x = new MutationObserver(function (mutations, observer) {{\n",
       "        var display = window.getComputedStyle(gd).display;\n",
       "        if (!display || display === 'none') {{\n",
       "            console.log([gd, 'removed!']);\n",
       "            Plotly.purge(gd);\n",
       "            observer.disconnect();\n",
       "        }}\n",
       "}});\n",
       "\n",
       "// Listen for the removal of the full notebook cells\n",
       "var notebookContainer = gd.closest('#notebook-container');\n",
       "if (notebookContainer) {{\n",
       "    x.observe(notebookContainer, {childList: true});\n",
       "}}\n",
       "\n",
       "// Listen for the clearing of the current output cell\n",
       "var outputEl = gd.closest('.output');\n",
       "if (outputEl) {{\n",
       "    x.observe(outputEl, {childList: true});\n",
       "}}\n",
       "\n",
       "                        })                };                });            </script>        </div>"
      ]
     },
     "metadata": {},
     "output_type": "display_data"
    }
   ],
   "source": [
    "df1[['A','B']].iplot(kind='spread')"
   ]
  },
  {
   "cell_type": "markdown",
   "metadata": {},
   "source": [
    "**Bubbleplot**"
   ]
  },
  {
   "cell_type": "code",
   "execution_count": 36,
   "metadata": {},
   "outputs": [
    {
     "data": {
      "application/vnd.plotly.v1+json": {
       "config": {
        "linkText": "Export to plot.ly",
        "plotlyServerURL": "https://plot.ly",
        "showLink": true
       },
       "data": [
        {
         "marker": {
          "color": [
           "orange",
           "orange",
           "orange",
           "orange",
           "orange",
           "orange",
           "orange",
           "orange",
           "orange",
           "orange",
           "orange",
           "orange",
           "orange",
           "orange",
           "orange",
           "orange",
           "orange",
           "orange",
           "orange",
           "orange",
           "orange",
           "orange",
           "orange",
           "orange",
           "orange",
           "orange",
           "orange",
           "orange",
           "orange",
           "orange",
           "orange",
           "orange",
           "orange",
           "orange",
           "orange",
           "orange",
           "orange",
           "orange",
           "orange",
           "orange",
           "orange",
           "orange",
           "orange",
           "orange",
           "orange",
           "orange",
           "orange",
           "orange",
           "orange",
           "orange",
           "orange",
           "orange",
           "orange",
           "orange",
           "orange",
           "orange",
           "orange",
           "orange",
           "orange",
           "orange",
           "orange",
           "orange",
           "orange",
           "orange",
           "orange",
           "orange",
           "orange",
           "orange",
           "orange",
           "orange",
           "orange",
           "orange",
           "orange",
           "orange",
           "orange",
           "orange",
           "orange",
           "orange",
           "orange",
           "orange",
           "orange",
           "orange",
           "orange",
           "orange",
           "orange",
           "orange",
           "orange",
           "orange",
           "orange",
           "orange",
           "orange",
           "orange",
           "orange",
           "orange",
           "orange",
           "orange",
           "orange",
           "orange",
           "orange",
           "orange"
          ],
          "line": {
           "width": 1.3
          },
          "size": [
           42,
           91,
           30,
           64,
           101,
           74,
           44,
           68,
           101,
           90,
           74,
           85,
           67,
           65,
           70,
           60,
           63,
           106,
           67,
           59,
           36,
           76,
           74,
           96,
           91,
           71,
           77,
           55,
           45,
           81,
           70,
           85,
           67,
           80,
           81,
           69,
           55,
           92,
           104,
           88,
           57,
           63,
           88,
           63,
           85,
           46,
           35,
           41,
           44,
           78,
           47,
           103,
           87,
           57,
           104,
           84,
           12,
           61,
           76,
           57,
           82,
           94,
           77,
           92,
           103,
           79,
           72,
           54,
           65,
           54,
           110,
           63,
           67,
           102,
           86,
           91,
           62,
           58,
           59,
           68,
           89,
           65,
           77,
           85,
           82,
           82,
           112,
           49,
           71,
           69,
           65,
           61,
           62,
           77,
           64,
           107,
           69,
           79,
           93,
           34
          ],
          "symbol": "circle"
         },
         "mode": "markers",
         "text": "",
         "type": "scatter",
         "x": [
          -0.2476021517537956,
          0.11874398704528717,
          -1.5986470436970923,
          1.4523802703570448,
          1.6090995991476928,
          0.36229045933429543,
          0.08354651513332022,
          -0.3527933783544127,
          0.5176107966859301,
          -0.833819690766652,
          0.20565072543497975,
          1.9944702000830496,
          -0.35151191314525854,
          -0.826196054882016,
          0.9599029122425612,
          0.8735380178138376,
          -1.644708644572304,
          -1.7738813013900911,
          1.7275862931329586,
          1.2410803233237333,
          -0.47371612259000284,
          1.414213513123541,
          1.458493689936051,
          0.3272856232608136,
          0.3165687182176862,
          0.8414601116357942,
          -0.32475580337050364,
          1.0868940465653318,
          0.4745634553998436,
          -0.2734907459319492,
          1.7936403614043865,
          0.2702198507442268,
          0.23166334935090627,
          0.2149514489904918,
          -0.15239433999431595,
          -0.46485670290661824,
          0.1769888823174567,
          0.9251355276226852,
          -2.923639876842984,
          -1.0036342420862625,
          -1.5972731861258282,
          -0.5863668064009814,
          0.24330756172163637,
          1.0711554663396936,
          0.7912213795894234,
          0.8222629425793855,
          -0.07065589111053654,
          -0.6059385075201855,
          -1.2444487075452308,
          -0.2986809340328696,
          2.1470548990107736,
          -0.9581686455331494,
          -0.14557432693872532,
          -0.4416089409116146,
          0.9352295488236574,
          -1.0506573059035353,
          1.3879041094191515,
          -0.6297383736287204,
          1.2161526628947408,
          0.9380321876702106,
          -0.3186924706946208,
          -1.0451195297871672,
          0.8789782921221527,
          -1.0706299167541156,
          -0.6134943608834571,
          2.114366282469496,
          0.4804360014579106,
          -0.10967689810515825,
          1.1730100543660051,
          0.6680577732576941,
          -1.1540774070386632,
          -0.4851203250530739,
          -0.06824582550241688,
          -0.4860733169583027,
          -1.3724089125985697,
          0.12312942342868287,
          0.16293029773806567,
          1.2974841267330905,
          3.354031799722983,
          -1.5810817578094538,
          0.8052116693646469,
          1.7562243908207342,
          0.5228297709229516,
          -0.8617659959734791,
          0.0620426273685626,
          0.16012867729300984,
          0.09689851489854824,
          -0.1137666435097898,
          1.803702528945463,
          0.2660268294434981,
          0.21102177430662458,
          -0.12523484176846558,
          -1.3224865786008155,
          -0.23270849471023752,
          -1.3608262494607177,
          1.6803295754838412,
          -0.26619167545737504,
          -1.2418906810336272,
          0.6446602759776894,
          -0.9887246241264553
         ],
         "y": [
          -0.06053671648461432,
          0.04451657973152728,
          0.5893539754284983,
          1.013668452200273,
          0.6847946382566875,
          0.20861092698642347,
          -0.3309414257884284,
          -0.5453515972945141,
          0.23076522077023776,
          -0.6403566961541314,
          -1.4889655573956504,
          0.9352129666595805,
          -0.8553217826158602,
          -0.5358471525131479,
          -0.7285079896694445,
          -0.19435999410793742,
          -0.021183660575883688,
          -1.27486421427924,
          -1.377441170107258,
          0.1920596120363645,
          -1.1360047658662333,
          -0.25162260549257154,
          -0.38292153172884064,
          1.5087553081937204,
          0.14799880515885433,
          0.605878255040937,
          1.6218346664911871,
          -0.6412077490099374,
          0.3542488866697352,
          -0.4607106765297617,
          1.2204733158298071,
          1.5290677262515437,
          -0.5325381867220287,
          0.6886302420714265,
          -1.4040226516881387,
          -2.163779233019157,
          -1.635161679442351,
          0.11429126376701604,
          1.5913115916653733,
          -0.7516875353912756,
          -1.1490181657991692,
          0.05209633163880171,
          -1.2505146014805508,
          0.945770812894874,
          0.44120913669486617,
          -1.4272575263523835,
          -0.058534388435669125,
          -0.33290524940555216,
          0.25397740217116543,
          1.2107495453696848,
          -1.3048536413809813,
          -0.07290573215858111,
          -0.935009414667022,
          0.31698859178976346,
          0.3035657889195938,
          -0.09726791999649201,
          -0.13309365569973972,
          -1.3660791616250785,
          -1.0000957432387825,
          -0.44418957211110716,
          -0.7186337755517709,
          1.102995878230977,
          0.020947744800001725,
          -0.5379484903254714,
          1.434265530651456,
          -0.005595426280574108,
          -2.0024045908564716,
          1.2079291512768016,
          0.15101539633938965,
          -0.9415917180574958,
          0.8902241018403784,
          -0.6581560875764221,
          -1.2673251228201592,
          1.2592403371088414,
          -0.2831780015730596,
          0.047762380357669894,
          0.8603279518544563,
          -0.7821657611800706,
          -0.08202755823879464,
          0.06094696276155334,
          -0.8603811991901833,
          -0.05999313775337979,
          -0.4134487343659485,
          -0.4420361210196551,
          1.964645409112964,
          0.7896408572825018,
          -0.3773497911703148,
          1.6692535284277301,
          -0.27550204963687014,
          0.41138019434472406,
          -1.0549370402879954,
          1.6736473264323468,
          -0.8808278394958889,
          0.4728475230153127,
          0.19446889154197278,
          0.2995578928563227,
          -0.3887601705363107,
          -1.031190785706398,
          -1.4446194412722257,
          0.5759700536209127
         ]
        }
       ],
       "layout": {
        "legend": {
         "bgcolor": "#F5F6F9",
         "font": {
          "color": "#4D5663"
         }
        },
        "paper_bgcolor": "#F5F6F9",
        "plot_bgcolor": "#F5F6F9",
        "template": {
         "data": {
          "bar": [
           {
            "error_x": {
             "color": "#2a3f5f"
            },
            "error_y": {
             "color": "#2a3f5f"
            },
            "marker": {
             "line": {
              "color": "#E5ECF6",
              "width": 0.5
             },
             "pattern": {
              "fillmode": "overlay",
              "size": 10,
              "solidity": 0.2
             }
            },
            "type": "bar"
           }
          ],
          "barpolar": [
           {
            "marker": {
             "line": {
              "color": "#E5ECF6",
              "width": 0.5
             },
             "pattern": {
              "fillmode": "overlay",
              "size": 10,
              "solidity": 0.2
             }
            },
            "type": "barpolar"
           }
          ],
          "carpet": [
           {
            "aaxis": {
             "endlinecolor": "#2a3f5f",
             "gridcolor": "white",
             "linecolor": "white",
             "minorgridcolor": "white",
             "startlinecolor": "#2a3f5f"
            },
            "baxis": {
             "endlinecolor": "#2a3f5f",
             "gridcolor": "white",
             "linecolor": "white",
             "minorgridcolor": "white",
             "startlinecolor": "#2a3f5f"
            },
            "type": "carpet"
           }
          ],
          "choropleth": [
           {
            "colorbar": {
             "outlinewidth": 0,
             "ticks": ""
            },
            "type": "choropleth"
           }
          ],
          "contour": [
           {
            "colorbar": {
             "outlinewidth": 0,
             "ticks": ""
            },
            "colorscale": [
             [
              0,
              "#0d0887"
             ],
             [
              0.1111111111111111,
              "#46039f"
             ],
             [
              0.2222222222222222,
              "#7201a8"
             ],
             [
              0.3333333333333333,
              "#9c179e"
             ],
             [
              0.4444444444444444,
              "#bd3786"
             ],
             [
              0.5555555555555556,
              "#d8576b"
             ],
             [
              0.6666666666666666,
              "#ed7953"
             ],
             [
              0.7777777777777778,
              "#fb9f3a"
             ],
             [
              0.8888888888888888,
              "#fdca26"
             ],
             [
              1,
              "#f0f921"
             ]
            ],
            "type": "contour"
           }
          ],
          "contourcarpet": [
           {
            "colorbar": {
             "outlinewidth": 0,
             "ticks": ""
            },
            "type": "contourcarpet"
           }
          ],
          "heatmap": [
           {
            "colorbar": {
             "outlinewidth": 0,
             "ticks": ""
            },
            "colorscale": [
             [
              0,
              "#0d0887"
             ],
             [
              0.1111111111111111,
              "#46039f"
             ],
             [
              0.2222222222222222,
              "#7201a8"
             ],
             [
              0.3333333333333333,
              "#9c179e"
             ],
             [
              0.4444444444444444,
              "#bd3786"
             ],
             [
              0.5555555555555556,
              "#d8576b"
             ],
             [
              0.6666666666666666,
              "#ed7953"
             ],
             [
              0.7777777777777778,
              "#fb9f3a"
             ],
             [
              0.8888888888888888,
              "#fdca26"
             ],
             [
              1,
              "#f0f921"
             ]
            ],
            "type": "heatmap"
           }
          ],
          "heatmapgl": [
           {
            "colorbar": {
             "outlinewidth": 0,
             "ticks": ""
            },
            "colorscale": [
             [
              0,
              "#0d0887"
             ],
             [
              0.1111111111111111,
              "#46039f"
             ],
             [
              0.2222222222222222,
              "#7201a8"
             ],
             [
              0.3333333333333333,
              "#9c179e"
             ],
             [
              0.4444444444444444,
              "#bd3786"
             ],
             [
              0.5555555555555556,
              "#d8576b"
             ],
             [
              0.6666666666666666,
              "#ed7953"
             ],
             [
              0.7777777777777778,
              "#fb9f3a"
             ],
             [
              0.8888888888888888,
              "#fdca26"
             ],
             [
              1,
              "#f0f921"
             ]
            ],
            "type": "heatmapgl"
           }
          ],
          "histogram": [
           {
            "marker": {
             "pattern": {
              "fillmode": "overlay",
              "size": 10,
              "solidity": 0.2
             }
            },
            "type": "histogram"
           }
          ],
          "histogram2d": [
           {
            "colorbar": {
             "outlinewidth": 0,
             "ticks": ""
            },
            "colorscale": [
             [
              0,
              "#0d0887"
             ],
             [
              0.1111111111111111,
              "#46039f"
             ],
             [
              0.2222222222222222,
              "#7201a8"
             ],
             [
              0.3333333333333333,
              "#9c179e"
             ],
             [
              0.4444444444444444,
              "#bd3786"
             ],
             [
              0.5555555555555556,
              "#d8576b"
             ],
             [
              0.6666666666666666,
              "#ed7953"
             ],
             [
              0.7777777777777778,
              "#fb9f3a"
             ],
             [
              0.8888888888888888,
              "#fdca26"
             ],
             [
              1,
              "#f0f921"
             ]
            ],
            "type": "histogram2d"
           }
          ],
          "histogram2dcontour": [
           {
            "colorbar": {
             "outlinewidth": 0,
             "ticks": ""
            },
            "colorscale": [
             [
              0,
              "#0d0887"
             ],
             [
              0.1111111111111111,
              "#46039f"
             ],
             [
              0.2222222222222222,
              "#7201a8"
             ],
             [
              0.3333333333333333,
              "#9c179e"
             ],
             [
              0.4444444444444444,
              "#bd3786"
             ],
             [
              0.5555555555555556,
              "#d8576b"
             ],
             [
              0.6666666666666666,
              "#ed7953"
             ],
             [
              0.7777777777777778,
              "#fb9f3a"
             ],
             [
              0.8888888888888888,
              "#fdca26"
             ],
             [
              1,
              "#f0f921"
             ]
            ],
            "type": "histogram2dcontour"
           }
          ],
          "mesh3d": [
           {
            "colorbar": {
             "outlinewidth": 0,
             "ticks": ""
            },
            "type": "mesh3d"
           }
          ],
          "parcoords": [
           {
            "line": {
             "colorbar": {
              "outlinewidth": 0,
              "ticks": ""
             }
            },
            "type": "parcoords"
           }
          ],
          "pie": [
           {
            "automargin": true,
            "type": "pie"
           }
          ],
          "scatter": [
           {
            "marker": {
             "colorbar": {
              "outlinewidth": 0,
              "ticks": ""
             }
            },
            "type": "scatter"
           }
          ],
          "scatter3d": [
           {
            "line": {
             "colorbar": {
              "outlinewidth": 0,
              "ticks": ""
             }
            },
            "marker": {
             "colorbar": {
              "outlinewidth": 0,
              "ticks": ""
             }
            },
            "type": "scatter3d"
           }
          ],
          "scattercarpet": [
           {
            "marker": {
             "colorbar": {
              "outlinewidth": 0,
              "ticks": ""
             }
            },
            "type": "scattercarpet"
           }
          ],
          "scattergeo": [
           {
            "marker": {
             "colorbar": {
              "outlinewidth": 0,
              "ticks": ""
             }
            },
            "type": "scattergeo"
           }
          ],
          "scattergl": [
           {
            "marker": {
             "colorbar": {
              "outlinewidth": 0,
              "ticks": ""
             }
            },
            "type": "scattergl"
           }
          ],
          "scattermapbox": [
           {
            "marker": {
             "colorbar": {
              "outlinewidth": 0,
              "ticks": ""
             }
            },
            "type": "scattermapbox"
           }
          ],
          "scatterpolar": [
           {
            "marker": {
             "colorbar": {
              "outlinewidth": 0,
              "ticks": ""
             }
            },
            "type": "scatterpolar"
           }
          ],
          "scatterpolargl": [
           {
            "marker": {
             "colorbar": {
              "outlinewidth": 0,
              "ticks": ""
             }
            },
            "type": "scatterpolargl"
           }
          ],
          "scatterternary": [
           {
            "marker": {
             "colorbar": {
              "outlinewidth": 0,
              "ticks": ""
             }
            },
            "type": "scatterternary"
           }
          ],
          "surface": [
           {
            "colorbar": {
             "outlinewidth": 0,
             "ticks": ""
            },
            "colorscale": [
             [
              0,
              "#0d0887"
             ],
             [
              0.1111111111111111,
              "#46039f"
             ],
             [
              0.2222222222222222,
              "#7201a8"
             ],
             [
              0.3333333333333333,
              "#9c179e"
             ],
             [
              0.4444444444444444,
              "#bd3786"
             ],
             [
              0.5555555555555556,
              "#d8576b"
             ],
             [
              0.6666666666666666,
              "#ed7953"
             ],
             [
              0.7777777777777778,
              "#fb9f3a"
             ],
             [
              0.8888888888888888,
              "#fdca26"
             ],
             [
              1,
              "#f0f921"
             ]
            ],
            "type": "surface"
           }
          ],
          "table": [
           {
            "cells": {
             "fill": {
              "color": "#EBF0F8"
             },
             "line": {
              "color": "white"
             }
            },
            "header": {
             "fill": {
              "color": "#C8D4E3"
             },
             "line": {
              "color": "white"
             }
            },
            "type": "table"
           }
          ]
         },
         "layout": {
          "annotationdefaults": {
           "arrowcolor": "#2a3f5f",
           "arrowhead": 0,
           "arrowwidth": 1
          },
          "autotypenumbers": "strict",
          "coloraxis": {
           "colorbar": {
            "outlinewidth": 0,
            "ticks": ""
           }
          },
          "colorscale": {
           "diverging": [
            [
             0,
             "#8e0152"
            ],
            [
             0.1,
             "#c51b7d"
            ],
            [
             0.2,
             "#de77ae"
            ],
            [
             0.3,
             "#f1b6da"
            ],
            [
             0.4,
             "#fde0ef"
            ],
            [
             0.5,
             "#f7f7f7"
            ],
            [
             0.6,
             "#e6f5d0"
            ],
            [
             0.7,
             "#b8e186"
            ],
            [
             0.8,
             "#7fbc41"
            ],
            [
             0.9,
             "#4d9221"
            ],
            [
             1,
             "#276419"
            ]
           ],
           "sequential": [
            [
             0,
             "#0d0887"
            ],
            [
             0.1111111111111111,
             "#46039f"
            ],
            [
             0.2222222222222222,
             "#7201a8"
            ],
            [
             0.3333333333333333,
             "#9c179e"
            ],
            [
             0.4444444444444444,
             "#bd3786"
            ],
            [
             0.5555555555555556,
             "#d8576b"
            ],
            [
             0.6666666666666666,
             "#ed7953"
            ],
            [
             0.7777777777777778,
             "#fb9f3a"
            ],
            [
             0.8888888888888888,
             "#fdca26"
            ],
            [
             1,
             "#f0f921"
            ]
           ],
           "sequentialminus": [
            [
             0,
             "#0d0887"
            ],
            [
             0.1111111111111111,
             "#46039f"
            ],
            [
             0.2222222222222222,
             "#7201a8"
            ],
            [
             0.3333333333333333,
             "#9c179e"
            ],
            [
             0.4444444444444444,
             "#bd3786"
            ],
            [
             0.5555555555555556,
             "#d8576b"
            ],
            [
             0.6666666666666666,
             "#ed7953"
            ],
            [
             0.7777777777777778,
             "#fb9f3a"
            ],
            [
             0.8888888888888888,
             "#fdca26"
            ],
            [
             1,
             "#f0f921"
            ]
           ]
          },
          "colorway": [
           "#636efa",
           "#EF553B",
           "#00cc96",
           "#ab63fa",
           "#FFA15A",
           "#19d3f3",
           "#FF6692",
           "#B6E880",
           "#FF97FF",
           "#FECB52"
          ],
          "font": {
           "color": "#2a3f5f"
          },
          "geo": {
           "bgcolor": "white",
           "lakecolor": "white",
           "landcolor": "#E5ECF6",
           "showlakes": true,
           "showland": true,
           "subunitcolor": "white"
          },
          "hoverlabel": {
           "align": "left"
          },
          "hovermode": "closest",
          "mapbox": {
           "style": "light"
          },
          "paper_bgcolor": "white",
          "plot_bgcolor": "#E5ECF6",
          "polar": {
           "angularaxis": {
            "gridcolor": "white",
            "linecolor": "white",
            "ticks": ""
           },
           "bgcolor": "#E5ECF6",
           "radialaxis": {
            "gridcolor": "white",
            "linecolor": "white",
            "ticks": ""
           }
          },
          "scene": {
           "xaxis": {
            "backgroundcolor": "#E5ECF6",
            "gridcolor": "white",
            "gridwidth": 2,
            "linecolor": "white",
            "showbackground": true,
            "ticks": "",
            "zerolinecolor": "white"
           },
           "yaxis": {
            "backgroundcolor": "#E5ECF6",
            "gridcolor": "white",
            "gridwidth": 2,
            "linecolor": "white",
            "showbackground": true,
            "ticks": "",
            "zerolinecolor": "white"
           },
           "zaxis": {
            "backgroundcolor": "#E5ECF6",
            "gridcolor": "white",
            "gridwidth": 2,
            "linecolor": "white",
            "showbackground": true,
            "ticks": "",
            "zerolinecolor": "white"
           }
          },
          "shapedefaults": {
           "line": {
            "color": "#2a3f5f"
           }
          },
          "ternary": {
           "aaxis": {
            "gridcolor": "white",
            "linecolor": "white",
            "ticks": ""
           },
           "baxis": {
            "gridcolor": "white",
            "linecolor": "white",
            "ticks": ""
           },
           "bgcolor": "#E5ECF6",
           "caxis": {
            "gridcolor": "white",
            "linecolor": "white",
            "ticks": ""
           }
          },
          "title": {
           "x": 0.05
          },
          "xaxis": {
           "automargin": true,
           "gridcolor": "white",
           "linecolor": "white",
           "ticks": "",
           "title": {
            "standoff": 15
           },
           "zerolinecolor": "white",
           "zerolinewidth": 2
          },
          "yaxis": {
           "automargin": true,
           "gridcolor": "white",
           "linecolor": "white",
           "ticks": "",
           "title": {
            "standoff": 15
           },
           "zerolinecolor": "white",
           "zerolinewidth": 2
          }
         }
        },
        "title": {
         "font": {
          "color": "#4D5663"
         }
        },
        "xaxis": {
         "gridcolor": "#E1E5ED",
         "showgrid": true,
         "tickfont": {
          "color": "#4D5663"
         },
         "title": {
          "font": {
           "color": "#4D5663"
          },
          "text": ""
         },
         "zerolinecolor": "#E1E5ED"
        },
        "yaxis": {
         "gridcolor": "#E1E5ED",
         "showgrid": true,
         "tickfont": {
          "color": "#4D5663"
         },
         "title": {
          "font": {
           "color": "#4D5663"
          },
          "text": ""
         },
         "zerolinecolor": "#E1E5ED"
        }
       }
      },
      "text/html": [
       "<div>                            <div id=\"cc5e481b-f92c-4f18-a745-b180dfdd7ebb\" class=\"plotly-graph-div\" style=\"height:525px; width:100%;\"></div>            <script type=\"text/javascript\">                require([\"plotly\"], function(Plotly) {                    window.PLOTLYENV=window.PLOTLYENV || {};\n",
       "                    window.PLOTLYENV.BASE_URL='https://plot.ly';                                    if (document.getElementById(\"cc5e481b-f92c-4f18-a745-b180dfdd7ebb\")) {                    Plotly.newPlot(                        \"cc5e481b-f92c-4f18-a745-b180dfdd7ebb\",                        [{\"marker\":{\"color\":[\"orange\",\"orange\",\"orange\",\"orange\",\"orange\",\"orange\",\"orange\",\"orange\",\"orange\",\"orange\",\"orange\",\"orange\",\"orange\",\"orange\",\"orange\",\"orange\",\"orange\",\"orange\",\"orange\",\"orange\",\"orange\",\"orange\",\"orange\",\"orange\",\"orange\",\"orange\",\"orange\",\"orange\",\"orange\",\"orange\",\"orange\",\"orange\",\"orange\",\"orange\",\"orange\",\"orange\",\"orange\",\"orange\",\"orange\",\"orange\",\"orange\",\"orange\",\"orange\",\"orange\",\"orange\",\"orange\",\"orange\",\"orange\",\"orange\",\"orange\",\"orange\",\"orange\",\"orange\",\"orange\",\"orange\",\"orange\",\"orange\",\"orange\",\"orange\",\"orange\",\"orange\",\"orange\",\"orange\",\"orange\",\"orange\",\"orange\",\"orange\",\"orange\",\"orange\",\"orange\",\"orange\",\"orange\",\"orange\",\"orange\",\"orange\",\"orange\",\"orange\",\"orange\",\"orange\",\"orange\",\"orange\",\"orange\",\"orange\",\"orange\",\"orange\",\"orange\",\"orange\",\"orange\",\"orange\",\"orange\",\"orange\",\"orange\",\"orange\",\"orange\",\"orange\",\"orange\",\"orange\",\"orange\",\"orange\",\"orange\"],\"line\":{\"width\":1.3},\"size\":[42,91,30,64,101,74,44,68,101,90,74,85,67,65,70,60,63,106,67,59,36,76,74,96,91,71,77,55,45,81,70,85,67,80,81,69,55,92,104,88,57,63,88,63,85,46,35,41,44,78,47,103,87,57,104,84,12,61,76,57,82,94,77,92,103,79,72,54,65,54,110,63,67,102,86,91,62,58,59,68,89,65,77,85,82,82,112,49,71,69,65,61,62,77,64,107,69,79,93,34],\"symbol\":\"circle\"},\"mode\":\"markers\",\"text\":\"\",\"type\":\"scatter\",\"x\":[-0.2476021517537956,0.11874398704528717,-1.5986470436970923,1.4523802703570448,1.6090995991476928,0.36229045933429543,0.08354651513332022,-0.3527933783544127,0.5176107966859301,-0.833819690766652,0.20565072543497975,1.9944702000830496,-0.35151191314525854,-0.826196054882016,0.9599029122425612,0.8735380178138376,-1.644708644572304,-1.7738813013900911,1.7275862931329586,1.2410803233237333,-0.47371612259000284,1.414213513123541,1.458493689936051,0.3272856232608136,0.3165687182176862,0.8414601116357942,-0.32475580337050364,1.0868940465653318,0.4745634553998436,-0.2734907459319492,1.7936403614043865,0.2702198507442268,0.23166334935090627,0.2149514489904918,-0.15239433999431595,-0.46485670290661824,0.1769888823174567,0.9251355276226852,-2.923639876842984,-1.0036342420862625,-1.5972731861258282,-0.5863668064009814,0.24330756172163637,1.0711554663396936,0.7912213795894234,0.8222629425793855,-0.07065589111053654,-0.6059385075201855,-1.2444487075452308,-0.2986809340328696,2.1470548990107736,-0.9581686455331494,-0.14557432693872532,-0.4416089409116146,0.9352295488236574,-1.0506573059035353,1.3879041094191515,-0.6297383736287204,1.2161526628947408,0.9380321876702106,-0.3186924706946208,-1.0451195297871672,0.8789782921221527,-1.0706299167541156,-0.6134943608834571,2.114366282469496,0.4804360014579106,-0.10967689810515825,1.1730100543660051,0.6680577732576941,-1.1540774070386632,-0.4851203250530739,-0.06824582550241688,-0.4860733169583027,-1.3724089125985697,0.12312942342868287,0.16293029773806567,1.2974841267330905,3.354031799722983,-1.5810817578094538,0.8052116693646469,1.7562243908207342,0.5228297709229516,-0.8617659959734791,0.0620426273685626,0.16012867729300984,0.09689851489854824,-0.1137666435097898,1.803702528945463,0.2660268294434981,0.21102177430662458,-0.12523484176846558,-1.3224865786008155,-0.23270849471023752,-1.3608262494607177,1.6803295754838412,-0.26619167545737504,-1.2418906810336272,0.6446602759776894,-0.9887246241264553],\"y\":[-0.06053671648461432,0.04451657973152728,0.5893539754284983,1.013668452200273,0.6847946382566875,0.20861092698642347,-0.3309414257884284,-0.5453515972945141,0.23076522077023776,-0.6403566961541314,-1.4889655573956504,0.9352129666595805,-0.8553217826158602,-0.5358471525131479,-0.7285079896694445,-0.19435999410793742,-0.021183660575883688,-1.27486421427924,-1.377441170107258,0.1920596120363645,-1.1360047658662333,-0.25162260549257154,-0.38292153172884064,1.5087553081937204,0.14799880515885433,0.605878255040937,1.6218346664911871,-0.6412077490099374,0.3542488866697352,-0.4607106765297617,1.2204733158298071,1.5290677262515437,-0.5325381867220287,0.6886302420714265,-1.4040226516881387,-2.163779233019157,-1.635161679442351,0.11429126376701604,1.5913115916653733,-0.7516875353912756,-1.1490181657991692,0.05209633163880171,-1.2505146014805508,0.945770812894874,0.44120913669486617,-1.4272575263523835,-0.058534388435669125,-0.33290524940555216,0.25397740217116543,1.2107495453696848,-1.3048536413809813,-0.07290573215858111,-0.935009414667022,0.31698859178976346,0.3035657889195938,-0.09726791999649201,-0.13309365569973972,-1.3660791616250785,-1.0000957432387825,-0.44418957211110716,-0.7186337755517709,1.102995878230977,0.020947744800001725,-0.5379484903254714,1.434265530651456,-0.005595426280574108,-2.0024045908564716,1.2079291512768016,0.15101539633938965,-0.9415917180574958,0.8902241018403784,-0.6581560875764221,-1.2673251228201592,1.2592403371088414,-0.2831780015730596,0.047762380357669894,0.8603279518544563,-0.7821657611800706,-0.08202755823879464,0.06094696276155334,-0.8603811991901833,-0.05999313775337979,-0.4134487343659485,-0.4420361210196551,1.964645409112964,0.7896408572825018,-0.3773497911703148,1.6692535284277301,-0.27550204963687014,0.41138019434472406,-1.0549370402879954,1.6736473264323468,-0.8808278394958889,0.4728475230153127,0.19446889154197278,0.2995578928563227,-0.3887601705363107,-1.031190785706398,-1.4446194412722257,0.5759700536209127]}],                        {\"legend\":{\"bgcolor\":\"#F5F6F9\",\"font\":{\"color\":\"#4D5663\"}},\"paper_bgcolor\":\"#F5F6F9\",\"plot_bgcolor\":\"#F5F6F9\",\"template\":{\"data\":{\"bar\":[{\"error_x\":{\"color\":\"#2a3f5f\"},\"error_y\":{\"color\":\"#2a3f5f\"},\"marker\":{\"line\":{\"color\":\"#E5ECF6\",\"width\":0.5},\"pattern\":{\"fillmode\":\"overlay\",\"size\":10,\"solidity\":0.2}},\"type\":\"bar\"}],\"barpolar\":[{\"marker\":{\"line\":{\"color\":\"#E5ECF6\",\"width\":0.5},\"pattern\":{\"fillmode\":\"overlay\",\"size\":10,\"solidity\":0.2}},\"type\":\"barpolar\"}],\"carpet\":[{\"aaxis\":{\"endlinecolor\":\"#2a3f5f\",\"gridcolor\":\"white\",\"linecolor\":\"white\",\"minorgridcolor\":\"white\",\"startlinecolor\":\"#2a3f5f\"},\"baxis\":{\"endlinecolor\":\"#2a3f5f\",\"gridcolor\":\"white\",\"linecolor\":\"white\",\"minorgridcolor\":\"white\",\"startlinecolor\":\"#2a3f5f\"},\"type\":\"carpet\"}],\"choropleth\":[{\"colorbar\":{\"outlinewidth\":0,\"ticks\":\"\"},\"type\":\"choropleth\"}],\"contour\":[{\"colorbar\":{\"outlinewidth\":0,\"ticks\":\"\"},\"colorscale\":[[0.0,\"#0d0887\"],[0.1111111111111111,\"#46039f\"],[0.2222222222222222,\"#7201a8\"],[0.3333333333333333,\"#9c179e\"],[0.4444444444444444,\"#bd3786\"],[0.5555555555555556,\"#d8576b\"],[0.6666666666666666,\"#ed7953\"],[0.7777777777777778,\"#fb9f3a\"],[0.8888888888888888,\"#fdca26\"],[1.0,\"#f0f921\"]],\"type\":\"contour\"}],\"contourcarpet\":[{\"colorbar\":{\"outlinewidth\":0,\"ticks\":\"\"},\"type\":\"contourcarpet\"}],\"heatmap\":[{\"colorbar\":{\"outlinewidth\":0,\"ticks\":\"\"},\"colorscale\":[[0.0,\"#0d0887\"],[0.1111111111111111,\"#46039f\"],[0.2222222222222222,\"#7201a8\"],[0.3333333333333333,\"#9c179e\"],[0.4444444444444444,\"#bd3786\"],[0.5555555555555556,\"#d8576b\"],[0.6666666666666666,\"#ed7953\"],[0.7777777777777778,\"#fb9f3a\"],[0.8888888888888888,\"#fdca26\"],[1.0,\"#f0f921\"]],\"type\":\"heatmap\"}],\"heatmapgl\":[{\"colorbar\":{\"outlinewidth\":0,\"ticks\":\"\"},\"colorscale\":[[0.0,\"#0d0887\"],[0.1111111111111111,\"#46039f\"],[0.2222222222222222,\"#7201a8\"],[0.3333333333333333,\"#9c179e\"],[0.4444444444444444,\"#bd3786\"],[0.5555555555555556,\"#d8576b\"],[0.6666666666666666,\"#ed7953\"],[0.7777777777777778,\"#fb9f3a\"],[0.8888888888888888,\"#fdca26\"],[1.0,\"#f0f921\"]],\"type\":\"heatmapgl\"}],\"histogram\":[{\"marker\":{\"pattern\":{\"fillmode\":\"overlay\",\"size\":10,\"solidity\":0.2}},\"type\":\"histogram\"}],\"histogram2d\":[{\"colorbar\":{\"outlinewidth\":0,\"ticks\":\"\"},\"colorscale\":[[0.0,\"#0d0887\"],[0.1111111111111111,\"#46039f\"],[0.2222222222222222,\"#7201a8\"],[0.3333333333333333,\"#9c179e\"],[0.4444444444444444,\"#bd3786\"],[0.5555555555555556,\"#d8576b\"],[0.6666666666666666,\"#ed7953\"],[0.7777777777777778,\"#fb9f3a\"],[0.8888888888888888,\"#fdca26\"],[1.0,\"#f0f921\"]],\"type\":\"histogram2d\"}],\"histogram2dcontour\":[{\"colorbar\":{\"outlinewidth\":0,\"ticks\":\"\"},\"colorscale\":[[0.0,\"#0d0887\"],[0.1111111111111111,\"#46039f\"],[0.2222222222222222,\"#7201a8\"],[0.3333333333333333,\"#9c179e\"],[0.4444444444444444,\"#bd3786\"],[0.5555555555555556,\"#d8576b\"],[0.6666666666666666,\"#ed7953\"],[0.7777777777777778,\"#fb9f3a\"],[0.8888888888888888,\"#fdca26\"],[1.0,\"#f0f921\"]],\"type\":\"histogram2dcontour\"}],\"mesh3d\":[{\"colorbar\":{\"outlinewidth\":0,\"ticks\":\"\"},\"type\":\"mesh3d\"}],\"parcoords\":[{\"line\":{\"colorbar\":{\"outlinewidth\":0,\"ticks\":\"\"}},\"type\":\"parcoords\"}],\"pie\":[{\"automargin\":true,\"type\":\"pie\"}],\"scatter\":[{\"marker\":{\"colorbar\":{\"outlinewidth\":0,\"ticks\":\"\"}},\"type\":\"scatter\"}],\"scatter3d\":[{\"line\":{\"colorbar\":{\"outlinewidth\":0,\"ticks\":\"\"}},\"marker\":{\"colorbar\":{\"outlinewidth\":0,\"ticks\":\"\"}},\"type\":\"scatter3d\"}],\"scattercarpet\":[{\"marker\":{\"colorbar\":{\"outlinewidth\":0,\"ticks\":\"\"}},\"type\":\"scattercarpet\"}],\"scattergeo\":[{\"marker\":{\"colorbar\":{\"outlinewidth\":0,\"ticks\":\"\"}},\"type\":\"scattergeo\"}],\"scattergl\":[{\"marker\":{\"colorbar\":{\"outlinewidth\":0,\"ticks\":\"\"}},\"type\":\"scattergl\"}],\"scattermapbox\":[{\"marker\":{\"colorbar\":{\"outlinewidth\":0,\"ticks\":\"\"}},\"type\":\"scattermapbox\"}],\"scatterpolar\":[{\"marker\":{\"colorbar\":{\"outlinewidth\":0,\"ticks\":\"\"}},\"type\":\"scatterpolar\"}],\"scatterpolargl\":[{\"marker\":{\"colorbar\":{\"outlinewidth\":0,\"ticks\":\"\"}},\"type\":\"scatterpolargl\"}],\"scatterternary\":[{\"marker\":{\"colorbar\":{\"outlinewidth\":0,\"ticks\":\"\"}},\"type\":\"scatterternary\"}],\"surface\":[{\"colorbar\":{\"outlinewidth\":0,\"ticks\":\"\"},\"colorscale\":[[0.0,\"#0d0887\"],[0.1111111111111111,\"#46039f\"],[0.2222222222222222,\"#7201a8\"],[0.3333333333333333,\"#9c179e\"],[0.4444444444444444,\"#bd3786\"],[0.5555555555555556,\"#d8576b\"],[0.6666666666666666,\"#ed7953\"],[0.7777777777777778,\"#fb9f3a\"],[0.8888888888888888,\"#fdca26\"],[1.0,\"#f0f921\"]],\"type\":\"surface\"}],\"table\":[{\"cells\":{\"fill\":{\"color\":\"#EBF0F8\"},\"line\":{\"color\":\"white\"}},\"header\":{\"fill\":{\"color\":\"#C8D4E3\"},\"line\":{\"color\":\"white\"}},\"type\":\"table\"}]},\"layout\":{\"annotationdefaults\":{\"arrowcolor\":\"#2a3f5f\",\"arrowhead\":0,\"arrowwidth\":1},\"autotypenumbers\":\"strict\",\"coloraxis\":{\"colorbar\":{\"outlinewidth\":0,\"ticks\":\"\"}},\"colorscale\":{\"diverging\":[[0,\"#8e0152\"],[0.1,\"#c51b7d\"],[0.2,\"#de77ae\"],[0.3,\"#f1b6da\"],[0.4,\"#fde0ef\"],[0.5,\"#f7f7f7\"],[0.6,\"#e6f5d0\"],[0.7,\"#b8e186\"],[0.8,\"#7fbc41\"],[0.9,\"#4d9221\"],[1,\"#276419\"]],\"sequential\":[[0.0,\"#0d0887\"],[0.1111111111111111,\"#46039f\"],[0.2222222222222222,\"#7201a8\"],[0.3333333333333333,\"#9c179e\"],[0.4444444444444444,\"#bd3786\"],[0.5555555555555556,\"#d8576b\"],[0.6666666666666666,\"#ed7953\"],[0.7777777777777778,\"#fb9f3a\"],[0.8888888888888888,\"#fdca26\"],[1.0,\"#f0f921\"]],\"sequentialminus\":[[0.0,\"#0d0887\"],[0.1111111111111111,\"#46039f\"],[0.2222222222222222,\"#7201a8\"],[0.3333333333333333,\"#9c179e\"],[0.4444444444444444,\"#bd3786\"],[0.5555555555555556,\"#d8576b\"],[0.6666666666666666,\"#ed7953\"],[0.7777777777777778,\"#fb9f3a\"],[0.8888888888888888,\"#fdca26\"],[1.0,\"#f0f921\"]]},\"colorway\":[\"#636efa\",\"#EF553B\",\"#00cc96\",\"#ab63fa\",\"#FFA15A\",\"#19d3f3\",\"#FF6692\",\"#B6E880\",\"#FF97FF\",\"#FECB52\"],\"font\":{\"color\":\"#2a3f5f\"},\"geo\":{\"bgcolor\":\"white\",\"lakecolor\":\"white\",\"landcolor\":\"#E5ECF6\",\"showlakes\":true,\"showland\":true,\"subunitcolor\":\"white\"},\"hoverlabel\":{\"align\":\"left\"},\"hovermode\":\"closest\",\"mapbox\":{\"style\":\"light\"},\"paper_bgcolor\":\"white\",\"plot_bgcolor\":\"#E5ECF6\",\"polar\":{\"angularaxis\":{\"gridcolor\":\"white\",\"linecolor\":\"white\",\"ticks\":\"\"},\"bgcolor\":\"#E5ECF6\",\"radialaxis\":{\"gridcolor\":\"white\",\"linecolor\":\"white\",\"ticks\":\"\"}},\"scene\":{\"xaxis\":{\"backgroundcolor\":\"#E5ECF6\",\"gridcolor\":\"white\",\"gridwidth\":2,\"linecolor\":\"white\",\"showbackground\":true,\"ticks\":\"\",\"zerolinecolor\":\"white\"},\"yaxis\":{\"backgroundcolor\":\"#E5ECF6\",\"gridcolor\":\"white\",\"gridwidth\":2,\"linecolor\":\"white\",\"showbackground\":true,\"ticks\":\"\",\"zerolinecolor\":\"white\"},\"zaxis\":{\"backgroundcolor\":\"#E5ECF6\",\"gridcolor\":\"white\",\"gridwidth\":2,\"linecolor\":\"white\",\"showbackground\":true,\"ticks\":\"\",\"zerolinecolor\":\"white\"}},\"shapedefaults\":{\"line\":{\"color\":\"#2a3f5f\"}},\"ternary\":{\"aaxis\":{\"gridcolor\":\"white\",\"linecolor\":\"white\",\"ticks\":\"\"},\"baxis\":{\"gridcolor\":\"white\",\"linecolor\":\"white\",\"ticks\":\"\"},\"bgcolor\":\"#E5ECF6\",\"caxis\":{\"gridcolor\":\"white\",\"linecolor\":\"white\",\"ticks\":\"\"}},\"title\":{\"x\":0.05},\"xaxis\":{\"automargin\":true,\"gridcolor\":\"white\",\"linecolor\":\"white\",\"ticks\":\"\",\"title\":{\"standoff\":15},\"zerolinecolor\":\"white\",\"zerolinewidth\":2},\"yaxis\":{\"automargin\":true,\"gridcolor\":\"white\",\"linecolor\":\"white\",\"ticks\":\"\",\"title\":{\"standoff\":15},\"zerolinecolor\":\"white\",\"zerolinewidth\":2}}},\"title\":{\"font\":{\"color\":\"#4D5663\"}},\"xaxis\":{\"gridcolor\":\"#E1E5ED\",\"showgrid\":true,\"tickfont\":{\"color\":\"#4D5663\"},\"title\":{\"font\":{\"color\":\"#4D5663\"},\"text\":\"\"},\"zerolinecolor\":\"#E1E5ED\"},\"yaxis\":{\"gridcolor\":\"#E1E5ED\",\"showgrid\":true,\"tickfont\":{\"color\":\"#4D5663\"},\"title\":{\"font\":{\"color\":\"#4D5663\"},\"text\":\"\"},\"zerolinecolor\":\"#E1E5ED\"}},                        {\"showLink\": true, \"linkText\": \"Export to plot.ly\", \"plotlyServerURL\": \"https://plot.ly\", \"responsive\": true}                    ).then(function(){\n",
       "                            \n",
       "var gd = document.getElementById('cc5e481b-f92c-4f18-a745-b180dfdd7ebb');\n",
       "var x = new MutationObserver(function (mutations, observer) {{\n",
       "        var display = window.getComputedStyle(gd).display;\n",
       "        if (!display || display === 'none') {{\n",
       "            console.log([gd, 'removed!']);\n",
       "            Plotly.purge(gd);\n",
       "            observer.disconnect();\n",
       "        }}\n",
       "}});\n",
       "\n",
       "// Listen for the removal of the full notebook cells\n",
       "var notebookContainer = gd.closest('#notebook-container');\n",
       "if (notebookContainer) {{\n",
       "    x.observe(notebookContainer, {childList: true});\n",
       "}}\n",
       "\n",
       "// Listen for the clearing of the current output cell\n",
       "var outputEl = gd.closest('.output');\n",
       "if (outputEl) {{\n",
       "    x.observe(outputEl, {childList: true});\n",
       "}}\n",
       "\n",
       "                        })                };                });            </script>        </div>"
      ]
     },
     "metadata": {},
     "output_type": "display_data"
    }
   ],
   "source": [
    "df1.iplot(kind='bubble',x='A',y='B',size='C',color='orange')"
   ]
  },
  {
   "cell_type": "markdown",
   "metadata": {},
   "source": [
    "**Scatter matrix**\n",
    "\n",
    "Similar to Seaborn's para plot"
   ]
  },
  {
   "cell_type": "code",
   "execution_count": 43,
   "metadata": {},
   "outputs": [
    {
     "data": {
      "application/vnd.plotly.v1+json": {
       "config": {
        "linkText": "Export to plot.ly",
        "plotlyServerURL": "https://plot.ly",
        "showLink": true
       },
       "data": [
        {
         "histfunc": "count",
         "histnorm": "",
         "marker": {
          "color": "rgba(255, 153, 51, 1.0)",
          "line": {
           "color": "#4D5663",
           "width": 1.3
          }
         },
         "name": "A",
         "nbinsx": 10,
         "opacity": 0.8,
         "orientation": "v",
         "type": "histogram",
         "x": [
          -0.2476021517537956,
          0.11874398704528717,
          -1.5986470436970923,
          1.4523802703570448,
          1.6090995991476928,
          0.36229045933429543,
          0.08354651513332022,
          -0.3527933783544127,
          0.5176107966859301,
          -0.833819690766652,
          0.20565072543497975,
          1.9944702000830496,
          -0.35151191314525854,
          -0.826196054882016,
          0.9599029122425612,
          0.8735380178138376,
          -1.644708644572304,
          -1.7738813013900911,
          1.7275862931329586,
          1.2410803233237333,
          -0.47371612259000284,
          1.414213513123541,
          1.458493689936051,
          0.3272856232608136,
          0.3165687182176862,
          0.8414601116357942,
          -0.32475580337050364,
          1.0868940465653318,
          0.4745634553998436,
          -0.2734907459319492,
          1.7936403614043865,
          0.2702198507442268,
          0.23166334935090627,
          0.2149514489904918,
          -0.15239433999431595,
          -0.46485670290661824,
          0.1769888823174567,
          0.9251355276226852,
          -2.923639876842984,
          -1.0036342420862625,
          -1.5972731861258282,
          -0.5863668064009814,
          0.24330756172163637,
          1.0711554663396936,
          0.7912213795894234,
          0.8222629425793855,
          -0.07065589111053654,
          -0.6059385075201855,
          -1.2444487075452308,
          -0.2986809340328696,
          2.1470548990107736,
          -0.9581686455331494,
          -0.14557432693872532,
          -0.4416089409116146,
          0.9352295488236574,
          -1.0506573059035353,
          1.3879041094191515,
          -0.6297383736287204,
          1.2161526628947408,
          0.9380321876702106,
          -0.3186924706946208,
          -1.0451195297871672,
          0.8789782921221527,
          -1.0706299167541156,
          -0.6134943608834571,
          2.114366282469496,
          0.4804360014579106,
          -0.10967689810515825,
          1.1730100543660051,
          0.6680577732576941,
          -1.1540774070386632,
          -0.4851203250530739,
          -0.06824582550241688,
          -0.4860733169583027,
          -1.3724089125985697,
          0.12312942342868287,
          0.16293029773806567,
          1.2974841267330905,
          3.354031799722983,
          -1.5810817578094538,
          0.8052116693646469,
          1.7562243908207342,
          0.5228297709229516,
          -0.8617659959734791,
          0.0620426273685626,
          0.16012867729300984,
          0.09689851489854824,
          -0.1137666435097898,
          1.803702528945463,
          0.2660268294434981,
          0.21102177430662458,
          -0.12523484176846558,
          -1.3224865786008155,
          -0.23270849471023752,
          -1.3608262494607177,
          1.6803295754838412,
          -0.26619167545737504,
          -1.2418906810336272,
          0.6446602759776894,
          -0.9887246241264553
         ],
         "xaxis": "x",
         "yaxis": "y"
        },
        {
         "line": {
          "color": "rgba(0, 0, 0, 1.0)",
          "dash": "solid",
          "shape": "linear",
          "width": 1.3
         },
         "marker": {
          "size": 2,
          "symbol": "circle"
         },
         "mode": "markers",
         "name": "A",
         "text": "",
         "type": "scatter",
         "x": [
          -0.06053671648461432,
          0.04451657973152728,
          0.5893539754284983,
          1.013668452200273,
          0.6847946382566875,
          0.20861092698642347,
          -0.3309414257884284,
          -0.5453515972945141,
          0.23076522077023776,
          -0.6403566961541314,
          -1.4889655573956504,
          0.9352129666595805,
          -0.8553217826158602,
          -0.5358471525131479,
          -0.7285079896694445,
          -0.19435999410793742,
          -0.021183660575883688,
          -1.27486421427924,
          -1.377441170107258,
          0.1920596120363645,
          -1.1360047658662333,
          -0.25162260549257154,
          -0.38292153172884064,
          1.5087553081937204,
          0.14799880515885433,
          0.605878255040937,
          1.6218346664911871,
          -0.6412077490099374,
          0.3542488866697352,
          -0.4607106765297617,
          1.2204733158298071,
          1.5290677262515437,
          -0.5325381867220287,
          0.6886302420714265,
          -1.4040226516881387,
          -2.163779233019157,
          -1.635161679442351,
          0.11429126376701604,
          1.5913115916653733,
          -0.7516875353912756,
          -1.1490181657991692,
          0.05209633163880171,
          -1.2505146014805508,
          0.945770812894874,
          0.44120913669486617,
          -1.4272575263523835,
          -0.058534388435669125,
          -0.33290524940555216,
          0.25397740217116543,
          1.2107495453696848,
          -1.3048536413809813,
          -0.07290573215858111,
          -0.935009414667022,
          0.31698859178976346,
          0.3035657889195938,
          -0.09726791999649201,
          -0.13309365569973972,
          -1.3660791616250785,
          -1.0000957432387825,
          -0.44418957211110716,
          -0.7186337755517709,
          1.102995878230977,
          0.020947744800001725,
          -0.5379484903254714,
          1.434265530651456,
          -0.005595426280574108,
          -2.0024045908564716,
          1.2079291512768016,
          0.15101539633938965,
          -0.9415917180574958,
          0.8902241018403784,
          -0.6581560875764221,
          -1.2673251228201592,
          1.2592403371088414,
          -0.2831780015730596,
          0.047762380357669894,
          0.8603279518544563,
          -0.7821657611800706,
          -0.08202755823879464,
          0.06094696276155334,
          -0.8603811991901833,
          -0.05999313775337979,
          -0.4134487343659485,
          -0.4420361210196551,
          1.964645409112964,
          0.7896408572825018,
          -0.3773497911703148,
          1.6692535284277301,
          -0.27550204963687014,
          0.41138019434472406,
          -1.0549370402879954,
          1.6736473264323468,
          -0.8808278394958889,
          0.4728475230153127,
          0.19446889154197278,
          0.2995578928563227,
          -0.3887601705363107,
          -1.031190785706398,
          -1.4446194412722257,
          0.5759700536209127
         ],
         "xaxis": "x2",
         "y": [
          -0.2476021517537956,
          0.11874398704528717,
          -1.5986470436970923,
          1.4523802703570448,
          1.6090995991476928,
          0.36229045933429543,
          0.08354651513332022,
          -0.3527933783544127,
          0.5176107966859301,
          -0.833819690766652,
          0.20565072543497975,
          1.9944702000830496,
          -0.35151191314525854,
          -0.826196054882016,
          0.9599029122425612,
          0.8735380178138376,
          -1.644708644572304,
          -1.7738813013900911,
          1.7275862931329586,
          1.2410803233237333,
          -0.47371612259000284,
          1.414213513123541,
          1.458493689936051,
          0.3272856232608136,
          0.3165687182176862,
          0.8414601116357942,
          -0.32475580337050364,
          1.0868940465653318,
          0.4745634553998436,
          -0.2734907459319492,
          1.7936403614043865,
          0.2702198507442268,
          0.23166334935090627,
          0.2149514489904918,
          -0.15239433999431595,
          -0.46485670290661824,
          0.1769888823174567,
          0.9251355276226852,
          -2.923639876842984,
          -1.0036342420862625,
          -1.5972731861258282,
          -0.5863668064009814,
          0.24330756172163637,
          1.0711554663396936,
          0.7912213795894234,
          0.8222629425793855,
          -0.07065589111053654,
          -0.6059385075201855,
          -1.2444487075452308,
          -0.2986809340328696,
          2.1470548990107736,
          -0.9581686455331494,
          -0.14557432693872532,
          -0.4416089409116146,
          0.9352295488236574,
          -1.0506573059035353,
          1.3879041094191515,
          -0.6297383736287204,
          1.2161526628947408,
          0.9380321876702106,
          -0.3186924706946208,
          -1.0451195297871672,
          0.8789782921221527,
          -1.0706299167541156,
          -0.6134943608834571,
          2.114366282469496,
          0.4804360014579106,
          -0.10967689810515825,
          1.1730100543660051,
          0.6680577732576941,
          -1.1540774070386632,
          -0.4851203250530739,
          -0.06824582550241688,
          -0.4860733169583027,
          -1.3724089125985697,
          0.12312942342868287,
          0.16293029773806567,
          1.2974841267330905,
          3.354031799722983,
          -1.5810817578094538,
          0.8052116693646469,
          1.7562243908207342,
          0.5228297709229516,
          -0.8617659959734791,
          0.0620426273685626,
          0.16012867729300984,
          0.09689851489854824,
          -0.1137666435097898,
          1.803702528945463,
          0.2660268294434981,
          0.21102177430662458,
          -0.12523484176846558,
          -1.3224865786008155,
          -0.23270849471023752,
          -1.3608262494607177,
          1.6803295754838412,
          -0.26619167545737504,
          -1.2418906810336272,
          0.6446602759776894,
          -0.9887246241264553
         ],
         "yaxis": "y2"
        },
        {
         "line": {
          "color": "rgba(0, 0, 0, 1.0)",
          "dash": "solid",
          "shape": "linear",
          "width": 1.3
         },
         "marker": {
          "size": 2,
          "symbol": "circle"
         },
         "mode": "markers",
         "name": "A",
         "text": "",
         "type": "scatter",
         "x": [
          -1.4138806139966658,
          0.9549943461350169,
          -2.0176025054120172,
          -0.3559458222091603,
          1.4153947552191721,
          0.12427455626105968,
          -1.3459787187103391,
          -0.19872516540106108,
          1.4088318088135734,
          0.9012366661206014,
          0.12167928602972863,
          0.6484887494471738,
          -0.24071830245211362,
          -0.3251708457434995,
          -0.07848163117310035,
          -0.5619681536095221,
          -0.4107090434792362,
          1.6335771937963104,
          -0.23108562854747383,
          -0.6253479656743208,
          -1.7470326746678497,
          0.1948171412052426,
          0.10667552470993999,
          1.168151845889162,
          0.9074924955855451,
          -0.05022155827796482,
          0.24599602330939935,
          -0.8162581224912675,
          -1.2964098715543981,
          0.46286889607730936,
          -0.10213511155337399,
          0.6309051597165397,
          -0.2362382902818193,
          0.4014181504403865,
          0.44327312805371816,
          -0.1506127376542421,
          -0.8237912696611064,
          0.9619847178419777,
          1.5613855884484278,
          0.7847649284788947,
          -0.715194383820001,
          -0.42188560666769154,
          0.7719771944709354,
          -0.42788322573565674,
          0.6295608422707876,
          -1.2316437164112453,
          -1.791586382047408,
          -1.4970537956291428,
          -1.3481044941034268,
          0.2915472094532004,
          -1.1924673961153276,
          1.5294697279384182,
          0.7329753983882141,
          -0.7346420338455535,
          1.5630204417323799,
          0.6027784429615578,
          -2.9091425536815265,
          -0.5221000792876885,
          0.22713425110466265,
          -0.7319197059378021,
          0.5163256584002801,
          1.053520675059922,
          0.27007681292676344,
          0.9686753400624246,
          1.5307581393786964,
          0.36737242145043647,
          0.025097599770220778,
          -0.8651713313226559,
          -0.341732622257134,
          -0.8520223476297429,
          1.850705214694412,
          -0.40433123147094446,
          -0.20770681737488159,
          1.4652245596672555,
          0.7022687371970578,
          0.9116339980456936,
          -0.4857214196763068,
          -0.6520074477878468,
          -0.5999681780513599,
          -0.15885427293055898,
          0.8499484258368485,
          -0.33877488292040364,
          0.24668022175070148,
          0.658460807810325,
          0.4801517632540298,
          0.5133810366740759,
          1.9219510343734911,
          -1.1183566698572092,
          -0.023438823060090475,
          -0.14588709366250815,
          -0.32697804678743025,
          -0.511923466545293,
          -0.45486558796788906,
          0.27615700635488605,
          -0.38189887714450116,
          1.7063174625892141,
          -0.11117157591083326,
          0.34677612795932183,
          1.0337762757857105,
          -1.8316147311422069
         ],
         "xaxis": "x3",
         "y": [
          -0.2476021517537956,
          0.11874398704528717,
          -1.5986470436970923,
          1.4523802703570448,
          1.6090995991476928,
          0.36229045933429543,
          0.08354651513332022,
          -0.3527933783544127,
          0.5176107966859301,
          -0.833819690766652,
          0.20565072543497975,
          1.9944702000830496,
          -0.35151191314525854,
          -0.826196054882016,
          0.9599029122425612,
          0.8735380178138376,
          -1.644708644572304,
          -1.7738813013900911,
          1.7275862931329586,
          1.2410803233237333,
          -0.47371612259000284,
          1.414213513123541,
          1.458493689936051,
          0.3272856232608136,
          0.3165687182176862,
          0.8414601116357942,
          -0.32475580337050364,
          1.0868940465653318,
          0.4745634553998436,
          -0.2734907459319492,
          1.7936403614043865,
          0.2702198507442268,
          0.23166334935090627,
          0.2149514489904918,
          -0.15239433999431595,
          -0.46485670290661824,
          0.1769888823174567,
          0.9251355276226852,
          -2.923639876842984,
          -1.0036342420862625,
          -1.5972731861258282,
          -0.5863668064009814,
          0.24330756172163637,
          1.0711554663396936,
          0.7912213795894234,
          0.8222629425793855,
          -0.07065589111053654,
          -0.6059385075201855,
          -1.2444487075452308,
          -0.2986809340328696,
          2.1470548990107736,
          -0.9581686455331494,
          -0.14557432693872532,
          -0.4416089409116146,
          0.9352295488236574,
          -1.0506573059035353,
          1.3879041094191515,
          -0.6297383736287204,
          1.2161526628947408,
          0.9380321876702106,
          -0.3186924706946208,
          -1.0451195297871672,
          0.8789782921221527,
          -1.0706299167541156,
          -0.6134943608834571,
          2.114366282469496,
          0.4804360014579106,
          -0.10967689810515825,
          1.1730100543660051,
          0.6680577732576941,
          -1.1540774070386632,
          -0.4851203250530739,
          -0.06824582550241688,
          -0.4860733169583027,
          -1.3724089125985697,
          0.12312942342868287,
          0.16293029773806567,
          1.2974841267330905,
          3.354031799722983,
          -1.5810817578094538,
          0.8052116693646469,
          1.7562243908207342,
          0.5228297709229516,
          -0.8617659959734791,
          0.0620426273685626,
          0.16012867729300984,
          0.09689851489854824,
          -0.1137666435097898,
          1.803702528945463,
          0.2660268294434981,
          0.21102177430662458,
          -0.12523484176846558,
          -1.3224865786008155,
          -0.23270849471023752,
          -1.3608262494607177,
          1.6803295754838412,
          -0.26619167545737504,
          -1.2418906810336272,
          0.6446602759776894,
          -0.9887246241264553
         ],
         "yaxis": "y3"
        },
        {
         "line": {
          "color": "rgba(0, 0, 0, 1.0)",
          "dash": "solid",
          "shape": "linear",
          "width": 1.3
         },
         "marker": {
          "size": 2,
          "symbol": "circle"
         },
         "mode": "markers",
         "name": "A",
         "text": "",
         "type": "scatter",
         "x": [
          1.138881092138941,
          -0.8296593820905608,
          0.4940921451158362,
          1.4715672397977364,
          -1.1419091404761212,
          1.1670925420126028,
          -0.05952213756143999,
          -1.158319754654261,
          0.9340886362131698,
          0.08241160566677205,
          0.09050486923742268,
          -1.2080822552658015,
          -0.8059511189425327,
          0.23788239068331304,
          1.8508318786619247,
          -0.9275488532782582,
          -0.32988735181079404,
          -1.5255692872092812,
          0.01878277333096518,
          -1.7713787539245063,
          -1.169235762418271,
          -0.815999795639666,
          0.5003979518170936,
          0.21348561130162266,
          -1.8583553991873798,
          0.9584079218881999,
          -0.5923347203499466,
          -0.045701301432784204,
          1.1098349309061941,
          0.8108821831693277,
          1.2154286931093448,
          0.03534702668436145,
          0.982009445768607,
          0.6759622934673243,
          0.22793134842256393,
          0.5831497418958888,
          0.06440530013979788,
          -1.1015572556487958,
          -0.16365703680670007,
          1.2443518938853981,
          -0.30962832264924545,
          0.7337650029403703,
          0.37294149848351654,
          0.7960603041860554,
          0.49111515978717424,
          1.4093434653694459,
          0.24287036417708793,
          -1.5780263611682788,
          0.9252914445025481,
          1.962942289472823,
          -1.2424538815207948,
          0.6723340741862069,
          0.06742064638790596,
          -0.4686920066301773,
          -0.607956503575207,
          -0.9653818756804581,
          0.46450454370099953,
          0.05881620360562117,
          0.6772238445570063,
          -0.9033915215986897,
          1.0881282290657555,
          0.4359323184477213,
          0.7684410076854367,
          0.5005996452296388,
          0.7829515481772608,
          -0.026796813723469173,
          2.599386526232613,
          -0.14386967015853985,
          -1.5217198040434086,
          0.3114719797777141,
          -0.03544583751025676,
          -2.4348449244449637,
          0.9652715215395948,
          -0.7673168292664782,
          -1.8925580816941423,
          -0.7214493207694863,
          -0.4584329458861844,
          -0.29876105590390634,
          -0.4010748723773588,
          -0.9483449778577722,
          0.8200748964441905,
          0.3649981882074061,
          0.9303510634711705,
          -0.9063628584109353,
          0.32270295677364835,
          -1.3960046389806826,
          -1.6645024132499688,
          1.681129748878899,
          -0.35702788945906266,
          -0.9513402967568699,
          -1.4173177890827713,
          -1.363812590380575,
          0.8018862131924073,
          -1.0659923334724297,
          -1.7347035079139594,
          1.7247117586400194,
          -0.5534645932630475,
          -0.05269082880831947,
          0.013439662055486223,
          1.1457671048038869
         ],
         "xaxis": "x4",
         "y": [
          -0.2476021517537956,
          0.11874398704528717,
          -1.5986470436970923,
          1.4523802703570448,
          1.6090995991476928,
          0.36229045933429543,
          0.08354651513332022,
          -0.3527933783544127,
          0.5176107966859301,
          -0.833819690766652,
          0.20565072543497975,
          1.9944702000830496,
          -0.35151191314525854,
          -0.826196054882016,
          0.9599029122425612,
          0.8735380178138376,
          -1.644708644572304,
          -1.7738813013900911,
          1.7275862931329586,
          1.2410803233237333,
          -0.47371612259000284,
          1.414213513123541,
          1.458493689936051,
          0.3272856232608136,
          0.3165687182176862,
          0.8414601116357942,
          -0.32475580337050364,
          1.0868940465653318,
          0.4745634553998436,
          -0.2734907459319492,
          1.7936403614043865,
          0.2702198507442268,
          0.23166334935090627,
          0.2149514489904918,
          -0.15239433999431595,
          -0.46485670290661824,
          0.1769888823174567,
          0.9251355276226852,
          -2.923639876842984,
          -1.0036342420862625,
          -1.5972731861258282,
          -0.5863668064009814,
          0.24330756172163637,
          1.0711554663396936,
          0.7912213795894234,
          0.8222629425793855,
          -0.07065589111053654,
          -0.6059385075201855,
          -1.2444487075452308,
          -0.2986809340328696,
          2.1470548990107736,
          -0.9581686455331494,
          -0.14557432693872532,
          -0.4416089409116146,
          0.9352295488236574,
          -1.0506573059035353,
          1.3879041094191515,
          -0.6297383736287204,
          1.2161526628947408,
          0.9380321876702106,
          -0.3186924706946208,
          -1.0451195297871672,
          0.8789782921221527,
          -1.0706299167541156,
          -0.6134943608834571,
          2.114366282469496,
          0.4804360014579106,
          -0.10967689810515825,
          1.1730100543660051,
          0.6680577732576941,
          -1.1540774070386632,
          -0.4851203250530739,
          -0.06824582550241688,
          -0.4860733169583027,
          -1.3724089125985697,
          0.12312942342868287,
          0.16293029773806567,
          1.2974841267330905,
          3.354031799722983,
          -1.5810817578094538,
          0.8052116693646469,
          1.7562243908207342,
          0.5228297709229516,
          -0.8617659959734791,
          0.0620426273685626,
          0.16012867729300984,
          0.09689851489854824,
          -0.1137666435097898,
          1.803702528945463,
          0.2660268294434981,
          0.21102177430662458,
          -0.12523484176846558,
          -1.3224865786008155,
          -0.23270849471023752,
          -1.3608262494607177,
          1.6803295754838412,
          -0.26619167545737504,
          -1.2418906810336272,
          0.6446602759776894,
          -0.9887246241264553
         ],
         "yaxis": "y4"
        },
        {
         "line": {
          "color": "rgba(0, 0, 0, 1.0)",
          "dash": "solid",
          "shape": "linear",
          "width": 1.3
         },
         "marker": {
          "size": 2,
          "symbol": "circle"
         },
         "mode": "markers",
         "name": "B",
         "text": "",
         "type": "scatter",
         "x": [
          -0.2476021517537956,
          0.11874398704528717,
          -1.5986470436970923,
          1.4523802703570448,
          1.6090995991476928,
          0.36229045933429543,
          0.08354651513332022,
          -0.3527933783544127,
          0.5176107966859301,
          -0.833819690766652,
          0.20565072543497975,
          1.9944702000830496,
          -0.35151191314525854,
          -0.826196054882016,
          0.9599029122425612,
          0.8735380178138376,
          -1.644708644572304,
          -1.7738813013900911,
          1.7275862931329586,
          1.2410803233237333,
          -0.47371612259000284,
          1.414213513123541,
          1.458493689936051,
          0.3272856232608136,
          0.3165687182176862,
          0.8414601116357942,
          -0.32475580337050364,
          1.0868940465653318,
          0.4745634553998436,
          -0.2734907459319492,
          1.7936403614043865,
          0.2702198507442268,
          0.23166334935090627,
          0.2149514489904918,
          -0.15239433999431595,
          -0.46485670290661824,
          0.1769888823174567,
          0.9251355276226852,
          -2.923639876842984,
          -1.0036342420862625,
          -1.5972731861258282,
          -0.5863668064009814,
          0.24330756172163637,
          1.0711554663396936,
          0.7912213795894234,
          0.8222629425793855,
          -0.07065589111053654,
          -0.6059385075201855,
          -1.2444487075452308,
          -0.2986809340328696,
          2.1470548990107736,
          -0.9581686455331494,
          -0.14557432693872532,
          -0.4416089409116146,
          0.9352295488236574,
          -1.0506573059035353,
          1.3879041094191515,
          -0.6297383736287204,
          1.2161526628947408,
          0.9380321876702106,
          -0.3186924706946208,
          -1.0451195297871672,
          0.8789782921221527,
          -1.0706299167541156,
          -0.6134943608834571,
          2.114366282469496,
          0.4804360014579106,
          -0.10967689810515825,
          1.1730100543660051,
          0.6680577732576941,
          -1.1540774070386632,
          -0.4851203250530739,
          -0.06824582550241688,
          -0.4860733169583027,
          -1.3724089125985697,
          0.12312942342868287,
          0.16293029773806567,
          1.2974841267330905,
          3.354031799722983,
          -1.5810817578094538,
          0.8052116693646469,
          1.7562243908207342,
          0.5228297709229516,
          -0.8617659959734791,
          0.0620426273685626,
          0.16012867729300984,
          0.09689851489854824,
          -0.1137666435097898,
          1.803702528945463,
          0.2660268294434981,
          0.21102177430662458,
          -0.12523484176846558,
          -1.3224865786008155,
          -0.23270849471023752,
          -1.3608262494607177,
          1.6803295754838412,
          -0.26619167545737504,
          -1.2418906810336272,
          0.6446602759776894,
          -0.9887246241264553
         ],
         "xaxis": "x5",
         "y": [
          -0.06053671648461432,
          0.04451657973152728,
          0.5893539754284983,
          1.013668452200273,
          0.6847946382566875,
          0.20861092698642347,
          -0.3309414257884284,
          -0.5453515972945141,
          0.23076522077023776,
          -0.6403566961541314,
          -1.4889655573956504,
          0.9352129666595805,
          -0.8553217826158602,
          -0.5358471525131479,
          -0.7285079896694445,
          -0.19435999410793742,
          -0.021183660575883688,
          -1.27486421427924,
          -1.377441170107258,
          0.1920596120363645,
          -1.1360047658662333,
          -0.25162260549257154,
          -0.38292153172884064,
          1.5087553081937204,
          0.14799880515885433,
          0.605878255040937,
          1.6218346664911871,
          -0.6412077490099374,
          0.3542488866697352,
          -0.4607106765297617,
          1.2204733158298071,
          1.5290677262515437,
          -0.5325381867220287,
          0.6886302420714265,
          -1.4040226516881387,
          -2.163779233019157,
          -1.635161679442351,
          0.11429126376701604,
          1.5913115916653733,
          -0.7516875353912756,
          -1.1490181657991692,
          0.05209633163880171,
          -1.2505146014805508,
          0.945770812894874,
          0.44120913669486617,
          -1.4272575263523835,
          -0.058534388435669125,
          -0.33290524940555216,
          0.25397740217116543,
          1.2107495453696848,
          -1.3048536413809813,
          -0.07290573215858111,
          -0.935009414667022,
          0.31698859178976346,
          0.3035657889195938,
          -0.09726791999649201,
          -0.13309365569973972,
          -1.3660791616250785,
          -1.0000957432387825,
          -0.44418957211110716,
          -0.7186337755517709,
          1.102995878230977,
          0.020947744800001725,
          -0.5379484903254714,
          1.434265530651456,
          -0.005595426280574108,
          -2.0024045908564716,
          1.2079291512768016,
          0.15101539633938965,
          -0.9415917180574958,
          0.8902241018403784,
          -0.6581560875764221,
          -1.2673251228201592,
          1.2592403371088414,
          -0.2831780015730596,
          0.047762380357669894,
          0.8603279518544563,
          -0.7821657611800706,
          -0.08202755823879464,
          0.06094696276155334,
          -0.8603811991901833,
          -0.05999313775337979,
          -0.4134487343659485,
          -0.4420361210196551,
          1.964645409112964,
          0.7896408572825018,
          -0.3773497911703148,
          1.6692535284277301,
          -0.27550204963687014,
          0.41138019434472406,
          -1.0549370402879954,
          1.6736473264323468,
          -0.8808278394958889,
          0.4728475230153127,
          0.19446889154197278,
          0.2995578928563227,
          -0.3887601705363107,
          -1.031190785706398,
          -1.4446194412722257,
          0.5759700536209127
         ],
         "yaxis": "y5"
        },
        {
         "histfunc": "count",
         "histnorm": "",
         "marker": {
          "color": "rgba(55, 128, 191, 1.0)",
          "line": {
           "color": "#4D5663",
           "width": 1.3
          }
         },
         "name": "B",
         "nbinsx": 10,
         "opacity": 0.8,
         "orientation": "v",
         "type": "histogram",
         "x": [
          -0.06053671648461432,
          0.04451657973152728,
          0.5893539754284983,
          1.013668452200273,
          0.6847946382566875,
          0.20861092698642347,
          -0.3309414257884284,
          -0.5453515972945141,
          0.23076522077023776,
          -0.6403566961541314,
          -1.4889655573956504,
          0.9352129666595805,
          -0.8553217826158602,
          -0.5358471525131479,
          -0.7285079896694445,
          -0.19435999410793742,
          -0.021183660575883688,
          -1.27486421427924,
          -1.377441170107258,
          0.1920596120363645,
          -1.1360047658662333,
          -0.25162260549257154,
          -0.38292153172884064,
          1.5087553081937204,
          0.14799880515885433,
          0.605878255040937,
          1.6218346664911871,
          -0.6412077490099374,
          0.3542488866697352,
          -0.4607106765297617,
          1.2204733158298071,
          1.5290677262515437,
          -0.5325381867220287,
          0.6886302420714265,
          -1.4040226516881387,
          -2.163779233019157,
          -1.635161679442351,
          0.11429126376701604,
          1.5913115916653733,
          -0.7516875353912756,
          -1.1490181657991692,
          0.05209633163880171,
          -1.2505146014805508,
          0.945770812894874,
          0.44120913669486617,
          -1.4272575263523835,
          -0.058534388435669125,
          -0.33290524940555216,
          0.25397740217116543,
          1.2107495453696848,
          -1.3048536413809813,
          -0.07290573215858111,
          -0.935009414667022,
          0.31698859178976346,
          0.3035657889195938,
          -0.09726791999649201,
          -0.13309365569973972,
          -1.3660791616250785,
          -1.0000957432387825,
          -0.44418957211110716,
          -0.7186337755517709,
          1.102995878230977,
          0.020947744800001725,
          -0.5379484903254714,
          1.434265530651456,
          -0.005595426280574108,
          -2.0024045908564716,
          1.2079291512768016,
          0.15101539633938965,
          -0.9415917180574958,
          0.8902241018403784,
          -0.6581560875764221,
          -1.2673251228201592,
          1.2592403371088414,
          -0.2831780015730596,
          0.047762380357669894,
          0.8603279518544563,
          -0.7821657611800706,
          -0.08202755823879464,
          0.06094696276155334,
          -0.8603811991901833,
          -0.05999313775337979,
          -0.4134487343659485,
          -0.4420361210196551,
          1.964645409112964,
          0.7896408572825018,
          -0.3773497911703148,
          1.6692535284277301,
          -0.27550204963687014,
          0.41138019434472406,
          -1.0549370402879954,
          1.6736473264323468,
          -0.8808278394958889,
          0.4728475230153127,
          0.19446889154197278,
          0.2995578928563227,
          -0.3887601705363107,
          -1.031190785706398,
          -1.4446194412722257,
          0.5759700536209127
         ],
         "xaxis": "x6",
         "yaxis": "y6"
        },
        {
         "line": {
          "color": "rgba(0, 0, 0, 1.0)",
          "dash": "solid",
          "shape": "linear",
          "width": 1.3
         },
         "marker": {
          "size": 2,
          "symbol": "circle"
         },
         "mode": "markers",
         "name": "B",
         "text": "",
         "type": "scatter",
         "x": [
          -1.4138806139966658,
          0.9549943461350169,
          -2.0176025054120172,
          -0.3559458222091603,
          1.4153947552191721,
          0.12427455626105968,
          -1.3459787187103391,
          -0.19872516540106108,
          1.4088318088135734,
          0.9012366661206014,
          0.12167928602972863,
          0.6484887494471738,
          -0.24071830245211362,
          -0.3251708457434995,
          -0.07848163117310035,
          -0.5619681536095221,
          -0.4107090434792362,
          1.6335771937963104,
          -0.23108562854747383,
          -0.6253479656743208,
          -1.7470326746678497,
          0.1948171412052426,
          0.10667552470993999,
          1.168151845889162,
          0.9074924955855451,
          -0.05022155827796482,
          0.24599602330939935,
          -0.8162581224912675,
          -1.2964098715543981,
          0.46286889607730936,
          -0.10213511155337399,
          0.6309051597165397,
          -0.2362382902818193,
          0.4014181504403865,
          0.44327312805371816,
          -0.1506127376542421,
          -0.8237912696611064,
          0.9619847178419777,
          1.5613855884484278,
          0.7847649284788947,
          -0.715194383820001,
          -0.42188560666769154,
          0.7719771944709354,
          -0.42788322573565674,
          0.6295608422707876,
          -1.2316437164112453,
          -1.791586382047408,
          -1.4970537956291428,
          -1.3481044941034268,
          0.2915472094532004,
          -1.1924673961153276,
          1.5294697279384182,
          0.7329753983882141,
          -0.7346420338455535,
          1.5630204417323799,
          0.6027784429615578,
          -2.9091425536815265,
          -0.5221000792876885,
          0.22713425110466265,
          -0.7319197059378021,
          0.5163256584002801,
          1.053520675059922,
          0.27007681292676344,
          0.9686753400624246,
          1.5307581393786964,
          0.36737242145043647,
          0.025097599770220778,
          -0.8651713313226559,
          -0.341732622257134,
          -0.8520223476297429,
          1.850705214694412,
          -0.40433123147094446,
          -0.20770681737488159,
          1.4652245596672555,
          0.7022687371970578,
          0.9116339980456936,
          -0.4857214196763068,
          -0.6520074477878468,
          -0.5999681780513599,
          -0.15885427293055898,
          0.8499484258368485,
          -0.33877488292040364,
          0.24668022175070148,
          0.658460807810325,
          0.4801517632540298,
          0.5133810366740759,
          1.9219510343734911,
          -1.1183566698572092,
          -0.023438823060090475,
          -0.14588709366250815,
          -0.32697804678743025,
          -0.511923466545293,
          -0.45486558796788906,
          0.27615700635488605,
          -0.38189887714450116,
          1.7063174625892141,
          -0.11117157591083326,
          0.34677612795932183,
          1.0337762757857105,
          -1.8316147311422069
         ],
         "xaxis": "x7",
         "y": [
          -0.06053671648461432,
          0.04451657973152728,
          0.5893539754284983,
          1.013668452200273,
          0.6847946382566875,
          0.20861092698642347,
          -0.3309414257884284,
          -0.5453515972945141,
          0.23076522077023776,
          -0.6403566961541314,
          -1.4889655573956504,
          0.9352129666595805,
          -0.8553217826158602,
          -0.5358471525131479,
          -0.7285079896694445,
          -0.19435999410793742,
          -0.021183660575883688,
          -1.27486421427924,
          -1.377441170107258,
          0.1920596120363645,
          -1.1360047658662333,
          -0.25162260549257154,
          -0.38292153172884064,
          1.5087553081937204,
          0.14799880515885433,
          0.605878255040937,
          1.6218346664911871,
          -0.6412077490099374,
          0.3542488866697352,
          -0.4607106765297617,
          1.2204733158298071,
          1.5290677262515437,
          -0.5325381867220287,
          0.6886302420714265,
          -1.4040226516881387,
          -2.163779233019157,
          -1.635161679442351,
          0.11429126376701604,
          1.5913115916653733,
          -0.7516875353912756,
          -1.1490181657991692,
          0.05209633163880171,
          -1.2505146014805508,
          0.945770812894874,
          0.44120913669486617,
          -1.4272575263523835,
          -0.058534388435669125,
          -0.33290524940555216,
          0.25397740217116543,
          1.2107495453696848,
          -1.3048536413809813,
          -0.07290573215858111,
          -0.935009414667022,
          0.31698859178976346,
          0.3035657889195938,
          -0.09726791999649201,
          -0.13309365569973972,
          -1.3660791616250785,
          -1.0000957432387825,
          -0.44418957211110716,
          -0.7186337755517709,
          1.102995878230977,
          0.020947744800001725,
          -0.5379484903254714,
          1.434265530651456,
          -0.005595426280574108,
          -2.0024045908564716,
          1.2079291512768016,
          0.15101539633938965,
          -0.9415917180574958,
          0.8902241018403784,
          -0.6581560875764221,
          -1.2673251228201592,
          1.2592403371088414,
          -0.2831780015730596,
          0.047762380357669894,
          0.8603279518544563,
          -0.7821657611800706,
          -0.08202755823879464,
          0.06094696276155334,
          -0.8603811991901833,
          -0.05999313775337979,
          -0.4134487343659485,
          -0.4420361210196551,
          1.964645409112964,
          0.7896408572825018,
          -0.3773497911703148,
          1.6692535284277301,
          -0.27550204963687014,
          0.41138019434472406,
          -1.0549370402879954,
          1.6736473264323468,
          -0.8808278394958889,
          0.4728475230153127,
          0.19446889154197278,
          0.2995578928563227,
          -0.3887601705363107,
          -1.031190785706398,
          -1.4446194412722257,
          0.5759700536209127
         ],
         "yaxis": "y7"
        },
        {
         "line": {
          "color": "rgba(0, 0, 0, 1.0)",
          "dash": "solid",
          "shape": "linear",
          "width": 1.3
         },
         "marker": {
          "size": 2,
          "symbol": "circle"
         },
         "mode": "markers",
         "name": "B",
         "text": "",
         "type": "scatter",
         "x": [
          1.138881092138941,
          -0.8296593820905608,
          0.4940921451158362,
          1.4715672397977364,
          -1.1419091404761212,
          1.1670925420126028,
          -0.05952213756143999,
          -1.158319754654261,
          0.9340886362131698,
          0.08241160566677205,
          0.09050486923742268,
          -1.2080822552658015,
          -0.8059511189425327,
          0.23788239068331304,
          1.8508318786619247,
          -0.9275488532782582,
          -0.32988735181079404,
          -1.5255692872092812,
          0.01878277333096518,
          -1.7713787539245063,
          -1.169235762418271,
          -0.815999795639666,
          0.5003979518170936,
          0.21348561130162266,
          -1.8583553991873798,
          0.9584079218881999,
          -0.5923347203499466,
          -0.045701301432784204,
          1.1098349309061941,
          0.8108821831693277,
          1.2154286931093448,
          0.03534702668436145,
          0.982009445768607,
          0.6759622934673243,
          0.22793134842256393,
          0.5831497418958888,
          0.06440530013979788,
          -1.1015572556487958,
          -0.16365703680670007,
          1.2443518938853981,
          -0.30962832264924545,
          0.7337650029403703,
          0.37294149848351654,
          0.7960603041860554,
          0.49111515978717424,
          1.4093434653694459,
          0.24287036417708793,
          -1.5780263611682788,
          0.9252914445025481,
          1.962942289472823,
          -1.2424538815207948,
          0.6723340741862069,
          0.06742064638790596,
          -0.4686920066301773,
          -0.607956503575207,
          -0.9653818756804581,
          0.46450454370099953,
          0.05881620360562117,
          0.6772238445570063,
          -0.9033915215986897,
          1.0881282290657555,
          0.4359323184477213,
          0.7684410076854367,
          0.5005996452296388,
          0.7829515481772608,
          -0.026796813723469173,
          2.599386526232613,
          -0.14386967015853985,
          -1.5217198040434086,
          0.3114719797777141,
          -0.03544583751025676,
          -2.4348449244449637,
          0.9652715215395948,
          -0.7673168292664782,
          -1.8925580816941423,
          -0.7214493207694863,
          -0.4584329458861844,
          -0.29876105590390634,
          -0.4010748723773588,
          -0.9483449778577722,
          0.8200748964441905,
          0.3649981882074061,
          0.9303510634711705,
          -0.9063628584109353,
          0.32270295677364835,
          -1.3960046389806826,
          -1.6645024132499688,
          1.681129748878899,
          -0.35702788945906266,
          -0.9513402967568699,
          -1.4173177890827713,
          -1.363812590380575,
          0.8018862131924073,
          -1.0659923334724297,
          -1.7347035079139594,
          1.7247117586400194,
          -0.5534645932630475,
          -0.05269082880831947,
          0.013439662055486223,
          1.1457671048038869
         ],
         "xaxis": "x8",
         "y": [
          -0.06053671648461432,
          0.04451657973152728,
          0.5893539754284983,
          1.013668452200273,
          0.6847946382566875,
          0.20861092698642347,
          -0.3309414257884284,
          -0.5453515972945141,
          0.23076522077023776,
          -0.6403566961541314,
          -1.4889655573956504,
          0.9352129666595805,
          -0.8553217826158602,
          -0.5358471525131479,
          -0.7285079896694445,
          -0.19435999410793742,
          -0.021183660575883688,
          -1.27486421427924,
          -1.377441170107258,
          0.1920596120363645,
          -1.1360047658662333,
          -0.25162260549257154,
          -0.38292153172884064,
          1.5087553081937204,
          0.14799880515885433,
          0.605878255040937,
          1.6218346664911871,
          -0.6412077490099374,
          0.3542488866697352,
          -0.4607106765297617,
          1.2204733158298071,
          1.5290677262515437,
          -0.5325381867220287,
          0.6886302420714265,
          -1.4040226516881387,
          -2.163779233019157,
          -1.635161679442351,
          0.11429126376701604,
          1.5913115916653733,
          -0.7516875353912756,
          -1.1490181657991692,
          0.05209633163880171,
          -1.2505146014805508,
          0.945770812894874,
          0.44120913669486617,
          -1.4272575263523835,
          -0.058534388435669125,
          -0.33290524940555216,
          0.25397740217116543,
          1.2107495453696848,
          -1.3048536413809813,
          -0.07290573215858111,
          -0.935009414667022,
          0.31698859178976346,
          0.3035657889195938,
          -0.09726791999649201,
          -0.13309365569973972,
          -1.3660791616250785,
          -1.0000957432387825,
          -0.44418957211110716,
          -0.7186337755517709,
          1.102995878230977,
          0.020947744800001725,
          -0.5379484903254714,
          1.434265530651456,
          -0.005595426280574108,
          -2.0024045908564716,
          1.2079291512768016,
          0.15101539633938965,
          -0.9415917180574958,
          0.8902241018403784,
          -0.6581560875764221,
          -1.2673251228201592,
          1.2592403371088414,
          -0.2831780015730596,
          0.047762380357669894,
          0.8603279518544563,
          -0.7821657611800706,
          -0.08202755823879464,
          0.06094696276155334,
          -0.8603811991901833,
          -0.05999313775337979,
          -0.4134487343659485,
          -0.4420361210196551,
          1.964645409112964,
          0.7896408572825018,
          -0.3773497911703148,
          1.6692535284277301,
          -0.27550204963687014,
          0.41138019434472406,
          -1.0549370402879954,
          1.6736473264323468,
          -0.8808278394958889,
          0.4728475230153127,
          0.19446889154197278,
          0.2995578928563227,
          -0.3887601705363107,
          -1.031190785706398,
          -1.4446194412722257,
          0.5759700536209127
         ],
         "yaxis": "y8"
        },
        {
         "line": {
          "color": "rgba(0, 0, 0, 1.0)",
          "dash": "solid",
          "shape": "linear",
          "width": 1.3
         },
         "marker": {
          "size": 2,
          "symbol": "circle"
         },
         "mode": "markers",
         "name": "C",
         "text": "",
         "type": "scatter",
         "x": [
          -0.2476021517537956,
          0.11874398704528717,
          -1.5986470436970923,
          1.4523802703570448,
          1.6090995991476928,
          0.36229045933429543,
          0.08354651513332022,
          -0.3527933783544127,
          0.5176107966859301,
          -0.833819690766652,
          0.20565072543497975,
          1.9944702000830496,
          -0.35151191314525854,
          -0.826196054882016,
          0.9599029122425612,
          0.8735380178138376,
          -1.644708644572304,
          -1.7738813013900911,
          1.7275862931329586,
          1.2410803233237333,
          -0.47371612259000284,
          1.414213513123541,
          1.458493689936051,
          0.3272856232608136,
          0.3165687182176862,
          0.8414601116357942,
          -0.32475580337050364,
          1.0868940465653318,
          0.4745634553998436,
          -0.2734907459319492,
          1.7936403614043865,
          0.2702198507442268,
          0.23166334935090627,
          0.2149514489904918,
          -0.15239433999431595,
          -0.46485670290661824,
          0.1769888823174567,
          0.9251355276226852,
          -2.923639876842984,
          -1.0036342420862625,
          -1.5972731861258282,
          -0.5863668064009814,
          0.24330756172163637,
          1.0711554663396936,
          0.7912213795894234,
          0.8222629425793855,
          -0.07065589111053654,
          -0.6059385075201855,
          -1.2444487075452308,
          -0.2986809340328696,
          2.1470548990107736,
          -0.9581686455331494,
          -0.14557432693872532,
          -0.4416089409116146,
          0.9352295488236574,
          -1.0506573059035353,
          1.3879041094191515,
          -0.6297383736287204,
          1.2161526628947408,
          0.9380321876702106,
          -0.3186924706946208,
          -1.0451195297871672,
          0.8789782921221527,
          -1.0706299167541156,
          -0.6134943608834571,
          2.114366282469496,
          0.4804360014579106,
          -0.10967689810515825,
          1.1730100543660051,
          0.6680577732576941,
          -1.1540774070386632,
          -0.4851203250530739,
          -0.06824582550241688,
          -0.4860733169583027,
          -1.3724089125985697,
          0.12312942342868287,
          0.16293029773806567,
          1.2974841267330905,
          3.354031799722983,
          -1.5810817578094538,
          0.8052116693646469,
          1.7562243908207342,
          0.5228297709229516,
          -0.8617659959734791,
          0.0620426273685626,
          0.16012867729300984,
          0.09689851489854824,
          -0.1137666435097898,
          1.803702528945463,
          0.2660268294434981,
          0.21102177430662458,
          -0.12523484176846558,
          -1.3224865786008155,
          -0.23270849471023752,
          -1.3608262494607177,
          1.6803295754838412,
          -0.26619167545737504,
          -1.2418906810336272,
          0.6446602759776894,
          -0.9887246241264553
         ],
         "xaxis": "x9",
         "y": [
          -1.4138806139966658,
          0.9549943461350169,
          -2.0176025054120172,
          -0.3559458222091603,
          1.4153947552191721,
          0.12427455626105968,
          -1.3459787187103391,
          -0.19872516540106108,
          1.4088318088135734,
          0.9012366661206014,
          0.12167928602972863,
          0.6484887494471738,
          -0.24071830245211362,
          -0.3251708457434995,
          -0.07848163117310035,
          -0.5619681536095221,
          -0.4107090434792362,
          1.6335771937963104,
          -0.23108562854747383,
          -0.6253479656743208,
          -1.7470326746678497,
          0.1948171412052426,
          0.10667552470993999,
          1.168151845889162,
          0.9074924955855451,
          -0.05022155827796482,
          0.24599602330939935,
          -0.8162581224912675,
          -1.2964098715543981,
          0.46286889607730936,
          -0.10213511155337399,
          0.6309051597165397,
          -0.2362382902818193,
          0.4014181504403865,
          0.44327312805371816,
          -0.1506127376542421,
          -0.8237912696611064,
          0.9619847178419777,
          1.5613855884484278,
          0.7847649284788947,
          -0.715194383820001,
          -0.42188560666769154,
          0.7719771944709354,
          -0.42788322573565674,
          0.6295608422707876,
          -1.2316437164112453,
          -1.791586382047408,
          -1.4970537956291428,
          -1.3481044941034268,
          0.2915472094532004,
          -1.1924673961153276,
          1.5294697279384182,
          0.7329753983882141,
          -0.7346420338455535,
          1.5630204417323799,
          0.6027784429615578,
          -2.9091425536815265,
          -0.5221000792876885,
          0.22713425110466265,
          -0.7319197059378021,
          0.5163256584002801,
          1.053520675059922,
          0.27007681292676344,
          0.9686753400624246,
          1.5307581393786964,
          0.36737242145043647,
          0.025097599770220778,
          -0.8651713313226559,
          -0.341732622257134,
          -0.8520223476297429,
          1.850705214694412,
          -0.40433123147094446,
          -0.20770681737488159,
          1.4652245596672555,
          0.7022687371970578,
          0.9116339980456936,
          -0.4857214196763068,
          -0.6520074477878468,
          -0.5999681780513599,
          -0.15885427293055898,
          0.8499484258368485,
          -0.33877488292040364,
          0.24668022175070148,
          0.658460807810325,
          0.4801517632540298,
          0.5133810366740759,
          1.9219510343734911,
          -1.1183566698572092,
          -0.023438823060090475,
          -0.14588709366250815,
          -0.32697804678743025,
          -0.511923466545293,
          -0.45486558796788906,
          0.27615700635488605,
          -0.38189887714450116,
          1.7063174625892141,
          -0.11117157591083326,
          0.34677612795932183,
          1.0337762757857105,
          -1.8316147311422069
         ],
         "yaxis": "y9"
        },
        {
         "line": {
          "color": "rgba(0, 0, 0, 1.0)",
          "dash": "solid",
          "shape": "linear",
          "width": 1.3
         },
         "marker": {
          "size": 2,
          "symbol": "circle"
         },
         "mode": "markers",
         "name": "C",
         "text": "",
         "type": "scatter",
         "x": [
          -0.06053671648461432,
          0.04451657973152728,
          0.5893539754284983,
          1.013668452200273,
          0.6847946382566875,
          0.20861092698642347,
          -0.3309414257884284,
          -0.5453515972945141,
          0.23076522077023776,
          -0.6403566961541314,
          -1.4889655573956504,
          0.9352129666595805,
          -0.8553217826158602,
          -0.5358471525131479,
          -0.7285079896694445,
          -0.19435999410793742,
          -0.021183660575883688,
          -1.27486421427924,
          -1.377441170107258,
          0.1920596120363645,
          -1.1360047658662333,
          -0.25162260549257154,
          -0.38292153172884064,
          1.5087553081937204,
          0.14799880515885433,
          0.605878255040937,
          1.6218346664911871,
          -0.6412077490099374,
          0.3542488866697352,
          -0.4607106765297617,
          1.2204733158298071,
          1.5290677262515437,
          -0.5325381867220287,
          0.6886302420714265,
          -1.4040226516881387,
          -2.163779233019157,
          -1.635161679442351,
          0.11429126376701604,
          1.5913115916653733,
          -0.7516875353912756,
          -1.1490181657991692,
          0.05209633163880171,
          -1.2505146014805508,
          0.945770812894874,
          0.44120913669486617,
          -1.4272575263523835,
          -0.058534388435669125,
          -0.33290524940555216,
          0.25397740217116543,
          1.2107495453696848,
          -1.3048536413809813,
          -0.07290573215858111,
          -0.935009414667022,
          0.31698859178976346,
          0.3035657889195938,
          -0.09726791999649201,
          -0.13309365569973972,
          -1.3660791616250785,
          -1.0000957432387825,
          -0.44418957211110716,
          -0.7186337755517709,
          1.102995878230977,
          0.020947744800001725,
          -0.5379484903254714,
          1.434265530651456,
          -0.005595426280574108,
          -2.0024045908564716,
          1.2079291512768016,
          0.15101539633938965,
          -0.9415917180574958,
          0.8902241018403784,
          -0.6581560875764221,
          -1.2673251228201592,
          1.2592403371088414,
          -0.2831780015730596,
          0.047762380357669894,
          0.8603279518544563,
          -0.7821657611800706,
          -0.08202755823879464,
          0.06094696276155334,
          -0.8603811991901833,
          -0.05999313775337979,
          -0.4134487343659485,
          -0.4420361210196551,
          1.964645409112964,
          0.7896408572825018,
          -0.3773497911703148,
          1.6692535284277301,
          -0.27550204963687014,
          0.41138019434472406,
          -1.0549370402879954,
          1.6736473264323468,
          -0.8808278394958889,
          0.4728475230153127,
          0.19446889154197278,
          0.2995578928563227,
          -0.3887601705363107,
          -1.031190785706398,
          -1.4446194412722257,
          0.5759700536209127
         ],
         "xaxis": "x10",
         "y": [
          -1.4138806139966658,
          0.9549943461350169,
          -2.0176025054120172,
          -0.3559458222091603,
          1.4153947552191721,
          0.12427455626105968,
          -1.3459787187103391,
          -0.19872516540106108,
          1.4088318088135734,
          0.9012366661206014,
          0.12167928602972863,
          0.6484887494471738,
          -0.24071830245211362,
          -0.3251708457434995,
          -0.07848163117310035,
          -0.5619681536095221,
          -0.4107090434792362,
          1.6335771937963104,
          -0.23108562854747383,
          -0.6253479656743208,
          -1.7470326746678497,
          0.1948171412052426,
          0.10667552470993999,
          1.168151845889162,
          0.9074924955855451,
          -0.05022155827796482,
          0.24599602330939935,
          -0.8162581224912675,
          -1.2964098715543981,
          0.46286889607730936,
          -0.10213511155337399,
          0.6309051597165397,
          -0.2362382902818193,
          0.4014181504403865,
          0.44327312805371816,
          -0.1506127376542421,
          -0.8237912696611064,
          0.9619847178419777,
          1.5613855884484278,
          0.7847649284788947,
          -0.715194383820001,
          -0.42188560666769154,
          0.7719771944709354,
          -0.42788322573565674,
          0.6295608422707876,
          -1.2316437164112453,
          -1.791586382047408,
          -1.4970537956291428,
          -1.3481044941034268,
          0.2915472094532004,
          -1.1924673961153276,
          1.5294697279384182,
          0.7329753983882141,
          -0.7346420338455535,
          1.5630204417323799,
          0.6027784429615578,
          -2.9091425536815265,
          -0.5221000792876885,
          0.22713425110466265,
          -0.7319197059378021,
          0.5163256584002801,
          1.053520675059922,
          0.27007681292676344,
          0.9686753400624246,
          1.5307581393786964,
          0.36737242145043647,
          0.025097599770220778,
          -0.8651713313226559,
          -0.341732622257134,
          -0.8520223476297429,
          1.850705214694412,
          -0.40433123147094446,
          -0.20770681737488159,
          1.4652245596672555,
          0.7022687371970578,
          0.9116339980456936,
          -0.4857214196763068,
          -0.6520074477878468,
          -0.5999681780513599,
          -0.15885427293055898,
          0.8499484258368485,
          -0.33877488292040364,
          0.24668022175070148,
          0.658460807810325,
          0.4801517632540298,
          0.5133810366740759,
          1.9219510343734911,
          -1.1183566698572092,
          -0.023438823060090475,
          -0.14588709366250815,
          -0.32697804678743025,
          -0.511923466545293,
          -0.45486558796788906,
          0.27615700635488605,
          -0.38189887714450116,
          1.7063174625892141,
          -0.11117157591083326,
          0.34677612795932183,
          1.0337762757857105,
          -1.8316147311422069
         ],
         "yaxis": "y10"
        },
        {
         "histfunc": "count",
         "histnorm": "",
         "marker": {
          "color": "rgba(50, 171, 96, 1.0)",
          "line": {
           "color": "#4D5663",
           "width": 1.3
          }
         },
         "name": "C",
         "nbinsx": 10,
         "opacity": 0.8,
         "orientation": "v",
         "type": "histogram",
         "x": [
          -1.4138806139966658,
          0.9549943461350169,
          -2.0176025054120172,
          -0.3559458222091603,
          1.4153947552191721,
          0.12427455626105968,
          -1.3459787187103391,
          -0.19872516540106108,
          1.4088318088135734,
          0.9012366661206014,
          0.12167928602972863,
          0.6484887494471738,
          -0.24071830245211362,
          -0.3251708457434995,
          -0.07848163117310035,
          -0.5619681536095221,
          -0.4107090434792362,
          1.6335771937963104,
          -0.23108562854747383,
          -0.6253479656743208,
          -1.7470326746678497,
          0.1948171412052426,
          0.10667552470993999,
          1.168151845889162,
          0.9074924955855451,
          -0.05022155827796482,
          0.24599602330939935,
          -0.8162581224912675,
          -1.2964098715543981,
          0.46286889607730936,
          -0.10213511155337399,
          0.6309051597165397,
          -0.2362382902818193,
          0.4014181504403865,
          0.44327312805371816,
          -0.1506127376542421,
          -0.8237912696611064,
          0.9619847178419777,
          1.5613855884484278,
          0.7847649284788947,
          -0.715194383820001,
          -0.42188560666769154,
          0.7719771944709354,
          -0.42788322573565674,
          0.6295608422707876,
          -1.2316437164112453,
          -1.791586382047408,
          -1.4970537956291428,
          -1.3481044941034268,
          0.2915472094532004,
          -1.1924673961153276,
          1.5294697279384182,
          0.7329753983882141,
          -0.7346420338455535,
          1.5630204417323799,
          0.6027784429615578,
          -2.9091425536815265,
          -0.5221000792876885,
          0.22713425110466265,
          -0.7319197059378021,
          0.5163256584002801,
          1.053520675059922,
          0.27007681292676344,
          0.9686753400624246,
          1.5307581393786964,
          0.36737242145043647,
          0.025097599770220778,
          -0.8651713313226559,
          -0.341732622257134,
          -0.8520223476297429,
          1.850705214694412,
          -0.40433123147094446,
          -0.20770681737488159,
          1.4652245596672555,
          0.7022687371970578,
          0.9116339980456936,
          -0.4857214196763068,
          -0.6520074477878468,
          -0.5999681780513599,
          -0.15885427293055898,
          0.8499484258368485,
          -0.33877488292040364,
          0.24668022175070148,
          0.658460807810325,
          0.4801517632540298,
          0.5133810366740759,
          1.9219510343734911,
          -1.1183566698572092,
          -0.023438823060090475,
          -0.14588709366250815,
          -0.32697804678743025,
          -0.511923466545293,
          -0.45486558796788906,
          0.27615700635488605,
          -0.38189887714450116,
          1.7063174625892141,
          -0.11117157591083326,
          0.34677612795932183,
          1.0337762757857105,
          -1.8316147311422069
         ],
         "xaxis": "x11",
         "yaxis": "y11"
        },
        {
         "line": {
          "color": "rgba(0, 0, 0, 1.0)",
          "dash": "solid",
          "shape": "linear",
          "width": 1.3
         },
         "marker": {
          "size": 2,
          "symbol": "circle"
         },
         "mode": "markers",
         "name": "C",
         "text": "",
         "type": "scatter",
         "x": [
          1.138881092138941,
          -0.8296593820905608,
          0.4940921451158362,
          1.4715672397977364,
          -1.1419091404761212,
          1.1670925420126028,
          -0.05952213756143999,
          -1.158319754654261,
          0.9340886362131698,
          0.08241160566677205,
          0.09050486923742268,
          -1.2080822552658015,
          -0.8059511189425327,
          0.23788239068331304,
          1.8508318786619247,
          -0.9275488532782582,
          -0.32988735181079404,
          -1.5255692872092812,
          0.01878277333096518,
          -1.7713787539245063,
          -1.169235762418271,
          -0.815999795639666,
          0.5003979518170936,
          0.21348561130162266,
          -1.8583553991873798,
          0.9584079218881999,
          -0.5923347203499466,
          -0.045701301432784204,
          1.1098349309061941,
          0.8108821831693277,
          1.2154286931093448,
          0.03534702668436145,
          0.982009445768607,
          0.6759622934673243,
          0.22793134842256393,
          0.5831497418958888,
          0.06440530013979788,
          -1.1015572556487958,
          -0.16365703680670007,
          1.2443518938853981,
          -0.30962832264924545,
          0.7337650029403703,
          0.37294149848351654,
          0.7960603041860554,
          0.49111515978717424,
          1.4093434653694459,
          0.24287036417708793,
          -1.5780263611682788,
          0.9252914445025481,
          1.962942289472823,
          -1.2424538815207948,
          0.6723340741862069,
          0.06742064638790596,
          -0.4686920066301773,
          -0.607956503575207,
          -0.9653818756804581,
          0.46450454370099953,
          0.05881620360562117,
          0.6772238445570063,
          -0.9033915215986897,
          1.0881282290657555,
          0.4359323184477213,
          0.7684410076854367,
          0.5005996452296388,
          0.7829515481772608,
          -0.026796813723469173,
          2.599386526232613,
          -0.14386967015853985,
          -1.5217198040434086,
          0.3114719797777141,
          -0.03544583751025676,
          -2.4348449244449637,
          0.9652715215395948,
          -0.7673168292664782,
          -1.8925580816941423,
          -0.7214493207694863,
          -0.4584329458861844,
          -0.29876105590390634,
          -0.4010748723773588,
          -0.9483449778577722,
          0.8200748964441905,
          0.3649981882074061,
          0.9303510634711705,
          -0.9063628584109353,
          0.32270295677364835,
          -1.3960046389806826,
          -1.6645024132499688,
          1.681129748878899,
          -0.35702788945906266,
          -0.9513402967568699,
          -1.4173177890827713,
          -1.363812590380575,
          0.8018862131924073,
          -1.0659923334724297,
          -1.7347035079139594,
          1.7247117586400194,
          -0.5534645932630475,
          -0.05269082880831947,
          0.013439662055486223,
          1.1457671048038869
         ],
         "xaxis": "x12",
         "y": [
          -1.4138806139966658,
          0.9549943461350169,
          -2.0176025054120172,
          -0.3559458222091603,
          1.4153947552191721,
          0.12427455626105968,
          -1.3459787187103391,
          -0.19872516540106108,
          1.4088318088135734,
          0.9012366661206014,
          0.12167928602972863,
          0.6484887494471738,
          -0.24071830245211362,
          -0.3251708457434995,
          -0.07848163117310035,
          -0.5619681536095221,
          -0.4107090434792362,
          1.6335771937963104,
          -0.23108562854747383,
          -0.6253479656743208,
          -1.7470326746678497,
          0.1948171412052426,
          0.10667552470993999,
          1.168151845889162,
          0.9074924955855451,
          -0.05022155827796482,
          0.24599602330939935,
          -0.8162581224912675,
          -1.2964098715543981,
          0.46286889607730936,
          -0.10213511155337399,
          0.6309051597165397,
          -0.2362382902818193,
          0.4014181504403865,
          0.44327312805371816,
          -0.1506127376542421,
          -0.8237912696611064,
          0.9619847178419777,
          1.5613855884484278,
          0.7847649284788947,
          -0.715194383820001,
          -0.42188560666769154,
          0.7719771944709354,
          -0.42788322573565674,
          0.6295608422707876,
          -1.2316437164112453,
          -1.791586382047408,
          -1.4970537956291428,
          -1.3481044941034268,
          0.2915472094532004,
          -1.1924673961153276,
          1.5294697279384182,
          0.7329753983882141,
          -0.7346420338455535,
          1.5630204417323799,
          0.6027784429615578,
          -2.9091425536815265,
          -0.5221000792876885,
          0.22713425110466265,
          -0.7319197059378021,
          0.5163256584002801,
          1.053520675059922,
          0.27007681292676344,
          0.9686753400624246,
          1.5307581393786964,
          0.36737242145043647,
          0.025097599770220778,
          -0.8651713313226559,
          -0.341732622257134,
          -0.8520223476297429,
          1.850705214694412,
          -0.40433123147094446,
          -0.20770681737488159,
          1.4652245596672555,
          0.7022687371970578,
          0.9116339980456936,
          -0.4857214196763068,
          -0.6520074477878468,
          -0.5999681780513599,
          -0.15885427293055898,
          0.8499484258368485,
          -0.33877488292040364,
          0.24668022175070148,
          0.658460807810325,
          0.4801517632540298,
          0.5133810366740759,
          1.9219510343734911,
          -1.1183566698572092,
          -0.023438823060090475,
          -0.14588709366250815,
          -0.32697804678743025,
          -0.511923466545293,
          -0.45486558796788906,
          0.27615700635488605,
          -0.38189887714450116,
          1.7063174625892141,
          -0.11117157591083326,
          0.34677612795932183,
          1.0337762757857105,
          -1.8316147311422069
         ],
         "yaxis": "y12"
        },
        {
         "line": {
          "color": "rgba(0, 0, 0, 1.0)",
          "dash": "solid",
          "shape": "linear",
          "width": 1.3
         },
         "marker": {
          "size": 2,
          "symbol": "circle"
         },
         "mode": "markers",
         "name": "D",
         "text": "",
         "type": "scatter",
         "x": [
          -0.2476021517537956,
          0.11874398704528717,
          -1.5986470436970923,
          1.4523802703570448,
          1.6090995991476928,
          0.36229045933429543,
          0.08354651513332022,
          -0.3527933783544127,
          0.5176107966859301,
          -0.833819690766652,
          0.20565072543497975,
          1.9944702000830496,
          -0.35151191314525854,
          -0.826196054882016,
          0.9599029122425612,
          0.8735380178138376,
          -1.644708644572304,
          -1.7738813013900911,
          1.7275862931329586,
          1.2410803233237333,
          -0.47371612259000284,
          1.414213513123541,
          1.458493689936051,
          0.3272856232608136,
          0.3165687182176862,
          0.8414601116357942,
          -0.32475580337050364,
          1.0868940465653318,
          0.4745634553998436,
          -0.2734907459319492,
          1.7936403614043865,
          0.2702198507442268,
          0.23166334935090627,
          0.2149514489904918,
          -0.15239433999431595,
          -0.46485670290661824,
          0.1769888823174567,
          0.9251355276226852,
          -2.923639876842984,
          -1.0036342420862625,
          -1.5972731861258282,
          -0.5863668064009814,
          0.24330756172163637,
          1.0711554663396936,
          0.7912213795894234,
          0.8222629425793855,
          -0.07065589111053654,
          -0.6059385075201855,
          -1.2444487075452308,
          -0.2986809340328696,
          2.1470548990107736,
          -0.9581686455331494,
          -0.14557432693872532,
          -0.4416089409116146,
          0.9352295488236574,
          -1.0506573059035353,
          1.3879041094191515,
          -0.6297383736287204,
          1.2161526628947408,
          0.9380321876702106,
          -0.3186924706946208,
          -1.0451195297871672,
          0.8789782921221527,
          -1.0706299167541156,
          -0.6134943608834571,
          2.114366282469496,
          0.4804360014579106,
          -0.10967689810515825,
          1.1730100543660051,
          0.6680577732576941,
          -1.1540774070386632,
          -0.4851203250530739,
          -0.06824582550241688,
          -0.4860733169583027,
          -1.3724089125985697,
          0.12312942342868287,
          0.16293029773806567,
          1.2974841267330905,
          3.354031799722983,
          -1.5810817578094538,
          0.8052116693646469,
          1.7562243908207342,
          0.5228297709229516,
          -0.8617659959734791,
          0.0620426273685626,
          0.16012867729300984,
          0.09689851489854824,
          -0.1137666435097898,
          1.803702528945463,
          0.2660268294434981,
          0.21102177430662458,
          -0.12523484176846558,
          -1.3224865786008155,
          -0.23270849471023752,
          -1.3608262494607177,
          1.6803295754838412,
          -0.26619167545737504,
          -1.2418906810336272,
          0.6446602759776894,
          -0.9887246241264553
         ],
         "xaxis": "x13",
         "y": [
          1.138881092138941,
          -0.8296593820905608,
          0.4940921451158362,
          1.4715672397977364,
          -1.1419091404761212,
          1.1670925420126028,
          -0.05952213756143999,
          -1.158319754654261,
          0.9340886362131698,
          0.08241160566677205,
          0.09050486923742268,
          -1.2080822552658015,
          -0.8059511189425327,
          0.23788239068331304,
          1.8508318786619247,
          -0.9275488532782582,
          -0.32988735181079404,
          -1.5255692872092812,
          0.01878277333096518,
          -1.7713787539245063,
          -1.169235762418271,
          -0.815999795639666,
          0.5003979518170936,
          0.21348561130162266,
          -1.8583553991873798,
          0.9584079218881999,
          -0.5923347203499466,
          -0.045701301432784204,
          1.1098349309061941,
          0.8108821831693277,
          1.2154286931093448,
          0.03534702668436145,
          0.982009445768607,
          0.6759622934673243,
          0.22793134842256393,
          0.5831497418958888,
          0.06440530013979788,
          -1.1015572556487958,
          -0.16365703680670007,
          1.2443518938853981,
          -0.30962832264924545,
          0.7337650029403703,
          0.37294149848351654,
          0.7960603041860554,
          0.49111515978717424,
          1.4093434653694459,
          0.24287036417708793,
          -1.5780263611682788,
          0.9252914445025481,
          1.962942289472823,
          -1.2424538815207948,
          0.6723340741862069,
          0.06742064638790596,
          -0.4686920066301773,
          -0.607956503575207,
          -0.9653818756804581,
          0.46450454370099953,
          0.05881620360562117,
          0.6772238445570063,
          -0.9033915215986897,
          1.0881282290657555,
          0.4359323184477213,
          0.7684410076854367,
          0.5005996452296388,
          0.7829515481772608,
          -0.026796813723469173,
          2.599386526232613,
          -0.14386967015853985,
          -1.5217198040434086,
          0.3114719797777141,
          -0.03544583751025676,
          -2.4348449244449637,
          0.9652715215395948,
          -0.7673168292664782,
          -1.8925580816941423,
          -0.7214493207694863,
          -0.4584329458861844,
          -0.29876105590390634,
          -0.4010748723773588,
          -0.9483449778577722,
          0.8200748964441905,
          0.3649981882074061,
          0.9303510634711705,
          -0.9063628584109353,
          0.32270295677364835,
          -1.3960046389806826,
          -1.6645024132499688,
          1.681129748878899,
          -0.35702788945906266,
          -0.9513402967568699,
          -1.4173177890827713,
          -1.363812590380575,
          0.8018862131924073,
          -1.0659923334724297,
          -1.7347035079139594,
          1.7247117586400194,
          -0.5534645932630475,
          -0.05269082880831947,
          0.013439662055486223,
          1.1457671048038869
         ],
         "yaxis": "y13"
        },
        {
         "line": {
          "color": "rgba(0, 0, 0, 1.0)",
          "dash": "solid",
          "shape": "linear",
          "width": 1.3
         },
         "marker": {
          "size": 2,
          "symbol": "circle"
         },
         "mode": "markers",
         "name": "D",
         "text": "",
         "type": "scatter",
         "x": [
          -0.06053671648461432,
          0.04451657973152728,
          0.5893539754284983,
          1.013668452200273,
          0.6847946382566875,
          0.20861092698642347,
          -0.3309414257884284,
          -0.5453515972945141,
          0.23076522077023776,
          -0.6403566961541314,
          -1.4889655573956504,
          0.9352129666595805,
          -0.8553217826158602,
          -0.5358471525131479,
          -0.7285079896694445,
          -0.19435999410793742,
          -0.021183660575883688,
          -1.27486421427924,
          -1.377441170107258,
          0.1920596120363645,
          -1.1360047658662333,
          -0.25162260549257154,
          -0.38292153172884064,
          1.5087553081937204,
          0.14799880515885433,
          0.605878255040937,
          1.6218346664911871,
          -0.6412077490099374,
          0.3542488866697352,
          -0.4607106765297617,
          1.2204733158298071,
          1.5290677262515437,
          -0.5325381867220287,
          0.6886302420714265,
          -1.4040226516881387,
          -2.163779233019157,
          -1.635161679442351,
          0.11429126376701604,
          1.5913115916653733,
          -0.7516875353912756,
          -1.1490181657991692,
          0.05209633163880171,
          -1.2505146014805508,
          0.945770812894874,
          0.44120913669486617,
          -1.4272575263523835,
          -0.058534388435669125,
          -0.33290524940555216,
          0.25397740217116543,
          1.2107495453696848,
          -1.3048536413809813,
          -0.07290573215858111,
          -0.935009414667022,
          0.31698859178976346,
          0.3035657889195938,
          -0.09726791999649201,
          -0.13309365569973972,
          -1.3660791616250785,
          -1.0000957432387825,
          -0.44418957211110716,
          -0.7186337755517709,
          1.102995878230977,
          0.020947744800001725,
          -0.5379484903254714,
          1.434265530651456,
          -0.005595426280574108,
          -2.0024045908564716,
          1.2079291512768016,
          0.15101539633938965,
          -0.9415917180574958,
          0.8902241018403784,
          -0.6581560875764221,
          -1.2673251228201592,
          1.2592403371088414,
          -0.2831780015730596,
          0.047762380357669894,
          0.8603279518544563,
          -0.7821657611800706,
          -0.08202755823879464,
          0.06094696276155334,
          -0.8603811991901833,
          -0.05999313775337979,
          -0.4134487343659485,
          -0.4420361210196551,
          1.964645409112964,
          0.7896408572825018,
          -0.3773497911703148,
          1.6692535284277301,
          -0.27550204963687014,
          0.41138019434472406,
          -1.0549370402879954,
          1.6736473264323468,
          -0.8808278394958889,
          0.4728475230153127,
          0.19446889154197278,
          0.2995578928563227,
          -0.3887601705363107,
          -1.031190785706398,
          -1.4446194412722257,
          0.5759700536209127
         ],
         "xaxis": "x14",
         "y": [
          1.138881092138941,
          -0.8296593820905608,
          0.4940921451158362,
          1.4715672397977364,
          -1.1419091404761212,
          1.1670925420126028,
          -0.05952213756143999,
          -1.158319754654261,
          0.9340886362131698,
          0.08241160566677205,
          0.09050486923742268,
          -1.2080822552658015,
          -0.8059511189425327,
          0.23788239068331304,
          1.8508318786619247,
          -0.9275488532782582,
          -0.32988735181079404,
          -1.5255692872092812,
          0.01878277333096518,
          -1.7713787539245063,
          -1.169235762418271,
          -0.815999795639666,
          0.5003979518170936,
          0.21348561130162266,
          -1.8583553991873798,
          0.9584079218881999,
          -0.5923347203499466,
          -0.045701301432784204,
          1.1098349309061941,
          0.8108821831693277,
          1.2154286931093448,
          0.03534702668436145,
          0.982009445768607,
          0.6759622934673243,
          0.22793134842256393,
          0.5831497418958888,
          0.06440530013979788,
          -1.1015572556487958,
          -0.16365703680670007,
          1.2443518938853981,
          -0.30962832264924545,
          0.7337650029403703,
          0.37294149848351654,
          0.7960603041860554,
          0.49111515978717424,
          1.4093434653694459,
          0.24287036417708793,
          -1.5780263611682788,
          0.9252914445025481,
          1.962942289472823,
          -1.2424538815207948,
          0.6723340741862069,
          0.06742064638790596,
          -0.4686920066301773,
          -0.607956503575207,
          -0.9653818756804581,
          0.46450454370099953,
          0.05881620360562117,
          0.6772238445570063,
          -0.9033915215986897,
          1.0881282290657555,
          0.4359323184477213,
          0.7684410076854367,
          0.5005996452296388,
          0.7829515481772608,
          -0.026796813723469173,
          2.599386526232613,
          -0.14386967015853985,
          -1.5217198040434086,
          0.3114719797777141,
          -0.03544583751025676,
          -2.4348449244449637,
          0.9652715215395948,
          -0.7673168292664782,
          -1.8925580816941423,
          -0.7214493207694863,
          -0.4584329458861844,
          -0.29876105590390634,
          -0.4010748723773588,
          -0.9483449778577722,
          0.8200748964441905,
          0.3649981882074061,
          0.9303510634711705,
          -0.9063628584109353,
          0.32270295677364835,
          -1.3960046389806826,
          -1.6645024132499688,
          1.681129748878899,
          -0.35702788945906266,
          -0.9513402967568699,
          -1.4173177890827713,
          -1.363812590380575,
          0.8018862131924073,
          -1.0659923334724297,
          -1.7347035079139594,
          1.7247117586400194,
          -0.5534645932630475,
          -0.05269082880831947,
          0.013439662055486223,
          1.1457671048038869
         ],
         "yaxis": "y14"
        },
        {
         "line": {
          "color": "rgba(0, 0, 0, 1.0)",
          "dash": "solid",
          "shape": "linear",
          "width": 1.3
         },
         "marker": {
          "size": 2,
          "symbol": "circle"
         },
         "mode": "markers",
         "name": "D",
         "text": "",
         "type": "scatter",
         "x": [
          -1.4138806139966658,
          0.9549943461350169,
          -2.0176025054120172,
          -0.3559458222091603,
          1.4153947552191721,
          0.12427455626105968,
          -1.3459787187103391,
          -0.19872516540106108,
          1.4088318088135734,
          0.9012366661206014,
          0.12167928602972863,
          0.6484887494471738,
          -0.24071830245211362,
          -0.3251708457434995,
          -0.07848163117310035,
          -0.5619681536095221,
          -0.4107090434792362,
          1.6335771937963104,
          -0.23108562854747383,
          -0.6253479656743208,
          -1.7470326746678497,
          0.1948171412052426,
          0.10667552470993999,
          1.168151845889162,
          0.9074924955855451,
          -0.05022155827796482,
          0.24599602330939935,
          -0.8162581224912675,
          -1.2964098715543981,
          0.46286889607730936,
          -0.10213511155337399,
          0.6309051597165397,
          -0.2362382902818193,
          0.4014181504403865,
          0.44327312805371816,
          -0.1506127376542421,
          -0.8237912696611064,
          0.9619847178419777,
          1.5613855884484278,
          0.7847649284788947,
          -0.715194383820001,
          -0.42188560666769154,
          0.7719771944709354,
          -0.42788322573565674,
          0.6295608422707876,
          -1.2316437164112453,
          -1.791586382047408,
          -1.4970537956291428,
          -1.3481044941034268,
          0.2915472094532004,
          -1.1924673961153276,
          1.5294697279384182,
          0.7329753983882141,
          -0.7346420338455535,
          1.5630204417323799,
          0.6027784429615578,
          -2.9091425536815265,
          -0.5221000792876885,
          0.22713425110466265,
          -0.7319197059378021,
          0.5163256584002801,
          1.053520675059922,
          0.27007681292676344,
          0.9686753400624246,
          1.5307581393786964,
          0.36737242145043647,
          0.025097599770220778,
          -0.8651713313226559,
          -0.341732622257134,
          -0.8520223476297429,
          1.850705214694412,
          -0.40433123147094446,
          -0.20770681737488159,
          1.4652245596672555,
          0.7022687371970578,
          0.9116339980456936,
          -0.4857214196763068,
          -0.6520074477878468,
          -0.5999681780513599,
          -0.15885427293055898,
          0.8499484258368485,
          -0.33877488292040364,
          0.24668022175070148,
          0.658460807810325,
          0.4801517632540298,
          0.5133810366740759,
          1.9219510343734911,
          -1.1183566698572092,
          -0.023438823060090475,
          -0.14588709366250815,
          -0.32697804678743025,
          -0.511923466545293,
          -0.45486558796788906,
          0.27615700635488605,
          -0.38189887714450116,
          1.7063174625892141,
          -0.11117157591083326,
          0.34677612795932183,
          1.0337762757857105,
          -1.8316147311422069
         ],
         "xaxis": "x15",
         "y": [
          1.138881092138941,
          -0.8296593820905608,
          0.4940921451158362,
          1.4715672397977364,
          -1.1419091404761212,
          1.1670925420126028,
          -0.05952213756143999,
          -1.158319754654261,
          0.9340886362131698,
          0.08241160566677205,
          0.09050486923742268,
          -1.2080822552658015,
          -0.8059511189425327,
          0.23788239068331304,
          1.8508318786619247,
          -0.9275488532782582,
          -0.32988735181079404,
          -1.5255692872092812,
          0.01878277333096518,
          -1.7713787539245063,
          -1.169235762418271,
          -0.815999795639666,
          0.5003979518170936,
          0.21348561130162266,
          -1.8583553991873798,
          0.9584079218881999,
          -0.5923347203499466,
          -0.045701301432784204,
          1.1098349309061941,
          0.8108821831693277,
          1.2154286931093448,
          0.03534702668436145,
          0.982009445768607,
          0.6759622934673243,
          0.22793134842256393,
          0.5831497418958888,
          0.06440530013979788,
          -1.1015572556487958,
          -0.16365703680670007,
          1.2443518938853981,
          -0.30962832264924545,
          0.7337650029403703,
          0.37294149848351654,
          0.7960603041860554,
          0.49111515978717424,
          1.4093434653694459,
          0.24287036417708793,
          -1.5780263611682788,
          0.9252914445025481,
          1.962942289472823,
          -1.2424538815207948,
          0.6723340741862069,
          0.06742064638790596,
          -0.4686920066301773,
          -0.607956503575207,
          -0.9653818756804581,
          0.46450454370099953,
          0.05881620360562117,
          0.6772238445570063,
          -0.9033915215986897,
          1.0881282290657555,
          0.4359323184477213,
          0.7684410076854367,
          0.5005996452296388,
          0.7829515481772608,
          -0.026796813723469173,
          2.599386526232613,
          -0.14386967015853985,
          -1.5217198040434086,
          0.3114719797777141,
          -0.03544583751025676,
          -2.4348449244449637,
          0.9652715215395948,
          -0.7673168292664782,
          -1.8925580816941423,
          -0.7214493207694863,
          -0.4584329458861844,
          -0.29876105590390634,
          -0.4010748723773588,
          -0.9483449778577722,
          0.8200748964441905,
          0.3649981882074061,
          0.9303510634711705,
          -0.9063628584109353,
          0.32270295677364835,
          -1.3960046389806826,
          -1.6645024132499688,
          1.681129748878899,
          -0.35702788945906266,
          -0.9513402967568699,
          -1.4173177890827713,
          -1.363812590380575,
          0.8018862131924073,
          -1.0659923334724297,
          -1.7347035079139594,
          1.7247117586400194,
          -0.5534645932630475,
          -0.05269082880831947,
          0.013439662055486223,
          1.1457671048038869
         ],
         "yaxis": "y15"
        },
        {
         "histfunc": "count",
         "histnorm": "",
         "marker": {
          "color": "rgba(128, 0, 128, 1.0)",
          "line": {
           "color": "#4D5663",
           "width": 1.3
          }
         },
         "name": "D",
         "nbinsx": 10,
         "opacity": 0.8,
         "orientation": "v",
         "type": "histogram",
         "x": [
          1.138881092138941,
          -0.8296593820905608,
          0.4940921451158362,
          1.4715672397977364,
          -1.1419091404761212,
          1.1670925420126028,
          -0.05952213756143999,
          -1.158319754654261,
          0.9340886362131698,
          0.08241160566677205,
          0.09050486923742268,
          -1.2080822552658015,
          -0.8059511189425327,
          0.23788239068331304,
          1.8508318786619247,
          -0.9275488532782582,
          -0.32988735181079404,
          -1.5255692872092812,
          0.01878277333096518,
          -1.7713787539245063,
          -1.169235762418271,
          -0.815999795639666,
          0.5003979518170936,
          0.21348561130162266,
          -1.8583553991873798,
          0.9584079218881999,
          -0.5923347203499466,
          -0.045701301432784204,
          1.1098349309061941,
          0.8108821831693277,
          1.2154286931093448,
          0.03534702668436145,
          0.982009445768607,
          0.6759622934673243,
          0.22793134842256393,
          0.5831497418958888,
          0.06440530013979788,
          -1.1015572556487958,
          -0.16365703680670007,
          1.2443518938853981,
          -0.30962832264924545,
          0.7337650029403703,
          0.37294149848351654,
          0.7960603041860554,
          0.49111515978717424,
          1.4093434653694459,
          0.24287036417708793,
          -1.5780263611682788,
          0.9252914445025481,
          1.962942289472823,
          -1.2424538815207948,
          0.6723340741862069,
          0.06742064638790596,
          -0.4686920066301773,
          -0.607956503575207,
          -0.9653818756804581,
          0.46450454370099953,
          0.05881620360562117,
          0.6772238445570063,
          -0.9033915215986897,
          1.0881282290657555,
          0.4359323184477213,
          0.7684410076854367,
          0.5005996452296388,
          0.7829515481772608,
          -0.026796813723469173,
          2.599386526232613,
          -0.14386967015853985,
          -1.5217198040434086,
          0.3114719797777141,
          -0.03544583751025676,
          -2.4348449244449637,
          0.9652715215395948,
          -0.7673168292664782,
          -1.8925580816941423,
          -0.7214493207694863,
          -0.4584329458861844,
          -0.29876105590390634,
          -0.4010748723773588,
          -0.9483449778577722,
          0.8200748964441905,
          0.3649981882074061,
          0.9303510634711705,
          -0.9063628584109353,
          0.32270295677364835,
          -1.3960046389806826,
          -1.6645024132499688,
          1.681129748878899,
          -0.35702788945906266,
          -0.9513402967568699,
          -1.4173177890827713,
          -1.363812590380575,
          0.8018862131924073,
          -1.0659923334724297,
          -1.7347035079139594,
          1.7247117586400194,
          -0.5534645932630475,
          -0.05269082880831947,
          0.013439662055486223,
          1.1457671048038869
         ],
         "xaxis": "x16",
         "yaxis": "y16"
        }
       ],
       "layout": {
        "bargap": 0.02,
        "legend": {
         "bgcolor": "#F5F6F9",
         "font": {
          "color": "#4D5663"
         }
        },
        "paper_bgcolor": "#F5F6F9",
        "plot_bgcolor": "#F5F6F9",
        "showlegend": false,
        "template": {
         "data": {
          "bar": [
           {
            "error_x": {
             "color": "#2a3f5f"
            },
            "error_y": {
             "color": "#2a3f5f"
            },
            "marker": {
             "line": {
              "color": "#E5ECF6",
              "width": 0.5
             },
             "pattern": {
              "fillmode": "overlay",
              "size": 10,
              "solidity": 0.2
             }
            },
            "type": "bar"
           }
          ],
          "barpolar": [
           {
            "marker": {
             "line": {
              "color": "#E5ECF6",
              "width": 0.5
             },
             "pattern": {
              "fillmode": "overlay",
              "size": 10,
              "solidity": 0.2
             }
            },
            "type": "barpolar"
           }
          ],
          "carpet": [
           {
            "aaxis": {
             "endlinecolor": "#2a3f5f",
             "gridcolor": "white",
             "linecolor": "white",
             "minorgridcolor": "white",
             "startlinecolor": "#2a3f5f"
            },
            "baxis": {
             "endlinecolor": "#2a3f5f",
             "gridcolor": "white",
             "linecolor": "white",
             "minorgridcolor": "white",
             "startlinecolor": "#2a3f5f"
            },
            "type": "carpet"
           }
          ],
          "choropleth": [
           {
            "colorbar": {
             "outlinewidth": 0,
             "ticks": ""
            },
            "type": "choropleth"
           }
          ],
          "contour": [
           {
            "colorbar": {
             "outlinewidth": 0,
             "ticks": ""
            },
            "colorscale": [
             [
              0,
              "#0d0887"
             ],
             [
              0.1111111111111111,
              "#46039f"
             ],
             [
              0.2222222222222222,
              "#7201a8"
             ],
             [
              0.3333333333333333,
              "#9c179e"
             ],
             [
              0.4444444444444444,
              "#bd3786"
             ],
             [
              0.5555555555555556,
              "#d8576b"
             ],
             [
              0.6666666666666666,
              "#ed7953"
             ],
             [
              0.7777777777777778,
              "#fb9f3a"
             ],
             [
              0.8888888888888888,
              "#fdca26"
             ],
             [
              1,
              "#f0f921"
             ]
            ],
            "type": "contour"
           }
          ],
          "contourcarpet": [
           {
            "colorbar": {
             "outlinewidth": 0,
             "ticks": ""
            },
            "type": "contourcarpet"
           }
          ],
          "heatmap": [
           {
            "colorbar": {
             "outlinewidth": 0,
             "ticks": ""
            },
            "colorscale": [
             [
              0,
              "#0d0887"
             ],
             [
              0.1111111111111111,
              "#46039f"
             ],
             [
              0.2222222222222222,
              "#7201a8"
             ],
             [
              0.3333333333333333,
              "#9c179e"
             ],
             [
              0.4444444444444444,
              "#bd3786"
             ],
             [
              0.5555555555555556,
              "#d8576b"
             ],
             [
              0.6666666666666666,
              "#ed7953"
             ],
             [
              0.7777777777777778,
              "#fb9f3a"
             ],
             [
              0.8888888888888888,
              "#fdca26"
             ],
             [
              1,
              "#f0f921"
             ]
            ],
            "type": "heatmap"
           }
          ],
          "heatmapgl": [
           {
            "colorbar": {
             "outlinewidth": 0,
             "ticks": ""
            },
            "colorscale": [
             [
              0,
              "#0d0887"
             ],
             [
              0.1111111111111111,
              "#46039f"
             ],
             [
              0.2222222222222222,
              "#7201a8"
             ],
             [
              0.3333333333333333,
              "#9c179e"
             ],
             [
              0.4444444444444444,
              "#bd3786"
             ],
             [
              0.5555555555555556,
              "#d8576b"
             ],
             [
              0.6666666666666666,
              "#ed7953"
             ],
             [
              0.7777777777777778,
              "#fb9f3a"
             ],
             [
              0.8888888888888888,
              "#fdca26"
             ],
             [
              1,
              "#f0f921"
             ]
            ],
            "type": "heatmapgl"
           }
          ],
          "histogram": [
           {
            "marker": {
             "pattern": {
              "fillmode": "overlay",
              "size": 10,
              "solidity": 0.2
             }
            },
            "type": "histogram"
           }
          ],
          "histogram2d": [
           {
            "colorbar": {
             "outlinewidth": 0,
             "ticks": ""
            },
            "colorscale": [
             [
              0,
              "#0d0887"
             ],
             [
              0.1111111111111111,
              "#46039f"
             ],
             [
              0.2222222222222222,
              "#7201a8"
             ],
             [
              0.3333333333333333,
              "#9c179e"
             ],
             [
              0.4444444444444444,
              "#bd3786"
             ],
             [
              0.5555555555555556,
              "#d8576b"
             ],
             [
              0.6666666666666666,
              "#ed7953"
             ],
             [
              0.7777777777777778,
              "#fb9f3a"
             ],
             [
              0.8888888888888888,
              "#fdca26"
             ],
             [
              1,
              "#f0f921"
             ]
            ],
            "type": "histogram2d"
           }
          ],
          "histogram2dcontour": [
           {
            "colorbar": {
             "outlinewidth": 0,
             "ticks": ""
            },
            "colorscale": [
             [
              0,
              "#0d0887"
             ],
             [
              0.1111111111111111,
              "#46039f"
             ],
             [
              0.2222222222222222,
              "#7201a8"
             ],
             [
              0.3333333333333333,
              "#9c179e"
             ],
             [
              0.4444444444444444,
              "#bd3786"
             ],
             [
              0.5555555555555556,
              "#d8576b"
             ],
             [
              0.6666666666666666,
              "#ed7953"
             ],
             [
              0.7777777777777778,
              "#fb9f3a"
             ],
             [
              0.8888888888888888,
              "#fdca26"
             ],
             [
              1,
              "#f0f921"
             ]
            ],
            "type": "histogram2dcontour"
           }
          ],
          "mesh3d": [
           {
            "colorbar": {
             "outlinewidth": 0,
             "ticks": ""
            },
            "type": "mesh3d"
           }
          ],
          "parcoords": [
           {
            "line": {
             "colorbar": {
              "outlinewidth": 0,
              "ticks": ""
             }
            },
            "type": "parcoords"
           }
          ],
          "pie": [
           {
            "automargin": true,
            "type": "pie"
           }
          ],
          "scatter": [
           {
            "marker": {
             "colorbar": {
              "outlinewidth": 0,
              "ticks": ""
             }
            },
            "type": "scatter"
           }
          ],
          "scatter3d": [
           {
            "line": {
             "colorbar": {
              "outlinewidth": 0,
              "ticks": ""
             }
            },
            "marker": {
             "colorbar": {
              "outlinewidth": 0,
              "ticks": ""
             }
            },
            "type": "scatter3d"
           }
          ],
          "scattercarpet": [
           {
            "marker": {
             "colorbar": {
              "outlinewidth": 0,
              "ticks": ""
             }
            },
            "type": "scattercarpet"
           }
          ],
          "scattergeo": [
           {
            "marker": {
             "colorbar": {
              "outlinewidth": 0,
              "ticks": ""
             }
            },
            "type": "scattergeo"
           }
          ],
          "scattergl": [
           {
            "marker": {
             "colorbar": {
              "outlinewidth": 0,
              "ticks": ""
             }
            },
            "type": "scattergl"
           }
          ],
          "scattermapbox": [
           {
            "marker": {
             "colorbar": {
              "outlinewidth": 0,
              "ticks": ""
             }
            },
            "type": "scattermapbox"
           }
          ],
          "scatterpolar": [
           {
            "marker": {
             "colorbar": {
              "outlinewidth": 0,
              "ticks": ""
             }
            },
            "type": "scatterpolar"
           }
          ],
          "scatterpolargl": [
           {
            "marker": {
             "colorbar": {
              "outlinewidth": 0,
              "ticks": ""
             }
            },
            "type": "scatterpolargl"
           }
          ],
          "scatterternary": [
           {
            "marker": {
             "colorbar": {
              "outlinewidth": 0,
              "ticks": ""
             }
            },
            "type": "scatterternary"
           }
          ],
          "surface": [
           {
            "colorbar": {
             "outlinewidth": 0,
             "ticks": ""
            },
            "colorscale": [
             [
              0,
              "#0d0887"
             ],
             [
              0.1111111111111111,
              "#46039f"
             ],
             [
              0.2222222222222222,
              "#7201a8"
             ],
             [
              0.3333333333333333,
              "#9c179e"
             ],
             [
              0.4444444444444444,
              "#bd3786"
             ],
             [
              0.5555555555555556,
              "#d8576b"
             ],
             [
              0.6666666666666666,
              "#ed7953"
             ],
             [
              0.7777777777777778,
              "#fb9f3a"
             ],
             [
              0.8888888888888888,
              "#fdca26"
             ],
             [
              1,
              "#f0f921"
             ]
            ],
            "type": "surface"
           }
          ],
          "table": [
           {
            "cells": {
             "fill": {
              "color": "#EBF0F8"
             },
             "line": {
              "color": "white"
             }
            },
            "header": {
             "fill": {
              "color": "#C8D4E3"
             },
             "line": {
              "color": "white"
             }
            },
            "type": "table"
           }
          ]
         },
         "layout": {
          "annotationdefaults": {
           "arrowcolor": "#2a3f5f",
           "arrowhead": 0,
           "arrowwidth": 1
          },
          "autotypenumbers": "strict",
          "coloraxis": {
           "colorbar": {
            "outlinewidth": 0,
            "ticks": ""
           }
          },
          "colorscale": {
           "diverging": [
            [
             0,
             "#8e0152"
            ],
            [
             0.1,
             "#c51b7d"
            ],
            [
             0.2,
             "#de77ae"
            ],
            [
             0.3,
             "#f1b6da"
            ],
            [
             0.4,
             "#fde0ef"
            ],
            [
             0.5,
             "#f7f7f7"
            ],
            [
             0.6,
             "#e6f5d0"
            ],
            [
             0.7,
             "#b8e186"
            ],
            [
             0.8,
             "#7fbc41"
            ],
            [
             0.9,
             "#4d9221"
            ],
            [
             1,
             "#276419"
            ]
           ],
           "sequential": [
            [
             0,
             "#0d0887"
            ],
            [
             0.1111111111111111,
             "#46039f"
            ],
            [
             0.2222222222222222,
             "#7201a8"
            ],
            [
             0.3333333333333333,
             "#9c179e"
            ],
            [
             0.4444444444444444,
             "#bd3786"
            ],
            [
             0.5555555555555556,
             "#d8576b"
            ],
            [
             0.6666666666666666,
             "#ed7953"
            ],
            [
             0.7777777777777778,
             "#fb9f3a"
            ],
            [
             0.8888888888888888,
             "#fdca26"
            ],
            [
             1,
             "#f0f921"
            ]
           ],
           "sequentialminus": [
            [
             0,
             "#0d0887"
            ],
            [
             0.1111111111111111,
             "#46039f"
            ],
            [
             0.2222222222222222,
             "#7201a8"
            ],
            [
             0.3333333333333333,
             "#9c179e"
            ],
            [
             0.4444444444444444,
             "#bd3786"
            ],
            [
             0.5555555555555556,
             "#d8576b"
            ],
            [
             0.6666666666666666,
             "#ed7953"
            ],
            [
             0.7777777777777778,
             "#fb9f3a"
            ],
            [
             0.8888888888888888,
             "#fdca26"
            ],
            [
             1,
             "#f0f921"
            ]
           ]
          },
          "colorway": [
           "#636efa",
           "#EF553B",
           "#00cc96",
           "#ab63fa",
           "#FFA15A",
           "#19d3f3",
           "#FF6692",
           "#B6E880",
           "#FF97FF",
           "#FECB52"
          ],
          "font": {
           "color": "#2a3f5f"
          },
          "geo": {
           "bgcolor": "white",
           "lakecolor": "white",
           "landcolor": "#E5ECF6",
           "showlakes": true,
           "showland": true,
           "subunitcolor": "white"
          },
          "hoverlabel": {
           "align": "left"
          },
          "hovermode": "closest",
          "mapbox": {
           "style": "light"
          },
          "paper_bgcolor": "white",
          "plot_bgcolor": "#E5ECF6",
          "polar": {
           "angularaxis": {
            "gridcolor": "white",
            "linecolor": "white",
            "ticks": ""
           },
           "bgcolor": "#E5ECF6",
           "radialaxis": {
            "gridcolor": "white",
            "linecolor": "white",
            "ticks": ""
           }
          },
          "scene": {
           "xaxis": {
            "backgroundcolor": "#E5ECF6",
            "gridcolor": "white",
            "gridwidth": 2,
            "linecolor": "white",
            "showbackground": true,
            "ticks": "",
            "zerolinecolor": "white"
           },
           "yaxis": {
            "backgroundcolor": "#E5ECF6",
            "gridcolor": "white",
            "gridwidth": 2,
            "linecolor": "white",
            "showbackground": true,
            "ticks": "",
            "zerolinecolor": "white"
           },
           "zaxis": {
            "backgroundcolor": "#E5ECF6",
            "gridcolor": "white",
            "gridwidth": 2,
            "linecolor": "white",
            "showbackground": true,
            "ticks": "",
            "zerolinecolor": "white"
           }
          },
          "shapedefaults": {
           "line": {
            "color": "#2a3f5f"
           }
          },
          "ternary": {
           "aaxis": {
            "gridcolor": "white",
            "linecolor": "white",
            "ticks": ""
           },
           "baxis": {
            "gridcolor": "white",
            "linecolor": "white",
            "ticks": ""
           },
           "bgcolor": "#E5ECF6",
           "caxis": {
            "gridcolor": "white",
            "linecolor": "white",
            "ticks": ""
           }
          },
          "title": {
           "x": 0.05
          },
          "xaxis": {
           "automargin": true,
           "gridcolor": "white",
           "linecolor": "white",
           "ticks": "",
           "title": {
            "standoff": 15
           },
           "zerolinecolor": "white",
           "zerolinewidth": 2
          },
          "yaxis": {
           "automargin": true,
           "gridcolor": "white",
           "linecolor": "white",
           "ticks": "",
           "title": {
            "standoff": 15
           },
           "zerolinecolor": "white",
           "zerolinewidth": 2
          }
         }
        },
        "title": {
         "font": {
          "color": "#4D5663"
         }
        },
        "xaxis": {
         "anchor": "y",
         "domain": [
          0,
          0.2125
         ],
         "gridcolor": "#E1E5ED",
         "showgrid": false,
         "tickfont": {
          "color": "#4D5663"
         },
         "title": {
          "font": {
           "color": "#4D5663"
          },
          "text": ""
         },
         "zerolinecolor": "#E1E5ED"
        },
        "xaxis10": {
         "anchor": "y10",
         "domain": [
          0.2625,
          0.475
         ],
         "gridcolor": "#E1E5ED",
         "showgrid": false,
         "tickfont": {
          "color": "#4D5663"
         },
         "title": {
          "font": {
           "color": "#4D5663"
          },
          "text": ""
         },
         "zerolinecolor": "#E1E5ED"
        },
        "xaxis11": {
         "anchor": "y11",
         "domain": [
          0.525,
          0.7375
         ],
         "gridcolor": "#E1E5ED",
         "showgrid": false,
         "tickfont": {
          "color": "#4D5663"
         },
         "title": {
          "font": {
           "color": "#4D5663"
          },
          "text": ""
         },
         "zerolinecolor": "#E1E5ED"
        },
        "xaxis12": {
         "anchor": "y12",
         "domain": [
          0.7875,
          1
         ],
         "gridcolor": "#E1E5ED",
         "showgrid": false,
         "tickfont": {
          "color": "#4D5663"
         },
         "title": {
          "font": {
           "color": "#4D5663"
          },
          "text": ""
         },
         "zerolinecolor": "#E1E5ED"
        },
        "xaxis13": {
         "anchor": "y13",
         "domain": [
          0,
          0.2125
         ],
         "gridcolor": "#E1E5ED",
         "showgrid": false,
         "tickfont": {
          "color": "#4D5663"
         },
         "title": {
          "font": {
           "color": "#4D5663"
          },
          "text": ""
         },
         "zerolinecolor": "#E1E5ED"
        },
        "xaxis14": {
         "anchor": "y14",
         "domain": [
          0.2625,
          0.475
         ],
         "gridcolor": "#E1E5ED",
         "showgrid": false,
         "tickfont": {
          "color": "#4D5663"
         },
         "title": {
          "font": {
           "color": "#4D5663"
          },
          "text": ""
         },
         "zerolinecolor": "#E1E5ED"
        },
        "xaxis15": {
         "anchor": "y15",
         "domain": [
          0.525,
          0.7375
         ],
         "gridcolor": "#E1E5ED",
         "showgrid": false,
         "tickfont": {
          "color": "#4D5663"
         },
         "title": {
          "font": {
           "color": "#4D5663"
          },
          "text": ""
         },
         "zerolinecolor": "#E1E5ED"
        },
        "xaxis16": {
         "anchor": "y16",
         "domain": [
          0.7875,
          1
         ],
         "gridcolor": "#E1E5ED",
         "showgrid": false,
         "tickfont": {
          "color": "#4D5663"
         },
         "title": {
          "font": {
           "color": "#4D5663"
          },
          "text": ""
         },
         "zerolinecolor": "#E1E5ED"
        },
        "xaxis2": {
         "anchor": "y2",
         "domain": [
          0.2625,
          0.475
         ],
         "gridcolor": "#E1E5ED",
         "showgrid": false,
         "tickfont": {
          "color": "#4D5663"
         },
         "title": {
          "font": {
           "color": "#4D5663"
          },
          "text": ""
         },
         "zerolinecolor": "#E1E5ED"
        },
        "xaxis3": {
         "anchor": "y3",
         "domain": [
          0.525,
          0.7375
         ],
         "gridcolor": "#E1E5ED",
         "showgrid": false,
         "tickfont": {
          "color": "#4D5663"
         },
         "title": {
          "font": {
           "color": "#4D5663"
          },
          "text": ""
         },
         "zerolinecolor": "#E1E5ED"
        },
        "xaxis4": {
         "anchor": "y4",
         "domain": [
          0.7875,
          1
         ],
         "gridcolor": "#E1E5ED",
         "showgrid": false,
         "tickfont": {
          "color": "#4D5663"
         },
         "title": {
          "font": {
           "color": "#4D5663"
          },
          "text": ""
         },
         "zerolinecolor": "#E1E5ED"
        },
        "xaxis5": {
         "anchor": "y5",
         "domain": [
          0,
          0.2125
         ],
         "gridcolor": "#E1E5ED",
         "showgrid": false,
         "tickfont": {
          "color": "#4D5663"
         },
         "title": {
          "font": {
           "color": "#4D5663"
          },
          "text": ""
         },
         "zerolinecolor": "#E1E5ED"
        },
        "xaxis6": {
         "anchor": "y6",
         "domain": [
          0.2625,
          0.475
         ],
         "gridcolor": "#E1E5ED",
         "showgrid": false,
         "tickfont": {
          "color": "#4D5663"
         },
         "title": {
          "font": {
           "color": "#4D5663"
          },
          "text": ""
         },
         "zerolinecolor": "#E1E5ED"
        },
        "xaxis7": {
         "anchor": "y7",
         "domain": [
          0.525,
          0.7375
         ],
         "gridcolor": "#E1E5ED",
         "showgrid": false,
         "tickfont": {
          "color": "#4D5663"
         },
         "title": {
          "font": {
           "color": "#4D5663"
          },
          "text": ""
         },
         "zerolinecolor": "#E1E5ED"
        },
        "xaxis8": {
         "anchor": "y8",
         "domain": [
          0.7875,
          1
         ],
         "gridcolor": "#E1E5ED",
         "showgrid": false,
         "tickfont": {
          "color": "#4D5663"
         },
         "title": {
          "font": {
           "color": "#4D5663"
          },
          "text": ""
         },
         "zerolinecolor": "#E1E5ED"
        },
        "xaxis9": {
         "anchor": "y9",
         "domain": [
          0,
          0.2125
         ],
         "gridcolor": "#E1E5ED",
         "showgrid": false,
         "tickfont": {
          "color": "#4D5663"
         },
         "title": {
          "font": {
           "color": "#4D5663"
          },
          "text": ""
         },
         "zerolinecolor": "#E1E5ED"
        },
        "yaxis": {
         "anchor": "x",
         "domain": [
          0.8025,
          1
         ],
         "gridcolor": "#E1E5ED",
         "showgrid": false,
         "tickfont": {
          "color": "#4D5663"
         },
         "title": {
          "font": {
           "color": "#4D5663"
          },
          "text": ""
         },
         "zerolinecolor": "#E1E5ED"
        },
        "yaxis10": {
         "anchor": "x10",
         "domain": [
          0.2675,
          0.465
         ],
         "gridcolor": "#E1E5ED",
         "showgrid": false,
         "tickfont": {
          "color": "#4D5663"
         },
         "title": {
          "font": {
           "color": "#4D5663"
          },
          "text": ""
         },
         "zerolinecolor": "#E1E5ED"
        },
        "yaxis11": {
         "anchor": "x11",
         "domain": [
          0.2675,
          0.465
         ],
         "gridcolor": "#E1E5ED",
         "showgrid": false,
         "tickfont": {
          "color": "#4D5663"
         },
         "title": {
          "font": {
           "color": "#4D5663"
          },
          "text": ""
         },
         "zerolinecolor": "#E1E5ED"
        },
        "yaxis12": {
         "anchor": "x12",
         "domain": [
          0.2675,
          0.465
         ],
         "gridcolor": "#E1E5ED",
         "showgrid": false,
         "tickfont": {
          "color": "#4D5663"
         },
         "title": {
          "font": {
           "color": "#4D5663"
          },
          "text": ""
         },
         "zerolinecolor": "#E1E5ED"
        },
        "yaxis13": {
         "anchor": "x13",
         "domain": [
          0,
          0.1975
         ],
         "gridcolor": "#E1E5ED",
         "showgrid": false,
         "tickfont": {
          "color": "#4D5663"
         },
         "title": {
          "font": {
           "color": "#4D5663"
          },
          "text": ""
         },
         "zerolinecolor": "#E1E5ED"
        },
        "yaxis14": {
         "anchor": "x14",
         "domain": [
          0,
          0.1975
         ],
         "gridcolor": "#E1E5ED",
         "showgrid": false,
         "tickfont": {
          "color": "#4D5663"
         },
         "title": {
          "font": {
           "color": "#4D5663"
          },
          "text": ""
         },
         "zerolinecolor": "#E1E5ED"
        },
        "yaxis15": {
         "anchor": "x15",
         "domain": [
          0,
          0.1975
         ],
         "gridcolor": "#E1E5ED",
         "showgrid": false,
         "tickfont": {
          "color": "#4D5663"
         },
         "title": {
          "font": {
           "color": "#4D5663"
          },
          "text": ""
         },
         "zerolinecolor": "#E1E5ED"
        },
        "yaxis16": {
         "anchor": "x16",
         "domain": [
          0,
          0.1975
         ],
         "gridcolor": "#E1E5ED",
         "showgrid": false,
         "tickfont": {
          "color": "#4D5663"
         },
         "title": {
          "font": {
           "color": "#4D5663"
          },
          "text": ""
         },
         "zerolinecolor": "#E1E5ED"
        },
        "yaxis2": {
         "anchor": "x2",
         "domain": [
          0.8025,
          1
         ],
         "gridcolor": "#E1E5ED",
         "showgrid": false,
         "tickfont": {
          "color": "#4D5663"
         },
         "title": {
          "font": {
           "color": "#4D5663"
          },
          "text": ""
         },
         "zerolinecolor": "#E1E5ED"
        },
        "yaxis3": {
         "anchor": "x3",
         "domain": [
          0.8025,
          1
         ],
         "gridcolor": "#E1E5ED",
         "showgrid": false,
         "tickfont": {
          "color": "#4D5663"
         },
         "title": {
          "font": {
           "color": "#4D5663"
          },
          "text": ""
         },
         "zerolinecolor": "#E1E5ED"
        },
        "yaxis4": {
         "anchor": "x4",
         "domain": [
          0.8025,
          1
         ],
         "gridcolor": "#E1E5ED",
         "showgrid": false,
         "tickfont": {
          "color": "#4D5663"
         },
         "title": {
          "font": {
           "color": "#4D5663"
          },
          "text": ""
         },
         "zerolinecolor": "#E1E5ED"
        },
        "yaxis5": {
         "anchor": "x5",
         "domain": [
          0.535,
          0.7325
         ],
         "gridcolor": "#E1E5ED",
         "showgrid": false,
         "tickfont": {
          "color": "#4D5663"
         },
         "title": {
          "font": {
           "color": "#4D5663"
          },
          "text": ""
         },
         "zerolinecolor": "#E1E5ED"
        },
        "yaxis6": {
         "anchor": "x6",
         "domain": [
          0.535,
          0.7325
         ],
         "gridcolor": "#E1E5ED",
         "showgrid": false,
         "tickfont": {
          "color": "#4D5663"
         },
         "title": {
          "font": {
           "color": "#4D5663"
          },
          "text": ""
         },
         "zerolinecolor": "#E1E5ED"
        },
        "yaxis7": {
         "anchor": "x7",
         "domain": [
          0.535,
          0.7325
         ],
         "gridcolor": "#E1E5ED",
         "showgrid": false,
         "tickfont": {
          "color": "#4D5663"
         },
         "title": {
          "font": {
           "color": "#4D5663"
          },
          "text": ""
         },
         "zerolinecolor": "#E1E5ED"
        },
        "yaxis8": {
         "anchor": "x8",
         "domain": [
          0.535,
          0.7325
         ],
         "gridcolor": "#E1E5ED",
         "showgrid": false,
         "tickfont": {
          "color": "#4D5663"
         },
         "title": {
          "font": {
           "color": "#4D5663"
          },
          "text": ""
         },
         "zerolinecolor": "#E1E5ED"
        },
        "yaxis9": {
         "anchor": "x9",
         "domain": [
          0.2675,
          0.465
         ],
         "gridcolor": "#E1E5ED",
         "showgrid": false,
         "tickfont": {
          "color": "#4D5663"
         },
         "title": {
          "font": {
           "color": "#4D5663"
          },
          "text": ""
         },
         "zerolinecolor": "#E1E5ED"
        }
       }
      },
      "text/html": [
       "<div>                            <div id=\"a90ffe10-65de-4feb-9085-499b3d8e778f\" class=\"plotly-graph-div\" style=\"height:525px; width:100%;\"></div>            <script type=\"text/javascript\">                require([\"plotly\"], function(Plotly) {                    window.PLOTLYENV=window.PLOTLYENV || {};\n",
       "                    window.PLOTLYENV.BASE_URL='https://plot.ly';                                    if (document.getElementById(\"a90ffe10-65de-4feb-9085-499b3d8e778f\")) {                    Plotly.newPlot(                        \"a90ffe10-65de-4feb-9085-499b3d8e778f\",                        [{\"histfunc\":\"count\",\"histnorm\":\"\",\"marker\":{\"color\":\"rgba(255, 153, 51, 1.0)\",\"line\":{\"color\":\"#4D5663\",\"width\":1.3}},\"name\":\"A\",\"nbinsx\":10,\"opacity\":0.8,\"orientation\":\"v\",\"type\":\"histogram\",\"x\":[-0.2476021517537956,0.11874398704528717,-1.5986470436970923,1.4523802703570448,1.6090995991476928,0.36229045933429543,0.08354651513332022,-0.3527933783544127,0.5176107966859301,-0.833819690766652,0.20565072543497975,1.9944702000830496,-0.35151191314525854,-0.826196054882016,0.9599029122425612,0.8735380178138376,-1.644708644572304,-1.7738813013900911,1.7275862931329586,1.2410803233237333,-0.47371612259000284,1.414213513123541,1.458493689936051,0.3272856232608136,0.3165687182176862,0.8414601116357942,-0.32475580337050364,1.0868940465653318,0.4745634553998436,-0.2734907459319492,1.7936403614043865,0.2702198507442268,0.23166334935090627,0.2149514489904918,-0.15239433999431595,-0.46485670290661824,0.1769888823174567,0.9251355276226852,-2.923639876842984,-1.0036342420862625,-1.5972731861258282,-0.5863668064009814,0.24330756172163637,1.0711554663396936,0.7912213795894234,0.8222629425793855,-0.07065589111053654,-0.6059385075201855,-1.2444487075452308,-0.2986809340328696,2.1470548990107736,-0.9581686455331494,-0.14557432693872532,-0.4416089409116146,0.9352295488236574,-1.0506573059035353,1.3879041094191515,-0.6297383736287204,1.2161526628947408,0.9380321876702106,-0.3186924706946208,-1.0451195297871672,0.8789782921221527,-1.0706299167541156,-0.6134943608834571,2.114366282469496,0.4804360014579106,-0.10967689810515825,1.1730100543660051,0.6680577732576941,-1.1540774070386632,-0.4851203250530739,-0.06824582550241688,-0.4860733169583027,-1.3724089125985697,0.12312942342868287,0.16293029773806567,1.2974841267330905,3.354031799722983,-1.5810817578094538,0.8052116693646469,1.7562243908207342,0.5228297709229516,-0.8617659959734791,0.0620426273685626,0.16012867729300984,0.09689851489854824,-0.1137666435097898,1.803702528945463,0.2660268294434981,0.21102177430662458,-0.12523484176846558,-1.3224865786008155,-0.23270849471023752,-1.3608262494607177,1.6803295754838412,-0.26619167545737504,-1.2418906810336272,0.6446602759776894,-0.9887246241264553],\"xaxis\":\"x\",\"yaxis\":\"y\"},{\"line\":{\"color\":\"rgba(0, 0, 0, 1.0)\",\"dash\":\"solid\",\"shape\":\"linear\",\"width\":1.3},\"marker\":{\"size\":2,\"symbol\":\"circle\"},\"mode\":\"markers\",\"name\":\"A\",\"text\":\"\",\"type\":\"scatter\",\"x\":[-0.06053671648461432,0.04451657973152728,0.5893539754284983,1.013668452200273,0.6847946382566875,0.20861092698642347,-0.3309414257884284,-0.5453515972945141,0.23076522077023776,-0.6403566961541314,-1.4889655573956504,0.9352129666595805,-0.8553217826158602,-0.5358471525131479,-0.7285079896694445,-0.19435999410793742,-0.021183660575883688,-1.27486421427924,-1.377441170107258,0.1920596120363645,-1.1360047658662333,-0.25162260549257154,-0.38292153172884064,1.5087553081937204,0.14799880515885433,0.605878255040937,1.6218346664911871,-0.6412077490099374,0.3542488866697352,-0.4607106765297617,1.2204733158298071,1.5290677262515437,-0.5325381867220287,0.6886302420714265,-1.4040226516881387,-2.163779233019157,-1.635161679442351,0.11429126376701604,1.5913115916653733,-0.7516875353912756,-1.1490181657991692,0.05209633163880171,-1.2505146014805508,0.945770812894874,0.44120913669486617,-1.4272575263523835,-0.058534388435669125,-0.33290524940555216,0.25397740217116543,1.2107495453696848,-1.3048536413809813,-0.07290573215858111,-0.935009414667022,0.31698859178976346,0.3035657889195938,-0.09726791999649201,-0.13309365569973972,-1.3660791616250785,-1.0000957432387825,-0.44418957211110716,-0.7186337755517709,1.102995878230977,0.020947744800001725,-0.5379484903254714,1.434265530651456,-0.005595426280574108,-2.0024045908564716,1.2079291512768016,0.15101539633938965,-0.9415917180574958,0.8902241018403784,-0.6581560875764221,-1.2673251228201592,1.2592403371088414,-0.2831780015730596,0.047762380357669894,0.8603279518544563,-0.7821657611800706,-0.08202755823879464,0.06094696276155334,-0.8603811991901833,-0.05999313775337979,-0.4134487343659485,-0.4420361210196551,1.964645409112964,0.7896408572825018,-0.3773497911703148,1.6692535284277301,-0.27550204963687014,0.41138019434472406,-1.0549370402879954,1.6736473264323468,-0.8808278394958889,0.4728475230153127,0.19446889154197278,0.2995578928563227,-0.3887601705363107,-1.031190785706398,-1.4446194412722257,0.5759700536209127],\"xaxis\":\"x2\",\"y\":[-0.2476021517537956,0.11874398704528717,-1.5986470436970923,1.4523802703570448,1.6090995991476928,0.36229045933429543,0.08354651513332022,-0.3527933783544127,0.5176107966859301,-0.833819690766652,0.20565072543497975,1.9944702000830496,-0.35151191314525854,-0.826196054882016,0.9599029122425612,0.8735380178138376,-1.644708644572304,-1.7738813013900911,1.7275862931329586,1.2410803233237333,-0.47371612259000284,1.414213513123541,1.458493689936051,0.3272856232608136,0.3165687182176862,0.8414601116357942,-0.32475580337050364,1.0868940465653318,0.4745634553998436,-0.2734907459319492,1.7936403614043865,0.2702198507442268,0.23166334935090627,0.2149514489904918,-0.15239433999431595,-0.46485670290661824,0.1769888823174567,0.9251355276226852,-2.923639876842984,-1.0036342420862625,-1.5972731861258282,-0.5863668064009814,0.24330756172163637,1.0711554663396936,0.7912213795894234,0.8222629425793855,-0.07065589111053654,-0.6059385075201855,-1.2444487075452308,-0.2986809340328696,2.1470548990107736,-0.9581686455331494,-0.14557432693872532,-0.4416089409116146,0.9352295488236574,-1.0506573059035353,1.3879041094191515,-0.6297383736287204,1.2161526628947408,0.9380321876702106,-0.3186924706946208,-1.0451195297871672,0.8789782921221527,-1.0706299167541156,-0.6134943608834571,2.114366282469496,0.4804360014579106,-0.10967689810515825,1.1730100543660051,0.6680577732576941,-1.1540774070386632,-0.4851203250530739,-0.06824582550241688,-0.4860733169583027,-1.3724089125985697,0.12312942342868287,0.16293029773806567,1.2974841267330905,3.354031799722983,-1.5810817578094538,0.8052116693646469,1.7562243908207342,0.5228297709229516,-0.8617659959734791,0.0620426273685626,0.16012867729300984,0.09689851489854824,-0.1137666435097898,1.803702528945463,0.2660268294434981,0.21102177430662458,-0.12523484176846558,-1.3224865786008155,-0.23270849471023752,-1.3608262494607177,1.6803295754838412,-0.26619167545737504,-1.2418906810336272,0.6446602759776894,-0.9887246241264553],\"yaxis\":\"y2\"},{\"line\":{\"color\":\"rgba(0, 0, 0, 1.0)\",\"dash\":\"solid\",\"shape\":\"linear\",\"width\":1.3},\"marker\":{\"size\":2,\"symbol\":\"circle\"},\"mode\":\"markers\",\"name\":\"A\",\"text\":\"\",\"type\":\"scatter\",\"x\":[-1.4138806139966658,0.9549943461350169,-2.0176025054120172,-0.3559458222091603,1.4153947552191721,0.12427455626105968,-1.3459787187103391,-0.19872516540106108,1.4088318088135734,0.9012366661206014,0.12167928602972863,0.6484887494471738,-0.24071830245211362,-0.3251708457434995,-0.07848163117310035,-0.5619681536095221,-0.4107090434792362,1.6335771937963104,-0.23108562854747383,-0.6253479656743208,-1.7470326746678497,0.1948171412052426,0.10667552470993999,1.168151845889162,0.9074924955855451,-0.05022155827796482,0.24599602330939935,-0.8162581224912675,-1.2964098715543981,0.46286889607730936,-0.10213511155337399,0.6309051597165397,-0.2362382902818193,0.4014181504403865,0.44327312805371816,-0.1506127376542421,-0.8237912696611064,0.9619847178419777,1.5613855884484278,0.7847649284788947,-0.715194383820001,-0.42188560666769154,0.7719771944709354,-0.42788322573565674,0.6295608422707876,-1.2316437164112453,-1.791586382047408,-1.4970537956291428,-1.3481044941034268,0.2915472094532004,-1.1924673961153276,1.5294697279384182,0.7329753983882141,-0.7346420338455535,1.5630204417323799,0.6027784429615578,-2.9091425536815265,-0.5221000792876885,0.22713425110466265,-0.7319197059378021,0.5163256584002801,1.053520675059922,0.27007681292676344,0.9686753400624246,1.5307581393786964,0.36737242145043647,0.025097599770220778,-0.8651713313226559,-0.341732622257134,-0.8520223476297429,1.850705214694412,-0.40433123147094446,-0.20770681737488159,1.4652245596672555,0.7022687371970578,0.9116339980456936,-0.4857214196763068,-0.6520074477878468,-0.5999681780513599,-0.15885427293055898,0.8499484258368485,-0.33877488292040364,0.24668022175070148,0.658460807810325,0.4801517632540298,0.5133810366740759,1.9219510343734911,-1.1183566698572092,-0.023438823060090475,-0.14588709366250815,-0.32697804678743025,-0.511923466545293,-0.45486558796788906,0.27615700635488605,-0.38189887714450116,1.7063174625892141,-0.11117157591083326,0.34677612795932183,1.0337762757857105,-1.8316147311422069],\"xaxis\":\"x3\",\"y\":[-0.2476021517537956,0.11874398704528717,-1.5986470436970923,1.4523802703570448,1.6090995991476928,0.36229045933429543,0.08354651513332022,-0.3527933783544127,0.5176107966859301,-0.833819690766652,0.20565072543497975,1.9944702000830496,-0.35151191314525854,-0.826196054882016,0.9599029122425612,0.8735380178138376,-1.644708644572304,-1.7738813013900911,1.7275862931329586,1.2410803233237333,-0.47371612259000284,1.414213513123541,1.458493689936051,0.3272856232608136,0.3165687182176862,0.8414601116357942,-0.32475580337050364,1.0868940465653318,0.4745634553998436,-0.2734907459319492,1.7936403614043865,0.2702198507442268,0.23166334935090627,0.2149514489904918,-0.15239433999431595,-0.46485670290661824,0.1769888823174567,0.9251355276226852,-2.923639876842984,-1.0036342420862625,-1.5972731861258282,-0.5863668064009814,0.24330756172163637,1.0711554663396936,0.7912213795894234,0.8222629425793855,-0.07065589111053654,-0.6059385075201855,-1.2444487075452308,-0.2986809340328696,2.1470548990107736,-0.9581686455331494,-0.14557432693872532,-0.4416089409116146,0.9352295488236574,-1.0506573059035353,1.3879041094191515,-0.6297383736287204,1.2161526628947408,0.9380321876702106,-0.3186924706946208,-1.0451195297871672,0.8789782921221527,-1.0706299167541156,-0.6134943608834571,2.114366282469496,0.4804360014579106,-0.10967689810515825,1.1730100543660051,0.6680577732576941,-1.1540774070386632,-0.4851203250530739,-0.06824582550241688,-0.4860733169583027,-1.3724089125985697,0.12312942342868287,0.16293029773806567,1.2974841267330905,3.354031799722983,-1.5810817578094538,0.8052116693646469,1.7562243908207342,0.5228297709229516,-0.8617659959734791,0.0620426273685626,0.16012867729300984,0.09689851489854824,-0.1137666435097898,1.803702528945463,0.2660268294434981,0.21102177430662458,-0.12523484176846558,-1.3224865786008155,-0.23270849471023752,-1.3608262494607177,1.6803295754838412,-0.26619167545737504,-1.2418906810336272,0.6446602759776894,-0.9887246241264553],\"yaxis\":\"y3\"},{\"line\":{\"color\":\"rgba(0, 0, 0, 1.0)\",\"dash\":\"solid\",\"shape\":\"linear\",\"width\":1.3},\"marker\":{\"size\":2,\"symbol\":\"circle\"},\"mode\":\"markers\",\"name\":\"A\",\"text\":\"\",\"type\":\"scatter\",\"x\":[1.138881092138941,-0.8296593820905608,0.4940921451158362,1.4715672397977364,-1.1419091404761212,1.1670925420126028,-0.05952213756143999,-1.158319754654261,0.9340886362131698,0.08241160566677205,0.09050486923742268,-1.2080822552658015,-0.8059511189425327,0.23788239068331304,1.8508318786619247,-0.9275488532782582,-0.32988735181079404,-1.5255692872092812,0.01878277333096518,-1.7713787539245063,-1.169235762418271,-0.815999795639666,0.5003979518170936,0.21348561130162266,-1.8583553991873798,0.9584079218881999,-0.5923347203499466,-0.045701301432784204,1.1098349309061941,0.8108821831693277,1.2154286931093448,0.03534702668436145,0.982009445768607,0.6759622934673243,0.22793134842256393,0.5831497418958888,0.06440530013979788,-1.1015572556487958,-0.16365703680670007,1.2443518938853981,-0.30962832264924545,0.7337650029403703,0.37294149848351654,0.7960603041860554,0.49111515978717424,1.4093434653694459,0.24287036417708793,-1.5780263611682788,0.9252914445025481,1.962942289472823,-1.2424538815207948,0.6723340741862069,0.06742064638790596,-0.4686920066301773,-0.607956503575207,-0.9653818756804581,0.46450454370099953,0.05881620360562117,0.6772238445570063,-0.9033915215986897,1.0881282290657555,0.4359323184477213,0.7684410076854367,0.5005996452296388,0.7829515481772608,-0.026796813723469173,2.599386526232613,-0.14386967015853985,-1.5217198040434086,0.3114719797777141,-0.03544583751025676,-2.4348449244449637,0.9652715215395948,-0.7673168292664782,-1.8925580816941423,-0.7214493207694863,-0.4584329458861844,-0.29876105590390634,-0.4010748723773588,-0.9483449778577722,0.8200748964441905,0.3649981882074061,0.9303510634711705,-0.9063628584109353,0.32270295677364835,-1.3960046389806826,-1.6645024132499688,1.681129748878899,-0.35702788945906266,-0.9513402967568699,-1.4173177890827713,-1.363812590380575,0.8018862131924073,-1.0659923334724297,-1.7347035079139594,1.7247117586400194,-0.5534645932630475,-0.05269082880831947,0.013439662055486223,1.1457671048038869],\"xaxis\":\"x4\",\"y\":[-0.2476021517537956,0.11874398704528717,-1.5986470436970923,1.4523802703570448,1.6090995991476928,0.36229045933429543,0.08354651513332022,-0.3527933783544127,0.5176107966859301,-0.833819690766652,0.20565072543497975,1.9944702000830496,-0.35151191314525854,-0.826196054882016,0.9599029122425612,0.8735380178138376,-1.644708644572304,-1.7738813013900911,1.7275862931329586,1.2410803233237333,-0.47371612259000284,1.414213513123541,1.458493689936051,0.3272856232608136,0.3165687182176862,0.8414601116357942,-0.32475580337050364,1.0868940465653318,0.4745634553998436,-0.2734907459319492,1.7936403614043865,0.2702198507442268,0.23166334935090627,0.2149514489904918,-0.15239433999431595,-0.46485670290661824,0.1769888823174567,0.9251355276226852,-2.923639876842984,-1.0036342420862625,-1.5972731861258282,-0.5863668064009814,0.24330756172163637,1.0711554663396936,0.7912213795894234,0.8222629425793855,-0.07065589111053654,-0.6059385075201855,-1.2444487075452308,-0.2986809340328696,2.1470548990107736,-0.9581686455331494,-0.14557432693872532,-0.4416089409116146,0.9352295488236574,-1.0506573059035353,1.3879041094191515,-0.6297383736287204,1.2161526628947408,0.9380321876702106,-0.3186924706946208,-1.0451195297871672,0.8789782921221527,-1.0706299167541156,-0.6134943608834571,2.114366282469496,0.4804360014579106,-0.10967689810515825,1.1730100543660051,0.6680577732576941,-1.1540774070386632,-0.4851203250530739,-0.06824582550241688,-0.4860733169583027,-1.3724089125985697,0.12312942342868287,0.16293029773806567,1.2974841267330905,3.354031799722983,-1.5810817578094538,0.8052116693646469,1.7562243908207342,0.5228297709229516,-0.8617659959734791,0.0620426273685626,0.16012867729300984,0.09689851489854824,-0.1137666435097898,1.803702528945463,0.2660268294434981,0.21102177430662458,-0.12523484176846558,-1.3224865786008155,-0.23270849471023752,-1.3608262494607177,1.6803295754838412,-0.26619167545737504,-1.2418906810336272,0.6446602759776894,-0.9887246241264553],\"yaxis\":\"y4\"},{\"line\":{\"color\":\"rgba(0, 0, 0, 1.0)\",\"dash\":\"solid\",\"shape\":\"linear\",\"width\":1.3},\"marker\":{\"size\":2,\"symbol\":\"circle\"},\"mode\":\"markers\",\"name\":\"B\",\"text\":\"\",\"type\":\"scatter\",\"x\":[-0.2476021517537956,0.11874398704528717,-1.5986470436970923,1.4523802703570448,1.6090995991476928,0.36229045933429543,0.08354651513332022,-0.3527933783544127,0.5176107966859301,-0.833819690766652,0.20565072543497975,1.9944702000830496,-0.35151191314525854,-0.826196054882016,0.9599029122425612,0.8735380178138376,-1.644708644572304,-1.7738813013900911,1.7275862931329586,1.2410803233237333,-0.47371612259000284,1.414213513123541,1.458493689936051,0.3272856232608136,0.3165687182176862,0.8414601116357942,-0.32475580337050364,1.0868940465653318,0.4745634553998436,-0.2734907459319492,1.7936403614043865,0.2702198507442268,0.23166334935090627,0.2149514489904918,-0.15239433999431595,-0.46485670290661824,0.1769888823174567,0.9251355276226852,-2.923639876842984,-1.0036342420862625,-1.5972731861258282,-0.5863668064009814,0.24330756172163637,1.0711554663396936,0.7912213795894234,0.8222629425793855,-0.07065589111053654,-0.6059385075201855,-1.2444487075452308,-0.2986809340328696,2.1470548990107736,-0.9581686455331494,-0.14557432693872532,-0.4416089409116146,0.9352295488236574,-1.0506573059035353,1.3879041094191515,-0.6297383736287204,1.2161526628947408,0.9380321876702106,-0.3186924706946208,-1.0451195297871672,0.8789782921221527,-1.0706299167541156,-0.6134943608834571,2.114366282469496,0.4804360014579106,-0.10967689810515825,1.1730100543660051,0.6680577732576941,-1.1540774070386632,-0.4851203250530739,-0.06824582550241688,-0.4860733169583027,-1.3724089125985697,0.12312942342868287,0.16293029773806567,1.2974841267330905,3.354031799722983,-1.5810817578094538,0.8052116693646469,1.7562243908207342,0.5228297709229516,-0.8617659959734791,0.0620426273685626,0.16012867729300984,0.09689851489854824,-0.1137666435097898,1.803702528945463,0.2660268294434981,0.21102177430662458,-0.12523484176846558,-1.3224865786008155,-0.23270849471023752,-1.3608262494607177,1.6803295754838412,-0.26619167545737504,-1.2418906810336272,0.6446602759776894,-0.9887246241264553],\"xaxis\":\"x5\",\"y\":[-0.06053671648461432,0.04451657973152728,0.5893539754284983,1.013668452200273,0.6847946382566875,0.20861092698642347,-0.3309414257884284,-0.5453515972945141,0.23076522077023776,-0.6403566961541314,-1.4889655573956504,0.9352129666595805,-0.8553217826158602,-0.5358471525131479,-0.7285079896694445,-0.19435999410793742,-0.021183660575883688,-1.27486421427924,-1.377441170107258,0.1920596120363645,-1.1360047658662333,-0.25162260549257154,-0.38292153172884064,1.5087553081937204,0.14799880515885433,0.605878255040937,1.6218346664911871,-0.6412077490099374,0.3542488866697352,-0.4607106765297617,1.2204733158298071,1.5290677262515437,-0.5325381867220287,0.6886302420714265,-1.4040226516881387,-2.163779233019157,-1.635161679442351,0.11429126376701604,1.5913115916653733,-0.7516875353912756,-1.1490181657991692,0.05209633163880171,-1.2505146014805508,0.945770812894874,0.44120913669486617,-1.4272575263523835,-0.058534388435669125,-0.33290524940555216,0.25397740217116543,1.2107495453696848,-1.3048536413809813,-0.07290573215858111,-0.935009414667022,0.31698859178976346,0.3035657889195938,-0.09726791999649201,-0.13309365569973972,-1.3660791616250785,-1.0000957432387825,-0.44418957211110716,-0.7186337755517709,1.102995878230977,0.020947744800001725,-0.5379484903254714,1.434265530651456,-0.005595426280574108,-2.0024045908564716,1.2079291512768016,0.15101539633938965,-0.9415917180574958,0.8902241018403784,-0.6581560875764221,-1.2673251228201592,1.2592403371088414,-0.2831780015730596,0.047762380357669894,0.8603279518544563,-0.7821657611800706,-0.08202755823879464,0.06094696276155334,-0.8603811991901833,-0.05999313775337979,-0.4134487343659485,-0.4420361210196551,1.964645409112964,0.7896408572825018,-0.3773497911703148,1.6692535284277301,-0.27550204963687014,0.41138019434472406,-1.0549370402879954,1.6736473264323468,-0.8808278394958889,0.4728475230153127,0.19446889154197278,0.2995578928563227,-0.3887601705363107,-1.031190785706398,-1.4446194412722257,0.5759700536209127],\"yaxis\":\"y5\"},{\"histfunc\":\"count\",\"histnorm\":\"\",\"marker\":{\"color\":\"rgba(55, 128, 191, 1.0)\",\"line\":{\"color\":\"#4D5663\",\"width\":1.3}},\"name\":\"B\",\"nbinsx\":10,\"opacity\":0.8,\"orientation\":\"v\",\"type\":\"histogram\",\"x\":[-0.06053671648461432,0.04451657973152728,0.5893539754284983,1.013668452200273,0.6847946382566875,0.20861092698642347,-0.3309414257884284,-0.5453515972945141,0.23076522077023776,-0.6403566961541314,-1.4889655573956504,0.9352129666595805,-0.8553217826158602,-0.5358471525131479,-0.7285079896694445,-0.19435999410793742,-0.021183660575883688,-1.27486421427924,-1.377441170107258,0.1920596120363645,-1.1360047658662333,-0.25162260549257154,-0.38292153172884064,1.5087553081937204,0.14799880515885433,0.605878255040937,1.6218346664911871,-0.6412077490099374,0.3542488866697352,-0.4607106765297617,1.2204733158298071,1.5290677262515437,-0.5325381867220287,0.6886302420714265,-1.4040226516881387,-2.163779233019157,-1.635161679442351,0.11429126376701604,1.5913115916653733,-0.7516875353912756,-1.1490181657991692,0.05209633163880171,-1.2505146014805508,0.945770812894874,0.44120913669486617,-1.4272575263523835,-0.058534388435669125,-0.33290524940555216,0.25397740217116543,1.2107495453696848,-1.3048536413809813,-0.07290573215858111,-0.935009414667022,0.31698859178976346,0.3035657889195938,-0.09726791999649201,-0.13309365569973972,-1.3660791616250785,-1.0000957432387825,-0.44418957211110716,-0.7186337755517709,1.102995878230977,0.020947744800001725,-0.5379484903254714,1.434265530651456,-0.005595426280574108,-2.0024045908564716,1.2079291512768016,0.15101539633938965,-0.9415917180574958,0.8902241018403784,-0.6581560875764221,-1.2673251228201592,1.2592403371088414,-0.2831780015730596,0.047762380357669894,0.8603279518544563,-0.7821657611800706,-0.08202755823879464,0.06094696276155334,-0.8603811991901833,-0.05999313775337979,-0.4134487343659485,-0.4420361210196551,1.964645409112964,0.7896408572825018,-0.3773497911703148,1.6692535284277301,-0.27550204963687014,0.41138019434472406,-1.0549370402879954,1.6736473264323468,-0.8808278394958889,0.4728475230153127,0.19446889154197278,0.2995578928563227,-0.3887601705363107,-1.031190785706398,-1.4446194412722257,0.5759700536209127],\"xaxis\":\"x6\",\"yaxis\":\"y6\"},{\"line\":{\"color\":\"rgba(0, 0, 0, 1.0)\",\"dash\":\"solid\",\"shape\":\"linear\",\"width\":1.3},\"marker\":{\"size\":2,\"symbol\":\"circle\"},\"mode\":\"markers\",\"name\":\"B\",\"text\":\"\",\"type\":\"scatter\",\"x\":[-1.4138806139966658,0.9549943461350169,-2.0176025054120172,-0.3559458222091603,1.4153947552191721,0.12427455626105968,-1.3459787187103391,-0.19872516540106108,1.4088318088135734,0.9012366661206014,0.12167928602972863,0.6484887494471738,-0.24071830245211362,-0.3251708457434995,-0.07848163117310035,-0.5619681536095221,-0.4107090434792362,1.6335771937963104,-0.23108562854747383,-0.6253479656743208,-1.7470326746678497,0.1948171412052426,0.10667552470993999,1.168151845889162,0.9074924955855451,-0.05022155827796482,0.24599602330939935,-0.8162581224912675,-1.2964098715543981,0.46286889607730936,-0.10213511155337399,0.6309051597165397,-0.2362382902818193,0.4014181504403865,0.44327312805371816,-0.1506127376542421,-0.8237912696611064,0.9619847178419777,1.5613855884484278,0.7847649284788947,-0.715194383820001,-0.42188560666769154,0.7719771944709354,-0.42788322573565674,0.6295608422707876,-1.2316437164112453,-1.791586382047408,-1.4970537956291428,-1.3481044941034268,0.2915472094532004,-1.1924673961153276,1.5294697279384182,0.7329753983882141,-0.7346420338455535,1.5630204417323799,0.6027784429615578,-2.9091425536815265,-0.5221000792876885,0.22713425110466265,-0.7319197059378021,0.5163256584002801,1.053520675059922,0.27007681292676344,0.9686753400624246,1.5307581393786964,0.36737242145043647,0.025097599770220778,-0.8651713313226559,-0.341732622257134,-0.8520223476297429,1.850705214694412,-0.40433123147094446,-0.20770681737488159,1.4652245596672555,0.7022687371970578,0.9116339980456936,-0.4857214196763068,-0.6520074477878468,-0.5999681780513599,-0.15885427293055898,0.8499484258368485,-0.33877488292040364,0.24668022175070148,0.658460807810325,0.4801517632540298,0.5133810366740759,1.9219510343734911,-1.1183566698572092,-0.023438823060090475,-0.14588709366250815,-0.32697804678743025,-0.511923466545293,-0.45486558796788906,0.27615700635488605,-0.38189887714450116,1.7063174625892141,-0.11117157591083326,0.34677612795932183,1.0337762757857105,-1.8316147311422069],\"xaxis\":\"x7\",\"y\":[-0.06053671648461432,0.04451657973152728,0.5893539754284983,1.013668452200273,0.6847946382566875,0.20861092698642347,-0.3309414257884284,-0.5453515972945141,0.23076522077023776,-0.6403566961541314,-1.4889655573956504,0.9352129666595805,-0.8553217826158602,-0.5358471525131479,-0.7285079896694445,-0.19435999410793742,-0.021183660575883688,-1.27486421427924,-1.377441170107258,0.1920596120363645,-1.1360047658662333,-0.25162260549257154,-0.38292153172884064,1.5087553081937204,0.14799880515885433,0.605878255040937,1.6218346664911871,-0.6412077490099374,0.3542488866697352,-0.4607106765297617,1.2204733158298071,1.5290677262515437,-0.5325381867220287,0.6886302420714265,-1.4040226516881387,-2.163779233019157,-1.635161679442351,0.11429126376701604,1.5913115916653733,-0.7516875353912756,-1.1490181657991692,0.05209633163880171,-1.2505146014805508,0.945770812894874,0.44120913669486617,-1.4272575263523835,-0.058534388435669125,-0.33290524940555216,0.25397740217116543,1.2107495453696848,-1.3048536413809813,-0.07290573215858111,-0.935009414667022,0.31698859178976346,0.3035657889195938,-0.09726791999649201,-0.13309365569973972,-1.3660791616250785,-1.0000957432387825,-0.44418957211110716,-0.7186337755517709,1.102995878230977,0.020947744800001725,-0.5379484903254714,1.434265530651456,-0.005595426280574108,-2.0024045908564716,1.2079291512768016,0.15101539633938965,-0.9415917180574958,0.8902241018403784,-0.6581560875764221,-1.2673251228201592,1.2592403371088414,-0.2831780015730596,0.047762380357669894,0.8603279518544563,-0.7821657611800706,-0.08202755823879464,0.06094696276155334,-0.8603811991901833,-0.05999313775337979,-0.4134487343659485,-0.4420361210196551,1.964645409112964,0.7896408572825018,-0.3773497911703148,1.6692535284277301,-0.27550204963687014,0.41138019434472406,-1.0549370402879954,1.6736473264323468,-0.8808278394958889,0.4728475230153127,0.19446889154197278,0.2995578928563227,-0.3887601705363107,-1.031190785706398,-1.4446194412722257,0.5759700536209127],\"yaxis\":\"y7\"},{\"line\":{\"color\":\"rgba(0, 0, 0, 1.0)\",\"dash\":\"solid\",\"shape\":\"linear\",\"width\":1.3},\"marker\":{\"size\":2,\"symbol\":\"circle\"},\"mode\":\"markers\",\"name\":\"B\",\"text\":\"\",\"type\":\"scatter\",\"x\":[1.138881092138941,-0.8296593820905608,0.4940921451158362,1.4715672397977364,-1.1419091404761212,1.1670925420126028,-0.05952213756143999,-1.158319754654261,0.9340886362131698,0.08241160566677205,0.09050486923742268,-1.2080822552658015,-0.8059511189425327,0.23788239068331304,1.8508318786619247,-0.9275488532782582,-0.32988735181079404,-1.5255692872092812,0.01878277333096518,-1.7713787539245063,-1.169235762418271,-0.815999795639666,0.5003979518170936,0.21348561130162266,-1.8583553991873798,0.9584079218881999,-0.5923347203499466,-0.045701301432784204,1.1098349309061941,0.8108821831693277,1.2154286931093448,0.03534702668436145,0.982009445768607,0.6759622934673243,0.22793134842256393,0.5831497418958888,0.06440530013979788,-1.1015572556487958,-0.16365703680670007,1.2443518938853981,-0.30962832264924545,0.7337650029403703,0.37294149848351654,0.7960603041860554,0.49111515978717424,1.4093434653694459,0.24287036417708793,-1.5780263611682788,0.9252914445025481,1.962942289472823,-1.2424538815207948,0.6723340741862069,0.06742064638790596,-0.4686920066301773,-0.607956503575207,-0.9653818756804581,0.46450454370099953,0.05881620360562117,0.6772238445570063,-0.9033915215986897,1.0881282290657555,0.4359323184477213,0.7684410076854367,0.5005996452296388,0.7829515481772608,-0.026796813723469173,2.599386526232613,-0.14386967015853985,-1.5217198040434086,0.3114719797777141,-0.03544583751025676,-2.4348449244449637,0.9652715215395948,-0.7673168292664782,-1.8925580816941423,-0.7214493207694863,-0.4584329458861844,-0.29876105590390634,-0.4010748723773588,-0.9483449778577722,0.8200748964441905,0.3649981882074061,0.9303510634711705,-0.9063628584109353,0.32270295677364835,-1.3960046389806826,-1.6645024132499688,1.681129748878899,-0.35702788945906266,-0.9513402967568699,-1.4173177890827713,-1.363812590380575,0.8018862131924073,-1.0659923334724297,-1.7347035079139594,1.7247117586400194,-0.5534645932630475,-0.05269082880831947,0.013439662055486223,1.1457671048038869],\"xaxis\":\"x8\",\"y\":[-0.06053671648461432,0.04451657973152728,0.5893539754284983,1.013668452200273,0.6847946382566875,0.20861092698642347,-0.3309414257884284,-0.5453515972945141,0.23076522077023776,-0.6403566961541314,-1.4889655573956504,0.9352129666595805,-0.8553217826158602,-0.5358471525131479,-0.7285079896694445,-0.19435999410793742,-0.021183660575883688,-1.27486421427924,-1.377441170107258,0.1920596120363645,-1.1360047658662333,-0.25162260549257154,-0.38292153172884064,1.5087553081937204,0.14799880515885433,0.605878255040937,1.6218346664911871,-0.6412077490099374,0.3542488866697352,-0.4607106765297617,1.2204733158298071,1.5290677262515437,-0.5325381867220287,0.6886302420714265,-1.4040226516881387,-2.163779233019157,-1.635161679442351,0.11429126376701604,1.5913115916653733,-0.7516875353912756,-1.1490181657991692,0.05209633163880171,-1.2505146014805508,0.945770812894874,0.44120913669486617,-1.4272575263523835,-0.058534388435669125,-0.33290524940555216,0.25397740217116543,1.2107495453696848,-1.3048536413809813,-0.07290573215858111,-0.935009414667022,0.31698859178976346,0.3035657889195938,-0.09726791999649201,-0.13309365569973972,-1.3660791616250785,-1.0000957432387825,-0.44418957211110716,-0.7186337755517709,1.102995878230977,0.020947744800001725,-0.5379484903254714,1.434265530651456,-0.005595426280574108,-2.0024045908564716,1.2079291512768016,0.15101539633938965,-0.9415917180574958,0.8902241018403784,-0.6581560875764221,-1.2673251228201592,1.2592403371088414,-0.2831780015730596,0.047762380357669894,0.8603279518544563,-0.7821657611800706,-0.08202755823879464,0.06094696276155334,-0.8603811991901833,-0.05999313775337979,-0.4134487343659485,-0.4420361210196551,1.964645409112964,0.7896408572825018,-0.3773497911703148,1.6692535284277301,-0.27550204963687014,0.41138019434472406,-1.0549370402879954,1.6736473264323468,-0.8808278394958889,0.4728475230153127,0.19446889154197278,0.2995578928563227,-0.3887601705363107,-1.031190785706398,-1.4446194412722257,0.5759700536209127],\"yaxis\":\"y8\"},{\"line\":{\"color\":\"rgba(0, 0, 0, 1.0)\",\"dash\":\"solid\",\"shape\":\"linear\",\"width\":1.3},\"marker\":{\"size\":2,\"symbol\":\"circle\"},\"mode\":\"markers\",\"name\":\"C\",\"text\":\"\",\"type\":\"scatter\",\"x\":[-0.2476021517537956,0.11874398704528717,-1.5986470436970923,1.4523802703570448,1.6090995991476928,0.36229045933429543,0.08354651513332022,-0.3527933783544127,0.5176107966859301,-0.833819690766652,0.20565072543497975,1.9944702000830496,-0.35151191314525854,-0.826196054882016,0.9599029122425612,0.8735380178138376,-1.644708644572304,-1.7738813013900911,1.7275862931329586,1.2410803233237333,-0.47371612259000284,1.414213513123541,1.458493689936051,0.3272856232608136,0.3165687182176862,0.8414601116357942,-0.32475580337050364,1.0868940465653318,0.4745634553998436,-0.2734907459319492,1.7936403614043865,0.2702198507442268,0.23166334935090627,0.2149514489904918,-0.15239433999431595,-0.46485670290661824,0.1769888823174567,0.9251355276226852,-2.923639876842984,-1.0036342420862625,-1.5972731861258282,-0.5863668064009814,0.24330756172163637,1.0711554663396936,0.7912213795894234,0.8222629425793855,-0.07065589111053654,-0.6059385075201855,-1.2444487075452308,-0.2986809340328696,2.1470548990107736,-0.9581686455331494,-0.14557432693872532,-0.4416089409116146,0.9352295488236574,-1.0506573059035353,1.3879041094191515,-0.6297383736287204,1.2161526628947408,0.9380321876702106,-0.3186924706946208,-1.0451195297871672,0.8789782921221527,-1.0706299167541156,-0.6134943608834571,2.114366282469496,0.4804360014579106,-0.10967689810515825,1.1730100543660051,0.6680577732576941,-1.1540774070386632,-0.4851203250530739,-0.06824582550241688,-0.4860733169583027,-1.3724089125985697,0.12312942342868287,0.16293029773806567,1.2974841267330905,3.354031799722983,-1.5810817578094538,0.8052116693646469,1.7562243908207342,0.5228297709229516,-0.8617659959734791,0.0620426273685626,0.16012867729300984,0.09689851489854824,-0.1137666435097898,1.803702528945463,0.2660268294434981,0.21102177430662458,-0.12523484176846558,-1.3224865786008155,-0.23270849471023752,-1.3608262494607177,1.6803295754838412,-0.26619167545737504,-1.2418906810336272,0.6446602759776894,-0.9887246241264553],\"xaxis\":\"x9\",\"y\":[-1.4138806139966658,0.9549943461350169,-2.0176025054120172,-0.3559458222091603,1.4153947552191721,0.12427455626105968,-1.3459787187103391,-0.19872516540106108,1.4088318088135734,0.9012366661206014,0.12167928602972863,0.6484887494471738,-0.24071830245211362,-0.3251708457434995,-0.07848163117310035,-0.5619681536095221,-0.4107090434792362,1.6335771937963104,-0.23108562854747383,-0.6253479656743208,-1.7470326746678497,0.1948171412052426,0.10667552470993999,1.168151845889162,0.9074924955855451,-0.05022155827796482,0.24599602330939935,-0.8162581224912675,-1.2964098715543981,0.46286889607730936,-0.10213511155337399,0.6309051597165397,-0.2362382902818193,0.4014181504403865,0.44327312805371816,-0.1506127376542421,-0.8237912696611064,0.9619847178419777,1.5613855884484278,0.7847649284788947,-0.715194383820001,-0.42188560666769154,0.7719771944709354,-0.42788322573565674,0.6295608422707876,-1.2316437164112453,-1.791586382047408,-1.4970537956291428,-1.3481044941034268,0.2915472094532004,-1.1924673961153276,1.5294697279384182,0.7329753983882141,-0.7346420338455535,1.5630204417323799,0.6027784429615578,-2.9091425536815265,-0.5221000792876885,0.22713425110466265,-0.7319197059378021,0.5163256584002801,1.053520675059922,0.27007681292676344,0.9686753400624246,1.5307581393786964,0.36737242145043647,0.025097599770220778,-0.8651713313226559,-0.341732622257134,-0.8520223476297429,1.850705214694412,-0.40433123147094446,-0.20770681737488159,1.4652245596672555,0.7022687371970578,0.9116339980456936,-0.4857214196763068,-0.6520074477878468,-0.5999681780513599,-0.15885427293055898,0.8499484258368485,-0.33877488292040364,0.24668022175070148,0.658460807810325,0.4801517632540298,0.5133810366740759,1.9219510343734911,-1.1183566698572092,-0.023438823060090475,-0.14588709366250815,-0.32697804678743025,-0.511923466545293,-0.45486558796788906,0.27615700635488605,-0.38189887714450116,1.7063174625892141,-0.11117157591083326,0.34677612795932183,1.0337762757857105,-1.8316147311422069],\"yaxis\":\"y9\"},{\"line\":{\"color\":\"rgba(0, 0, 0, 1.0)\",\"dash\":\"solid\",\"shape\":\"linear\",\"width\":1.3},\"marker\":{\"size\":2,\"symbol\":\"circle\"},\"mode\":\"markers\",\"name\":\"C\",\"text\":\"\",\"type\":\"scatter\",\"x\":[-0.06053671648461432,0.04451657973152728,0.5893539754284983,1.013668452200273,0.6847946382566875,0.20861092698642347,-0.3309414257884284,-0.5453515972945141,0.23076522077023776,-0.6403566961541314,-1.4889655573956504,0.9352129666595805,-0.8553217826158602,-0.5358471525131479,-0.7285079896694445,-0.19435999410793742,-0.021183660575883688,-1.27486421427924,-1.377441170107258,0.1920596120363645,-1.1360047658662333,-0.25162260549257154,-0.38292153172884064,1.5087553081937204,0.14799880515885433,0.605878255040937,1.6218346664911871,-0.6412077490099374,0.3542488866697352,-0.4607106765297617,1.2204733158298071,1.5290677262515437,-0.5325381867220287,0.6886302420714265,-1.4040226516881387,-2.163779233019157,-1.635161679442351,0.11429126376701604,1.5913115916653733,-0.7516875353912756,-1.1490181657991692,0.05209633163880171,-1.2505146014805508,0.945770812894874,0.44120913669486617,-1.4272575263523835,-0.058534388435669125,-0.33290524940555216,0.25397740217116543,1.2107495453696848,-1.3048536413809813,-0.07290573215858111,-0.935009414667022,0.31698859178976346,0.3035657889195938,-0.09726791999649201,-0.13309365569973972,-1.3660791616250785,-1.0000957432387825,-0.44418957211110716,-0.7186337755517709,1.102995878230977,0.020947744800001725,-0.5379484903254714,1.434265530651456,-0.005595426280574108,-2.0024045908564716,1.2079291512768016,0.15101539633938965,-0.9415917180574958,0.8902241018403784,-0.6581560875764221,-1.2673251228201592,1.2592403371088414,-0.2831780015730596,0.047762380357669894,0.8603279518544563,-0.7821657611800706,-0.08202755823879464,0.06094696276155334,-0.8603811991901833,-0.05999313775337979,-0.4134487343659485,-0.4420361210196551,1.964645409112964,0.7896408572825018,-0.3773497911703148,1.6692535284277301,-0.27550204963687014,0.41138019434472406,-1.0549370402879954,1.6736473264323468,-0.8808278394958889,0.4728475230153127,0.19446889154197278,0.2995578928563227,-0.3887601705363107,-1.031190785706398,-1.4446194412722257,0.5759700536209127],\"xaxis\":\"x10\",\"y\":[-1.4138806139966658,0.9549943461350169,-2.0176025054120172,-0.3559458222091603,1.4153947552191721,0.12427455626105968,-1.3459787187103391,-0.19872516540106108,1.4088318088135734,0.9012366661206014,0.12167928602972863,0.6484887494471738,-0.24071830245211362,-0.3251708457434995,-0.07848163117310035,-0.5619681536095221,-0.4107090434792362,1.6335771937963104,-0.23108562854747383,-0.6253479656743208,-1.7470326746678497,0.1948171412052426,0.10667552470993999,1.168151845889162,0.9074924955855451,-0.05022155827796482,0.24599602330939935,-0.8162581224912675,-1.2964098715543981,0.46286889607730936,-0.10213511155337399,0.6309051597165397,-0.2362382902818193,0.4014181504403865,0.44327312805371816,-0.1506127376542421,-0.8237912696611064,0.9619847178419777,1.5613855884484278,0.7847649284788947,-0.715194383820001,-0.42188560666769154,0.7719771944709354,-0.42788322573565674,0.6295608422707876,-1.2316437164112453,-1.791586382047408,-1.4970537956291428,-1.3481044941034268,0.2915472094532004,-1.1924673961153276,1.5294697279384182,0.7329753983882141,-0.7346420338455535,1.5630204417323799,0.6027784429615578,-2.9091425536815265,-0.5221000792876885,0.22713425110466265,-0.7319197059378021,0.5163256584002801,1.053520675059922,0.27007681292676344,0.9686753400624246,1.5307581393786964,0.36737242145043647,0.025097599770220778,-0.8651713313226559,-0.341732622257134,-0.8520223476297429,1.850705214694412,-0.40433123147094446,-0.20770681737488159,1.4652245596672555,0.7022687371970578,0.9116339980456936,-0.4857214196763068,-0.6520074477878468,-0.5999681780513599,-0.15885427293055898,0.8499484258368485,-0.33877488292040364,0.24668022175070148,0.658460807810325,0.4801517632540298,0.5133810366740759,1.9219510343734911,-1.1183566698572092,-0.023438823060090475,-0.14588709366250815,-0.32697804678743025,-0.511923466545293,-0.45486558796788906,0.27615700635488605,-0.38189887714450116,1.7063174625892141,-0.11117157591083326,0.34677612795932183,1.0337762757857105,-1.8316147311422069],\"yaxis\":\"y10\"},{\"histfunc\":\"count\",\"histnorm\":\"\",\"marker\":{\"color\":\"rgba(50, 171, 96, 1.0)\",\"line\":{\"color\":\"#4D5663\",\"width\":1.3}},\"name\":\"C\",\"nbinsx\":10,\"opacity\":0.8,\"orientation\":\"v\",\"type\":\"histogram\",\"x\":[-1.4138806139966658,0.9549943461350169,-2.0176025054120172,-0.3559458222091603,1.4153947552191721,0.12427455626105968,-1.3459787187103391,-0.19872516540106108,1.4088318088135734,0.9012366661206014,0.12167928602972863,0.6484887494471738,-0.24071830245211362,-0.3251708457434995,-0.07848163117310035,-0.5619681536095221,-0.4107090434792362,1.6335771937963104,-0.23108562854747383,-0.6253479656743208,-1.7470326746678497,0.1948171412052426,0.10667552470993999,1.168151845889162,0.9074924955855451,-0.05022155827796482,0.24599602330939935,-0.8162581224912675,-1.2964098715543981,0.46286889607730936,-0.10213511155337399,0.6309051597165397,-0.2362382902818193,0.4014181504403865,0.44327312805371816,-0.1506127376542421,-0.8237912696611064,0.9619847178419777,1.5613855884484278,0.7847649284788947,-0.715194383820001,-0.42188560666769154,0.7719771944709354,-0.42788322573565674,0.6295608422707876,-1.2316437164112453,-1.791586382047408,-1.4970537956291428,-1.3481044941034268,0.2915472094532004,-1.1924673961153276,1.5294697279384182,0.7329753983882141,-0.7346420338455535,1.5630204417323799,0.6027784429615578,-2.9091425536815265,-0.5221000792876885,0.22713425110466265,-0.7319197059378021,0.5163256584002801,1.053520675059922,0.27007681292676344,0.9686753400624246,1.5307581393786964,0.36737242145043647,0.025097599770220778,-0.8651713313226559,-0.341732622257134,-0.8520223476297429,1.850705214694412,-0.40433123147094446,-0.20770681737488159,1.4652245596672555,0.7022687371970578,0.9116339980456936,-0.4857214196763068,-0.6520074477878468,-0.5999681780513599,-0.15885427293055898,0.8499484258368485,-0.33877488292040364,0.24668022175070148,0.658460807810325,0.4801517632540298,0.5133810366740759,1.9219510343734911,-1.1183566698572092,-0.023438823060090475,-0.14588709366250815,-0.32697804678743025,-0.511923466545293,-0.45486558796788906,0.27615700635488605,-0.38189887714450116,1.7063174625892141,-0.11117157591083326,0.34677612795932183,1.0337762757857105,-1.8316147311422069],\"xaxis\":\"x11\",\"yaxis\":\"y11\"},{\"line\":{\"color\":\"rgba(0, 0, 0, 1.0)\",\"dash\":\"solid\",\"shape\":\"linear\",\"width\":1.3},\"marker\":{\"size\":2,\"symbol\":\"circle\"},\"mode\":\"markers\",\"name\":\"C\",\"text\":\"\",\"type\":\"scatter\",\"x\":[1.138881092138941,-0.8296593820905608,0.4940921451158362,1.4715672397977364,-1.1419091404761212,1.1670925420126028,-0.05952213756143999,-1.158319754654261,0.9340886362131698,0.08241160566677205,0.09050486923742268,-1.2080822552658015,-0.8059511189425327,0.23788239068331304,1.8508318786619247,-0.9275488532782582,-0.32988735181079404,-1.5255692872092812,0.01878277333096518,-1.7713787539245063,-1.169235762418271,-0.815999795639666,0.5003979518170936,0.21348561130162266,-1.8583553991873798,0.9584079218881999,-0.5923347203499466,-0.045701301432784204,1.1098349309061941,0.8108821831693277,1.2154286931093448,0.03534702668436145,0.982009445768607,0.6759622934673243,0.22793134842256393,0.5831497418958888,0.06440530013979788,-1.1015572556487958,-0.16365703680670007,1.2443518938853981,-0.30962832264924545,0.7337650029403703,0.37294149848351654,0.7960603041860554,0.49111515978717424,1.4093434653694459,0.24287036417708793,-1.5780263611682788,0.9252914445025481,1.962942289472823,-1.2424538815207948,0.6723340741862069,0.06742064638790596,-0.4686920066301773,-0.607956503575207,-0.9653818756804581,0.46450454370099953,0.05881620360562117,0.6772238445570063,-0.9033915215986897,1.0881282290657555,0.4359323184477213,0.7684410076854367,0.5005996452296388,0.7829515481772608,-0.026796813723469173,2.599386526232613,-0.14386967015853985,-1.5217198040434086,0.3114719797777141,-0.03544583751025676,-2.4348449244449637,0.9652715215395948,-0.7673168292664782,-1.8925580816941423,-0.7214493207694863,-0.4584329458861844,-0.29876105590390634,-0.4010748723773588,-0.9483449778577722,0.8200748964441905,0.3649981882074061,0.9303510634711705,-0.9063628584109353,0.32270295677364835,-1.3960046389806826,-1.6645024132499688,1.681129748878899,-0.35702788945906266,-0.9513402967568699,-1.4173177890827713,-1.363812590380575,0.8018862131924073,-1.0659923334724297,-1.7347035079139594,1.7247117586400194,-0.5534645932630475,-0.05269082880831947,0.013439662055486223,1.1457671048038869],\"xaxis\":\"x12\",\"y\":[-1.4138806139966658,0.9549943461350169,-2.0176025054120172,-0.3559458222091603,1.4153947552191721,0.12427455626105968,-1.3459787187103391,-0.19872516540106108,1.4088318088135734,0.9012366661206014,0.12167928602972863,0.6484887494471738,-0.24071830245211362,-0.3251708457434995,-0.07848163117310035,-0.5619681536095221,-0.4107090434792362,1.6335771937963104,-0.23108562854747383,-0.6253479656743208,-1.7470326746678497,0.1948171412052426,0.10667552470993999,1.168151845889162,0.9074924955855451,-0.05022155827796482,0.24599602330939935,-0.8162581224912675,-1.2964098715543981,0.46286889607730936,-0.10213511155337399,0.6309051597165397,-0.2362382902818193,0.4014181504403865,0.44327312805371816,-0.1506127376542421,-0.8237912696611064,0.9619847178419777,1.5613855884484278,0.7847649284788947,-0.715194383820001,-0.42188560666769154,0.7719771944709354,-0.42788322573565674,0.6295608422707876,-1.2316437164112453,-1.791586382047408,-1.4970537956291428,-1.3481044941034268,0.2915472094532004,-1.1924673961153276,1.5294697279384182,0.7329753983882141,-0.7346420338455535,1.5630204417323799,0.6027784429615578,-2.9091425536815265,-0.5221000792876885,0.22713425110466265,-0.7319197059378021,0.5163256584002801,1.053520675059922,0.27007681292676344,0.9686753400624246,1.5307581393786964,0.36737242145043647,0.025097599770220778,-0.8651713313226559,-0.341732622257134,-0.8520223476297429,1.850705214694412,-0.40433123147094446,-0.20770681737488159,1.4652245596672555,0.7022687371970578,0.9116339980456936,-0.4857214196763068,-0.6520074477878468,-0.5999681780513599,-0.15885427293055898,0.8499484258368485,-0.33877488292040364,0.24668022175070148,0.658460807810325,0.4801517632540298,0.5133810366740759,1.9219510343734911,-1.1183566698572092,-0.023438823060090475,-0.14588709366250815,-0.32697804678743025,-0.511923466545293,-0.45486558796788906,0.27615700635488605,-0.38189887714450116,1.7063174625892141,-0.11117157591083326,0.34677612795932183,1.0337762757857105,-1.8316147311422069],\"yaxis\":\"y12\"},{\"line\":{\"color\":\"rgba(0, 0, 0, 1.0)\",\"dash\":\"solid\",\"shape\":\"linear\",\"width\":1.3},\"marker\":{\"size\":2,\"symbol\":\"circle\"},\"mode\":\"markers\",\"name\":\"D\",\"text\":\"\",\"type\":\"scatter\",\"x\":[-0.2476021517537956,0.11874398704528717,-1.5986470436970923,1.4523802703570448,1.6090995991476928,0.36229045933429543,0.08354651513332022,-0.3527933783544127,0.5176107966859301,-0.833819690766652,0.20565072543497975,1.9944702000830496,-0.35151191314525854,-0.826196054882016,0.9599029122425612,0.8735380178138376,-1.644708644572304,-1.7738813013900911,1.7275862931329586,1.2410803233237333,-0.47371612259000284,1.414213513123541,1.458493689936051,0.3272856232608136,0.3165687182176862,0.8414601116357942,-0.32475580337050364,1.0868940465653318,0.4745634553998436,-0.2734907459319492,1.7936403614043865,0.2702198507442268,0.23166334935090627,0.2149514489904918,-0.15239433999431595,-0.46485670290661824,0.1769888823174567,0.9251355276226852,-2.923639876842984,-1.0036342420862625,-1.5972731861258282,-0.5863668064009814,0.24330756172163637,1.0711554663396936,0.7912213795894234,0.8222629425793855,-0.07065589111053654,-0.6059385075201855,-1.2444487075452308,-0.2986809340328696,2.1470548990107736,-0.9581686455331494,-0.14557432693872532,-0.4416089409116146,0.9352295488236574,-1.0506573059035353,1.3879041094191515,-0.6297383736287204,1.2161526628947408,0.9380321876702106,-0.3186924706946208,-1.0451195297871672,0.8789782921221527,-1.0706299167541156,-0.6134943608834571,2.114366282469496,0.4804360014579106,-0.10967689810515825,1.1730100543660051,0.6680577732576941,-1.1540774070386632,-0.4851203250530739,-0.06824582550241688,-0.4860733169583027,-1.3724089125985697,0.12312942342868287,0.16293029773806567,1.2974841267330905,3.354031799722983,-1.5810817578094538,0.8052116693646469,1.7562243908207342,0.5228297709229516,-0.8617659959734791,0.0620426273685626,0.16012867729300984,0.09689851489854824,-0.1137666435097898,1.803702528945463,0.2660268294434981,0.21102177430662458,-0.12523484176846558,-1.3224865786008155,-0.23270849471023752,-1.3608262494607177,1.6803295754838412,-0.26619167545737504,-1.2418906810336272,0.6446602759776894,-0.9887246241264553],\"xaxis\":\"x13\",\"y\":[1.138881092138941,-0.8296593820905608,0.4940921451158362,1.4715672397977364,-1.1419091404761212,1.1670925420126028,-0.05952213756143999,-1.158319754654261,0.9340886362131698,0.08241160566677205,0.09050486923742268,-1.2080822552658015,-0.8059511189425327,0.23788239068331304,1.8508318786619247,-0.9275488532782582,-0.32988735181079404,-1.5255692872092812,0.01878277333096518,-1.7713787539245063,-1.169235762418271,-0.815999795639666,0.5003979518170936,0.21348561130162266,-1.8583553991873798,0.9584079218881999,-0.5923347203499466,-0.045701301432784204,1.1098349309061941,0.8108821831693277,1.2154286931093448,0.03534702668436145,0.982009445768607,0.6759622934673243,0.22793134842256393,0.5831497418958888,0.06440530013979788,-1.1015572556487958,-0.16365703680670007,1.2443518938853981,-0.30962832264924545,0.7337650029403703,0.37294149848351654,0.7960603041860554,0.49111515978717424,1.4093434653694459,0.24287036417708793,-1.5780263611682788,0.9252914445025481,1.962942289472823,-1.2424538815207948,0.6723340741862069,0.06742064638790596,-0.4686920066301773,-0.607956503575207,-0.9653818756804581,0.46450454370099953,0.05881620360562117,0.6772238445570063,-0.9033915215986897,1.0881282290657555,0.4359323184477213,0.7684410076854367,0.5005996452296388,0.7829515481772608,-0.026796813723469173,2.599386526232613,-0.14386967015853985,-1.5217198040434086,0.3114719797777141,-0.03544583751025676,-2.4348449244449637,0.9652715215395948,-0.7673168292664782,-1.8925580816941423,-0.7214493207694863,-0.4584329458861844,-0.29876105590390634,-0.4010748723773588,-0.9483449778577722,0.8200748964441905,0.3649981882074061,0.9303510634711705,-0.9063628584109353,0.32270295677364835,-1.3960046389806826,-1.6645024132499688,1.681129748878899,-0.35702788945906266,-0.9513402967568699,-1.4173177890827713,-1.363812590380575,0.8018862131924073,-1.0659923334724297,-1.7347035079139594,1.7247117586400194,-0.5534645932630475,-0.05269082880831947,0.013439662055486223,1.1457671048038869],\"yaxis\":\"y13\"},{\"line\":{\"color\":\"rgba(0, 0, 0, 1.0)\",\"dash\":\"solid\",\"shape\":\"linear\",\"width\":1.3},\"marker\":{\"size\":2,\"symbol\":\"circle\"},\"mode\":\"markers\",\"name\":\"D\",\"text\":\"\",\"type\":\"scatter\",\"x\":[-0.06053671648461432,0.04451657973152728,0.5893539754284983,1.013668452200273,0.6847946382566875,0.20861092698642347,-0.3309414257884284,-0.5453515972945141,0.23076522077023776,-0.6403566961541314,-1.4889655573956504,0.9352129666595805,-0.8553217826158602,-0.5358471525131479,-0.7285079896694445,-0.19435999410793742,-0.021183660575883688,-1.27486421427924,-1.377441170107258,0.1920596120363645,-1.1360047658662333,-0.25162260549257154,-0.38292153172884064,1.5087553081937204,0.14799880515885433,0.605878255040937,1.6218346664911871,-0.6412077490099374,0.3542488866697352,-0.4607106765297617,1.2204733158298071,1.5290677262515437,-0.5325381867220287,0.6886302420714265,-1.4040226516881387,-2.163779233019157,-1.635161679442351,0.11429126376701604,1.5913115916653733,-0.7516875353912756,-1.1490181657991692,0.05209633163880171,-1.2505146014805508,0.945770812894874,0.44120913669486617,-1.4272575263523835,-0.058534388435669125,-0.33290524940555216,0.25397740217116543,1.2107495453696848,-1.3048536413809813,-0.07290573215858111,-0.935009414667022,0.31698859178976346,0.3035657889195938,-0.09726791999649201,-0.13309365569973972,-1.3660791616250785,-1.0000957432387825,-0.44418957211110716,-0.7186337755517709,1.102995878230977,0.020947744800001725,-0.5379484903254714,1.434265530651456,-0.005595426280574108,-2.0024045908564716,1.2079291512768016,0.15101539633938965,-0.9415917180574958,0.8902241018403784,-0.6581560875764221,-1.2673251228201592,1.2592403371088414,-0.2831780015730596,0.047762380357669894,0.8603279518544563,-0.7821657611800706,-0.08202755823879464,0.06094696276155334,-0.8603811991901833,-0.05999313775337979,-0.4134487343659485,-0.4420361210196551,1.964645409112964,0.7896408572825018,-0.3773497911703148,1.6692535284277301,-0.27550204963687014,0.41138019434472406,-1.0549370402879954,1.6736473264323468,-0.8808278394958889,0.4728475230153127,0.19446889154197278,0.2995578928563227,-0.3887601705363107,-1.031190785706398,-1.4446194412722257,0.5759700536209127],\"xaxis\":\"x14\",\"y\":[1.138881092138941,-0.8296593820905608,0.4940921451158362,1.4715672397977364,-1.1419091404761212,1.1670925420126028,-0.05952213756143999,-1.158319754654261,0.9340886362131698,0.08241160566677205,0.09050486923742268,-1.2080822552658015,-0.8059511189425327,0.23788239068331304,1.8508318786619247,-0.9275488532782582,-0.32988735181079404,-1.5255692872092812,0.01878277333096518,-1.7713787539245063,-1.169235762418271,-0.815999795639666,0.5003979518170936,0.21348561130162266,-1.8583553991873798,0.9584079218881999,-0.5923347203499466,-0.045701301432784204,1.1098349309061941,0.8108821831693277,1.2154286931093448,0.03534702668436145,0.982009445768607,0.6759622934673243,0.22793134842256393,0.5831497418958888,0.06440530013979788,-1.1015572556487958,-0.16365703680670007,1.2443518938853981,-0.30962832264924545,0.7337650029403703,0.37294149848351654,0.7960603041860554,0.49111515978717424,1.4093434653694459,0.24287036417708793,-1.5780263611682788,0.9252914445025481,1.962942289472823,-1.2424538815207948,0.6723340741862069,0.06742064638790596,-0.4686920066301773,-0.607956503575207,-0.9653818756804581,0.46450454370099953,0.05881620360562117,0.6772238445570063,-0.9033915215986897,1.0881282290657555,0.4359323184477213,0.7684410076854367,0.5005996452296388,0.7829515481772608,-0.026796813723469173,2.599386526232613,-0.14386967015853985,-1.5217198040434086,0.3114719797777141,-0.03544583751025676,-2.4348449244449637,0.9652715215395948,-0.7673168292664782,-1.8925580816941423,-0.7214493207694863,-0.4584329458861844,-0.29876105590390634,-0.4010748723773588,-0.9483449778577722,0.8200748964441905,0.3649981882074061,0.9303510634711705,-0.9063628584109353,0.32270295677364835,-1.3960046389806826,-1.6645024132499688,1.681129748878899,-0.35702788945906266,-0.9513402967568699,-1.4173177890827713,-1.363812590380575,0.8018862131924073,-1.0659923334724297,-1.7347035079139594,1.7247117586400194,-0.5534645932630475,-0.05269082880831947,0.013439662055486223,1.1457671048038869],\"yaxis\":\"y14\"},{\"line\":{\"color\":\"rgba(0, 0, 0, 1.0)\",\"dash\":\"solid\",\"shape\":\"linear\",\"width\":1.3},\"marker\":{\"size\":2,\"symbol\":\"circle\"},\"mode\":\"markers\",\"name\":\"D\",\"text\":\"\",\"type\":\"scatter\",\"x\":[-1.4138806139966658,0.9549943461350169,-2.0176025054120172,-0.3559458222091603,1.4153947552191721,0.12427455626105968,-1.3459787187103391,-0.19872516540106108,1.4088318088135734,0.9012366661206014,0.12167928602972863,0.6484887494471738,-0.24071830245211362,-0.3251708457434995,-0.07848163117310035,-0.5619681536095221,-0.4107090434792362,1.6335771937963104,-0.23108562854747383,-0.6253479656743208,-1.7470326746678497,0.1948171412052426,0.10667552470993999,1.168151845889162,0.9074924955855451,-0.05022155827796482,0.24599602330939935,-0.8162581224912675,-1.2964098715543981,0.46286889607730936,-0.10213511155337399,0.6309051597165397,-0.2362382902818193,0.4014181504403865,0.44327312805371816,-0.1506127376542421,-0.8237912696611064,0.9619847178419777,1.5613855884484278,0.7847649284788947,-0.715194383820001,-0.42188560666769154,0.7719771944709354,-0.42788322573565674,0.6295608422707876,-1.2316437164112453,-1.791586382047408,-1.4970537956291428,-1.3481044941034268,0.2915472094532004,-1.1924673961153276,1.5294697279384182,0.7329753983882141,-0.7346420338455535,1.5630204417323799,0.6027784429615578,-2.9091425536815265,-0.5221000792876885,0.22713425110466265,-0.7319197059378021,0.5163256584002801,1.053520675059922,0.27007681292676344,0.9686753400624246,1.5307581393786964,0.36737242145043647,0.025097599770220778,-0.8651713313226559,-0.341732622257134,-0.8520223476297429,1.850705214694412,-0.40433123147094446,-0.20770681737488159,1.4652245596672555,0.7022687371970578,0.9116339980456936,-0.4857214196763068,-0.6520074477878468,-0.5999681780513599,-0.15885427293055898,0.8499484258368485,-0.33877488292040364,0.24668022175070148,0.658460807810325,0.4801517632540298,0.5133810366740759,1.9219510343734911,-1.1183566698572092,-0.023438823060090475,-0.14588709366250815,-0.32697804678743025,-0.511923466545293,-0.45486558796788906,0.27615700635488605,-0.38189887714450116,1.7063174625892141,-0.11117157591083326,0.34677612795932183,1.0337762757857105,-1.8316147311422069],\"xaxis\":\"x15\",\"y\":[1.138881092138941,-0.8296593820905608,0.4940921451158362,1.4715672397977364,-1.1419091404761212,1.1670925420126028,-0.05952213756143999,-1.158319754654261,0.9340886362131698,0.08241160566677205,0.09050486923742268,-1.2080822552658015,-0.8059511189425327,0.23788239068331304,1.8508318786619247,-0.9275488532782582,-0.32988735181079404,-1.5255692872092812,0.01878277333096518,-1.7713787539245063,-1.169235762418271,-0.815999795639666,0.5003979518170936,0.21348561130162266,-1.8583553991873798,0.9584079218881999,-0.5923347203499466,-0.045701301432784204,1.1098349309061941,0.8108821831693277,1.2154286931093448,0.03534702668436145,0.982009445768607,0.6759622934673243,0.22793134842256393,0.5831497418958888,0.06440530013979788,-1.1015572556487958,-0.16365703680670007,1.2443518938853981,-0.30962832264924545,0.7337650029403703,0.37294149848351654,0.7960603041860554,0.49111515978717424,1.4093434653694459,0.24287036417708793,-1.5780263611682788,0.9252914445025481,1.962942289472823,-1.2424538815207948,0.6723340741862069,0.06742064638790596,-0.4686920066301773,-0.607956503575207,-0.9653818756804581,0.46450454370099953,0.05881620360562117,0.6772238445570063,-0.9033915215986897,1.0881282290657555,0.4359323184477213,0.7684410076854367,0.5005996452296388,0.7829515481772608,-0.026796813723469173,2.599386526232613,-0.14386967015853985,-1.5217198040434086,0.3114719797777141,-0.03544583751025676,-2.4348449244449637,0.9652715215395948,-0.7673168292664782,-1.8925580816941423,-0.7214493207694863,-0.4584329458861844,-0.29876105590390634,-0.4010748723773588,-0.9483449778577722,0.8200748964441905,0.3649981882074061,0.9303510634711705,-0.9063628584109353,0.32270295677364835,-1.3960046389806826,-1.6645024132499688,1.681129748878899,-0.35702788945906266,-0.9513402967568699,-1.4173177890827713,-1.363812590380575,0.8018862131924073,-1.0659923334724297,-1.7347035079139594,1.7247117586400194,-0.5534645932630475,-0.05269082880831947,0.013439662055486223,1.1457671048038869],\"yaxis\":\"y15\"},{\"histfunc\":\"count\",\"histnorm\":\"\",\"marker\":{\"color\":\"rgba(128, 0, 128, 1.0)\",\"line\":{\"color\":\"#4D5663\",\"width\":1.3}},\"name\":\"D\",\"nbinsx\":10,\"opacity\":0.8,\"orientation\":\"v\",\"type\":\"histogram\",\"x\":[1.138881092138941,-0.8296593820905608,0.4940921451158362,1.4715672397977364,-1.1419091404761212,1.1670925420126028,-0.05952213756143999,-1.158319754654261,0.9340886362131698,0.08241160566677205,0.09050486923742268,-1.2080822552658015,-0.8059511189425327,0.23788239068331304,1.8508318786619247,-0.9275488532782582,-0.32988735181079404,-1.5255692872092812,0.01878277333096518,-1.7713787539245063,-1.169235762418271,-0.815999795639666,0.5003979518170936,0.21348561130162266,-1.8583553991873798,0.9584079218881999,-0.5923347203499466,-0.045701301432784204,1.1098349309061941,0.8108821831693277,1.2154286931093448,0.03534702668436145,0.982009445768607,0.6759622934673243,0.22793134842256393,0.5831497418958888,0.06440530013979788,-1.1015572556487958,-0.16365703680670007,1.2443518938853981,-0.30962832264924545,0.7337650029403703,0.37294149848351654,0.7960603041860554,0.49111515978717424,1.4093434653694459,0.24287036417708793,-1.5780263611682788,0.9252914445025481,1.962942289472823,-1.2424538815207948,0.6723340741862069,0.06742064638790596,-0.4686920066301773,-0.607956503575207,-0.9653818756804581,0.46450454370099953,0.05881620360562117,0.6772238445570063,-0.9033915215986897,1.0881282290657555,0.4359323184477213,0.7684410076854367,0.5005996452296388,0.7829515481772608,-0.026796813723469173,2.599386526232613,-0.14386967015853985,-1.5217198040434086,0.3114719797777141,-0.03544583751025676,-2.4348449244449637,0.9652715215395948,-0.7673168292664782,-1.8925580816941423,-0.7214493207694863,-0.4584329458861844,-0.29876105590390634,-0.4010748723773588,-0.9483449778577722,0.8200748964441905,0.3649981882074061,0.9303510634711705,-0.9063628584109353,0.32270295677364835,-1.3960046389806826,-1.6645024132499688,1.681129748878899,-0.35702788945906266,-0.9513402967568699,-1.4173177890827713,-1.363812590380575,0.8018862131924073,-1.0659923334724297,-1.7347035079139594,1.7247117586400194,-0.5534645932630475,-0.05269082880831947,0.013439662055486223,1.1457671048038869],\"xaxis\":\"x16\",\"yaxis\":\"y16\"}],                        {\"bargap\":0.02,\"legend\":{\"bgcolor\":\"#F5F6F9\",\"font\":{\"color\":\"#4D5663\"}},\"paper_bgcolor\":\"#F5F6F9\",\"plot_bgcolor\":\"#F5F6F9\",\"showlegend\":false,\"template\":{\"data\":{\"bar\":[{\"error_x\":{\"color\":\"#2a3f5f\"},\"error_y\":{\"color\":\"#2a3f5f\"},\"marker\":{\"line\":{\"color\":\"#E5ECF6\",\"width\":0.5},\"pattern\":{\"fillmode\":\"overlay\",\"size\":10,\"solidity\":0.2}},\"type\":\"bar\"}],\"barpolar\":[{\"marker\":{\"line\":{\"color\":\"#E5ECF6\",\"width\":0.5},\"pattern\":{\"fillmode\":\"overlay\",\"size\":10,\"solidity\":0.2}},\"type\":\"barpolar\"}],\"carpet\":[{\"aaxis\":{\"endlinecolor\":\"#2a3f5f\",\"gridcolor\":\"white\",\"linecolor\":\"white\",\"minorgridcolor\":\"white\",\"startlinecolor\":\"#2a3f5f\"},\"baxis\":{\"endlinecolor\":\"#2a3f5f\",\"gridcolor\":\"white\",\"linecolor\":\"white\",\"minorgridcolor\":\"white\",\"startlinecolor\":\"#2a3f5f\"},\"type\":\"carpet\"}],\"choropleth\":[{\"colorbar\":{\"outlinewidth\":0,\"ticks\":\"\"},\"type\":\"choropleth\"}],\"contour\":[{\"colorbar\":{\"outlinewidth\":0,\"ticks\":\"\"},\"colorscale\":[[0.0,\"#0d0887\"],[0.1111111111111111,\"#46039f\"],[0.2222222222222222,\"#7201a8\"],[0.3333333333333333,\"#9c179e\"],[0.4444444444444444,\"#bd3786\"],[0.5555555555555556,\"#d8576b\"],[0.6666666666666666,\"#ed7953\"],[0.7777777777777778,\"#fb9f3a\"],[0.8888888888888888,\"#fdca26\"],[1.0,\"#f0f921\"]],\"type\":\"contour\"}],\"contourcarpet\":[{\"colorbar\":{\"outlinewidth\":0,\"ticks\":\"\"},\"type\":\"contourcarpet\"}],\"heatmap\":[{\"colorbar\":{\"outlinewidth\":0,\"ticks\":\"\"},\"colorscale\":[[0.0,\"#0d0887\"],[0.1111111111111111,\"#46039f\"],[0.2222222222222222,\"#7201a8\"],[0.3333333333333333,\"#9c179e\"],[0.4444444444444444,\"#bd3786\"],[0.5555555555555556,\"#d8576b\"],[0.6666666666666666,\"#ed7953\"],[0.7777777777777778,\"#fb9f3a\"],[0.8888888888888888,\"#fdca26\"],[1.0,\"#f0f921\"]],\"type\":\"heatmap\"}],\"heatmapgl\":[{\"colorbar\":{\"outlinewidth\":0,\"ticks\":\"\"},\"colorscale\":[[0.0,\"#0d0887\"],[0.1111111111111111,\"#46039f\"],[0.2222222222222222,\"#7201a8\"],[0.3333333333333333,\"#9c179e\"],[0.4444444444444444,\"#bd3786\"],[0.5555555555555556,\"#d8576b\"],[0.6666666666666666,\"#ed7953\"],[0.7777777777777778,\"#fb9f3a\"],[0.8888888888888888,\"#fdca26\"],[1.0,\"#f0f921\"]],\"type\":\"heatmapgl\"}],\"histogram\":[{\"marker\":{\"pattern\":{\"fillmode\":\"overlay\",\"size\":10,\"solidity\":0.2}},\"type\":\"histogram\"}],\"histogram2d\":[{\"colorbar\":{\"outlinewidth\":0,\"ticks\":\"\"},\"colorscale\":[[0.0,\"#0d0887\"],[0.1111111111111111,\"#46039f\"],[0.2222222222222222,\"#7201a8\"],[0.3333333333333333,\"#9c179e\"],[0.4444444444444444,\"#bd3786\"],[0.5555555555555556,\"#d8576b\"],[0.6666666666666666,\"#ed7953\"],[0.7777777777777778,\"#fb9f3a\"],[0.8888888888888888,\"#fdca26\"],[1.0,\"#f0f921\"]],\"type\":\"histogram2d\"}],\"histogram2dcontour\":[{\"colorbar\":{\"outlinewidth\":0,\"ticks\":\"\"},\"colorscale\":[[0.0,\"#0d0887\"],[0.1111111111111111,\"#46039f\"],[0.2222222222222222,\"#7201a8\"],[0.3333333333333333,\"#9c179e\"],[0.4444444444444444,\"#bd3786\"],[0.5555555555555556,\"#d8576b\"],[0.6666666666666666,\"#ed7953\"],[0.7777777777777778,\"#fb9f3a\"],[0.8888888888888888,\"#fdca26\"],[1.0,\"#f0f921\"]],\"type\":\"histogram2dcontour\"}],\"mesh3d\":[{\"colorbar\":{\"outlinewidth\":0,\"ticks\":\"\"},\"type\":\"mesh3d\"}],\"parcoords\":[{\"line\":{\"colorbar\":{\"outlinewidth\":0,\"ticks\":\"\"}},\"type\":\"parcoords\"}],\"pie\":[{\"automargin\":true,\"type\":\"pie\"}],\"scatter\":[{\"marker\":{\"colorbar\":{\"outlinewidth\":0,\"ticks\":\"\"}},\"type\":\"scatter\"}],\"scatter3d\":[{\"line\":{\"colorbar\":{\"outlinewidth\":0,\"ticks\":\"\"}},\"marker\":{\"colorbar\":{\"outlinewidth\":0,\"ticks\":\"\"}},\"type\":\"scatter3d\"}],\"scattercarpet\":[{\"marker\":{\"colorbar\":{\"outlinewidth\":0,\"ticks\":\"\"}},\"type\":\"scattercarpet\"}],\"scattergeo\":[{\"marker\":{\"colorbar\":{\"outlinewidth\":0,\"ticks\":\"\"}},\"type\":\"scattergeo\"}],\"scattergl\":[{\"marker\":{\"colorbar\":{\"outlinewidth\":0,\"ticks\":\"\"}},\"type\":\"scattergl\"}],\"scattermapbox\":[{\"marker\":{\"colorbar\":{\"outlinewidth\":0,\"ticks\":\"\"}},\"type\":\"scattermapbox\"}],\"scatterpolar\":[{\"marker\":{\"colorbar\":{\"outlinewidth\":0,\"ticks\":\"\"}},\"type\":\"scatterpolar\"}],\"scatterpolargl\":[{\"marker\":{\"colorbar\":{\"outlinewidth\":0,\"ticks\":\"\"}},\"type\":\"scatterpolargl\"}],\"scatterternary\":[{\"marker\":{\"colorbar\":{\"outlinewidth\":0,\"ticks\":\"\"}},\"type\":\"scatterternary\"}],\"surface\":[{\"colorbar\":{\"outlinewidth\":0,\"ticks\":\"\"},\"colorscale\":[[0.0,\"#0d0887\"],[0.1111111111111111,\"#46039f\"],[0.2222222222222222,\"#7201a8\"],[0.3333333333333333,\"#9c179e\"],[0.4444444444444444,\"#bd3786\"],[0.5555555555555556,\"#d8576b\"],[0.6666666666666666,\"#ed7953\"],[0.7777777777777778,\"#fb9f3a\"],[0.8888888888888888,\"#fdca26\"],[1.0,\"#f0f921\"]],\"type\":\"surface\"}],\"table\":[{\"cells\":{\"fill\":{\"color\":\"#EBF0F8\"},\"line\":{\"color\":\"white\"}},\"header\":{\"fill\":{\"color\":\"#C8D4E3\"},\"line\":{\"color\":\"white\"}},\"type\":\"table\"}]},\"layout\":{\"annotationdefaults\":{\"arrowcolor\":\"#2a3f5f\",\"arrowhead\":0,\"arrowwidth\":1},\"autotypenumbers\":\"strict\",\"coloraxis\":{\"colorbar\":{\"outlinewidth\":0,\"ticks\":\"\"}},\"colorscale\":{\"diverging\":[[0,\"#8e0152\"],[0.1,\"#c51b7d\"],[0.2,\"#de77ae\"],[0.3,\"#f1b6da\"],[0.4,\"#fde0ef\"],[0.5,\"#f7f7f7\"],[0.6,\"#e6f5d0\"],[0.7,\"#b8e186\"],[0.8,\"#7fbc41\"],[0.9,\"#4d9221\"],[1,\"#276419\"]],\"sequential\":[[0.0,\"#0d0887\"],[0.1111111111111111,\"#46039f\"],[0.2222222222222222,\"#7201a8\"],[0.3333333333333333,\"#9c179e\"],[0.4444444444444444,\"#bd3786\"],[0.5555555555555556,\"#d8576b\"],[0.6666666666666666,\"#ed7953\"],[0.7777777777777778,\"#fb9f3a\"],[0.8888888888888888,\"#fdca26\"],[1.0,\"#f0f921\"]],\"sequentialminus\":[[0.0,\"#0d0887\"],[0.1111111111111111,\"#46039f\"],[0.2222222222222222,\"#7201a8\"],[0.3333333333333333,\"#9c179e\"],[0.4444444444444444,\"#bd3786\"],[0.5555555555555556,\"#d8576b\"],[0.6666666666666666,\"#ed7953\"],[0.7777777777777778,\"#fb9f3a\"],[0.8888888888888888,\"#fdca26\"],[1.0,\"#f0f921\"]]},\"colorway\":[\"#636efa\",\"#EF553B\",\"#00cc96\",\"#ab63fa\",\"#FFA15A\",\"#19d3f3\",\"#FF6692\",\"#B6E880\",\"#FF97FF\",\"#FECB52\"],\"font\":{\"color\":\"#2a3f5f\"},\"geo\":{\"bgcolor\":\"white\",\"lakecolor\":\"white\",\"landcolor\":\"#E5ECF6\",\"showlakes\":true,\"showland\":true,\"subunitcolor\":\"white\"},\"hoverlabel\":{\"align\":\"left\"},\"hovermode\":\"closest\",\"mapbox\":{\"style\":\"light\"},\"paper_bgcolor\":\"white\",\"plot_bgcolor\":\"#E5ECF6\",\"polar\":{\"angularaxis\":{\"gridcolor\":\"white\",\"linecolor\":\"white\",\"ticks\":\"\"},\"bgcolor\":\"#E5ECF6\",\"radialaxis\":{\"gridcolor\":\"white\",\"linecolor\":\"white\",\"ticks\":\"\"}},\"scene\":{\"xaxis\":{\"backgroundcolor\":\"#E5ECF6\",\"gridcolor\":\"white\",\"gridwidth\":2,\"linecolor\":\"white\",\"showbackground\":true,\"ticks\":\"\",\"zerolinecolor\":\"white\"},\"yaxis\":{\"backgroundcolor\":\"#E5ECF6\",\"gridcolor\":\"white\",\"gridwidth\":2,\"linecolor\":\"white\",\"showbackground\":true,\"ticks\":\"\",\"zerolinecolor\":\"white\"},\"zaxis\":{\"backgroundcolor\":\"#E5ECF6\",\"gridcolor\":\"white\",\"gridwidth\":2,\"linecolor\":\"white\",\"showbackground\":true,\"ticks\":\"\",\"zerolinecolor\":\"white\"}},\"shapedefaults\":{\"line\":{\"color\":\"#2a3f5f\"}},\"ternary\":{\"aaxis\":{\"gridcolor\":\"white\",\"linecolor\":\"white\",\"ticks\":\"\"},\"baxis\":{\"gridcolor\":\"white\",\"linecolor\":\"white\",\"ticks\":\"\"},\"bgcolor\":\"#E5ECF6\",\"caxis\":{\"gridcolor\":\"white\",\"linecolor\":\"white\",\"ticks\":\"\"}},\"title\":{\"x\":0.05},\"xaxis\":{\"automargin\":true,\"gridcolor\":\"white\",\"linecolor\":\"white\",\"ticks\":\"\",\"title\":{\"standoff\":15},\"zerolinecolor\":\"white\",\"zerolinewidth\":2},\"yaxis\":{\"automargin\":true,\"gridcolor\":\"white\",\"linecolor\":\"white\",\"ticks\":\"\",\"title\":{\"standoff\":15},\"zerolinecolor\":\"white\",\"zerolinewidth\":2}}},\"title\":{\"font\":{\"color\":\"#4D5663\"}},\"xaxis\":{\"anchor\":\"y\",\"domain\":[0.0,0.2125],\"gridcolor\":\"#E1E5ED\",\"showgrid\":false,\"tickfont\":{\"color\":\"#4D5663\"},\"title\":{\"font\":{\"color\":\"#4D5663\"},\"text\":\"\"},\"zerolinecolor\":\"#E1E5ED\"},\"xaxis10\":{\"anchor\":\"y10\",\"domain\":[0.2625,0.475],\"gridcolor\":\"#E1E5ED\",\"showgrid\":false,\"tickfont\":{\"color\":\"#4D5663\"},\"title\":{\"font\":{\"color\":\"#4D5663\"},\"text\":\"\"},\"zerolinecolor\":\"#E1E5ED\"},\"xaxis11\":{\"anchor\":\"y11\",\"domain\":[0.525,0.7375],\"gridcolor\":\"#E1E5ED\",\"showgrid\":false,\"tickfont\":{\"color\":\"#4D5663\"},\"title\":{\"font\":{\"color\":\"#4D5663\"},\"text\":\"\"},\"zerolinecolor\":\"#E1E5ED\"},\"xaxis12\":{\"anchor\":\"y12\",\"domain\":[0.7875,1.0],\"gridcolor\":\"#E1E5ED\",\"showgrid\":false,\"tickfont\":{\"color\":\"#4D5663\"},\"title\":{\"font\":{\"color\":\"#4D5663\"},\"text\":\"\"},\"zerolinecolor\":\"#E1E5ED\"},\"xaxis13\":{\"anchor\":\"y13\",\"domain\":[0.0,0.2125],\"gridcolor\":\"#E1E5ED\",\"showgrid\":false,\"tickfont\":{\"color\":\"#4D5663\"},\"title\":{\"font\":{\"color\":\"#4D5663\"},\"text\":\"\"},\"zerolinecolor\":\"#E1E5ED\"},\"xaxis14\":{\"anchor\":\"y14\",\"domain\":[0.2625,0.475],\"gridcolor\":\"#E1E5ED\",\"showgrid\":false,\"tickfont\":{\"color\":\"#4D5663\"},\"title\":{\"font\":{\"color\":\"#4D5663\"},\"text\":\"\"},\"zerolinecolor\":\"#E1E5ED\"},\"xaxis15\":{\"anchor\":\"y15\",\"domain\":[0.525,0.7375],\"gridcolor\":\"#E1E5ED\",\"showgrid\":false,\"tickfont\":{\"color\":\"#4D5663\"},\"title\":{\"font\":{\"color\":\"#4D5663\"},\"text\":\"\"},\"zerolinecolor\":\"#E1E5ED\"},\"xaxis16\":{\"anchor\":\"y16\",\"domain\":[0.7875,1.0],\"gridcolor\":\"#E1E5ED\",\"showgrid\":false,\"tickfont\":{\"color\":\"#4D5663\"},\"title\":{\"font\":{\"color\":\"#4D5663\"},\"text\":\"\"},\"zerolinecolor\":\"#E1E5ED\"},\"xaxis2\":{\"anchor\":\"y2\",\"domain\":[0.2625,0.475],\"gridcolor\":\"#E1E5ED\",\"showgrid\":false,\"tickfont\":{\"color\":\"#4D5663\"},\"title\":{\"font\":{\"color\":\"#4D5663\"},\"text\":\"\"},\"zerolinecolor\":\"#E1E5ED\"},\"xaxis3\":{\"anchor\":\"y3\",\"domain\":[0.525,0.7375],\"gridcolor\":\"#E1E5ED\",\"showgrid\":false,\"tickfont\":{\"color\":\"#4D5663\"},\"title\":{\"font\":{\"color\":\"#4D5663\"},\"text\":\"\"},\"zerolinecolor\":\"#E1E5ED\"},\"xaxis4\":{\"anchor\":\"y4\",\"domain\":[0.7875,1.0],\"gridcolor\":\"#E1E5ED\",\"showgrid\":false,\"tickfont\":{\"color\":\"#4D5663\"},\"title\":{\"font\":{\"color\":\"#4D5663\"},\"text\":\"\"},\"zerolinecolor\":\"#E1E5ED\"},\"xaxis5\":{\"anchor\":\"y5\",\"domain\":[0.0,0.2125],\"gridcolor\":\"#E1E5ED\",\"showgrid\":false,\"tickfont\":{\"color\":\"#4D5663\"},\"title\":{\"font\":{\"color\":\"#4D5663\"},\"text\":\"\"},\"zerolinecolor\":\"#E1E5ED\"},\"xaxis6\":{\"anchor\":\"y6\",\"domain\":[0.2625,0.475],\"gridcolor\":\"#E1E5ED\",\"showgrid\":false,\"tickfont\":{\"color\":\"#4D5663\"},\"title\":{\"font\":{\"color\":\"#4D5663\"},\"text\":\"\"},\"zerolinecolor\":\"#E1E5ED\"},\"xaxis7\":{\"anchor\":\"y7\",\"domain\":[0.525,0.7375],\"gridcolor\":\"#E1E5ED\",\"showgrid\":false,\"tickfont\":{\"color\":\"#4D5663\"},\"title\":{\"font\":{\"color\":\"#4D5663\"},\"text\":\"\"},\"zerolinecolor\":\"#E1E5ED\"},\"xaxis8\":{\"anchor\":\"y8\",\"domain\":[0.7875,1.0],\"gridcolor\":\"#E1E5ED\",\"showgrid\":false,\"tickfont\":{\"color\":\"#4D5663\"},\"title\":{\"font\":{\"color\":\"#4D5663\"},\"text\":\"\"},\"zerolinecolor\":\"#E1E5ED\"},\"xaxis9\":{\"anchor\":\"y9\",\"domain\":[0.0,0.2125],\"gridcolor\":\"#E1E5ED\",\"showgrid\":false,\"tickfont\":{\"color\":\"#4D5663\"},\"title\":{\"font\":{\"color\":\"#4D5663\"},\"text\":\"\"},\"zerolinecolor\":\"#E1E5ED\"},\"yaxis\":{\"anchor\":\"x\",\"domain\":[0.8025,1.0],\"gridcolor\":\"#E1E5ED\",\"showgrid\":false,\"tickfont\":{\"color\":\"#4D5663\"},\"title\":{\"font\":{\"color\":\"#4D5663\"},\"text\":\"\"},\"zerolinecolor\":\"#E1E5ED\"},\"yaxis10\":{\"anchor\":\"x10\",\"domain\":[0.2675,0.465],\"gridcolor\":\"#E1E5ED\",\"showgrid\":false,\"tickfont\":{\"color\":\"#4D5663\"},\"title\":{\"font\":{\"color\":\"#4D5663\"},\"text\":\"\"},\"zerolinecolor\":\"#E1E5ED\"},\"yaxis11\":{\"anchor\":\"x11\",\"domain\":[0.2675,0.465],\"gridcolor\":\"#E1E5ED\",\"showgrid\":false,\"tickfont\":{\"color\":\"#4D5663\"},\"title\":{\"font\":{\"color\":\"#4D5663\"},\"text\":\"\"},\"zerolinecolor\":\"#E1E5ED\"},\"yaxis12\":{\"anchor\":\"x12\",\"domain\":[0.2675,0.465],\"gridcolor\":\"#E1E5ED\",\"showgrid\":false,\"tickfont\":{\"color\":\"#4D5663\"},\"title\":{\"font\":{\"color\":\"#4D5663\"},\"text\":\"\"},\"zerolinecolor\":\"#E1E5ED\"},\"yaxis13\":{\"anchor\":\"x13\",\"domain\":[0.0,0.1975],\"gridcolor\":\"#E1E5ED\",\"showgrid\":false,\"tickfont\":{\"color\":\"#4D5663\"},\"title\":{\"font\":{\"color\":\"#4D5663\"},\"text\":\"\"},\"zerolinecolor\":\"#E1E5ED\"},\"yaxis14\":{\"anchor\":\"x14\",\"domain\":[0.0,0.1975],\"gridcolor\":\"#E1E5ED\",\"showgrid\":false,\"tickfont\":{\"color\":\"#4D5663\"},\"title\":{\"font\":{\"color\":\"#4D5663\"},\"text\":\"\"},\"zerolinecolor\":\"#E1E5ED\"},\"yaxis15\":{\"anchor\":\"x15\",\"domain\":[0.0,0.1975],\"gridcolor\":\"#E1E5ED\",\"showgrid\":false,\"tickfont\":{\"color\":\"#4D5663\"},\"title\":{\"font\":{\"color\":\"#4D5663\"},\"text\":\"\"},\"zerolinecolor\":\"#E1E5ED\"},\"yaxis16\":{\"anchor\":\"x16\",\"domain\":[0.0,0.1975],\"gridcolor\":\"#E1E5ED\",\"showgrid\":false,\"tickfont\":{\"color\":\"#4D5663\"},\"title\":{\"font\":{\"color\":\"#4D5663\"},\"text\":\"\"},\"zerolinecolor\":\"#E1E5ED\"},\"yaxis2\":{\"anchor\":\"x2\",\"domain\":[0.8025,1.0],\"gridcolor\":\"#E1E5ED\",\"showgrid\":false,\"tickfont\":{\"color\":\"#4D5663\"},\"title\":{\"font\":{\"color\":\"#4D5663\"},\"text\":\"\"},\"zerolinecolor\":\"#E1E5ED\"},\"yaxis3\":{\"anchor\":\"x3\",\"domain\":[0.8025,1.0],\"gridcolor\":\"#E1E5ED\",\"showgrid\":false,\"tickfont\":{\"color\":\"#4D5663\"},\"title\":{\"font\":{\"color\":\"#4D5663\"},\"text\":\"\"},\"zerolinecolor\":\"#E1E5ED\"},\"yaxis4\":{\"anchor\":\"x4\",\"domain\":[0.8025,1.0],\"gridcolor\":\"#E1E5ED\",\"showgrid\":false,\"tickfont\":{\"color\":\"#4D5663\"},\"title\":{\"font\":{\"color\":\"#4D5663\"},\"text\":\"\"},\"zerolinecolor\":\"#E1E5ED\"},\"yaxis5\":{\"anchor\":\"x5\",\"domain\":[0.535,0.7325],\"gridcolor\":\"#E1E5ED\",\"showgrid\":false,\"tickfont\":{\"color\":\"#4D5663\"},\"title\":{\"font\":{\"color\":\"#4D5663\"},\"text\":\"\"},\"zerolinecolor\":\"#E1E5ED\"},\"yaxis6\":{\"anchor\":\"x6\",\"domain\":[0.535,0.7325],\"gridcolor\":\"#E1E5ED\",\"showgrid\":false,\"tickfont\":{\"color\":\"#4D5663\"},\"title\":{\"font\":{\"color\":\"#4D5663\"},\"text\":\"\"},\"zerolinecolor\":\"#E1E5ED\"},\"yaxis7\":{\"anchor\":\"x7\",\"domain\":[0.535,0.7325],\"gridcolor\":\"#E1E5ED\",\"showgrid\":false,\"tickfont\":{\"color\":\"#4D5663\"},\"title\":{\"font\":{\"color\":\"#4D5663\"},\"text\":\"\"},\"zerolinecolor\":\"#E1E5ED\"},\"yaxis8\":{\"anchor\":\"x8\",\"domain\":[0.535,0.7325],\"gridcolor\":\"#E1E5ED\",\"showgrid\":false,\"tickfont\":{\"color\":\"#4D5663\"},\"title\":{\"font\":{\"color\":\"#4D5663\"},\"text\":\"\"},\"zerolinecolor\":\"#E1E5ED\"},\"yaxis9\":{\"anchor\":\"x9\",\"domain\":[0.2675,0.465],\"gridcolor\":\"#E1E5ED\",\"showgrid\":false,\"tickfont\":{\"color\":\"#4D5663\"},\"title\":{\"font\":{\"color\":\"#4D5663\"},\"text\":\"\"},\"zerolinecolor\":\"#E1E5ED\"}},                        {\"showLink\": true, \"linkText\": \"Export to plot.ly\", \"plotlyServerURL\": \"https://plot.ly\", \"responsive\": true}                    ).then(function(){\n",
       "                            \n",
       "var gd = document.getElementById('a90ffe10-65de-4feb-9085-499b3d8e778f');\n",
       "var x = new MutationObserver(function (mutations, observer) {{\n",
       "        var display = window.getComputedStyle(gd).display;\n",
       "        if (!display || display === 'none') {{\n",
       "            console.log([gd, 'removed!']);\n",
       "            Plotly.purge(gd);\n",
       "            observer.disconnect();\n",
       "        }}\n",
       "}});\n",
       "\n",
       "// Listen for the removal of the full notebook cells\n",
       "var notebookContainer = gd.closest('#notebook-container');\n",
       "if (notebookContainer) {{\n",
       "    x.observe(notebookContainer, {childList: true});\n",
       "}}\n",
       "\n",
       "// Listen for the clearing of the current output cell\n",
       "var outputEl = gd.closest('.output');\n",
       "if (outputEl) {{\n",
       "    x.observe(outputEl, {childList: true});\n",
       "}}\n",
       "\n",
       "                        })                };                });            </script>        </div>"
      ]
     },
     "metadata": {},
     "output_type": "display_data"
    }
   ],
   "source": [
    "df1.scatter_matrix(color='black')"
   ]
  },
  {
   "cell_type": "markdown",
   "metadata": {},
   "source": [
    "For full list of arguments, see https://plotly.github.io/plotly.py-docs/generated/plotly.express.scatter_matrix.html\n",
    "\n",
    "The list does not however, include (changing) axes properties; for that, use plotly.express"
   ]
  },
  {
   "cell_type": "code",
   "execution_count": 45,
   "metadata": {},
   "outputs": [],
   "source": [
    "import plotly.express as px"
   ]
  },
  {
   "cell_type": "code",
   "execution_count": 47,
   "metadata": {},
   "outputs": [
    {
     "data": {
      "application/vnd.plotly.v1+json": {
       "config": {
        "plotlyServerURL": "https://plot.ly"
       },
       "data": [
        {
         "dimensions": [
          {
           "axis": {
            "matches": true
           },
           "label": "A",
           "values": [
            -0.2476021517537956,
            0.11874398704528717,
            -1.5986470436970923,
            1.4523802703570448,
            1.6090995991476928,
            0.36229045933429543,
            0.08354651513332022,
            -0.3527933783544127,
            0.5176107966859301,
            -0.833819690766652,
            0.20565072543497975,
            1.9944702000830496,
            -0.35151191314525854,
            -0.826196054882016,
            0.9599029122425612,
            0.8735380178138376,
            -1.644708644572304,
            -1.7738813013900911,
            1.7275862931329586,
            1.2410803233237333,
            -0.47371612259000284,
            1.414213513123541,
            1.458493689936051,
            0.3272856232608136,
            0.3165687182176862,
            0.8414601116357942,
            -0.32475580337050364,
            1.0868940465653318,
            0.4745634553998436,
            -0.2734907459319492,
            1.7936403614043865,
            0.2702198507442268,
            0.23166334935090627,
            0.2149514489904918,
            -0.15239433999431595,
            -0.46485670290661824,
            0.1769888823174567,
            0.9251355276226852,
            -2.923639876842984,
            -1.0036342420862625,
            -1.5972731861258282,
            -0.5863668064009814,
            0.24330756172163637,
            1.0711554663396936,
            0.7912213795894234,
            0.8222629425793855,
            -0.07065589111053654,
            -0.6059385075201855,
            -1.2444487075452308,
            -0.2986809340328696,
            2.1470548990107736,
            -0.9581686455331494,
            -0.14557432693872532,
            -0.4416089409116146,
            0.9352295488236574,
            -1.0506573059035353,
            1.3879041094191515,
            -0.6297383736287204,
            1.2161526628947408,
            0.9380321876702106,
            -0.3186924706946208,
            -1.0451195297871672,
            0.8789782921221527,
            -1.0706299167541156,
            -0.6134943608834571,
            2.114366282469496,
            0.4804360014579106,
            -0.10967689810515825,
            1.1730100543660051,
            0.6680577732576941,
            -1.1540774070386632,
            -0.4851203250530739,
            -0.06824582550241688,
            -0.4860733169583027,
            -1.3724089125985697,
            0.12312942342868287,
            0.16293029773806567,
            1.2974841267330905,
            3.354031799722983,
            -1.5810817578094538,
            0.8052116693646469,
            1.7562243908207342,
            0.5228297709229516,
            -0.8617659959734791,
            0.0620426273685626,
            0.16012867729300984,
            0.09689851489854824,
            -0.1137666435097898,
            1.803702528945463,
            0.2660268294434981,
            0.21102177430662458,
            -0.12523484176846558,
            -1.3224865786008155,
            -0.23270849471023752,
            -1.3608262494607177,
            1.6803295754838412,
            -0.26619167545737504,
            -1.2418906810336272,
            0.6446602759776894,
            -0.9887246241264553
           ]
          },
          {
           "axis": {
            "matches": true
           },
           "label": "B",
           "values": [
            -0.06053671648461432,
            0.04451657973152728,
            0.5893539754284983,
            1.013668452200273,
            0.6847946382566875,
            0.20861092698642347,
            -0.3309414257884284,
            -0.5453515972945141,
            0.23076522077023776,
            -0.6403566961541314,
            -1.4889655573956504,
            0.9352129666595805,
            -0.8553217826158602,
            -0.5358471525131479,
            -0.7285079896694445,
            -0.19435999410793742,
            -0.021183660575883688,
            -1.27486421427924,
            -1.377441170107258,
            0.1920596120363645,
            -1.1360047658662333,
            -0.25162260549257154,
            -0.38292153172884064,
            1.5087553081937204,
            0.14799880515885433,
            0.605878255040937,
            1.6218346664911871,
            -0.6412077490099374,
            0.3542488866697352,
            -0.4607106765297617,
            1.2204733158298071,
            1.5290677262515437,
            -0.5325381867220287,
            0.6886302420714265,
            -1.4040226516881387,
            -2.163779233019157,
            -1.635161679442351,
            0.11429126376701604,
            1.5913115916653733,
            -0.7516875353912756,
            -1.1490181657991692,
            0.05209633163880171,
            -1.2505146014805508,
            0.945770812894874,
            0.44120913669486617,
            -1.4272575263523835,
            -0.058534388435669125,
            -0.33290524940555216,
            0.25397740217116543,
            1.2107495453696848,
            -1.3048536413809813,
            -0.07290573215858111,
            -0.935009414667022,
            0.31698859178976346,
            0.3035657889195938,
            -0.09726791999649201,
            -0.13309365569973972,
            -1.3660791616250785,
            -1.0000957432387825,
            -0.44418957211110716,
            -0.7186337755517709,
            1.102995878230977,
            0.020947744800001725,
            -0.5379484903254714,
            1.434265530651456,
            -0.005595426280574108,
            -2.0024045908564716,
            1.2079291512768016,
            0.15101539633938965,
            -0.9415917180574958,
            0.8902241018403784,
            -0.6581560875764221,
            -1.2673251228201592,
            1.2592403371088414,
            -0.2831780015730596,
            0.047762380357669894,
            0.8603279518544563,
            -0.7821657611800706,
            -0.08202755823879464,
            0.06094696276155334,
            -0.8603811991901833,
            -0.05999313775337979,
            -0.4134487343659485,
            -0.4420361210196551,
            1.964645409112964,
            0.7896408572825018,
            -0.3773497911703148,
            1.6692535284277301,
            -0.27550204963687014,
            0.41138019434472406,
            -1.0549370402879954,
            1.6736473264323468,
            -0.8808278394958889,
            0.4728475230153127,
            0.19446889154197278,
            0.2995578928563227,
            -0.3887601705363107,
            -1.031190785706398,
            -1.4446194412722257,
            0.5759700536209127
           ]
          },
          {
           "axis": {
            "matches": true
           },
           "label": "C",
           "values": [
            -1.4138806139966658,
            0.9549943461350169,
            -2.0176025054120172,
            -0.3559458222091603,
            1.4153947552191721,
            0.12427455626105968,
            -1.3459787187103391,
            -0.19872516540106108,
            1.4088318088135734,
            0.9012366661206014,
            0.12167928602972863,
            0.6484887494471738,
            -0.24071830245211362,
            -0.3251708457434995,
            -0.07848163117310035,
            -0.5619681536095221,
            -0.4107090434792362,
            1.6335771937963104,
            -0.23108562854747383,
            -0.6253479656743208,
            -1.7470326746678497,
            0.1948171412052426,
            0.10667552470993999,
            1.168151845889162,
            0.9074924955855451,
            -0.05022155827796482,
            0.24599602330939935,
            -0.8162581224912675,
            -1.2964098715543981,
            0.46286889607730936,
            -0.10213511155337399,
            0.6309051597165397,
            -0.2362382902818193,
            0.4014181504403865,
            0.44327312805371816,
            -0.1506127376542421,
            -0.8237912696611064,
            0.9619847178419777,
            1.5613855884484278,
            0.7847649284788947,
            -0.715194383820001,
            -0.42188560666769154,
            0.7719771944709354,
            -0.42788322573565674,
            0.6295608422707876,
            -1.2316437164112453,
            -1.791586382047408,
            -1.4970537956291428,
            -1.3481044941034268,
            0.2915472094532004,
            -1.1924673961153276,
            1.5294697279384182,
            0.7329753983882141,
            -0.7346420338455535,
            1.5630204417323799,
            0.6027784429615578,
            -2.9091425536815265,
            -0.5221000792876885,
            0.22713425110466265,
            -0.7319197059378021,
            0.5163256584002801,
            1.053520675059922,
            0.27007681292676344,
            0.9686753400624246,
            1.5307581393786964,
            0.36737242145043647,
            0.025097599770220778,
            -0.8651713313226559,
            -0.341732622257134,
            -0.8520223476297429,
            1.850705214694412,
            -0.40433123147094446,
            -0.20770681737488159,
            1.4652245596672555,
            0.7022687371970578,
            0.9116339980456936,
            -0.4857214196763068,
            -0.6520074477878468,
            -0.5999681780513599,
            -0.15885427293055898,
            0.8499484258368485,
            -0.33877488292040364,
            0.24668022175070148,
            0.658460807810325,
            0.4801517632540298,
            0.5133810366740759,
            1.9219510343734911,
            -1.1183566698572092,
            -0.023438823060090475,
            -0.14588709366250815,
            -0.32697804678743025,
            -0.511923466545293,
            -0.45486558796788906,
            0.27615700635488605,
            -0.38189887714450116,
            1.7063174625892141,
            -0.11117157591083326,
            0.34677612795932183,
            1.0337762757857105,
            -1.8316147311422069
           ]
          },
          {
           "axis": {
            "matches": true
           },
           "label": "D",
           "values": [
            1.138881092138941,
            -0.8296593820905608,
            0.4940921451158362,
            1.4715672397977364,
            -1.1419091404761212,
            1.1670925420126028,
            -0.05952213756143999,
            -1.158319754654261,
            0.9340886362131698,
            0.08241160566677205,
            0.09050486923742268,
            -1.2080822552658015,
            -0.8059511189425327,
            0.23788239068331304,
            1.8508318786619247,
            -0.9275488532782582,
            -0.32988735181079404,
            -1.5255692872092812,
            0.01878277333096518,
            -1.7713787539245063,
            -1.169235762418271,
            -0.815999795639666,
            0.5003979518170936,
            0.21348561130162266,
            -1.8583553991873798,
            0.9584079218881999,
            -0.5923347203499466,
            -0.045701301432784204,
            1.1098349309061941,
            0.8108821831693277,
            1.2154286931093448,
            0.03534702668436145,
            0.982009445768607,
            0.6759622934673243,
            0.22793134842256393,
            0.5831497418958888,
            0.06440530013979788,
            -1.1015572556487958,
            -0.16365703680670007,
            1.2443518938853981,
            -0.30962832264924545,
            0.7337650029403703,
            0.37294149848351654,
            0.7960603041860554,
            0.49111515978717424,
            1.4093434653694459,
            0.24287036417708793,
            -1.5780263611682788,
            0.9252914445025481,
            1.962942289472823,
            -1.2424538815207948,
            0.6723340741862069,
            0.06742064638790596,
            -0.4686920066301773,
            -0.607956503575207,
            -0.9653818756804581,
            0.46450454370099953,
            0.05881620360562117,
            0.6772238445570063,
            -0.9033915215986897,
            1.0881282290657555,
            0.4359323184477213,
            0.7684410076854367,
            0.5005996452296388,
            0.7829515481772608,
            -0.026796813723469173,
            2.599386526232613,
            -0.14386967015853985,
            -1.5217198040434086,
            0.3114719797777141,
            -0.03544583751025676,
            -2.4348449244449637,
            0.9652715215395948,
            -0.7673168292664782,
            -1.8925580816941423,
            -0.7214493207694863,
            -0.4584329458861844,
            -0.29876105590390634,
            -0.4010748723773588,
            -0.9483449778577722,
            0.8200748964441905,
            0.3649981882074061,
            0.9303510634711705,
            -0.9063628584109353,
            0.32270295677364835,
            -1.3960046389806826,
            -1.6645024132499688,
            1.681129748878899,
            -0.35702788945906266,
            -0.9513402967568699,
            -1.4173177890827713,
            -1.363812590380575,
            0.8018862131924073,
            -1.0659923334724297,
            -1.7347035079139594,
            1.7247117586400194,
            -0.5534645932630475,
            -0.05269082880831947,
            0.013439662055486223,
            1.1457671048038869
           ]
          }
         ],
         "hovertemplate": "%{xaxis.title.text}=%{x}<br>%{yaxis.title.text}=%{y}<extra></extra>",
         "legendgroup": "",
         "marker": {
          "color": "#636efa",
          "symbol": "circle"
         },
         "name": "",
         "showlegend": false,
         "type": "splom"
        }
       ],
       "layout": {
        "dragmode": "select",
        "legend": {
         "tracegroupgap": 0
        },
        "margin": {
         "t": 60
        },
        "template": {
         "data": {
          "bar": [
           {
            "error_x": {
             "color": "#2a3f5f"
            },
            "error_y": {
             "color": "#2a3f5f"
            },
            "marker": {
             "line": {
              "color": "#E5ECF6",
              "width": 0.5
             },
             "pattern": {
              "fillmode": "overlay",
              "size": 10,
              "solidity": 0.2
             }
            },
            "type": "bar"
           }
          ],
          "barpolar": [
           {
            "marker": {
             "line": {
              "color": "#E5ECF6",
              "width": 0.5
             },
             "pattern": {
              "fillmode": "overlay",
              "size": 10,
              "solidity": 0.2
             }
            },
            "type": "barpolar"
           }
          ],
          "carpet": [
           {
            "aaxis": {
             "endlinecolor": "#2a3f5f",
             "gridcolor": "white",
             "linecolor": "white",
             "minorgridcolor": "white",
             "startlinecolor": "#2a3f5f"
            },
            "baxis": {
             "endlinecolor": "#2a3f5f",
             "gridcolor": "white",
             "linecolor": "white",
             "minorgridcolor": "white",
             "startlinecolor": "#2a3f5f"
            },
            "type": "carpet"
           }
          ],
          "choropleth": [
           {
            "colorbar": {
             "outlinewidth": 0,
             "ticks": ""
            },
            "type": "choropleth"
           }
          ],
          "contour": [
           {
            "colorbar": {
             "outlinewidth": 0,
             "ticks": ""
            },
            "colorscale": [
             [
              0,
              "#0d0887"
             ],
             [
              0.1111111111111111,
              "#46039f"
             ],
             [
              0.2222222222222222,
              "#7201a8"
             ],
             [
              0.3333333333333333,
              "#9c179e"
             ],
             [
              0.4444444444444444,
              "#bd3786"
             ],
             [
              0.5555555555555556,
              "#d8576b"
             ],
             [
              0.6666666666666666,
              "#ed7953"
             ],
             [
              0.7777777777777778,
              "#fb9f3a"
             ],
             [
              0.8888888888888888,
              "#fdca26"
             ],
             [
              1,
              "#f0f921"
             ]
            ],
            "type": "contour"
           }
          ],
          "contourcarpet": [
           {
            "colorbar": {
             "outlinewidth": 0,
             "ticks": ""
            },
            "type": "contourcarpet"
           }
          ],
          "heatmap": [
           {
            "colorbar": {
             "outlinewidth": 0,
             "ticks": ""
            },
            "colorscale": [
             [
              0,
              "#0d0887"
             ],
             [
              0.1111111111111111,
              "#46039f"
             ],
             [
              0.2222222222222222,
              "#7201a8"
             ],
             [
              0.3333333333333333,
              "#9c179e"
             ],
             [
              0.4444444444444444,
              "#bd3786"
             ],
             [
              0.5555555555555556,
              "#d8576b"
             ],
             [
              0.6666666666666666,
              "#ed7953"
             ],
             [
              0.7777777777777778,
              "#fb9f3a"
             ],
             [
              0.8888888888888888,
              "#fdca26"
             ],
             [
              1,
              "#f0f921"
             ]
            ],
            "type": "heatmap"
           }
          ],
          "heatmapgl": [
           {
            "colorbar": {
             "outlinewidth": 0,
             "ticks": ""
            },
            "colorscale": [
             [
              0,
              "#0d0887"
             ],
             [
              0.1111111111111111,
              "#46039f"
             ],
             [
              0.2222222222222222,
              "#7201a8"
             ],
             [
              0.3333333333333333,
              "#9c179e"
             ],
             [
              0.4444444444444444,
              "#bd3786"
             ],
             [
              0.5555555555555556,
              "#d8576b"
             ],
             [
              0.6666666666666666,
              "#ed7953"
             ],
             [
              0.7777777777777778,
              "#fb9f3a"
             ],
             [
              0.8888888888888888,
              "#fdca26"
             ],
             [
              1,
              "#f0f921"
             ]
            ],
            "type": "heatmapgl"
           }
          ],
          "histogram": [
           {
            "marker": {
             "pattern": {
              "fillmode": "overlay",
              "size": 10,
              "solidity": 0.2
             }
            },
            "type": "histogram"
           }
          ],
          "histogram2d": [
           {
            "colorbar": {
             "outlinewidth": 0,
             "ticks": ""
            },
            "colorscale": [
             [
              0,
              "#0d0887"
             ],
             [
              0.1111111111111111,
              "#46039f"
             ],
             [
              0.2222222222222222,
              "#7201a8"
             ],
             [
              0.3333333333333333,
              "#9c179e"
             ],
             [
              0.4444444444444444,
              "#bd3786"
             ],
             [
              0.5555555555555556,
              "#d8576b"
             ],
             [
              0.6666666666666666,
              "#ed7953"
             ],
             [
              0.7777777777777778,
              "#fb9f3a"
             ],
             [
              0.8888888888888888,
              "#fdca26"
             ],
             [
              1,
              "#f0f921"
             ]
            ],
            "type": "histogram2d"
           }
          ],
          "histogram2dcontour": [
           {
            "colorbar": {
             "outlinewidth": 0,
             "ticks": ""
            },
            "colorscale": [
             [
              0,
              "#0d0887"
             ],
             [
              0.1111111111111111,
              "#46039f"
             ],
             [
              0.2222222222222222,
              "#7201a8"
             ],
             [
              0.3333333333333333,
              "#9c179e"
             ],
             [
              0.4444444444444444,
              "#bd3786"
             ],
             [
              0.5555555555555556,
              "#d8576b"
             ],
             [
              0.6666666666666666,
              "#ed7953"
             ],
             [
              0.7777777777777778,
              "#fb9f3a"
             ],
             [
              0.8888888888888888,
              "#fdca26"
             ],
             [
              1,
              "#f0f921"
             ]
            ],
            "type": "histogram2dcontour"
           }
          ],
          "mesh3d": [
           {
            "colorbar": {
             "outlinewidth": 0,
             "ticks": ""
            },
            "type": "mesh3d"
           }
          ],
          "parcoords": [
           {
            "line": {
             "colorbar": {
              "outlinewidth": 0,
              "ticks": ""
             }
            },
            "type": "parcoords"
           }
          ],
          "pie": [
           {
            "automargin": true,
            "type": "pie"
           }
          ],
          "scatter": [
           {
            "marker": {
             "colorbar": {
              "outlinewidth": 0,
              "ticks": ""
             }
            },
            "type": "scatter"
           }
          ],
          "scatter3d": [
           {
            "line": {
             "colorbar": {
              "outlinewidth": 0,
              "ticks": ""
             }
            },
            "marker": {
             "colorbar": {
              "outlinewidth": 0,
              "ticks": ""
             }
            },
            "type": "scatter3d"
           }
          ],
          "scattercarpet": [
           {
            "marker": {
             "colorbar": {
              "outlinewidth": 0,
              "ticks": ""
             }
            },
            "type": "scattercarpet"
           }
          ],
          "scattergeo": [
           {
            "marker": {
             "colorbar": {
              "outlinewidth": 0,
              "ticks": ""
             }
            },
            "type": "scattergeo"
           }
          ],
          "scattergl": [
           {
            "marker": {
             "colorbar": {
              "outlinewidth": 0,
              "ticks": ""
             }
            },
            "type": "scattergl"
           }
          ],
          "scattermapbox": [
           {
            "marker": {
             "colorbar": {
              "outlinewidth": 0,
              "ticks": ""
             }
            },
            "type": "scattermapbox"
           }
          ],
          "scatterpolar": [
           {
            "marker": {
             "colorbar": {
              "outlinewidth": 0,
              "ticks": ""
             }
            },
            "type": "scatterpolar"
           }
          ],
          "scatterpolargl": [
           {
            "marker": {
             "colorbar": {
              "outlinewidth": 0,
              "ticks": ""
             }
            },
            "type": "scatterpolargl"
           }
          ],
          "scatterternary": [
           {
            "marker": {
             "colorbar": {
              "outlinewidth": 0,
              "ticks": ""
             }
            },
            "type": "scatterternary"
           }
          ],
          "surface": [
           {
            "colorbar": {
             "outlinewidth": 0,
             "ticks": ""
            },
            "colorscale": [
             [
              0,
              "#0d0887"
             ],
             [
              0.1111111111111111,
              "#46039f"
             ],
             [
              0.2222222222222222,
              "#7201a8"
             ],
             [
              0.3333333333333333,
              "#9c179e"
             ],
             [
              0.4444444444444444,
              "#bd3786"
             ],
             [
              0.5555555555555556,
              "#d8576b"
             ],
             [
              0.6666666666666666,
              "#ed7953"
             ],
             [
              0.7777777777777778,
              "#fb9f3a"
             ],
             [
              0.8888888888888888,
              "#fdca26"
             ],
             [
              1,
              "#f0f921"
             ]
            ],
            "type": "surface"
           }
          ],
          "table": [
           {
            "cells": {
             "fill": {
              "color": "#EBF0F8"
             },
             "line": {
              "color": "white"
             }
            },
            "header": {
             "fill": {
              "color": "#C8D4E3"
             },
             "line": {
              "color": "white"
             }
            },
            "type": "table"
           }
          ]
         },
         "layout": {
          "annotationdefaults": {
           "arrowcolor": "#2a3f5f",
           "arrowhead": 0,
           "arrowwidth": 1
          },
          "autotypenumbers": "strict",
          "coloraxis": {
           "colorbar": {
            "outlinewidth": 0,
            "ticks": ""
           }
          },
          "colorscale": {
           "diverging": [
            [
             0,
             "#8e0152"
            ],
            [
             0.1,
             "#c51b7d"
            ],
            [
             0.2,
             "#de77ae"
            ],
            [
             0.3,
             "#f1b6da"
            ],
            [
             0.4,
             "#fde0ef"
            ],
            [
             0.5,
             "#f7f7f7"
            ],
            [
             0.6,
             "#e6f5d0"
            ],
            [
             0.7,
             "#b8e186"
            ],
            [
             0.8,
             "#7fbc41"
            ],
            [
             0.9,
             "#4d9221"
            ],
            [
             1,
             "#276419"
            ]
           ],
           "sequential": [
            [
             0,
             "#0d0887"
            ],
            [
             0.1111111111111111,
             "#46039f"
            ],
            [
             0.2222222222222222,
             "#7201a8"
            ],
            [
             0.3333333333333333,
             "#9c179e"
            ],
            [
             0.4444444444444444,
             "#bd3786"
            ],
            [
             0.5555555555555556,
             "#d8576b"
            ],
            [
             0.6666666666666666,
             "#ed7953"
            ],
            [
             0.7777777777777778,
             "#fb9f3a"
            ],
            [
             0.8888888888888888,
             "#fdca26"
            ],
            [
             1,
             "#f0f921"
            ]
           ],
           "sequentialminus": [
            [
             0,
             "#0d0887"
            ],
            [
             0.1111111111111111,
             "#46039f"
            ],
            [
             0.2222222222222222,
             "#7201a8"
            ],
            [
             0.3333333333333333,
             "#9c179e"
            ],
            [
             0.4444444444444444,
             "#bd3786"
            ],
            [
             0.5555555555555556,
             "#d8576b"
            ],
            [
             0.6666666666666666,
             "#ed7953"
            ],
            [
             0.7777777777777778,
             "#fb9f3a"
            ],
            [
             0.8888888888888888,
             "#fdca26"
            ],
            [
             1,
             "#f0f921"
            ]
           ]
          },
          "colorway": [
           "#636efa",
           "#EF553B",
           "#00cc96",
           "#ab63fa",
           "#FFA15A",
           "#19d3f3",
           "#FF6692",
           "#B6E880",
           "#FF97FF",
           "#FECB52"
          ],
          "font": {
           "color": "#2a3f5f"
          },
          "geo": {
           "bgcolor": "white",
           "lakecolor": "white",
           "landcolor": "#E5ECF6",
           "showlakes": true,
           "showland": true,
           "subunitcolor": "white"
          },
          "hoverlabel": {
           "align": "left"
          },
          "hovermode": "closest",
          "mapbox": {
           "style": "light"
          },
          "paper_bgcolor": "white",
          "plot_bgcolor": "#E5ECF6",
          "polar": {
           "angularaxis": {
            "gridcolor": "white",
            "linecolor": "white",
            "ticks": ""
           },
           "bgcolor": "#E5ECF6",
           "radialaxis": {
            "gridcolor": "white",
            "linecolor": "white",
            "ticks": ""
           }
          },
          "scene": {
           "xaxis": {
            "backgroundcolor": "#E5ECF6",
            "gridcolor": "white",
            "gridwidth": 2,
            "linecolor": "white",
            "showbackground": true,
            "ticks": "",
            "zerolinecolor": "white"
           },
           "yaxis": {
            "backgroundcolor": "#E5ECF6",
            "gridcolor": "white",
            "gridwidth": 2,
            "linecolor": "white",
            "showbackground": true,
            "ticks": "",
            "zerolinecolor": "white"
           },
           "zaxis": {
            "backgroundcolor": "#E5ECF6",
            "gridcolor": "white",
            "gridwidth": 2,
            "linecolor": "white",
            "showbackground": true,
            "ticks": "",
            "zerolinecolor": "white"
           }
          },
          "shapedefaults": {
           "line": {
            "color": "#2a3f5f"
           }
          },
          "ternary": {
           "aaxis": {
            "gridcolor": "white",
            "linecolor": "white",
            "ticks": ""
           },
           "baxis": {
            "gridcolor": "white",
            "linecolor": "white",
            "ticks": ""
           },
           "bgcolor": "#E5ECF6",
           "caxis": {
            "gridcolor": "white",
            "linecolor": "white",
            "ticks": ""
           }
          },
          "title": {
           "x": 0.05
          },
          "xaxis": {
           "automargin": true,
           "gridcolor": "white",
           "linecolor": "white",
           "ticks": "",
           "title": {
            "standoff": 15
           },
           "zerolinecolor": "white",
           "zerolinewidth": 2
          },
          "yaxis": {
           "automargin": true,
           "gridcolor": "white",
           "linecolor": "white",
           "ticks": "",
           "title": {
            "standoff": 15
           },
           "zerolinecolor": "white",
           "zerolinewidth": 2
          }
         }
        }
       }
      },
      "text/html": [
       "<div>                            <div id=\"f72ac5e0-3fc5-446c-9c78-bb81579deb89\" class=\"plotly-graph-div\" style=\"height:525px; width:100%;\"></div>            <script type=\"text/javascript\">                require([\"plotly\"], function(Plotly) {                    window.PLOTLYENV=window.PLOTLYENV || {};                                    if (document.getElementById(\"f72ac5e0-3fc5-446c-9c78-bb81579deb89\")) {                    Plotly.newPlot(                        \"f72ac5e0-3fc5-446c-9c78-bb81579deb89\",                        [{\"dimensions\":[{\"axis\":{\"matches\":true},\"label\":\"A\",\"values\":[-0.2476021517537956,0.11874398704528717,-1.5986470436970923,1.4523802703570448,1.6090995991476928,0.36229045933429543,0.08354651513332022,-0.3527933783544127,0.5176107966859301,-0.833819690766652,0.20565072543497975,1.9944702000830496,-0.35151191314525854,-0.826196054882016,0.9599029122425612,0.8735380178138376,-1.644708644572304,-1.7738813013900911,1.7275862931329586,1.2410803233237333,-0.47371612259000284,1.414213513123541,1.458493689936051,0.3272856232608136,0.3165687182176862,0.8414601116357942,-0.32475580337050364,1.0868940465653318,0.4745634553998436,-0.2734907459319492,1.7936403614043865,0.2702198507442268,0.23166334935090627,0.2149514489904918,-0.15239433999431595,-0.46485670290661824,0.1769888823174567,0.9251355276226852,-2.923639876842984,-1.0036342420862625,-1.5972731861258282,-0.5863668064009814,0.24330756172163637,1.0711554663396936,0.7912213795894234,0.8222629425793855,-0.07065589111053654,-0.6059385075201855,-1.2444487075452308,-0.2986809340328696,2.1470548990107736,-0.9581686455331494,-0.14557432693872532,-0.4416089409116146,0.9352295488236574,-1.0506573059035353,1.3879041094191515,-0.6297383736287204,1.2161526628947408,0.9380321876702106,-0.3186924706946208,-1.0451195297871672,0.8789782921221527,-1.0706299167541156,-0.6134943608834571,2.114366282469496,0.4804360014579106,-0.10967689810515825,1.1730100543660051,0.6680577732576941,-1.1540774070386632,-0.4851203250530739,-0.06824582550241688,-0.4860733169583027,-1.3724089125985697,0.12312942342868287,0.16293029773806567,1.2974841267330905,3.354031799722983,-1.5810817578094538,0.8052116693646469,1.7562243908207342,0.5228297709229516,-0.8617659959734791,0.0620426273685626,0.16012867729300984,0.09689851489854824,-0.1137666435097898,1.803702528945463,0.2660268294434981,0.21102177430662458,-0.12523484176846558,-1.3224865786008155,-0.23270849471023752,-1.3608262494607177,1.6803295754838412,-0.26619167545737504,-1.2418906810336272,0.6446602759776894,-0.9887246241264553]},{\"axis\":{\"matches\":true},\"label\":\"B\",\"values\":[-0.06053671648461432,0.04451657973152728,0.5893539754284983,1.013668452200273,0.6847946382566875,0.20861092698642347,-0.3309414257884284,-0.5453515972945141,0.23076522077023776,-0.6403566961541314,-1.4889655573956504,0.9352129666595805,-0.8553217826158602,-0.5358471525131479,-0.7285079896694445,-0.19435999410793742,-0.021183660575883688,-1.27486421427924,-1.377441170107258,0.1920596120363645,-1.1360047658662333,-0.25162260549257154,-0.38292153172884064,1.5087553081937204,0.14799880515885433,0.605878255040937,1.6218346664911871,-0.6412077490099374,0.3542488866697352,-0.4607106765297617,1.2204733158298071,1.5290677262515437,-0.5325381867220287,0.6886302420714265,-1.4040226516881387,-2.163779233019157,-1.635161679442351,0.11429126376701604,1.5913115916653733,-0.7516875353912756,-1.1490181657991692,0.05209633163880171,-1.2505146014805508,0.945770812894874,0.44120913669486617,-1.4272575263523835,-0.058534388435669125,-0.33290524940555216,0.25397740217116543,1.2107495453696848,-1.3048536413809813,-0.07290573215858111,-0.935009414667022,0.31698859178976346,0.3035657889195938,-0.09726791999649201,-0.13309365569973972,-1.3660791616250785,-1.0000957432387825,-0.44418957211110716,-0.7186337755517709,1.102995878230977,0.020947744800001725,-0.5379484903254714,1.434265530651456,-0.005595426280574108,-2.0024045908564716,1.2079291512768016,0.15101539633938965,-0.9415917180574958,0.8902241018403784,-0.6581560875764221,-1.2673251228201592,1.2592403371088414,-0.2831780015730596,0.047762380357669894,0.8603279518544563,-0.7821657611800706,-0.08202755823879464,0.06094696276155334,-0.8603811991901833,-0.05999313775337979,-0.4134487343659485,-0.4420361210196551,1.964645409112964,0.7896408572825018,-0.3773497911703148,1.6692535284277301,-0.27550204963687014,0.41138019434472406,-1.0549370402879954,1.6736473264323468,-0.8808278394958889,0.4728475230153127,0.19446889154197278,0.2995578928563227,-0.3887601705363107,-1.031190785706398,-1.4446194412722257,0.5759700536209127]},{\"axis\":{\"matches\":true},\"label\":\"C\",\"values\":[-1.4138806139966658,0.9549943461350169,-2.0176025054120172,-0.3559458222091603,1.4153947552191721,0.12427455626105968,-1.3459787187103391,-0.19872516540106108,1.4088318088135734,0.9012366661206014,0.12167928602972863,0.6484887494471738,-0.24071830245211362,-0.3251708457434995,-0.07848163117310035,-0.5619681536095221,-0.4107090434792362,1.6335771937963104,-0.23108562854747383,-0.6253479656743208,-1.7470326746678497,0.1948171412052426,0.10667552470993999,1.168151845889162,0.9074924955855451,-0.05022155827796482,0.24599602330939935,-0.8162581224912675,-1.2964098715543981,0.46286889607730936,-0.10213511155337399,0.6309051597165397,-0.2362382902818193,0.4014181504403865,0.44327312805371816,-0.1506127376542421,-0.8237912696611064,0.9619847178419777,1.5613855884484278,0.7847649284788947,-0.715194383820001,-0.42188560666769154,0.7719771944709354,-0.42788322573565674,0.6295608422707876,-1.2316437164112453,-1.791586382047408,-1.4970537956291428,-1.3481044941034268,0.2915472094532004,-1.1924673961153276,1.5294697279384182,0.7329753983882141,-0.7346420338455535,1.5630204417323799,0.6027784429615578,-2.9091425536815265,-0.5221000792876885,0.22713425110466265,-0.7319197059378021,0.5163256584002801,1.053520675059922,0.27007681292676344,0.9686753400624246,1.5307581393786964,0.36737242145043647,0.025097599770220778,-0.8651713313226559,-0.341732622257134,-0.8520223476297429,1.850705214694412,-0.40433123147094446,-0.20770681737488159,1.4652245596672555,0.7022687371970578,0.9116339980456936,-0.4857214196763068,-0.6520074477878468,-0.5999681780513599,-0.15885427293055898,0.8499484258368485,-0.33877488292040364,0.24668022175070148,0.658460807810325,0.4801517632540298,0.5133810366740759,1.9219510343734911,-1.1183566698572092,-0.023438823060090475,-0.14588709366250815,-0.32697804678743025,-0.511923466545293,-0.45486558796788906,0.27615700635488605,-0.38189887714450116,1.7063174625892141,-0.11117157591083326,0.34677612795932183,1.0337762757857105,-1.8316147311422069]},{\"axis\":{\"matches\":true},\"label\":\"D\",\"values\":[1.138881092138941,-0.8296593820905608,0.4940921451158362,1.4715672397977364,-1.1419091404761212,1.1670925420126028,-0.05952213756143999,-1.158319754654261,0.9340886362131698,0.08241160566677205,0.09050486923742268,-1.2080822552658015,-0.8059511189425327,0.23788239068331304,1.8508318786619247,-0.9275488532782582,-0.32988735181079404,-1.5255692872092812,0.01878277333096518,-1.7713787539245063,-1.169235762418271,-0.815999795639666,0.5003979518170936,0.21348561130162266,-1.8583553991873798,0.9584079218881999,-0.5923347203499466,-0.045701301432784204,1.1098349309061941,0.8108821831693277,1.2154286931093448,0.03534702668436145,0.982009445768607,0.6759622934673243,0.22793134842256393,0.5831497418958888,0.06440530013979788,-1.1015572556487958,-0.16365703680670007,1.2443518938853981,-0.30962832264924545,0.7337650029403703,0.37294149848351654,0.7960603041860554,0.49111515978717424,1.4093434653694459,0.24287036417708793,-1.5780263611682788,0.9252914445025481,1.962942289472823,-1.2424538815207948,0.6723340741862069,0.06742064638790596,-0.4686920066301773,-0.607956503575207,-0.9653818756804581,0.46450454370099953,0.05881620360562117,0.6772238445570063,-0.9033915215986897,1.0881282290657555,0.4359323184477213,0.7684410076854367,0.5005996452296388,0.7829515481772608,-0.026796813723469173,2.599386526232613,-0.14386967015853985,-1.5217198040434086,0.3114719797777141,-0.03544583751025676,-2.4348449244449637,0.9652715215395948,-0.7673168292664782,-1.8925580816941423,-0.7214493207694863,-0.4584329458861844,-0.29876105590390634,-0.4010748723773588,-0.9483449778577722,0.8200748964441905,0.3649981882074061,0.9303510634711705,-0.9063628584109353,0.32270295677364835,-1.3960046389806826,-1.6645024132499688,1.681129748878899,-0.35702788945906266,-0.9513402967568699,-1.4173177890827713,-1.363812590380575,0.8018862131924073,-1.0659923334724297,-1.7347035079139594,1.7247117586400194,-0.5534645932630475,-0.05269082880831947,0.013439662055486223,1.1457671048038869]}],\"hovertemplate\":\"%{xaxis.title.text}=%{x}<br>%{yaxis.title.text}=%{y}<extra></extra>\",\"legendgroup\":\"\",\"marker\":{\"color\":\"#636efa\",\"symbol\":\"circle\"},\"name\":\"\",\"showlegend\":false,\"type\":\"splom\"}],                        {\"dragmode\":\"select\",\"legend\":{\"tracegroupgap\":0},\"margin\":{\"t\":60},\"template\":{\"data\":{\"bar\":[{\"error_x\":{\"color\":\"#2a3f5f\"},\"error_y\":{\"color\":\"#2a3f5f\"},\"marker\":{\"line\":{\"color\":\"#E5ECF6\",\"width\":0.5},\"pattern\":{\"fillmode\":\"overlay\",\"size\":10,\"solidity\":0.2}},\"type\":\"bar\"}],\"barpolar\":[{\"marker\":{\"line\":{\"color\":\"#E5ECF6\",\"width\":0.5},\"pattern\":{\"fillmode\":\"overlay\",\"size\":10,\"solidity\":0.2}},\"type\":\"barpolar\"}],\"carpet\":[{\"aaxis\":{\"endlinecolor\":\"#2a3f5f\",\"gridcolor\":\"white\",\"linecolor\":\"white\",\"minorgridcolor\":\"white\",\"startlinecolor\":\"#2a3f5f\"},\"baxis\":{\"endlinecolor\":\"#2a3f5f\",\"gridcolor\":\"white\",\"linecolor\":\"white\",\"minorgridcolor\":\"white\",\"startlinecolor\":\"#2a3f5f\"},\"type\":\"carpet\"}],\"choropleth\":[{\"colorbar\":{\"outlinewidth\":0,\"ticks\":\"\"},\"type\":\"choropleth\"}],\"contour\":[{\"colorbar\":{\"outlinewidth\":0,\"ticks\":\"\"},\"colorscale\":[[0.0,\"#0d0887\"],[0.1111111111111111,\"#46039f\"],[0.2222222222222222,\"#7201a8\"],[0.3333333333333333,\"#9c179e\"],[0.4444444444444444,\"#bd3786\"],[0.5555555555555556,\"#d8576b\"],[0.6666666666666666,\"#ed7953\"],[0.7777777777777778,\"#fb9f3a\"],[0.8888888888888888,\"#fdca26\"],[1.0,\"#f0f921\"]],\"type\":\"contour\"}],\"contourcarpet\":[{\"colorbar\":{\"outlinewidth\":0,\"ticks\":\"\"},\"type\":\"contourcarpet\"}],\"heatmap\":[{\"colorbar\":{\"outlinewidth\":0,\"ticks\":\"\"},\"colorscale\":[[0.0,\"#0d0887\"],[0.1111111111111111,\"#46039f\"],[0.2222222222222222,\"#7201a8\"],[0.3333333333333333,\"#9c179e\"],[0.4444444444444444,\"#bd3786\"],[0.5555555555555556,\"#d8576b\"],[0.6666666666666666,\"#ed7953\"],[0.7777777777777778,\"#fb9f3a\"],[0.8888888888888888,\"#fdca26\"],[1.0,\"#f0f921\"]],\"type\":\"heatmap\"}],\"heatmapgl\":[{\"colorbar\":{\"outlinewidth\":0,\"ticks\":\"\"},\"colorscale\":[[0.0,\"#0d0887\"],[0.1111111111111111,\"#46039f\"],[0.2222222222222222,\"#7201a8\"],[0.3333333333333333,\"#9c179e\"],[0.4444444444444444,\"#bd3786\"],[0.5555555555555556,\"#d8576b\"],[0.6666666666666666,\"#ed7953\"],[0.7777777777777778,\"#fb9f3a\"],[0.8888888888888888,\"#fdca26\"],[1.0,\"#f0f921\"]],\"type\":\"heatmapgl\"}],\"histogram\":[{\"marker\":{\"pattern\":{\"fillmode\":\"overlay\",\"size\":10,\"solidity\":0.2}},\"type\":\"histogram\"}],\"histogram2d\":[{\"colorbar\":{\"outlinewidth\":0,\"ticks\":\"\"},\"colorscale\":[[0.0,\"#0d0887\"],[0.1111111111111111,\"#46039f\"],[0.2222222222222222,\"#7201a8\"],[0.3333333333333333,\"#9c179e\"],[0.4444444444444444,\"#bd3786\"],[0.5555555555555556,\"#d8576b\"],[0.6666666666666666,\"#ed7953\"],[0.7777777777777778,\"#fb9f3a\"],[0.8888888888888888,\"#fdca26\"],[1.0,\"#f0f921\"]],\"type\":\"histogram2d\"}],\"histogram2dcontour\":[{\"colorbar\":{\"outlinewidth\":0,\"ticks\":\"\"},\"colorscale\":[[0.0,\"#0d0887\"],[0.1111111111111111,\"#46039f\"],[0.2222222222222222,\"#7201a8\"],[0.3333333333333333,\"#9c179e\"],[0.4444444444444444,\"#bd3786\"],[0.5555555555555556,\"#d8576b\"],[0.6666666666666666,\"#ed7953\"],[0.7777777777777778,\"#fb9f3a\"],[0.8888888888888888,\"#fdca26\"],[1.0,\"#f0f921\"]],\"type\":\"histogram2dcontour\"}],\"mesh3d\":[{\"colorbar\":{\"outlinewidth\":0,\"ticks\":\"\"},\"type\":\"mesh3d\"}],\"parcoords\":[{\"line\":{\"colorbar\":{\"outlinewidth\":0,\"ticks\":\"\"}},\"type\":\"parcoords\"}],\"pie\":[{\"automargin\":true,\"type\":\"pie\"}],\"scatter\":[{\"marker\":{\"colorbar\":{\"outlinewidth\":0,\"ticks\":\"\"}},\"type\":\"scatter\"}],\"scatter3d\":[{\"line\":{\"colorbar\":{\"outlinewidth\":0,\"ticks\":\"\"}},\"marker\":{\"colorbar\":{\"outlinewidth\":0,\"ticks\":\"\"}},\"type\":\"scatter3d\"}],\"scattercarpet\":[{\"marker\":{\"colorbar\":{\"outlinewidth\":0,\"ticks\":\"\"}},\"type\":\"scattercarpet\"}],\"scattergeo\":[{\"marker\":{\"colorbar\":{\"outlinewidth\":0,\"ticks\":\"\"}},\"type\":\"scattergeo\"}],\"scattergl\":[{\"marker\":{\"colorbar\":{\"outlinewidth\":0,\"ticks\":\"\"}},\"type\":\"scattergl\"}],\"scattermapbox\":[{\"marker\":{\"colorbar\":{\"outlinewidth\":0,\"ticks\":\"\"}},\"type\":\"scattermapbox\"}],\"scatterpolar\":[{\"marker\":{\"colorbar\":{\"outlinewidth\":0,\"ticks\":\"\"}},\"type\":\"scatterpolar\"}],\"scatterpolargl\":[{\"marker\":{\"colorbar\":{\"outlinewidth\":0,\"ticks\":\"\"}},\"type\":\"scatterpolargl\"}],\"scatterternary\":[{\"marker\":{\"colorbar\":{\"outlinewidth\":0,\"ticks\":\"\"}},\"type\":\"scatterternary\"}],\"surface\":[{\"colorbar\":{\"outlinewidth\":0,\"ticks\":\"\"},\"colorscale\":[[0.0,\"#0d0887\"],[0.1111111111111111,\"#46039f\"],[0.2222222222222222,\"#7201a8\"],[0.3333333333333333,\"#9c179e\"],[0.4444444444444444,\"#bd3786\"],[0.5555555555555556,\"#d8576b\"],[0.6666666666666666,\"#ed7953\"],[0.7777777777777778,\"#fb9f3a\"],[0.8888888888888888,\"#fdca26\"],[1.0,\"#f0f921\"]],\"type\":\"surface\"}],\"table\":[{\"cells\":{\"fill\":{\"color\":\"#EBF0F8\"},\"line\":{\"color\":\"white\"}},\"header\":{\"fill\":{\"color\":\"#C8D4E3\"},\"line\":{\"color\":\"white\"}},\"type\":\"table\"}]},\"layout\":{\"annotationdefaults\":{\"arrowcolor\":\"#2a3f5f\",\"arrowhead\":0,\"arrowwidth\":1},\"autotypenumbers\":\"strict\",\"coloraxis\":{\"colorbar\":{\"outlinewidth\":0,\"ticks\":\"\"}},\"colorscale\":{\"diverging\":[[0,\"#8e0152\"],[0.1,\"#c51b7d\"],[0.2,\"#de77ae\"],[0.3,\"#f1b6da\"],[0.4,\"#fde0ef\"],[0.5,\"#f7f7f7\"],[0.6,\"#e6f5d0\"],[0.7,\"#b8e186\"],[0.8,\"#7fbc41\"],[0.9,\"#4d9221\"],[1,\"#276419\"]],\"sequential\":[[0.0,\"#0d0887\"],[0.1111111111111111,\"#46039f\"],[0.2222222222222222,\"#7201a8\"],[0.3333333333333333,\"#9c179e\"],[0.4444444444444444,\"#bd3786\"],[0.5555555555555556,\"#d8576b\"],[0.6666666666666666,\"#ed7953\"],[0.7777777777777778,\"#fb9f3a\"],[0.8888888888888888,\"#fdca26\"],[1.0,\"#f0f921\"]],\"sequentialminus\":[[0.0,\"#0d0887\"],[0.1111111111111111,\"#46039f\"],[0.2222222222222222,\"#7201a8\"],[0.3333333333333333,\"#9c179e\"],[0.4444444444444444,\"#bd3786\"],[0.5555555555555556,\"#d8576b\"],[0.6666666666666666,\"#ed7953\"],[0.7777777777777778,\"#fb9f3a\"],[0.8888888888888888,\"#fdca26\"],[1.0,\"#f0f921\"]]},\"colorway\":[\"#636efa\",\"#EF553B\",\"#00cc96\",\"#ab63fa\",\"#FFA15A\",\"#19d3f3\",\"#FF6692\",\"#B6E880\",\"#FF97FF\",\"#FECB52\"],\"font\":{\"color\":\"#2a3f5f\"},\"geo\":{\"bgcolor\":\"white\",\"lakecolor\":\"white\",\"landcolor\":\"#E5ECF6\",\"showlakes\":true,\"showland\":true,\"subunitcolor\":\"white\"},\"hoverlabel\":{\"align\":\"left\"},\"hovermode\":\"closest\",\"mapbox\":{\"style\":\"light\"},\"paper_bgcolor\":\"white\",\"plot_bgcolor\":\"#E5ECF6\",\"polar\":{\"angularaxis\":{\"gridcolor\":\"white\",\"linecolor\":\"white\",\"ticks\":\"\"},\"bgcolor\":\"#E5ECF6\",\"radialaxis\":{\"gridcolor\":\"white\",\"linecolor\":\"white\",\"ticks\":\"\"}},\"scene\":{\"xaxis\":{\"backgroundcolor\":\"#E5ECF6\",\"gridcolor\":\"white\",\"gridwidth\":2,\"linecolor\":\"white\",\"showbackground\":true,\"ticks\":\"\",\"zerolinecolor\":\"white\"},\"yaxis\":{\"backgroundcolor\":\"#E5ECF6\",\"gridcolor\":\"white\",\"gridwidth\":2,\"linecolor\":\"white\",\"showbackground\":true,\"ticks\":\"\",\"zerolinecolor\":\"white\"},\"zaxis\":{\"backgroundcolor\":\"#E5ECF6\",\"gridcolor\":\"white\",\"gridwidth\":2,\"linecolor\":\"white\",\"showbackground\":true,\"ticks\":\"\",\"zerolinecolor\":\"white\"}},\"shapedefaults\":{\"line\":{\"color\":\"#2a3f5f\"}},\"ternary\":{\"aaxis\":{\"gridcolor\":\"white\",\"linecolor\":\"white\",\"ticks\":\"\"},\"baxis\":{\"gridcolor\":\"white\",\"linecolor\":\"white\",\"ticks\":\"\"},\"bgcolor\":\"#E5ECF6\",\"caxis\":{\"gridcolor\":\"white\",\"linecolor\":\"white\",\"ticks\":\"\"}},\"title\":{\"x\":0.05},\"xaxis\":{\"automargin\":true,\"gridcolor\":\"white\",\"linecolor\":\"white\",\"ticks\":\"\",\"title\":{\"standoff\":15},\"zerolinecolor\":\"white\",\"zerolinewidth\":2},\"yaxis\":{\"automargin\":true,\"gridcolor\":\"white\",\"linecolor\":\"white\",\"ticks\":\"\",\"title\":{\"standoff\":15},\"zerolinecolor\":\"white\",\"zerolinewidth\":2}}}},                        {\"responsive\": true}                    ).then(function(){\n",
       "                            \n",
       "var gd = document.getElementById('f72ac5e0-3fc5-446c-9c78-bb81579deb89');\n",
       "var x = new MutationObserver(function (mutations, observer) {{\n",
       "        var display = window.getComputedStyle(gd).display;\n",
       "        if (!display || display === 'none') {{\n",
       "            console.log([gd, 'removed!']);\n",
       "            Plotly.purge(gd);\n",
       "            observer.disconnect();\n",
       "        }}\n",
       "}});\n",
       "\n",
       "// Listen for the removal of the full notebook cells\n",
       "var notebookContainer = gd.closest('#notebook-container');\n",
       "if (notebookContainer) {{\n",
       "    x.observe(notebookContainer, {childList: true});\n",
       "}}\n",
       "\n",
       "// Listen for the clearing of the current output cell\n",
       "var outputEl = gd.closest('.output');\n",
       "if (outputEl) {{\n",
       "    x.observe(outputEl, {childList: true});\n",
       "}}\n",
       "\n",
       "                        })                };                });            </script>        </div>"
      ]
     },
     "metadata": {},
     "output_type": "display_data"
    }
   ],
   "source": [
    "px.scatter_matrix(df1)"
   ]
  },
  {
   "cell_type": "markdown",
   "metadata": {},
   "source": [
    "For (changing) plotly.express axes properties, see https://plotly.com/python/axes/\n",
    "\n",
    "Otherwise, visit the github Cufflinks page"
   ]
  },
  {
   "cell_type": "code",
   "execution_count": null,
   "metadata": {},
   "outputs": [],
   "source": []
  }
 ],
 "metadata": {
  "kernelspec": {
   "display_name": "Python 3",
   "language": "python",
   "name": "python3"
  },
  "language_info": {
   "codemirror_mode": {
    "name": "ipython",
    "version": 3
   },
   "file_extension": ".py",
   "mimetype": "text/x-python",
   "name": "python",
   "nbconvert_exporter": "python",
   "pygments_lexer": "ipython3",
   "version": "3.7.10"
  }
 },
 "nbformat": 4,
 "nbformat_minor": 4
}
